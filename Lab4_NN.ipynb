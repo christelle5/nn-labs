{
  "cells": [
    {
      "cell_type": "markdown",
      "source": [
        "# Імпорти"
      ],
      "metadata": {
        "id": "cjWknph8wStb"
      }
    },
    {
      "cell_type": "code",
      "execution_count": null,
      "metadata": {
        "collapsed": true,
        "id": "MTa9yg2XwK34",
        "colab": {
          "base_uri": "https://localhost:8080/"
        },
        "outputId": "ece6ab79-4ddf-4a5f-dce4-23ea65ebd540"
      },
      "outputs": [
        {
          "output_type": "stream",
          "name": "stdout",
          "text": [
            "Requirement already satisfied: torch in /usr/local/lib/python3.10/dist-packages (2.2.1)\n",
            "Requirement already satisfied: torchvision in /usr/local/lib/python3.10/dist-packages (0.17.1)\n",
            "Requirement already satisfied: filelock in /usr/local/lib/python3.10/dist-packages (from torch) (3.14.0)\n",
            "Requirement already satisfied: typing-extensions>=4.8.0 in /usr/local/lib/python3.10/dist-packages (from torch) (4.11.0)\n",
            "Requirement already satisfied: sympy in /usr/local/lib/python3.10/dist-packages (from torch) (1.12)\n",
            "Requirement already satisfied: networkx in /usr/local/lib/python3.10/dist-packages (from torch) (3.3)\n",
            "Requirement already satisfied: jinja2 in /usr/local/lib/python3.10/dist-packages (from torch) (3.1.4)\n",
            "Requirement already satisfied: fsspec in /usr/local/lib/python3.10/dist-packages (from torch) (2023.6.0)\n",
            "Requirement already satisfied: nvidia-cuda-nvrtc-cu12==12.1.105 in /usr/local/lib/python3.10/dist-packages (from torch) (12.1.105)\n",
            "Requirement already satisfied: nvidia-cuda-runtime-cu12==12.1.105 in /usr/local/lib/python3.10/dist-packages (from torch) (12.1.105)\n",
            "Requirement already satisfied: nvidia-cuda-cupti-cu12==12.1.105 in /usr/local/lib/python3.10/dist-packages (from torch) (12.1.105)\n",
            "Requirement already satisfied: nvidia-cudnn-cu12==8.9.2.26 in /usr/local/lib/python3.10/dist-packages (from torch) (8.9.2.26)\n",
            "Requirement already satisfied: nvidia-cublas-cu12==12.1.3.1 in /usr/local/lib/python3.10/dist-packages (from torch) (12.1.3.1)\n",
            "Requirement already satisfied: nvidia-cufft-cu12==11.0.2.54 in /usr/local/lib/python3.10/dist-packages (from torch) (11.0.2.54)\n",
            "Requirement already satisfied: nvidia-curand-cu12==10.3.2.106 in /usr/local/lib/python3.10/dist-packages (from torch) (10.3.2.106)\n",
            "Requirement already satisfied: nvidia-cusolver-cu12==11.4.5.107 in /usr/local/lib/python3.10/dist-packages (from torch) (11.4.5.107)\n",
            "Requirement already satisfied: nvidia-cusparse-cu12==12.1.0.106 in /usr/local/lib/python3.10/dist-packages (from torch) (12.1.0.106)\n",
            "Requirement already satisfied: nvidia-nccl-cu12==2.19.3 in /usr/local/lib/python3.10/dist-packages (from torch) (2.19.3)\n",
            "Requirement already satisfied: nvidia-nvtx-cu12==12.1.105 in /usr/local/lib/python3.10/dist-packages (from torch) (12.1.105)\n",
            "Requirement already satisfied: triton==2.2.0 in /usr/local/lib/python3.10/dist-packages (from torch) (2.2.0)\n",
            "Requirement already satisfied: nvidia-nvjitlink-cu12 in /usr/local/lib/python3.10/dist-packages (from nvidia-cusolver-cu12==11.4.5.107->torch) (12.5.40)\n",
            "Requirement already satisfied: numpy in /usr/local/lib/python3.10/dist-packages (from torchvision) (1.25.2)\n",
            "Requirement already satisfied: pillow!=8.3.*,>=5.3.0 in /usr/local/lib/python3.10/dist-packages (from torchvision) (9.4.0)\n",
            "Requirement already satisfied: MarkupSafe>=2.0 in /usr/local/lib/python3.10/dist-packages (from jinja2->torch) (2.1.5)\n",
            "Requirement already satisfied: mpmath>=0.19 in /usr/local/lib/python3.10/dist-packages (from sympy->torch) (1.3.0)\n"
          ]
        }
      ],
      "source": [
        "!pip install torch torchvision"
      ]
    },
    {
      "cell_type": "code",
      "execution_count": null,
      "outputs": [
        {
          "output_type": "stream",
          "name": "stdout",
          "text": [
            "Requirement already satisfied: torch-directml in /usr/local/lib/python3.10/dist-packages (0.2.1.dev240521)\n",
            "Requirement already satisfied: torch==2.2.1 in /usr/local/lib/python3.10/dist-packages (from torch-directml) (2.2.1)\n",
            "Requirement already satisfied: torchvision==0.17.1 in /usr/local/lib/python3.10/dist-packages (from torch-directml) (0.17.1)\n",
            "Requirement already satisfied: filelock in /usr/local/lib/python3.10/dist-packages (from torch==2.2.1->torch-directml) (3.14.0)\n",
            "Requirement already satisfied: typing-extensions>=4.8.0 in /usr/local/lib/python3.10/dist-packages (from torch==2.2.1->torch-directml) (4.11.0)\n",
            "Requirement already satisfied: sympy in /usr/local/lib/python3.10/dist-packages (from torch==2.2.1->torch-directml) (1.12)\n",
            "Requirement already satisfied: networkx in /usr/local/lib/python3.10/dist-packages (from torch==2.2.1->torch-directml) (3.3)\n",
            "Requirement already satisfied: jinja2 in /usr/local/lib/python3.10/dist-packages (from torch==2.2.1->torch-directml) (3.1.4)\n",
            "Requirement already satisfied: fsspec in /usr/local/lib/python3.10/dist-packages (from torch==2.2.1->torch-directml) (2023.6.0)\n",
            "Requirement already satisfied: nvidia-cuda-nvrtc-cu12==12.1.105 in /usr/local/lib/python3.10/dist-packages (from torch==2.2.1->torch-directml) (12.1.105)\n",
            "Requirement already satisfied: nvidia-cuda-runtime-cu12==12.1.105 in /usr/local/lib/python3.10/dist-packages (from torch==2.2.1->torch-directml) (12.1.105)\n",
            "Requirement already satisfied: nvidia-cuda-cupti-cu12==12.1.105 in /usr/local/lib/python3.10/dist-packages (from torch==2.2.1->torch-directml) (12.1.105)\n",
            "Requirement already satisfied: nvidia-cudnn-cu12==8.9.2.26 in /usr/local/lib/python3.10/dist-packages (from torch==2.2.1->torch-directml) (8.9.2.26)\n",
            "Requirement already satisfied: nvidia-cublas-cu12==12.1.3.1 in /usr/local/lib/python3.10/dist-packages (from torch==2.2.1->torch-directml) (12.1.3.1)\n",
            "Requirement already satisfied: nvidia-cufft-cu12==11.0.2.54 in /usr/local/lib/python3.10/dist-packages (from torch==2.2.1->torch-directml) (11.0.2.54)\n",
            "Requirement already satisfied: nvidia-curand-cu12==10.3.2.106 in /usr/local/lib/python3.10/dist-packages (from torch==2.2.1->torch-directml) (10.3.2.106)\n",
            "Requirement already satisfied: nvidia-cusolver-cu12==11.4.5.107 in /usr/local/lib/python3.10/dist-packages (from torch==2.2.1->torch-directml) (11.4.5.107)\n",
            "Requirement already satisfied: nvidia-cusparse-cu12==12.1.0.106 in /usr/local/lib/python3.10/dist-packages (from torch==2.2.1->torch-directml) (12.1.0.106)\n",
            "Requirement already satisfied: nvidia-nccl-cu12==2.19.3 in /usr/local/lib/python3.10/dist-packages (from torch==2.2.1->torch-directml) (2.19.3)\n",
            "Requirement already satisfied: nvidia-nvtx-cu12==12.1.105 in /usr/local/lib/python3.10/dist-packages (from torch==2.2.1->torch-directml) (12.1.105)\n",
            "Requirement already satisfied: triton==2.2.0 in /usr/local/lib/python3.10/dist-packages (from torch==2.2.1->torch-directml) (2.2.0)\n",
            "Requirement already satisfied: numpy in /usr/local/lib/python3.10/dist-packages (from torchvision==0.17.1->torch-directml) (1.25.2)\n",
            "Requirement already satisfied: pillow!=8.3.*,>=5.3.0 in /usr/local/lib/python3.10/dist-packages (from torchvision==0.17.1->torch-directml) (9.4.0)\n",
            "Requirement already satisfied: nvidia-nvjitlink-cu12 in /usr/local/lib/python3.10/dist-packages (from nvidia-cusolver-cu12==11.4.5.107->torch==2.2.1->torch-directml) (12.5.40)\n",
            "Requirement already satisfied: MarkupSafe>=2.0 in /usr/local/lib/python3.10/dist-packages (from jinja2->torch==2.2.1->torch-directml) (2.1.5)\n",
            "Requirement already satisfied: mpmath>=0.19 in /usr/local/lib/python3.10/dist-packages (from sympy->torch==2.2.1->torch-directml) (1.3.0)\n"
          ]
        }
      ],
      "source": [
        "!pip install torch-directml"
      ],
      "metadata": {
        "id": "ynWeR5OTwK39",
        "colab": {
          "base_uri": "https://localhost:8080/"
        },
        "outputId": "81716370-932b-465b-b82d-78e504cb3eb5"
      }
    },
    {
      "cell_type": "code",
      "execution_count": null,
      "outputs": [
        {
          "output_type": "stream",
          "name": "stdout",
          "text": [
            "Requirement already satisfied: tensorflow-directml-plugin in /usr/local/lib/python3.10/dist-packages (0.4.0.dev230202)\n",
            "Requirement already satisfied: tensorflow-cpu==2.10.0 in /usr/local/lib/python3.10/dist-packages (from tensorflow-directml-plugin) (2.10.0)\n",
            "Requirement already satisfied: grpcio>=1.8.6 in /usr/local/lib/python3.10/dist-packages (from tensorflow-directml-plugin) (1.63.0)\n",
            "Requirement already satisfied: wheel>=0.26 in /usr/local/lib/python3.10/dist-packages (from tensorflow-directml-plugin) (0.43.0)\n",
            "Requirement already satisfied: absl-py>=1.0.0 in /usr/local/lib/python3.10/dist-packages (from tensorflow-cpu==2.10.0->tensorflow-directml-plugin) (1.4.0)\n",
            "Requirement already satisfied: astunparse>=1.6.0 in /usr/local/lib/python3.10/dist-packages (from tensorflow-cpu==2.10.0->tensorflow-directml-plugin) (1.6.3)\n",
            "Requirement already satisfied: flatbuffers>=2.0 in /usr/local/lib/python3.10/dist-packages (from tensorflow-cpu==2.10.0->tensorflow-directml-plugin) (24.3.25)\n",
            "Requirement already satisfied: gast<=0.4.0,>=0.2.1 in /usr/local/lib/python3.10/dist-packages (from tensorflow-cpu==2.10.0->tensorflow-directml-plugin) (0.4.0)\n",
            "Requirement already satisfied: google-pasta>=0.1.1 in /usr/local/lib/python3.10/dist-packages (from tensorflow-cpu==2.10.0->tensorflow-directml-plugin) (0.2.0)\n",
            "Requirement already satisfied: h5py>=2.9.0 in /usr/local/lib/python3.10/dist-packages (from tensorflow-cpu==2.10.0->tensorflow-directml-plugin) (3.9.0)\n",
            "Requirement already satisfied: keras<2.11,>=2.10.0 in /usr/local/lib/python3.10/dist-packages (from tensorflow-cpu==2.10.0->tensorflow-directml-plugin) (2.10.0)\n",
            "Requirement already satisfied: keras-preprocessing>=1.1.1 in /usr/local/lib/python3.10/dist-packages (from tensorflow-cpu==2.10.0->tensorflow-directml-plugin) (1.1.2)\n",
            "Requirement already satisfied: libclang>=13.0.0 in /usr/local/lib/python3.10/dist-packages (from tensorflow-cpu==2.10.0->tensorflow-directml-plugin) (18.1.1)\n",
            "Requirement already satisfied: numpy>=1.20 in /usr/local/lib/python3.10/dist-packages (from tensorflow-cpu==2.10.0->tensorflow-directml-plugin) (1.25.2)\n",
            "Requirement already satisfied: opt-einsum>=2.3.2 in /usr/local/lib/python3.10/dist-packages (from tensorflow-cpu==2.10.0->tensorflow-directml-plugin) (3.3.0)\n",
            "Requirement already satisfied: packaging in /usr/local/lib/python3.10/dist-packages (from tensorflow-cpu==2.10.0->tensorflow-directml-plugin) (24.0)\n",
            "Requirement already satisfied: protobuf<3.20,>=3.9.2 in /usr/local/lib/python3.10/dist-packages (from tensorflow-cpu==2.10.0->tensorflow-directml-plugin) (3.19.6)\n",
            "Requirement already satisfied: setuptools in /usr/local/lib/python3.10/dist-packages (from tensorflow-cpu==2.10.0->tensorflow-directml-plugin) (67.7.2)\n",
            "Requirement already satisfied: six>=1.12.0 in /usr/local/lib/python3.10/dist-packages (from tensorflow-cpu==2.10.0->tensorflow-directml-plugin) (1.16.0)\n",
            "Requirement already satisfied: tensorboard<2.11,>=2.10 in /usr/local/lib/python3.10/dist-packages (from tensorflow-cpu==2.10.0->tensorflow-directml-plugin) (2.10.1)\n",
            "Requirement already satisfied: tensorflow-io-gcs-filesystem>=0.23.1 in /usr/local/lib/python3.10/dist-packages (from tensorflow-cpu==2.10.0->tensorflow-directml-plugin) (0.37.0)\n",
            "Requirement already satisfied: tensorflow-estimator<2.11,>=2.10.0 in /usr/local/lib/python3.10/dist-packages (from tensorflow-cpu==2.10.0->tensorflow-directml-plugin) (2.10.0)\n",
            "Requirement already satisfied: termcolor>=1.1.0 in /usr/local/lib/python3.10/dist-packages (from tensorflow-cpu==2.10.0->tensorflow-directml-plugin) (2.4.0)\n",
            "Requirement already satisfied: typing-extensions>=3.6.6 in /usr/local/lib/python3.10/dist-packages (from tensorflow-cpu==2.10.0->tensorflow-directml-plugin) (4.11.0)\n",
            "Requirement already satisfied: wrapt>=1.11.0 in /usr/local/lib/python3.10/dist-packages (from tensorflow-cpu==2.10.0->tensorflow-directml-plugin) (1.14.1)\n",
            "Requirement already satisfied: google-auth<3,>=1.6.3 in /usr/local/lib/python3.10/dist-packages (from tensorboard<2.11,>=2.10->tensorflow-cpu==2.10.0->tensorflow-directml-plugin) (2.27.0)\n",
            "Requirement already satisfied: google-auth-oauthlib<0.5,>=0.4.1 in /usr/local/lib/python3.10/dist-packages (from tensorboard<2.11,>=2.10->tensorflow-cpu==2.10.0->tensorflow-directml-plugin) (0.4.6)\n",
            "Requirement already satisfied: markdown>=2.6.8 in /usr/local/lib/python3.10/dist-packages (from tensorboard<2.11,>=2.10->tensorflow-cpu==2.10.0->tensorflow-directml-plugin) (3.6)\n",
            "Requirement already satisfied: requests<3,>=2.21.0 in /usr/local/lib/python3.10/dist-packages (from tensorboard<2.11,>=2.10->tensorflow-cpu==2.10.0->tensorflow-directml-plugin) (2.31.0)\n",
            "Requirement already satisfied: tensorboard-data-server<0.7.0,>=0.6.0 in /usr/local/lib/python3.10/dist-packages (from tensorboard<2.11,>=2.10->tensorflow-cpu==2.10.0->tensorflow-directml-plugin) (0.6.1)\n",
            "Requirement already satisfied: tensorboard-plugin-wit>=1.6.0 in /usr/local/lib/python3.10/dist-packages (from tensorboard<2.11,>=2.10->tensorflow-cpu==2.10.0->tensorflow-directml-plugin) (1.8.1)\n",
            "Requirement already satisfied: werkzeug>=1.0.1 in /usr/local/lib/python3.10/dist-packages (from tensorboard<2.11,>=2.10->tensorflow-cpu==2.10.0->tensorflow-directml-plugin) (3.0.3)\n",
            "Requirement already satisfied: cachetools<6.0,>=2.0.0 in /usr/local/lib/python3.10/dist-packages (from google-auth<3,>=1.6.3->tensorboard<2.11,>=2.10->tensorflow-cpu==2.10.0->tensorflow-directml-plugin) (5.3.3)\n",
            "Requirement already satisfied: pyasn1-modules>=0.2.1 in /usr/local/lib/python3.10/dist-packages (from google-auth<3,>=1.6.3->tensorboard<2.11,>=2.10->tensorflow-cpu==2.10.0->tensorflow-directml-plugin) (0.4.0)\n",
            "Requirement already satisfied: rsa<5,>=3.1.4 in /usr/local/lib/python3.10/dist-packages (from google-auth<3,>=1.6.3->tensorboard<2.11,>=2.10->tensorflow-cpu==2.10.0->tensorflow-directml-plugin) (4.9)\n",
            "Requirement already satisfied: requests-oauthlib>=0.7.0 in /usr/local/lib/python3.10/dist-packages (from google-auth-oauthlib<0.5,>=0.4.1->tensorboard<2.11,>=2.10->tensorflow-cpu==2.10.0->tensorflow-directml-plugin) (1.3.1)\n",
            "Requirement already satisfied: charset-normalizer<4,>=2 in /usr/local/lib/python3.10/dist-packages (from requests<3,>=2.21.0->tensorboard<2.11,>=2.10->tensorflow-cpu==2.10.0->tensorflow-directml-plugin) (3.3.2)\n",
            "Requirement already satisfied: idna<4,>=2.5 in /usr/local/lib/python3.10/dist-packages (from requests<3,>=2.21.0->tensorboard<2.11,>=2.10->tensorflow-cpu==2.10.0->tensorflow-directml-plugin) (3.7)\n",
            "Requirement already satisfied: urllib3<3,>=1.21.1 in /usr/local/lib/python3.10/dist-packages (from requests<3,>=2.21.0->tensorboard<2.11,>=2.10->tensorflow-cpu==2.10.0->tensorflow-directml-plugin) (2.0.7)\n",
            "Requirement already satisfied: certifi>=2017.4.17 in /usr/local/lib/python3.10/dist-packages (from requests<3,>=2.21.0->tensorboard<2.11,>=2.10->tensorflow-cpu==2.10.0->tensorflow-directml-plugin) (2024.2.2)\n",
            "Requirement already satisfied: MarkupSafe>=2.1.1 in /usr/local/lib/python3.10/dist-packages (from werkzeug>=1.0.1->tensorboard<2.11,>=2.10->tensorflow-cpu==2.10.0->tensorflow-directml-plugin) (2.1.5)\n",
            "Requirement already satisfied: pyasn1<0.7.0,>=0.4.6 in /usr/local/lib/python3.10/dist-packages (from pyasn1-modules>=0.2.1->google-auth<3,>=1.6.3->tensorboard<2.11,>=2.10->tensorflow-cpu==2.10.0->tensorflow-directml-plugin) (0.6.0)\n",
            "Requirement already satisfied: oauthlib>=3.0.0 in /usr/local/lib/python3.10/dist-packages (from requests-oauthlib>=0.7.0->google-auth-oauthlib<0.5,>=0.4.1->tensorboard<2.11,>=2.10->tensorflow-cpu==2.10.0->tensorflow-directml-plugin) (3.2.2)\n"
          ]
        }
      ],
      "source": [
        "!pip install tensorflow-directml-plugin"
      ],
      "metadata": {
        "id": "HFTssF1XwK3-",
        "outputId": "849ae458-b5b5-4356-90a0-f0a234a0f8f2",
        "colab": {
          "base_uri": "https://localhost:8080/"
        }
      }
    },
    {
      "cell_type": "code",
      "execution_count": null,
      "outputs": [
        {
          "output_type": "stream",
          "name": "stdout",
          "text": [
            "Requirement already satisfied: kaggle in /usr/local/lib/python3.10/dist-packages (1.6.14)\n",
            "Requirement already satisfied: six>=1.10 in /usr/local/lib/python3.10/dist-packages (from kaggle) (1.16.0)\n",
            "Requirement already satisfied: certifi>=2023.7.22 in /usr/local/lib/python3.10/dist-packages (from kaggle) (2024.2.2)\n",
            "Requirement already satisfied: python-dateutil in /usr/local/lib/python3.10/dist-packages (from kaggle) (2.8.2)\n",
            "Requirement already satisfied: requests in /usr/local/lib/python3.10/dist-packages (from kaggle) (2.31.0)\n",
            "Requirement already satisfied: tqdm in /usr/local/lib/python3.10/dist-packages (from kaggle) (4.66.4)\n",
            "Requirement already satisfied: python-slugify in /usr/local/lib/python3.10/dist-packages (from kaggle) (8.0.4)\n",
            "Requirement already satisfied: urllib3 in /usr/local/lib/python3.10/dist-packages (from kaggle) (2.0.7)\n",
            "Requirement already satisfied: bleach in /usr/local/lib/python3.10/dist-packages (from kaggle) (6.1.0)\n",
            "Requirement already satisfied: webencodings in /usr/local/lib/python3.10/dist-packages (from bleach->kaggle) (0.5.1)\n",
            "Requirement already satisfied: text-unidecode>=1.3 in /usr/local/lib/python3.10/dist-packages (from python-slugify->kaggle) (1.3)\n",
            "Requirement already satisfied: charset-normalizer<4,>=2 in /usr/local/lib/python3.10/dist-packages (from requests->kaggle) (3.3.2)\n",
            "Requirement already satisfied: idna<4,>=2.5 in /usr/local/lib/python3.10/dist-packages (from requests->kaggle) (3.7)\n"
          ]
        }
      ],
      "source": [
        "!pip install kaggle"
      ],
      "metadata": {
        "id": "MxEKif4vwK3_",
        "colab": {
          "base_uri": "https://localhost:8080/"
        },
        "outputId": "8960486d-f075-4a1c-abde-c12ed7f267f5"
      }
    },
    {
      "cell_type": "code",
      "execution_count": null,
      "outputs": [
        {
          "output_type": "stream",
          "name": "stdout",
          "text": [
            "Requirement already satisfied: pandas in /usr/local/lib/python3.10/dist-packages (2.0.3)\n",
            "Requirement already satisfied: python-dateutil>=2.8.2 in /usr/local/lib/python3.10/dist-packages (from pandas) (2.8.2)\n",
            "Requirement already satisfied: pytz>=2020.1 in /usr/local/lib/python3.10/dist-packages (from pandas) (2023.4)\n",
            "Requirement already satisfied: tzdata>=2022.1 in /usr/local/lib/python3.10/dist-packages (from pandas) (2024.1)\n",
            "Requirement already satisfied: numpy>=1.21.0 in /usr/local/lib/python3.10/dist-packages (from pandas) (1.25.2)\n",
            "Requirement already satisfied: six>=1.5 in /usr/local/lib/python3.10/dist-packages (from python-dateutil>=2.8.2->pandas) (1.16.0)\n"
          ]
        }
      ],
      "source": [
        "!pip install pandas"
      ],
      "metadata": {
        "id": "L7iMh6jRwK4A",
        "outputId": "ee764816-c426-4b07-ce3c-f4013ec3aaa2",
        "colab": {
          "base_uri": "https://localhost:8080/"
        }
      }
    },
    {
      "cell_type": "code",
      "execution_count": null,
      "outputs": [
        {
          "output_type": "stream",
          "name": "stdout",
          "text": [
            "Requirement already satisfied: plotly in /usr/local/lib/python3.10/dist-packages (5.15.0)\n",
            "Requirement already satisfied: tenacity>=6.2.0 in /usr/local/lib/python3.10/dist-packages (from plotly) (8.3.0)\n",
            "Requirement already satisfied: packaging in /usr/local/lib/python3.10/dist-packages (from plotly) (24.0)\n"
          ]
        }
      ],
      "source": [
        "!pip install plotly"
      ],
      "metadata": {
        "id": "T6HbOITjwK4C",
        "outputId": "082dd20a-f601-43fb-bbf0-0e871f176072",
        "colab": {
          "base_uri": "https://localhost:8080/"
        }
      }
    },
    {
      "cell_type": "code",
      "source": [
        "!pip install keras-tuner"
      ],
      "metadata": {
        "colab": {
          "base_uri": "https://localhost:8080/"
        },
        "id": "wAJaPYeLMrNV",
        "outputId": "984eaaa6-5ada-4c5f-d71a-0515a588a16d"
      },
      "execution_count": null,
      "outputs": [
        {
          "output_type": "stream",
          "name": "stdout",
          "text": [
            "Collecting keras-tuner\n",
            "  Downloading keras_tuner-1.4.7-py3-none-any.whl (129 kB)\n",
            "\u001b[2K     \u001b[90m━━━━━━━━━━━━━━━━━━━━━━━━━━━━━━━━━━━━━━━━\u001b[0m \u001b[32m129.1/129.1 kB\u001b[0m \u001b[31m1.5 MB/s\u001b[0m eta \u001b[36m0:00:00\u001b[0m\n",
            "\u001b[?25hRequirement already satisfied: keras in /usr/local/lib/python3.10/dist-packages (from keras-tuner) (2.10.0)\n",
            "Requirement already satisfied: packaging in /usr/local/lib/python3.10/dist-packages (from keras-tuner) (24.0)\n",
            "Requirement already satisfied: requests in /usr/local/lib/python3.10/dist-packages (from keras-tuner) (2.31.0)\n",
            "Collecting kt-legacy (from keras-tuner)\n",
            "  Downloading kt_legacy-1.0.5-py3-none-any.whl (9.6 kB)\n",
            "Requirement already satisfied: charset-normalizer<4,>=2 in /usr/local/lib/python3.10/dist-packages (from requests->keras-tuner) (3.3.2)\n",
            "Requirement already satisfied: idna<4,>=2.5 in /usr/local/lib/python3.10/dist-packages (from requests->keras-tuner) (3.7)\n",
            "Requirement already satisfied: urllib3<3,>=1.21.1 in /usr/local/lib/python3.10/dist-packages (from requests->keras-tuner) (2.0.7)\n",
            "Requirement already satisfied: certifi>=2017.4.17 in /usr/local/lib/python3.10/dist-packages (from requests->keras-tuner) (2024.2.2)\n",
            "Installing collected packages: kt-legacy, keras-tuner\n",
            "Successfully installed keras-tuner-1.4.7 kt-legacy-1.0.5\n"
          ]
        }
      ]
    },
    {
      "cell_type": "code",
      "execution_count": null,
      "outputs": [],
      "source": [
        "import pandas as pd\n",
        "import tensorflow as tf\n",
        "import numpy as np\n",
        "import plotly.graph_objects as go\n",
        "\n",
        "from kaggle.api.kaggle_api_extended import KaggleApi\n",
        "from sklearn.model_selection import train_test_split\n",
        "from sklearn.preprocessing import MinMaxScaler\n",
        "from keras_tuner import BayesianOptimization\n",
        "from sklearn.metrics import mean_squared_error, mean_absolute_error, r2_score\n",
        "from sklearn.linear_model import LinearRegression\n",
        "from sklearn.ensemble import RandomForestRegressor"
      ],
      "metadata": {
        "id": "WpH4_cOBwK4C"
      }
    },
    {
      "cell_type": "markdown",
      "source": [
        "# Набір дних, попередня підготовка даних"
      ],
      "metadata": {
        "collapsed": false,
        "id": "o9KrHwyKwK4I"
      }
    },
    {
      "cell_type": "markdown",
      "source": [
        "## Завантаження з Kaggle"
      ],
      "metadata": {
        "id": "TC0J1YizSdGW"
      }
    },
    {
      "cell_type": "markdown",
      "source": [
        "Завантажимо набір даних для компанії через Kaggle API. Компанія CNQ (Canadian Natural Resources Limited Common Stock)."
      ],
      "metadata": {
        "id": "4WJTsxP7ylav"
      }
    },
    {
      "cell_type": "markdown",
      "source": [
        "Спочатку треба завантажити токен до Kaggle API, аби пройти автентифікацію. Завантажимо з Kaggle на комп'ютер, потім на Google Drive, далі з диску у Colab."
      ],
      "metadata": {
        "id": "mTHCIjT6N43w"
      }
    },
    {
      "cell_type": "markdown",
      "source": [
        "Підключились до диску:"
      ],
      "metadata": {
        "id": "oAfoaF-W1awr"
      }
    },
    {
      "cell_type": "code",
      "source": [
        "from google.colab import drive\n",
        "drive.mount('/content/drive')"
      ],
      "metadata": {
        "colab": {
          "base_uri": "https://localhost:8080/"
        },
        "id": "JDnQ3rzROFha",
        "outputId": "b3e2635b-6f49-4e17-de8b-7c9a26e82114"
      },
      "execution_count": null,
      "outputs": [
        {
          "output_type": "stream",
          "name": "stdout",
          "text": [
            "Mounted at /content/drive\n"
          ]
        }
      ]
    },
    {
      "cell_type": "markdown",
      "source": [
        "Завантажили в Colab файл із токеном:"
      ],
      "metadata": {
        "id": "X4UQ0XyG1dBo"
      }
    },
    {
      "cell_type": "code",
      "source": [
        "!mkdir -p ~/.kaggle\n",
        "!cp /content/drive/MyDrive/kaggle.json ~/.kaggle/\n",
        "!chmod 600 ~/.kaggle/kaggle.json"
      ],
      "metadata": {
        "id": "R-B77VDWOSVQ"
      },
      "execution_count": null,
      "outputs": []
    },
    {
      "cell_type": "markdown",
      "source": [
        "Увійшли в Kaggle API:"
      ],
      "metadata": {
        "id": "LkZKAmSA1gXV"
      }
    },
    {
      "cell_type": "code",
      "execution_count": null,
      "outputs": [],
      "source": [
        "api = KaggleApi()\n",
        "api.authenticate()"
      ],
      "metadata": {
        "id": "J2BKWXjCwK4J"
      }
    },
    {
      "cell_type": "markdown",
      "source": [
        "Завантажили весь набір даних:"
      ],
      "metadata": {
        "id": "h-O4plPP1jF1"
      }
    },
    {
      "cell_type": "code",
      "execution_count": null,
      "outputs": [
        {
          "output_type": "stream",
          "name": "stdout",
          "text": [
            "Dataset URL: https://www.kaggle.com/datasets/jacksoncrow/stock-market-dataset\n"
          ]
        }
      ],
      "source": [
        "api.dataset_download_files('jacksoncrow/stock-market-dataset', path='./data', unzip=True)"
      ],
      "metadata": {
        "id": "hSSdhqnqwK4K",
        "colab": {
          "base_uri": "https://localhost:8080/"
        },
        "outputId": "e8200e82-98c0-4a14-eef8-d7a977b1a505"
      }
    },
    {
      "cell_type": "markdown",
      "source": [
        "Завантажили дані для компанії CNQ, stock її:"
      ],
      "metadata": {
        "id": "2Qyfr2bqOrWY"
      }
    },
    {
      "cell_type": "code",
      "execution_count": null,
      "outputs": [],
      "source": [
        "df = pd.read_csv('data/stocks/CNQ.csv')"
      ],
      "metadata": {
        "id": "N3MeX-UMwK4L"
      }
    },
    {
      "cell_type": "code",
      "execution_count": null,
      "outputs": [
        {
          "output_type": "execute_result",
          "data": {
            "text/plain": [
              "            Date      Open       High        Low      Close  Adj Close  \\\n",
              "0     2000-07-31   3.56250   3.562500   3.484375   3.484375   1.778393   \n",
              "1     2000-08-01   3.50000   3.500000   3.429688   3.500000   1.786368   \n",
              "2     2000-08-02   3.62500   3.679688   3.625000   3.656250   1.866116   \n",
              "3     2000-08-03   3.65625   3.710938   3.648438   3.664062   1.870104   \n",
              "4     2000-08-04   3.65625   3.679688   3.625000   3.671875   1.874091   \n",
              "...          ...       ...        ...        ...        ...        ...   \n",
              "4945  2020-03-26  10.10000  11.390000  10.010000  10.410000  10.410000   \n",
              "4946  2020-03-27   9.78000   9.960000   9.130000   9.490000   9.490000   \n",
              "4947  2020-03-30   9.24000  11.270000   8.950000  11.130000  11.130000   \n",
              "4948  2020-03-31  11.49000  13.820000  11.490000  13.550000  13.550000   \n",
              "4949  2020-04-01  12.46000  14.100000  11.930000  13.010000  13.010000   \n",
              "\n",
              "          Volume  \n",
              "0       104000.0  \n",
              "1        62400.0  \n",
              "2        46400.0  \n",
              "3        74400.0  \n",
              "4        61600.0  \n",
              "...          ...  \n",
              "4945  10156300.0  \n",
              "4946   4681200.0  \n",
              "4947  12264700.0  \n",
              "4948  23796600.0  \n",
              "4949  15025000.0  \n",
              "\n",
              "[4950 rows x 7 columns]"
            ],
            "text/html": [
              "\n",
              "  <div id=\"df-e0761018-b8b3-4e45-848e-16d3c6be5627\" class=\"colab-df-container\">\n",
              "    <div>\n",
              "<style scoped>\n",
              "    .dataframe tbody tr th:only-of-type {\n",
              "        vertical-align: middle;\n",
              "    }\n",
              "\n",
              "    .dataframe tbody tr th {\n",
              "        vertical-align: top;\n",
              "    }\n",
              "\n",
              "    .dataframe thead th {\n",
              "        text-align: right;\n",
              "    }\n",
              "</style>\n",
              "<table border=\"1\" class=\"dataframe\">\n",
              "  <thead>\n",
              "    <tr style=\"text-align: right;\">\n",
              "      <th></th>\n",
              "      <th>Date</th>\n",
              "      <th>Open</th>\n",
              "      <th>High</th>\n",
              "      <th>Low</th>\n",
              "      <th>Close</th>\n",
              "      <th>Adj Close</th>\n",
              "      <th>Volume</th>\n",
              "    </tr>\n",
              "  </thead>\n",
              "  <tbody>\n",
              "    <tr>\n",
              "      <th>0</th>\n",
              "      <td>2000-07-31</td>\n",
              "      <td>3.56250</td>\n",
              "      <td>3.562500</td>\n",
              "      <td>3.484375</td>\n",
              "      <td>3.484375</td>\n",
              "      <td>1.778393</td>\n",
              "      <td>104000.0</td>\n",
              "    </tr>\n",
              "    <tr>\n",
              "      <th>1</th>\n",
              "      <td>2000-08-01</td>\n",
              "      <td>3.50000</td>\n",
              "      <td>3.500000</td>\n",
              "      <td>3.429688</td>\n",
              "      <td>3.500000</td>\n",
              "      <td>1.786368</td>\n",
              "      <td>62400.0</td>\n",
              "    </tr>\n",
              "    <tr>\n",
              "      <th>2</th>\n",
              "      <td>2000-08-02</td>\n",
              "      <td>3.62500</td>\n",
              "      <td>3.679688</td>\n",
              "      <td>3.625000</td>\n",
              "      <td>3.656250</td>\n",
              "      <td>1.866116</td>\n",
              "      <td>46400.0</td>\n",
              "    </tr>\n",
              "    <tr>\n",
              "      <th>3</th>\n",
              "      <td>2000-08-03</td>\n",
              "      <td>3.65625</td>\n",
              "      <td>3.710938</td>\n",
              "      <td>3.648438</td>\n",
              "      <td>3.664062</td>\n",
              "      <td>1.870104</td>\n",
              "      <td>74400.0</td>\n",
              "    </tr>\n",
              "    <tr>\n",
              "      <th>4</th>\n",
              "      <td>2000-08-04</td>\n",
              "      <td>3.65625</td>\n",
              "      <td>3.679688</td>\n",
              "      <td>3.625000</td>\n",
              "      <td>3.671875</td>\n",
              "      <td>1.874091</td>\n",
              "      <td>61600.0</td>\n",
              "    </tr>\n",
              "    <tr>\n",
              "      <th>...</th>\n",
              "      <td>...</td>\n",
              "      <td>...</td>\n",
              "      <td>...</td>\n",
              "      <td>...</td>\n",
              "      <td>...</td>\n",
              "      <td>...</td>\n",
              "      <td>...</td>\n",
              "    </tr>\n",
              "    <tr>\n",
              "      <th>4945</th>\n",
              "      <td>2020-03-26</td>\n",
              "      <td>10.10000</td>\n",
              "      <td>11.390000</td>\n",
              "      <td>10.010000</td>\n",
              "      <td>10.410000</td>\n",
              "      <td>10.410000</td>\n",
              "      <td>10156300.0</td>\n",
              "    </tr>\n",
              "    <tr>\n",
              "      <th>4946</th>\n",
              "      <td>2020-03-27</td>\n",
              "      <td>9.78000</td>\n",
              "      <td>9.960000</td>\n",
              "      <td>9.130000</td>\n",
              "      <td>9.490000</td>\n",
              "      <td>9.490000</td>\n",
              "      <td>4681200.0</td>\n",
              "    </tr>\n",
              "    <tr>\n",
              "      <th>4947</th>\n",
              "      <td>2020-03-30</td>\n",
              "      <td>9.24000</td>\n",
              "      <td>11.270000</td>\n",
              "      <td>8.950000</td>\n",
              "      <td>11.130000</td>\n",
              "      <td>11.130000</td>\n",
              "      <td>12264700.0</td>\n",
              "    </tr>\n",
              "    <tr>\n",
              "      <th>4948</th>\n",
              "      <td>2020-03-31</td>\n",
              "      <td>11.49000</td>\n",
              "      <td>13.820000</td>\n",
              "      <td>11.490000</td>\n",
              "      <td>13.550000</td>\n",
              "      <td>13.550000</td>\n",
              "      <td>23796600.0</td>\n",
              "    </tr>\n",
              "    <tr>\n",
              "      <th>4949</th>\n",
              "      <td>2020-04-01</td>\n",
              "      <td>12.46000</td>\n",
              "      <td>14.100000</td>\n",
              "      <td>11.930000</td>\n",
              "      <td>13.010000</td>\n",
              "      <td>13.010000</td>\n",
              "      <td>15025000.0</td>\n",
              "    </tr>\n",
              "  </tbody>\n",
              "</table>\n",
              "<p>4950 rows × 7 columns</p>\n",
              "</div>\n",
              "    <div class=\"colab-df-buttons\">\n",
              "\n",
              "  <div class=\"colab-df-container\">\n",
              "    <button class=\"colab-df-convert\" onclick=\"convertToInteractive('df-e0761018-b8b3-4e45-848e-16d3c6be5627')\"\n",
              "            title=\"Convert this dataframe to an interactive table.\"\n",
              "            style=\"display:none;\">\n",
              "\n",
              "  <svg xmlns=\"http://www.w3.org/2000/svg\" height=\"24px\" viewBox=\"0 -960 960 960\">\n",
              "    <path d=\"M120-120v-720h720v720H120Zm60-500h600v-160H180v160Zm220 220h160v-160H400v160Zm0 220h160v-160H400v160ZM180-400h160v-160H180v160Zm440 0h160v-160H620v160ZM180-180h160v-160H180v160Zm440 0h160v-160H620v160Z\"/>\n",
              "  </svg>\n",
              "    </button>\n",
              "\n",
              "  <style>\n",
              "    .colab-df-container {\n",
              "      display:flex;\n",
              "      gap: 12px;\n",
              "    }\n",
              "\n",
              "    .colab-df-convert {\n",
              "      background-color: #E8F0FE;\n",
              "      border: none;\n",
              "      border-radius: 50%;\n",
              "      cursor: pointer;\n",
              "      display: none;\n",
              "      fill: #1967D2;\n",
              "      height: 32px;\n",
              "      padding: 0 0 0 0;\n",
              "      width: 32px;\n",
              "    }\n",
              "\n",
              "    .colab-df-convert:hover {\n",
              "      background-color: #E2EBFA;\n",
              "      box-shadow: 0px 1px 2px rgba(60, 64, 67, 0.3), 0px 1px 3px 1px rgba(60, 64, 67, 0.15);\n",
              "      fill: #174EA6;\n",
              "    }\n",
              "\n",
              "    .colab-df-buttons div {\n",
              "      margin-bottom: 4px;\n",
              "    }\n",
              "\n",
              "    [theme=dark] .colab-df-convert {\n",
              "      background-color: #3B4455;\n",
              "      fill: #D2E3FC;\n",
              "    }\n",
              "\n",
              "    [theme=dark] .colab-df-convert:hover {\n",
              "      background-color: #434B5C;\n",
              "      box-shadow: 0px 1px 3px 1px rgba(0, 0, 0, 0.15);\n",
              "      filter: drop-shadow(0px 1px 2px rgba(0, 0, 0, 0.3));\n",
              "      fill: #FFFFFF;\n",
              "    }\n",
              "  </style>\n",
              "\n",
              "    <script>\n",
              "      const buttonEl =\n",
              "        document.querySelector('#df-e0761018-b8b3-4e45-848e-16d3c6be5627 button.colab-df-convert');\n",
              "      buttonEl.style.display =\n",
              "        google.colab.kernel.accessAllowed ? 'block' : 'none';\n",
              "\n",
              "      async function convertToInteractive(key) {\n",
              "        const element = document.querySelector('#df-e0761018-b8b3-4e45-848e-16d3c6be5627');\n",
              "        const dataTable =\n",
              "          await google.colab.kernel.invokeFunction('convertToInteractive',\n",
              "                                                    [key], {});\n",
              "        if (!dataTable) return;\n",
              "\n",
              "        const docLinkHtml = 'Like what you see? Visit the ' +\n",
              "          '<a target=\"_blank\" href=https://colab.research.google.com/notebooks/data_table.ipynb>data table notebook</a>'\n",
              "          + ' to learn more about interactive tables.';\n",
              "        element.innerHTML = '';\n",
              "        dataTable['output_type'] = 'display_data';\n",
              "        await google.colab.output.renderOutput(dataTable, element);\n",
              "        const docLink = document.createElement('div');\n",
              "        docLink.innerHTML = docLinkHtml;\n",
              "        element.appendChild(docLink);\n",
              "      }\n",
              "    </script>\n",
              "  </div>\n",
              "\n",
              "\n",
              "<div id=\"df-dc6632fc-3e96-4a40-a87b-005c6d3c6118\">\n",
              "  <button class=\"colab-df-quickchart\" onclick=\"quickchart('df-dc6632fc-3e96-4a40-a87b-005c6d3c6118')\"\n",
              "            title=\"Suggest charts\"\n",
              "            style=\"display:none;\">\n",
              "\n",
              "<svg xmlns=\"http://www.w3.org/2000/svg\" height=\"24px\"viewBox=\"0 0 24 24\"\n",
              "     width=\"24px\">\n",
              "    <g>\n",
              "        <path d=\"M19 3H5c-1.1 0-2 .9-2 2v14c0 1.1.9 2 2 2h14c1.1 0 2-.9 2-2V5c0-1.1-.9-2-2-2zM9 17H7v-7h2v7zm4 0h-2V7h2v10zm4 0h-2v-4h2v4z\"/>\n",
              "    </g>\n",
              "</svg>\n",
              "  </button>\n",
              "\n",
              "<style>\n",
              "  .colab-df-quickchart {\n",
              "      --bg-color: #E8F0FE;\n",
              "      --fill-color: #1967D2;\n",
              "      --hover-bg-color: #E2EBFA;\n",
              "      --hover-fill-color: #174EA6;\n",
              "      --disabled-fill-color: #AAA;\n",
              "      --disabled-bg-color: #DDD;\n",
              "  }\n",
              "\n",
              "  [theme=dark] .colab-df-quickchart {\n",
              "      --bg-color: #3B4455;\n",
              "      --fill-color: #D2E3FC;\n",
              "      --hover-bg-color: #434B5C;\n",
              "      --hover-fill-color: #FFFFFF;\n",
              "      --disabled-bg-color: #3B4455;\n",
              "      --disabled-fill-color: #666;\n",
              "  }\n",
              "\n",
              "  .colab-df-quickchart {\n",
              "    background-color: var(--bg-color);\n",
              "    border: none;\n",
              "    border-radius: 50%;\n",
              "    cursor: pointer;\n",
              "    display: none;\n",
              "    fill: var(--fill-color);\n",
              "    height: 32px;\n",
              "    padding: 0;\n",
              "    width: 32px;\n",
              "  }\n",
              "\n",
              "  .colab-df-quickchart:hover {\n",
              "    background-color: var(--hover-bg-color);\n",
              "    box-shadow: 0 1px 2px rgba(60, 64, 67, 0.3), 0 1px 3px 1px rgba(60, 64, 67, 0.15);\n",
              "    fill: var(--button-hover-fill-color);\n",
              "  }\n",
              "\n",
              "  .colab-df-quickchart-complete:disabled,\n",
              "  .colab-df-quickchart-complete:disabled:hover {\n",
              "    background-color: var(--disabled-bg-color);\n",
              "    fill: var(--disabled-fill-color);\n",
              "    box-shadow: none;\n",
              "  }\n",
              "\n",
              "  .colab-df-spinner {\n",
              "    border: 2px solid var(--fill-color);\n",
              "    border-color: transparent;\n",
              "    border-bottom-color: var(--fill-color);\n",
              "    animation:\n",
              "      spin 1s steps(1) infinite;\n",
              "  }\n",
              "\n",
              "  @keyframes spin {\n",
              "    0% {\n",
              "      border-color: transparent;\n",
              "      border-bottom-color: var(--fill-color);\n",
              "      border-left-color: var(--fill-color);\n",
              "    }\n",
              "    20% {\n",
              "      border-color: transparent;\n",
              "      border-left-color: var(--fill-color);\n",
              "      border-top-color: var(--fill-color);\n",
              "    }\n",
              "    30% {\n",
              "      border-color: transparent;\n",
              "      border-left-color: var(--fill-color);\n",
              "      border-top-color: var(--fill-color);\n",
              "      border-right-color: var(--fill-color);\n",
              "    }\n",
              "    40% {\n",
              "      border-color: transparent;\n",
              "      border-right-color: var(--fill-color);\n",
              "      border-top-color: var(--fill-color);\n",
              "    }\n",
              "    60% {\n",
              "      border-color: transparent;\n",
              "      border-right-color: var(--fill-color);\n",
              "    }\n",
              "    80% {\n",
              "      border-color: transparent;\n",
              "      border-right-color: var(--fill-color);\n",
              "      border-bottom-color: var(--fill-color);\n",
              "    }\n",
              "    90% {\n",
              "      border-color: transparent;\n",
              "      border-bottom-color: var(--fill-color);\n",
              "    }\n",
              "  }\n",
              "</style>\n",
              "\n",
              "  <script>\n",
              "    async function quickchart(key) {\n",
              "      const quickchartButtonEl =\n",
              "        document.querySelector('#' + key + ' button');\n",
              "      quickchartButtonEl.disabled = true;  // To prevent multiple clicks.\n",
              "      quickchartButtonEl.classList.add('colab-df-spinner');\n",
              "      try {\n",
              "        const charts = await google.colab.kernel.invokeFunction(\n",
              "            'suggestCharts', [key], {});\n",
              "      } catch (error) {\n",
              "        console.error('Error during call to suggestCharts:', error);\n",
              "      }\n",
              "      quickchartButtonEl.classList.remove('colab-df-spinner');\n",
              "      quickchartButtonEl.classList.add('colab-df-quickchart-complete');\n",
              "    }\n",
              "    (() => {\n",
              "      let quickchartButtonEl =\n",
              "        document.querySelector('#df-dc6632fc-3e96-4a40-a87b-005c6d3c6118 button');\n",
              "      quickchartButtonEl.style.display =\n",
              "        google.colab.kernel.accessAllowed ? 'block' : 'none';\n",
              "    })();\n",
              "  </script>\n",
              "</div>\n",
              "    </div>\n",
              "  </div>\n"
            ],
            "application/vnd.google.colaboratory.intrinsic+json": {
              "type": "dataframe",
              "variable_name": "df",
              "summary": "{\n  \"name\": \"df\",\n  \"rows\": 4950,\n  \"fields\": [\n    {\n      \"column\": \"Date\",\n      \"properties\": {\n        \"dtype\": \"object\",\n        \"num_unique_values\": 4950,\n        \"samples\": [\n          \"2001-06-28\",\n          \"2019-11-14\",\n          \"2008-05-08\"\n        ],\n        \"semantic_type\": \"\",\n        \"description\": \"\"\n      }\n    },\n    {\n      \"column\": \"Open\",\n      \"properties\": {\n        \"dtype\": \"number\",\n        \"std\": 12.534739780376368,\n        \"min\": 2.918750047683716,\n        \"max\": 53.994998931884766,\n        \"num_unique_values\": 3144,\n        \"samples\": [\n          29.959999084472656,\n          36.18999862670898,\n          26.309999465942383\n        ],\n        \"semantic_type\": \"\",\n        \"description\": \"\"\n      }\n    },\n    {\n      \"column\": \"High\",\n      \"properties\": {\n        \"dtype\": \"number\",\n        \"std\": 12.692498198036779,\n        \"min\": 2.944999933242798,\n        \"max\": 54.65999984741211,\n        \"num_unique_values\": 3214,\n        \"samples\": [\n          4.824999809265137,\n          28.799999237060547,\n          3.9774999618530273\n        ],\n        \"semantic_type\": \"\",\n        \"description\": \"\"\n      }\n    },\n    {\n      \"column\": \"Low\",\n      \"properties\": {\n        \"dtype\": \"number\",\n        \"std\": 12.364814553664152,\n        \"min\": 2.8499999046325684,\n        \"max\": 52.54999923706055,\n        \"num_unique_values\": 3157,\n        \"samples\": [\n          26.13999938964844,\n          28.149999618530277,\n          33.689998626708984\n        ],\n        \"semantic_type\": \"\",\n        \"description\": \"\"\n      }\n    },\n    {\n      \"column\": \"Close\",\n      \"properties\": {\n        \"dtype\": \"number\",\n        \"std\": 12.528189901144325,\n        \"min\": 2.9049999713897705,\n        \"max\": 53.70500183105469,\n        \"num_unique_values\": 3226,\n        \"samples\": [\n          34.89500045776367,\n          4.166250228881836,\n          29.825000762939453\n        ],\n        \"semantic_type\": \"\",\n        \"description\": \"\"\n      }\n    },\n    {\n      \"column\": \"Adj Close\",\n      \"properties\": {\n        \"dtype\": \"number\",\n        \"std\": 10.0847296070648,\n        \"min\": 1.5594810247421265,\n        \"max\": 38.2088737487793,\n        \"num_unique_values\": 4694,\n        \"samples\": [\n          20.039596557617188,\n          26.016185760498047,\n          30.9310359954834\n        ],\n        \"semantic_type\": \"\",\n        \"description\": \"\"\n      }\n    },\n    {\n      \"column\": \"Volume\",\n      \"properties\": {\n        \"dtype\": \"number\",\n        \"std\": 2444741.454529011,\n        \"min\": 6400.0,\n        \"max\": 23796600.0,\n        \"num_unique_values\": 4417,\n        \"samples\": [\n          13524000.0,\n          7305800.0,\n          2487300.0\n        ],\n        \"semantic_type\": \"\",\n        \"description\": \"\"\n      }\n    }\n  ]\n}"
            }
          },
          "metadata": {},
          "execution_count": 18
        }
      ],
      "source": [
        "df"
      ],
      "metadata": {
        "id": "BN6tqpQQwK4M",
        "outputId": "cdd57ea8-511c-435b-df93-8470823feb18",
        "colab": {
          "base_uri": "https://localhost:8080/",
          "height": 423
        }
      }
    },
    {
      "cell_type": "markdown",
      "source": [
        "## Нормалізація"
      ],
      "metadata": {
        "collapsed": false,
        "id": "ppQ-MwJVwK4N"
      }
    },
    {
      "cell_type": "markdown",
      "source": [
        "Функція, що створить \"windowed\" набір даних, який зручний для тренування моделей на часових рядах з використанням window-методу.<br>\n",
        "Параметри:\n",
        "- data: вхідний масив даних (історичні фінансові дані), заданий часовим рядом.\n",
        "- window_size: розмір вікна (кількість послідовних записів у кожному вхідному зразку).\n",
        "- forecast_days: кількість днів у майбутньому для прогнозування (цільовий зсув).\n",
        "- step: крок, з яким обираються наступні вікна (за замовчуванням 1, тобто обирається кожне наступне вікно).\n",
        "<br>Повертає:\n",
        "- X: вхідні дані (масив вікон).\n",
        "- y: цільові значення (масив прогнозів)."
      ],
      "metadata": {
        "id": "VLHe5zB3Qtq7"
      }
    },
    {
      "cell_type": "code",
      "execution_count": null,
      "outputs": [],
      "source": [
        "def create_windowed_dataset(data, window_size, forecast_days, step=1):\n",
        "    X = []\n",
        "    y = []\n",
        "\n",
        "    for i in range(0, len(data) - window_size - forecast_days, step):\n",
        "        # створюємо вхідні вікна довжиною window_size\n",
        "        window_data = data[i:i + window_size]\n",
        "        X.append(window_data)\n",
        "\n",
        "        # визначаємо цільове значення, яке є forecast_days днів після кінця вікна\n",
        "        target_index = i + window_size + forecast_days - 1\n",
        "        target_value = data[target_index][4]  # цільове значення Close знаходиться в п'ятому стовпчику\n",
        "        y.append(target_value)\n",
        "\n",
        "    return np.array(X), np.array(y)"
      ],
      "metadata": {
        "id": "IbT58z_awK4N"
      }
    },
    {
      "cell_type": "code",
      "execution_count": null,
      "outputs": [],
      "source": [
        "features = df[['Open', 'High', 'Low', 'Volume']]  # вхідні\n",
        "target = df['Close']  # цільова колонка"
      ],
      "metadata": {
        "id": "CzGNuk3KwK4O"
      }
    },
    {
      "cell_type": "markdown",
      "source": [
        "Також scaler для зміни розміру features:"
      ],
      "metadata": {
        "collapsed": false,
        "id": "F5pkGClewK4O"
      }
    },
    {
      "cell_type": "code",
      "execution_count": null,
      "outputs": [],
      "source": [
        "scaler = MinMaxScaler()"
      ],
      "metadata": {
        "id": "WY46VkROwK4O"
      }
    },
    {
      "cell_type": "code",
      "source": [
        "scaled_features = scaler.fit_transform(features)"
      ],
      "metadata": {
        "id": "NG7vjdlXSi8f"
      },
      "execution_count": null,
      "outputs": []
    },
    {
      "cell_type": "code",
      "execution_count": null,
      "outputs": [],
      "source": [
        "combined_data = np.hstack([scaled_features, target.values.reshape(-1, 1)])"
      ],
      "metadata": {
        "id": "EGd-ebSRwK4P"
      }
    },
    {
      "cell_type": "markdown",
      "source": [
        "Є NaN значення, тому їх видалимо:"
      ],
      "metadata": {
        "id": "uJmgNL5GZJc6"
      }
    },
    {
      "cell_type": "code",
      "source": [
        "total_nans = np.isnan(combined_data).sum()\n",
        "print(f\"Загальна кількість NaN значень у датасеті: {total_nans}\")"
      ],
      "metadata": {
        "colab": {
          "base_uri": "https://localhost:8080/"
        },
        "id": "3S61BIwjZMa7",
        "outputId": "b7f03389-d178-4c4e-f0a9-57fd9b7e056e"
      },
      "execution_count": null,
      "outputs": [
        {
          "output_type": "stream",
          "name": "stdout",
          "text": [
            "Загальна кількість NaN значень у датасеті: 5\n"
          ]
        }
      ]
    },
    {
      "cell_type": "code",
      "source": [
        "# видалення рядків з NaN значеннями\n",
        "combined_data = combined_data[~np.isnan(combined_data).any(axis=1)]\n",
        "\n",
        "# перевірка, що всі NaN значення видалені\n",
        "total_nans_after = np.isnan(combined_data).sum()\n",
        "print(f\"Загальна кількість NaN значень після очищення: {total_nans_after}\")"
      ],
      "metadata": {
        "colab": {
          "base_uri": "https://localhost:8080/"
        },
        "id": "U1q0C3FxZrGt",
        "outputId": "efa74beb-161d-4956-a787-03f08fbb5db7"
      },
      "execution_count": null,
      "outputs": [
        {
          "output_type": "stream",
          "name": "stdout",
          "text": [
            "Загальна кількість NaN значень після очищення: 0\n"
          ]
        }
      ]
    },
    {
      "cell_type": "markdown",
      "source": [
        "## Поділ набору даних на тренувальну та тестувальну вибірки"
      ],
      "metadata": {
        "collapsed": false,
        "id": "dKGS5eQZwK4P"
      }
    },
    {
      "cell_type": "markdown",
      "source": [
        "Створюємо набір через вищеоголошену функцію:"
      ],
      "metadata": {
        "id": "JE4Ch5iBTMoJ"
      }
    },
    {
      "cell_type": "code",
      "execution_count": null,
      "outputs": [],
      "source": [
        "# параметри для функції\n",
        "wn_size = 4\n",
        "ft_days = 1\n",
        "step = 1\n",
        "X, y = create_windowed_dataset(combined_data, wn_size, ft_days, step=step)  # створюємо набір\n",
        "# додатково масив індексів\n",
        "indexes = np.arange(len(X))"
      ],
      "metadata": {
        "id": "QTck7XhqwK4P"
      }
    },
    {
      "cell_type": "markdown",
      "source": [
        "Поділ даних:"
      ],
      "metadata": {
        "id": "zTzNQM0vTKOX"
      }
    },
    {
      "cell_type": "code",
      "source": [
        "X_train, X_test, y_train, y_test, X_i, y_i = train_test_split(X, y, indexes, test_size=0.2, shuffle=True, )"
      ],
      "metadata": {
        "id": "Hio3cmJCTIlZ"
      },
      "execution_count": null,
      "outputs": []
    },
    {
      "cell_type": "markdown",
      "source": [
        "Перевірка, чи є NaN-и:"
      ],
      "metadata": {
        "id": "mPg57bqXYscn"
      }
    },
    {
      "cell_type": "code",
      "source": [
        "print(np.isnan(X_train).sum(), np.isnan(y_train).sum())\n",
        "print(np.isinf(X_train).sum(), np.isinf(y_train).sum())"
      ],
      "metadata": {
        "colab": {
          "base_uri": "https://localhost:8080/"
        },
        "id": "BcrxLDxdYVfX",
        "outputId": "e92574a7-c8c9-4179-a275-2a3b44b3c514"
      },
      "execution_count": null,
      "outputs": [
        {
          "output_type": "stream",
          "name": "stdout",
          "text": [
            "0 0\n",
            "0 0\n"
          ]
        }
      ]
    },
    {
      "cell_type": "markdown",
      "source": [
        "## Функції для тренування, валідації (тестування) моделей, побудови графіків"
      ],
      "metadata": {
        "collapsed": false,
        "id": "Beu4cDU-wK4Q"
      }
    },
    {
      "cell_type": "markdown",
      "source": [
        "Тренування:"
      ],
      "metadata": {
        "id": "bXsO9L1oTt1q"
      }
    },
    {
      "cell_type": "code",
      "execution_count": null,
      "outputs": [],
      "source": [
        "def train_model(model, epochs):\n",
        "    batch_size = 32\n",
        "    checkpoint = tf.keras.callbacks.ModelCheckpoint(model.name+'best_model.h5', monitor='val_loss', save_best_only=True, mode='min')\n",
        "    if epochs == 1:\n",
        "        model.fit(X_train, y_train)\n",
        "    else:\n",
        "        history = model.fit(X_train, y_train, epochs=epochs, batch_size=batch_size, validation_data=(X_test, y_test),callbacks=[checkpoint])\n",
        "        model = tf.keras.models.load_model(model.name+'best_model.h5')"
      ],
      "metadata": {
        "id": "hJvnvreXwK4Q"
      }
    },
    {
      "cell_type": "markdown",
      "source": [
        "Валідація:"
      ],
      "metadata": {
        "collapsed": false,
        "id": "vvpHF-1swK4R"
      }
    },
    {
      "cell_type": "code",
      "execution_count": null,
      "outputs": [],
      "source": [
        "def validate_model(model):\n",
        "    loss = model.evaluate(X_test, y_test)\n",
        "    print(f'Test loss: {loss}')"
      ],
      "metadata": {
        "id": "M1RkFntGwK4R"
      }
    },
    {
      "cell_type": "markdown",
      "source": [
        "Для графіків:"
      ],
      "metadata": {
        "collapsed": false,
        "id": "-RhjrqnDwK4S"
      }
    },
    {
      "cell_type": "code",
      "execution_count": null,
      "outputs": [],
      "source": [
        "def plot_predictions(model, predictions=None):\n",
        "\n",
        "    if predictions is not None:\n",
        "      predictions = predictions\n",
        "    else:\n",
        "      predictions = model.predict(X_test)\n",
        "\n",
        "    # дати для тестових даних\n",
        "    dates_test = [df['Date'][i * step + wn_size + ft_days - 1] for i in y_i]\n",
        "\n",
        "    # DataFrame для порівняння фактичних та прогнозованих значень\n",
        "    comparison_dt = pd.DataFrame({'Actual': y_test, 'Predicted': predictions.flatten(), 'Date': dates_test}).sort_values(\n",
        "        by='Date')\n",
        "    print(comparison_dt)\n",
        "\n",
        "    # графік\n",
        "    fig = go.Figure()\n",
        "    fig.add_trace(go.Scatter(x=comparison_dt['Date'], y=comparison_dt['Actual'], mode='lines', name='Actual'))\n",
        "    fig.add_trace(go.Scatter(x=comparison_dt['Date'], y=comparison_dt['Predicted'], mode='lines', name='Predicted'))\n",
        "    fig.update_layout(title='Stock Prices: actual / predicted', xaxis_title='Date',yaxis_title='Stock price')\n",
        "\n",
        "    fig.show()"
      ],
      "metadata": {
        "id": "IaI2g2ckwK4S"
      }
    },
    {
      "cell_type": "code",
      "execution_count": null,
      "outputs": [],
      "source": [
        "def train_and_plot(model, epochs=100):\n",
        "    train_model(model, epochs)\n",
        "    validate_model(model)\n",
        "    plot_predictions(model)"
      ],
      "metadata": {
        "id": "_SnXFvgNwK4T"
      }
    },
    {
      "cell_type": "markdown",
      "source": [
        "# Linear Regression (Лінійна регресія)"
      ],
      "metadata": {
        "collapsed": false,
        "id": "-ffcihnqwK4U"
      }
    },
    {
      "cell_type": "markdown",
      "source": [
        "Модель:"
      ],
      "metadata": {
        "id": "SgZnSe8ZVj4s"
      }
    },
    {
      "cell_type": "code",
      "execution_count": null,
      "outputs": [],
      "source": [
        "model_LR = tf.keras.Sequential([\n",
        "    tf.keras.layers.Flatten(input_shape=(X_train.shape[1], X_train.shape[2])),\n",
        "    tf.keras.layers.Dense(1)\n",
        "])\n",
        "model_LR.compile(optimizer='adam', loss='mse')"
      ],
      "metadata": {
        "id": "4Izfio2WwK4U"
      }
    },
    {
      "cell_type": "markdown",
      "source": [
        "Навчання, валідація, графік:"
      ],
      "metadata": {
        "id": "4_L3U4IwVr_0"
      }
    },
    {
      "cell_type": "code",
      "source": [
        "train_model(model_LR, epochs=200)"
      ],
      "metadata": {
        "colab": {
          "base_uri": "https://localhost:8080/"
        },
        "id": "vPd8KJStVrGU",
        "outputId": "8cd2e1be-9b58-4317-ba2d-4cc883f122e4"
      },
      "execution_count": null,
      "outputs": [
        {
          "output_type": "stream",
          "name": "stdout",
          "text": [
            "Epoch 1/200\n",
            "124/124 [==============================] - 0s 2ms/step - loss: 0.4753 - val_loss: 0.4960\n",
            "Epoch 2/200\n",
            "124/124 [==============================] - 0s 2ms/step - loss: 0.4731 - val_loss: 0.5164\n",
            "Epoch 3/200\n",
            "124/124 [==============================] - 0s 2ms/step - loss: 0.4781 - val_loss: 0.5020\n",
            "Epoch 4/200\n",
            "124/124 [==============================] - 0s 2ms/step - loss: 0.4718 - val_loss: 0.4973\n",
            "Epoch 5/200\n",
            "124/124 [==============================] - 0s 2ms/step - loss: 0.4737 - val_loss: 0.4954\n",
            "Epoch 6/200\n",
            "124/124 [==============================] - 0s 2ms/step - loss: 0.4763 - val_loss: 0.4982\n",
            "Epoch 7/200\n",
            "124/124 [==============================] - 0s 2ms/step - loss: 0.4683 - val_loss: 0.4945\n",
            "Epoch 8/200\n",
            "124/124 [==============================] - 0s 2ms/step - loss: 0.4736 - val_loss: 0.5024\n",
            "Epoch 9/200\n",
            "124/124 [==============================] - 0s 2ms/step - loss: 0.4752 - val_loss: 0.5007\n",
            "Epoch 10/200\n",
            "124/124 [==============================] - 0s 2ms/step - loss: 0.4754 - val_loss: 0.5019\n",
            "Epoch 11/200\n",
            "124/124 [==============================] - 0s 2ms/step - loss: 0.4758 - val_loss: 0.5075\n",
            "Epoch 12/200\n",
            "124/124 [==============================] - 0s 2ms/step - loss: 0.4736 - val_loss: 0.4983\n",
            "Epoch 13/200\n",
            "124/124 [==============================] - 0s 2ms/step - loss: 0.4708 - val_loss: 0.4983\n",
            "Epoch 14/200\n",
            "124/124 [==============================] - 0s 2ms/step - loss: 0.4723 - val_loss: 0.4983\n",
            "Epoch 15/200\n",
            "124/124 [==============================] - 0s 2ms/step - loss: 0.4735 - val_loss: 0.4943\n",
            "Epoch 16/200\n",
            "124/124 [==============================] - 0s 2ms/step - loss: 0.4735 - val_loss: 0.5000\n",
            "Epoch 17/200\n",
            "124/124 [==============================] - 0s 2ms/step - loss: 0.4740 - val_loss: 0.4953\n",
            "Epoch 18/200\n",
            "124/124 [==============================] - 0s 2ms/step - loss: 0.4721 - val_loss: 0.4948\n",
            "Epoch 19/200\n",
            "124/124 [==============================] - 0s 2ms/step - loss: 0.4726 - val_loss: 0.4969\n",
            "Epoch 20/200\n",
            "124/124 [==============================] - 0s 2ms/step - loss: 0.4704 - val_loss: 0.5019\n",
            "Epoch 21/200\n",
            "124/124 [==============================] - 0s 2ms/step - loss: 0.4724 - val_loss: 0.5008\n",
            "Epoch 22/200\n",
            "124/124 [==============================] - 0s 2ms/step - loss: 0.4802 - val_loss: 0.4957\n",
            "Epoch 23/200\n",
            "124/124 [==============================] - 0s 3ms/step - loss: 0.4726 - val_loss: 0.5042\n",
            "Epoch 24/200\n",
            "124/124 [==============================] - 0s 3ms/step - loss: 0.4705 - val_loss: 0.4990\n",
            "Epoch 25/200\n",
            "124/124 [==============================] - 0s 2ms/step - loss: 0.4709 - val_loss: 0.5055\n",
            "Epoch 26/200\n",
            "124/124 [==============================] - 0s 3ms/step - loss: 0.4756 - val_loss: 0.4948\n",
            "Epoch 27/200\n",
            "124/124 [==============================] - 0s 2ms/step - loss: 0.4720 - val_loss: 0.5009\n",
            "Epoch 28/200\n",
            "124/124 [==============================] - 0s 2ms/step - loss: 0.4738 - val_loss: 0.5020\n",
            "Epoch 29/200\n",
            "124/124 [==============================] - 0s 3ms/step - loss: 0.4730 - val_loss: 0.4999\n",
            "Epoch 30/200\n",
            "124/124 [==============================] - 0s 3ms/step - loss: 0.4825 - val_loss: 0.4983\n",
            "Epoch 31/200\n",
            "124/124 [==============================] - 0s 3ms/step - loss: 0.4720 - val_loss: 0.5270\n",
            "Epoch 32/200\n",
            "124/124 [==============================] - 0s 3ms/step - loss: 0.4742 - val_loss: 0.4951\n",
            "Epoch 33/200\n",
            "124/124 [==============================] - 0s 2ms/step - loss: 0.4689 - val_loss: 0.4944\n",
            "Epoch 34/200\n",
            "124/124 [==============================] - 0s 2ms/step - loss: 0.4735 - val_loss: 0.5057\n",
            "Epoch 35/200\n",
            "124/124 [==============================] - 0s 2ms/step - loss: 0.4721 - val_loss: 0.4944\n",
            "Epoch 36/200\n",
            "124/124 [==============================] - 0s 2ms/step - loss: 0.4761 - val_loss: 0.5097\n",
            "Epoch 37/200\n",
            "124/124 [==============================] - 0s 2ms/step - loss: 0.4722 - val_loss: 0.4957\n",
            "Epoch 38/200\n",
            "124/124 [==============================] - 0s 2ms/step - loss: 0.4774 - val_loss: 0.4944\n",
            "Epoch 39/200\n",
            "124/124 [==============================] - 0s 2ms/step - loss: 0.4682 - val_loss: 0.4952\n",
            "Epoch 40/200\n",
            "124/124 [==============================] - 0s 4ms/step - loss: 0.4690 - val_loss: 0.5006\n",
            "Epoch 41/200\n",
            "124/124 [==============================] - 0s 3ms/step - loss: 0.4711 - val_loss: 0.5024\n",
            "Epoch 42/200\n",
            "124/124 [==============================] - 0s 2ms/step - loss: 0.4775 - val_loss: 0.4944\n",
            "Epoch 43/200\n",
            "124/124 [==============================] - 0s 2ms/step - loss: 0.4776 - val_loss: 0.4955\n",
            "Epoch 44/200\n",
            "124/124 [==============================] - 0s 2ms/step - loss: 0.4752 - val_loss: 0.4956\n",
            "Epoch 45/200\n",
            "124/124 [==============================] - 0s 2ms/step - loss: 0.4727 - val_loss: 0.4944\n",
            "Epoch 46/200\n",
            "124/124 [==============================] - 0s 2ms/step - loss: 0.4681 - val_loss: 0.5017\n",
            "Epoch 47/200\n",
            "124/124 [==============================] - 0s 2ms/step - loss: 0.4728 - val_loss: 0.5064\n",
            "Epoch 48/200\n",
            "124/124 [==============================] - 0s 2ms/step - loss: 0.4825 - val_loss: 0.4956\n",
            "Epoch 49/200\n",
            "124/124 [==============================] - 0s 2ms/step - loss: 0.4696 - val_loss: 0.5170\n",
            "Epoch 50/200\n",
            "124/124 [==============================] - 0s 2ms/step - loss: 0.4714 - val_loss: 0.4952\n",
            "Epoch 51/200\n",
            "124/124 [==============================] - 0s 2ms/step - loss: 0.4769 - val_loss: 0.4946\n",
            "Epoch 52/200\n",
            "124/124 [==============================] - 0s 4ms/step - loss: 0.4690 - val_loss: 0.5023\n",
            "Epoch 53/200\n",
            "124/124 [==============================] - 0s 3ms/step - loss: 0.4700 - val_loss: 0.5030\n",
            "Epoch 54/200\n",
            "124/124 [==============================] - 0s 3ms/step - loss: 0.4756 - val_loss: 0.4955\n",
            "Epoch 55/200\n",
            "124/124 [==============================] - 0s 3ms/step - loss: 0.4692 - val_loss: 0.4946\n",
            "Epoch 56/200\n",
            "124/124 [==============================] - 0s 3ms/step - loss: 0.4739 - val_loss: 0.4959\n",
            "Epoch 57/200\n",
            "124/124 [==============================] - 0s 3ms/step - loss: 0.4680 - val_loss: 0.5003\n",
            "Epoch 58/200\n",
            "124/124 [==============================] - 1s 4ms/step - loss: 0.4707 - val_loss: 0.5136\n",
            "Epoch 59/200\n",
            "124/124 [==============================] - 0s 4ms/step - loss: 0.4752 - val_loss: 0.4992\n",
            "Epoch 60/200\n",
            "124/124 [==============================] - 0s 3ms/step - loss: 0.4710 - val_loss: 0.4979\n",
            "Epoch 61/200\n",
            "124/124 [==============================] - 0s 3ms/step - loss: 0.4716 - val_loss: 0.5341\n",
            "Epoch 62/200\n",
            "124/124 [==============================] - 0s 2ms/step - loss: 0.4691 - val_loss: 0.4954\n",
            "Epoch 63/200\n",
            "124/124 [==============================] - 0s 2ms/step - loss: 0.4717 - val_loss: 0.4996\n",
            "Epoch 64/200\n",
            "124/124 [==============================] - 0s 2ms/step - loss: 0.4751 - val_loss: 0.4951\n",
            "Epoch 65/200\n",
            "124/124 [==============================] - 0s 2ms/step - loss: 0.4688 - val_loss: 0.5077\n",
            "Epoch 66/200\n",
            "124/124 [==============================] - 0s 3ms/step - loss: 0.4724 - val_loss: 0.5034\n",
            "Epoch 67/200\n",
            "124/124 [==============================] - 0s 2ms/step - loss: 0.4689 - val_loss: 0.5156\n",
            "Epoch 68/200\n",
            "124/124 [==============================] - 0s 3ms/step - loss: 0.4721 - val_loss: 0.5044\n",
            "Epoch 69/200\n",
            "124/124 [==============================] - 0s 2ms/step - loss: 0.4773 - val_loss: 0.4960\n",
            "Epoch 70/200\n",
            "124/124 [==============================] - 0s 3ms/step - loss: 0.4707 - val_loss: 0.4946\n",
            "Epoch 71/200\n",
            "124/124 [==============================] - 0s 2ms/step - loss: 0.4677 - val_loss: 0.4981\n",
            "Epoch 72/200\n",
            "124/124 [==============================] - 0s 2ms/step - loss: 0.4707 - val_loss: 0.5024\n",
            "Epoch 73/200\n",
            "124/124 [==============================] - 0s 3ms/step - loss: 0.4807 - val_loss: 0.4965\n",
            "Epoch 74/200\n",
            "124/124 [==============================] - 0s 2ms/step - loss: 0.4700 - val_loss: 0.5126\n",
            "Epoch 75/200\n",
            "124/124 [==============================] - 0s 3ms/step - loss: 0.4708 - val_loss: 0.5055\n",
            "Epoch 76/200\n",
            "124/124 [==============================] - 0s 3ms/step - loss: 0.4727 - val_loss: 0.5203\n",
            "Epoch 77/200\n",
            "124/124 [==============================] - 0s 3ms/step - loss: 0.4757 - val_loss: 0.4971\n",
            "Epoch 78/200\n",
            "124/124 [==============================] - 0s 3ms/step - loss: 0.4718 - val_loss: 0.5095\n",
            "Epoch 79/200\n",
            "124/124 [==============================] - 0s 2ms/step - loss: 0.4764 - val_loss: 0.4954\n",
            "Epoch 80/200\n",
            "124/124 [==============================] - 0s 2ms/step - loss: 0.4700 - val_loss: 0.4950\n",
            "Epoch 81/200\n",
            "124/124 [==============================] - 0s 2ms/step - loss: 0.4685 - val_loss: 0.5009\n",
            "Epoch 82/200\n",
            "124/124 [==============================] - 0s 2ms/step - loss: 0.4745 - val_loss: 0.5004\n",
            "Epoch 83/200\n",
            "124/124 [==============================] - 0s 2ms/step - loss: 0.4695 - val_loss: 0.4995\n",
            "Epoch 84/200\n",
            "124/124 [==============================] - 0s 2ms/step - loss: 0.4695 - val_loss: 0.4947\n",
            "Epoch 85/200\n",
            "124/124 [==============================] - 0s 2ms/step - loss: 0.4731 - val_loss: 0.4994\n",
            "Epoch 86/200\n",
            "124/124 [==============================] - 0s 2ms/step - loss: 0.4680 - val_loss: 0.4953\n",
            "Epoch 87/200\n",
            "124/124 [==============================] - 0s 2ms/step - loss: 0.4684 - val_loss: 0.5167\n",
            "Epoch 88/200\n",
            "124/124 [==============================] - 0s 2ms/step - loss: 0.4747 - val_loss: 0.5086\n",
            "Epoch 89/200\n",
            "124/124 [==============================] - 0s 2ms/step - loss: 0.4758 - val_loss: 0.4967\n",
            "Epoch 90/200\n",
            "124/124 [==============================] - 0s 2ms/step - loss: 0.4736 - val_loss: 0.4998\n",
            "Epoch 91/200\n",
            "124/124 [==============================] - 0s 2ms/step - loss: 0.4708 - val_loss: 0.4965\n",
            "Epoch 92/200\n",
            "124/124 [==============================] - 0s 2ms/step - loss: 0.4705 - val_loss: 0.5052\n",
            "Epoch 93/200\n",
            "124/124 [==============================] - 0s 2ms/step - loss: 0.4708 - val_loss: 0.4951\n",
            "Epoch 94/200\n",
            "124/124 [==============================] - 0s 2ms/step - loss: 0.4691 - val_loss: 0.4989\n",
            "Epoch 95/200\n",
            "124/124 [==============================] - 0s 2ms/step - loss: 0.4711 - val_loss: 0.4994\n",
            "Epoch 96/200\n",
            "124/124 [==============================] - 0s 2ms/step - loss: 0.4696 - val_loss: 0.4948\n",
            "Epoch 97/200\n",
            "124/124 [==============================] - 0s 2ms/step - loss: 0.4730 - val_loss: 0.5249\n",
            "Epoch 98/200\n",
            "124/124 [==============================] - 0s 2ms/step - loss: 0.4705 - val_loss: 0.4987\n",
            "Epoch 99/200\n",
            "124/124 [==============================] - 0s 2ms/step - loss: 0.4728 - val_loss: 0.4989\n",
            "Epoch 100/200\n",
            "124/124 [==============================] - 0s 2ms/step - loss: 0.4737 - val_loss: 0.4954\n",
            "Epoch 101/200\n",
            "124/124 [==============================] - 0s 2ms/step - loss: 0.4736 - val_loss: 0.4952\n",
            "Epoch 102/200\n",
            "124/124 [==============================] - 0s 2ms/step - loss: 0.4733 - val_loss: 0.4948\n",
            "Epoch 103/200\n",
            "124/124 [==============================] - 0s 2ms/step - loss: 0.4689 - val_loss: 0.4952\n",
            "Epoch 104/200\n",
            "124/124 [==============================] - 0s 2ms/step - loss: 0.4682 - val_loss: 0.4952\n",
            "Epoch 105/200\n",
            "124/124 [==============================] - 0s 2ms/step - loss: 0.4703 - val_loss: 0.5000\n",
            "Epoch 106/200\n",
            "124/124 [==============================] - 0s 2ms/step - loss: 0.4735 - val_loss: 0.5056\n",
            "Epoch 107/200\n",
            "124/124 [==============================] - 0s 2ms/step - loss: 0.4756 - val_loss: 0.4983\n",
            "Epoch 108/200\n",
            "124/124 [==============================] - 0s 2ms/step - loss: 0.4698 - val_loss: 0.4949\n",
            "Epoch 109/200\n",
            "124/124 [==============================] - 0s 2ms/step - loss: 0.4675 - val_loss: 0.4964\n",
            "Epoch 110/200\n",
            "124/124 [==============================] - 0s 2ms/step - loss: 0.4785 - val_loss: 0.5202\n",
            "Epoch 111/200\n",
            "124/124 [==============================] - 0s 2ms/step - loss: 0.4729 - val_loss: 0.4965\n",
            "Epoch 112/200\n",
            "124/124 [==============================] - 0s 2ms/step - loss: 0.4733 - val_loss: 0.5014\n",
            "Epoch 113/200\n",
            "124/124 [==============================] - 0s 2ms/step - loss: 0.4718 - val_loss: 0.4976\n",
            "Epoch 114/200\n",
            "124/124 [==============================] - 0s 2ms/step - loss: 0.4696 - val_loss: 0.4996\n",
            "Epoch 115/200\n",
            "124/124 [==============================] - 0s 2ms/step - loss: 0.4756 - val_loss: 0.4957\n",
            "Epoch 116/200\n",
            "124/124 [==============================] - 0s 2ms/step - loss: 0.4727 - val_loss: 0.4958\n",
            "Epoch 117/200\n",
            "124/124 [==============================] - 0s 2ms/step - loss: 0.4707 - val_loss: 0.5133\n",
            "Epoch 118/200\n",
            "124/124 [==============================] - 0s 2ms/step - loss: 0.4704 - val_loss: 0.4970\n",
            "Epoch 119/200\n",
            "124/124 [==============================] - 0s 2ms/step - loss: 0.4688 - val_loss: 0.4950\n",
            "Epoch 120/200\n",
            "124/124 [==============================] - 0s 2ms/step - loss: 0.4677 - val_loss: 0.5121\n",
            "Epoch 121/200\n",
            "124/124 [==============================] - 0s 2ms/step - loss: 0.4724 - val_loss: 0.4963\n",
            "Epoch 122/200\n",
            "124/124 [==============================] - 0s 2ms/step - loss: 0.4737 - val_loss: 0.5085\n",
            "Epoch 123/200\n",
            "124/124 [==============================] - 0s 2ms/step - loss: 0.4700 - val_loss: 0.4952\n",
            "Epoch 124/200\n",
            "124/124 [==============================] - 0s 3ms/step - loss: 0.4686 - val_loss: 0.4988\n",
            "Epoch 125/200\n",
            "124/124 [==============================] - 0s 2ms/step - loss: 0.4685 - val_loss: 0.4966\n",
            "Epoch 126/200\n",
            "124/124 [==============================] - 0s 3ms/step - loss: 0.4694 - val_loss: 0.5002\n",
            "Epoch 127/200\n",
            "124/124 [==============================] - 0s 3ms/step - loss: 0.4756 - val_loss: 0.5036\n",
            "Epoch 128/200\n",
            "124/124 [==============================] - 0s 3ms/step - loss: 0.4722 - val_loss: 0.4958\n",
            "Epoch 129/200\n",
            "124/124 [==============================] - 0s 2ms/step - loss: 0.4746 - val_loss: 0.4960\n",
            "Epoch 130/200\n",
            "124/124 [==============================] - 0s 3ms/step - loss: 0.4691 - val_loss: 0.5066\n",
            "Epoch 131/200\n",
            "124/124 [==============================] - 0s 3ms/step - loss: 0.4701 - val_loss: 0.5032\n",
            "Epoch 132/200\n",
            "124/124 [==============================] - 0s 3ms/step - loss: 0.4682 - val_loss: 0.5025\n",
            "Epoch 133/200\n",
            "124/124 [==============================] - 0s 3ms/step - loss: 0.4727 - val_loss: 0.4950\n",
            "Epoch 134/200\n",
            "124/124 [==============================] - 0s 3ms/step - loss: 0.4694 - val_loss: 0.4994\n",
            "Epoch 135/200\n",
            "124/124 [==============================] - 0s 3ms/step - loss: 0.4685 - val_loss: 0.4957\n",
            "Epoch 136/200\n",
            "124/124 [==============================] - 0s 2ms/step - loss: 0.4660 - val_loss: 0.4973\n",
            "Epoch 137/200\n",
            "124/124 [==============================] - 0s 2ms/step - loss: 0.4660 - val_loss: 0.5124\n",
            "Epoch 138/200\n",
            "124/124 [==============================] - 0s 2ms/step - loss: 0.4710 - val_loss: 0.4976\n",
            "Epoch 139/200\n",
            "124/124 [==============================] - 0s 2ms/step - loss: 0.4702 - val_loss: 0.4958\n",
            "Epoch 140/200\n",
            "124/124 [==============================] - 0s 2ms/step - loss: 0.4667 - val_loss: 0.4955\n",
            "Epoch 141/200\n",
            "124/124 [==============================] - 0s 2ms/step - loss: 0.4719 - val_loss: 0.4955\n",
            "Epoch 142/200\n",
            "124/124 [==============================] - 0s 2ms/step - loss: 0.4699 - val_loss: 0.5116\n",
            "Epoch 143/200\n",
            "124/124 [==============================] - 0s 2ms/step - loss: 0.4716 - val_loss: 0.5057\n",
            "Epoch 144/200\n",
            "124/124 [==============================] - 0s 2ms/step - loss: 0.4693 - val_loss: 0.5038\n",
            "Epoch 145/200\n",
            "124/124 [==============================] - 0s 2ms/step - loss: 0.4777 - val_loss: 0.4953\n",
            "Epoch 146/200\n",
            "124/124 [==============================] - 0s 2ms/step - loss: 0.4715 - val_loss: 0.4968\n",
            "Epoch 147/200\n",
            "124/124 [==============================] - 0s 2ms/step - loss: 0.4663 - val_loss: 0.5023\n",
            "Epoch 148/200\n",
            "124/124 [==============================] - 0s 2ms/step - loss: 0.4707 - val_loss: 0.4980\n",
            "Epoch 149/200\n",
            "124/124 [==============================] - 0s 2ms/step - loss: 0.4703 - val_loss: 0.5107\n",
            "Epoch 150/200\n",
            "124/124 [==============================] - 0s 2ms/step - loss: 0.4702 - val_loss: 0.4983\n",
            "Epoch 151/200\n",
            "124/124 [==============================] - 0s 2ms/step - loss: 0.4683 - val_loss: 0.4975\n",
            "Epoch 152/200\n",
            "124/124 [==============================] - 0s 2ms/step - loss: 0.4735 - val_loss: 0.4953\n",
            "Epoch 153/200\n",
            "124/124 [==============================] - 0s 2ms/step - loss: 0.4734 - val_loss: 0.5092\n",
            "Epoch 154/200\n",
            "124/124 [==============================] - 0s 2ms/step - loss: 0.4687 - val_loss: 0.4953\n",
            "Epoch 155/200\n",
            "124/124 [==============================] - 0s 2ms/step - loss: 0.4785 - val_loss: 0.4991\n",
            "Epoch 156/200\n",
            "124/124 [==============================] - 0s 2ms/step - loss: 0.4784 - val_loss: 0.4976\n",
            "Epoch 157/200\n",
            "124/124 [==============================] - 0s 2ms/step - loss: 0.4674 - val_loss: 0.4963\n",
            "Epoch 158/200\n",
            "124/124 [==============================] - 0s 2ms/step - loss: 0.4722 - val_loss: 0.5154\n",
            "Epoch 159/200\n",
            "124/124 [==============================] - 0s 2ms/step - loss: 0.4717 - val_loss: 0.4960\n",
            "Epoch 160/200\n",
            "124/124 [==============================] - 0s 2ms/step - loss: 0.4668 - val_loss: 0.5118\n",
            "Epoch 161/200\n",
            "124/124 [==============================] - 0s 2ms/step - loss: 0.4805 - val_loss: 0.4951\n",
            "Epoch 162/200\n",
            "124/124 [==============================] - 0s 2ms/step - loss: 0.4723 - val_loss: 0.5035\n",
            "Epoch 163/200\n",
            "124/124 [==============================] - 0s 2ms/step - loss: 0.4689 - val_loss: 0.4952\n",
            "Epoch 164/200\n",
            "124/124 [==============================] - 0s 2ms/step - loss: 0.4736 - val_loss: 0.4953\n",
            "Epoch 165/200\n",
            "124/124 [==============================] - 0s 2ms/step - loss: 0.4654 - val_loss: 0.4988\n",
            "Epoch 166/200\n",
            "124/124 [==============================] - 0s 2ms/step - loss: 0.4698 - val_loss: 0.4994\n",
            "Epoch 167/200\n",
            "124/124 [==============================] - 0s 2ms/step - loss: 0.4685 - val_loss: 0.4982\n",
            "Epoch 168/200\n",
            "124/124 [==============================] - 0s 2ms/step - loss: 0.4705 - val_loss: 0.4952\n",
            "Epoch 169/200\n",
            "124/124 [==============================] - 0s 2ms/step - loss: 0.4752 - val_loss: 0.5075\n",
            "Epoch 170/200\n",
            "124/124 [==============================] - 0s 2ms/step - loss: 0.4665 - val_loss: 0.4956\n",
            "Epoch 171/200\n",
            "124/124 [==============================] - 0s 2ms/step - loss: 0.4722 - val_loss: 0.5008\n",
            "Epoch 172/200\n",
            "124/124 [==============================] - 0s 2ms/step - loss: 0.4714 - val_loss: 0.5051\n",
            "Epoch 173/200\n",
            "124/124 [==============================] - 0s 2ms/step - loss: 0.4696 - val_loss: 0.4954\n",
            "Epoch 174/200\n",
            "124/124 [==============================] - 0s 2ms/step - loss: 0.4707 - val_loss: 0.4955\n",
            "Epoch 175/200\n",
            "124/124 [==============================] - 0s 2ms/step - loss: 0.4676 - val_loss: 0.4973\n",
            "Epoch 176/200\n",
            "124/124 [==============================] - 0s 2ms/step - loss: 0.4717 - val_loss: 0.5214\n",
            "Epoch 177/200\n",
            "124/124 [==============================] - 0s 2ms/step - loss: 0.4717 - val_loss: 0.5060\n",
            "Epoch 178/200\n",
            "124/124 [==============================] - 0s 2ms/step - loss: 0.4785 - val_loss: 0.4977\n",
            "Epoch 179/200\n",
            "124/124 [==============================] - 0s 2ms/step - loss: 0.4696 - val_loss: 0.5058\n",
            "Epoch 180/200\n",
            "124/124 [==============================] - 0s 2ms/step - loss: 0.4704 - val_loss: 0.5215\n",
            "Epoch 181/200\n",
            "124/124 [==============================] - 0s 2ms/step - loss: 0.4747 - val_loss: 0.4961\n",
            "Epoch 182/200\n",
            "124/124 [==============================] - 0s 3ms/step - loss: 0.4691 - val_loss: 0.5134\n",
            "Epoch 183/200\n",
            "124/124 [==============================] - 0s 2ms/step - loss: 0.4703 - val_loss: 0.4987\n",
            "Epoch 184/200\n",
            "124/124 [==============================] - 0s 3ms/step - loss: 0.4682 - val_loss: 0.4965\n",
            "Epoch 185/200\n",
            "124/124 [==============================] - 0s 3ms/step - loss: 0.4710 - val_loss: 0.5208\n",
            "Epoch 186/200\n",
            "124/124 [==============================] - 0s 2ms/step - loss: 0.4745 - val_loss: 0.5013\n",
            "Epoch 187/200\n",
            "124/124 [==============================] - 0s 3ms/step - loss: 0.4669 - val_loss: 0.5078\n",
            "Epoch 188/200\n",
            "124/124 [==============================] - 0s 2ms/step - loss: 0.4663 - val_loss: 0.5163\n",
            "Epoch 189/200\n",
            "124/124 [==============================] - 0s 2ms/step - loss: 0.4705 - val_loss: 0.4956\n",
            "Epoch 190/200\n",
            "124/124 [==============================] - 0s 3ms/step - loss: 0.4702 - val_loss: 0.5250\n",
            "Epoch 191/200\n",
            "124/124 [==============================] - 0s 3ms/step - loss: 0.4727 - val_loss: 0.5092\n",
            "Epoch 192/200\n",
            "124/124 [==============================] - 0s 2ms/step - loss: 0.4708 - val_loss: 0.5078\n",
            "Epoch 193/200\n",
            "124/124 [==============================] - 0s 2ms/step - loss: 0.4772 - val_loss: 0.5023\n",
            "Epoch 194/200\n",
            "124/124 [==============================] - 0s 3ms/step - loss: 0.4706 - val_loss: 0.4955\n",
            "Epoch 195/200\n",
            "124/124 [==============================] - 0s 2ms/step - loss: 0.4699 - val_loss: 0.5043\n",
            "Epoch 196/200\n",
            "124/124 [==============================] - 0s 2ms/step - loss: 0.4678 - val_loss: 0.4960\n",
            "Epoch 197/200\n",
            "124/124 [==============================] - 0s 2ms/step - loss: 0.4714 - val_loss: 0.5019\n",
            "Epoch 198/200\n",
            "124/124 [==============================] - 0s 2ms/step - loss: 0.4677 - val_loss: 0.4965\n",
            "Epoch 199/200\n",
            "124/124 [==============================] - 0s 2ms/step - loss: 0.4705 - val_loss: 0.5001\n",
            "Epoch 200/200\n",
            "124/124 [==============================] - 0s 2ms/step - loss: 0.4660 - val_loss: 0.4977\n"
          ]
        }
      ]
    },
    {
      "cell_type": "code",
      "source": [
        "validate_model(model_LR)"
      ],
      "metadata": {
        "colab": {
          "base_uri": "https://localhost:8080/"
        },
        "id": "toKs-uTzVzZ4",
        "outputId": "494c0e14-830f-4007-fb29-340cca967265"
      },
      "execution_count": null,
      "outputs": [
        {
          "output_type": "stream",
          "name": "stdout",
          "text": [
            "31/31 [==============================] - 0s 1ms/step - loss: 0.4977\n",
            "Test loss: 0.49768131971359253\n"
          ]
        }
      ]
    },
    {
      "cell_type": "code",
      "source": [
        "plot_predictions(model_LR)"
      ],
      "metadata": {
        "colab": {
          "base_uri": "https://localhost:8080/",
          "height": 802
        },
        "id": "xNPYPNwGV3y_",
        "outputId": "41d41986-4cc6-436f-f503-b6b2751e68df"
      },
      "execution_count": null,
      "outputs": [
        {
          "output_type": "stream",
          "name": "stdout",
          "text": [
            "31/31 [==============================] - 0s 966us/step\n",
            "        Actual  Predicted        Date\n",
            "972   3.859375   3.846120  2000-08-14\n",
            "224   3.945312   3.996812  2000-08-22\n",
            "722   4.078125   4.025285  2000-09-05\n",
            "260   4.187500   4.102266  2000-09-06\n",
            "877   4.218750   4.199906  2000-09-11\n",
            "..         ...        ...         ...\n",
            "748  24.250000  24.704626  2020-03-04\n",
            "298  15.730000  22.566792  2020-03-06\n",
            "631  15.080000  15.934489  2020-03-10\n",
            "849  14.380000  12.601683  2020-03-12\n",
            "46   10.410000  10.097647  2020-03-25\n",
            "\n",
            "[989 rows x 3 columns]\n"
          ]
        },
        {
          "output_type": "display_data",
          "data": {
            "text/html": [
              "<html>\n",
              "<head><meta charset=\"utf-8\" /></head>\n",
              "<body>\n",
              "    <div>            <script src=\"https://cdnjs.cloudflare.com/ajax/libs/mathjax/2.7.5/MathJax.js?config=TeX-AMS-MML_SVG\"></script><script type=\"text/javascript\">if (window.MathJax && window.MathJax.Hub && window.MathJax.Hub.Config) {window.MathJax.Hub.Config({SVG: {font: \"STIX-Web\"}});}</script>                <script type=\"text/javascript\">window.PlotlyConfig = {MathJaxConfig: 'local'};</script>\n",
              "        <script charset=\"utf-8\" src=\"https://cdn.plot.ly/plotly-2.24.1.min.js\"></script>                <div id=\"9a57c477-cfec-481a-a0c9-2b127331f996\" class=\"plotly-graph-div\" style=\"height:525px; width:100%;\"></div>            <script type=\"text/javascript\">                                    window.PLOTLYENV=window.PLOTLYENV || {};                                    if (document.getElementById(\"9a57c477-cfec-481a-a0c9-2b127331f996\")) {                    Plotly.newPlot(                        \"9a57c477-cfec-481a-a0c9-2b127331f996\",                        [{\"mode\":\"lines\",\"name\":\"Actual\",\"x\":[\"2000-08-14\",\"2000-08-22\",\"2000-09-05\",\"2000-09-06\",\"2000-09-11\",\"2000-09-13\",\"2000-09-26\",\"2000-09-28\",\"2000-10-04\",\"2000-10-05\",\"2000-10-11\",\"2000-10-12\",\"2000-10-26\",\"2000-11-08\",\"2000-11-10\",\"2000-11-14\",\"2000-11-15\",\"2000-11-17\",\"2000-11-28\",\"2000-11-29\",\"2000-12-08\",\"2001-01-04\",\"2001-01-18\",\"2001-01-29\",\"2001-01-30\",\"2001-01-31\",\"2001-02-02\",\"2001-02-05\",\"2001-02-12\",\"2001-02-28\",\"2001-03-15\",\"2001-03-26\",\"2001-03-28\",\"2001-04-03\",\"2001-04-09\",\"2001-04-11\",\"2001-04-24\",\"2001-05-03\",\"2001-05-14\",\"2001-05-23\",\"2001-05-30\",\"2001-06-05\",\"2001-06-11\",\"2001-06-13\",\"2001-06-21\",\"2001-07-02\",\"2001-07-20\",\"2001-07-23\",\"2001-07-27\",\"2001-08-03\",\"2001-08-06\",\"2001-08-16\",\"2001-08-22\",\"2001-09-10\",\"2001-09-19\",\"2001-10-01\",\"2001-10-10\",\"2001-10-12\",\"2001-10-16\",\"2001-10-17\",\"2001-10-25\",\"2001-10-31\",\"2001-11-09\",\"2001-11-12\",\"2001-11-16\",\"2001-11-29\",\"2001-12-21\",\"2001-12-26\",\"2001-12-27\",\"2001-12-31\",\"2002-01-04\",\"2002-01-15\",\"2002-01-18\",\"2002-01-22\",\"2002-01-28\",\"2002-02-01\",\"2002-02-19\",\"2002-02-26\",\"2002-02-27\",\"2002-03-11\",\"2002-03-19\",\"2002-03-26\",\"2002-04-02\",\"2002-04-03\",\"2002-04-04\",\"2002-04-15\",\"2002-04-16\",\"2002-04-18\",\"2002-04-25\",\"2002-04-29\",\"2002-04-30\",\"2002-05-02\",\"2002-05-13\",\"2002-05-14\",\"2002-05-23\",\"2002-05-24\",\"2002-05-28\",\"2002-06-17\",\"2002-07-19\",\"2002-07-22\",\"2002-07-23\",\"2002-08-02\",\"2002-08-05\",\"2002-08-06\",\"2002-08-13\",\"2002-08-26\",\"2002-09-04\",\"2002-09-06\",\"2002-09-18\",\"2002-10-07\",\"2002-10-08\",\"2002-10-15\",\"2002-10-29\",\"2002-11-07\",\"2002-11-11\",\"2002-11-13\",\"2002-11-19\",\"2002-11-20\",\"2002-11-25\",\"2002-12-04\",\"2002-12-12\",\"2002-12-17\",\"2002-12-26\",\"2002-12-27\",\"2003-01-02\",\"2003-01-14\",\"2003-01-22\",\"2003-01-29\",\"2003-02-06\",\"2003-02-11\",\"2003-02-13\",\"2003-02-27\",\"2003-03-07\",\"2003-03-13\",\"2003-03-20\",\"2003-03-25\",\"2003-04-28\",\"2003-05-06\",\"2003-05-08\",\"2003-05-12\",\"2003-05-19\",\"2003-06-02\",\"2003-06-10\",\"2003-06-27\",\"2003-07-10\",\"2003-07-15\",\"2003-07-21\",\"2003-07-29\",\"2003-08-04\",\"2003-08-08\",\"2003-08-11\",\"2003-08-15\",\"2003-08-18\",\"2003-08-19\",\"2003-08-22\",\"2003-08-25\",\"2003-08-26\",\"2003-09-12\",\"2003-09-25\",\"2003-09-26\",\"2003-10-01\",\"2003-10-09\",\"2003-10-13\",\"2003-10-17\",\"2003-10-24\",\"2003-11-04\",\"2003-11-12\",\"2003-11-17\",\"2003-11-20\",\"2003-12-05\",\"2003-12-15\",\"2003-12-16\",\"2004-01-05\",\"2004-01-07\",\"2004-01-20\",\"2004-02-10\",\"2004-02-13\",\"2004-02-18\",\"2004-02-25\",\"2004-03-05\",\"2004-03-10\",\"2004-03-23\",\"2004-03-24\",\"2004-03-31\",\"2004-04-05\",\"2004-04-08\",\"2004-04-13\",\"2004-04-14\",\"2004-05-03\",\"2004-05-07\",\"2004-05-26\",\"2004-06-03\",\"2004-06-18\",\"2004-06-21\",\"2004-06-24\",\"2004-06-28\",\"2004-07-13\",\"2004-07-14\",\"2004-07-23\",\"2004-07-28\",\"2004-08-11\",\"2004-08-23\",\"2004-08-31\",\"2004-09-13\",\"2004-09-16\",\"2004-09-23\",\"2004-10-19\",\"2004-10-27\",\"2004-10-28\",\"2004-11-01\",\"2004-11-10\",\"2004-11-18\",\"2004-11-30\",\"2004-12-06\",\"2004-12-10\",\"2004-12-28\",\"2005-01-06\",\"2005-01-10\",\"2005-01-11\",\"2005-01-13\",\"2005-01-14\",\"2005-01-20\",\"2005-01-21\",\"2005-02-11\",\"2005-02-15\",\"2005-02-24\",\"2005-03-02\",\"2005-03-03\",\"2005-03-15\",\"2005-03-21\",\"2005-03-31\",\"2005-04-01\",\"2005-04-05\",\"2005-04-13\",\"2005-04-19\",\"2005-04-22\",\"2005-04-26\",\"2005-05-05\",\"2005-05-06\",\"2005-06-02\",\"2005-06-07\",\"2005-06-17\",\"2005-06-22\",\"2005-06-24\",\"2005-06-29\",\"2005-07-19\",\"2005-07-21\",\"2005-07-26\",\"2005-07-28\",\"2005-08-02\",\"2005-08-03\",\"2005-08-09\",\"2005-08-22\",\"2005-09-09\",\"2005-09-23\",\"2005-09-27\",\"2005-10-04\",\"2005-10-12\",\"2005-10-17\",\"2005-10-18\",\"2005-10-24\",\"2005-10-25\",\"2005-10-26\",\"2005-11-04\",\"2005-11-08\",\"2005-11-09\",\"2005-11-11\",\"2005-11-15\",\"2005-11-17\",\"2005-12-02\",\"2005-12-05\",\"2005-12-07\",\"2005-12-08\",\"2005-12-09\",\"2005-12-12\",\"2005-12-20\",\"2005-12-22\",\"2005-12-23\",\"2006-01-10\",\"2006-01-20\",\"2006-01-23\",\"2006-02-07\",\"2006-02-13\",\"2006-02-22\",\"2006-02-23\",\"2006-03-01\",\"2006-03-16\",\"2006-03-17\",\"2006-03-30\",\"2006-04-11\",\"2006-04-20\",\"2006-05-02\",\"2006-05-05\",\"2006-05-31\",\"2006-06-01\",\"2006-06-02\",\"2006-06-05\",\"2006-06-07\",\"2006-06-13\",\"2006-06-22\",\"2006-07-05\",\"2006-07-14\",\"2006-07-17\",\"2006-08-02\",\"2006-08-03\",\"2006-08-04\",\"2006-08-18\",\"2006-08-24\",\"2006-09-28\",\"2006-10-03\",\"2006-10-06\",\"2006-10-12\",\"2006-10-25\",\"2006-11-08\",\"2006-11-15\",\"2006-11-17\",\"2006-11-27\",\"2006-12-01\",\"2006-12-15\",\"2006-12-19\",\"2006-12-20\",\"2006-12-28\",\"2007-01-03\",\"2007-01-12\",\"2007-01-25\",\"2007-01-30\",\"2007-02-01\",\"2007-03-08\",\"2007-03-09\",\"2007-03-15\",\"2007-03-22\",\"2007-04-12\",\"2007-04-17\",\"2007-04-19\",\"2007-04-27\",\"2007-05-02\",\"2007-05-08\",\"2007-05-14\",\"2007-05-25\",\"2007-05-31\",\"2007-06-18\",\"2007-06-20\",\"2007-07-03\",\"2007-07-10\",\"2007-07-20\",\"2007-07-23\",\"2007-08-03\",\"2007-08-06\",\"2007-08-31\",\"2007-09-07\",\"2007-09-12\",\"2007-09-13\",\"2007-09-14\",\"2007-09-19\",\"2007-09-27\",\"2007-10-03\",\"2007-10-18\",\"2007-11-08\",\"2007-12-07\",\"2007-12-20\",\"2007-12-26\",\"2007-12-31\",\"2008-01-02\",\"2008-01-03\",\"2008-01-14\",\"2008-01-22\",\"2008-01-23\",\"2008-01-28\",\"2008-02-08\",\"2008-02-11\",\"2008-02-14\",\"2008-02-26\",\"2008-02-28\",\"2008-02-29\",\"2008-03-03\",\"2008-03-11\",\"2008-03-24\",\"2008-03-27\",\"2008-04-01\",\"2008-04-02\",\"2008-04-08\",\"2008-04-10\",\"2008-04-18\",\"2008-04-21\",\"2008-05-01\",\"2008-05-19\",\"2008-06-02\",\"2008-06-09\",\"2008-06-10\",\"2008-06-11\",\"2008-06-18\",\"2008-06-26\",\"2008-07-15\",\"2008-07-28\",\"2008-08-01\",\"2008-08-05\",\"2008-08-14\",\"2008-08-18\",\"2008-08-20\",\"2008-08-25\",\"2008-08-26\",\"2008-09-09\",\"2008-09-18\",\"2008-09-24\",\"2008-09-25\",\"2008-10-13\",\"2008-10-17\",\"2008-11-04\",\"2008-11-06\",\"2008-11-11\",\"2008-12-02\",\"2008-12-05\",\"2008-12-11\",\"2008-12-15\",\"2008-12-18\",\"2008-12-19\",\"2008-12-23\",\"2009-01-13\",\"2009-01-23\",\"2009-01-26\",\"2009-02-10\",\"2009-02-13\",\"2009-03-11\",\"2009-03-16\",\"2009-03-18\",\"2009-03-19\",\"2009-03-23\",\"2009-03-24\",\"2009-04-06\",\"2009-04-08\",\"2009-04-09\",\"2009-04-15\",\"2009-04-24\",\"2009-05-06\",\"2009-05-18\",\"2009-06-09\",\"2009-06-11\",\"2009-06-12\",\"2009-06-15\",\"2009-06-22\",\"2009-06-24\",\"2009-06-30\",\"2009-07-13\",\"2009-07-16\",\"2009-07-17\",\"2009-07-22\",\"2009-08-25\",\"2009-09-01\",\"2009-09-10\",\"2009-09-28\",\"2009-10-13\",\"2009-10-26\",\"2009-11-03\",\"2009-11-13\",\"2009-12-11\",\"2009-12-31\",\"2010-01-06\",\"2010-01-11\",\"2010-01-20\",\"2010-01-22\",\"2010-01-25\",\"2010-01-26\",\"2010-01-29\",\"2010-02-03\",\"2010-02-26\",\"2010-03-12\",\"2010-03-26\",\"2010-04-05\",\"2010-04-12\",\"2010-04-15\",\"2010-04-26\",\"2010-04-28\",\"2010-05-03\",\"2010-05-06\",\"2010-05-25\",\"2010-06-08\",\"2010-06-22\",\"2010-07-01\",\"2010-07-12\",\"2010-07-20\",\"2010-07-23\",\"2010-07-27\",\"2010-08-03\",\"2010-08-04\",\"2010-08-12\",\"2010-08-19\",\"2010-09-01\",\"2010-09-22\",\"2010-09-24\",\"2010-09-27\",\"2010-10-01\",\"2010-10-05\",\"2010-10-06\",\"2010-11-02\",\"2010-11-03\",\"2010-11-09\",\"2010-11-16\",\"2010-11-30\",\"2010-12-21\",\"2010-12-27\",\"2011-01-07\",\"2011-01-14\",\"2011-01-19\",\"2011-01-21\",\"2011-01-24\",\"2011-01-28\",\"2011-01-31\",\"2011-02-01\",\"2011-02-14\",\"2011-02-17\",\"2011-02-28\",\"2011-03-01\",\"2011-03-18\",\"2011-03-23\",\"2011-03-25\",\"2011-04-04\",\"2011-04-05\",\"2011-04-06\",\"2011-04-14\",\"2011-04-15\",\"2011-04-20\",\"2011-04-25\",\"2011-04-26\",\"2011-04-29\",\"2011-05-05\",\"2011-05-12\",\"2011-05-24\",\"2011-06-09\",\"2011-06-23\",\"2011-06-24\",\"2011-06-28\",\"2011-07-05\",\"2011-07-15\",\"2011-07-18\",\"2011-07-25\",\"2011-07-26\",\"2011-07-28\",\"2011-08-04\",\"2011-08-11\",\"2011-08-15\",\"2011-08-17\",\"2011-08-19\",\"2011-09-02\",\"2011-09-06\",\"2011-09-07\",\"2011-09-09\",\"2011-09-12\",\"2011-09-20\",\"2011-09-21\",\"2011-09-28\",\"2011-09-30\",\"2011-10-03\",\"2011-10-04\",\"2011-10-05\",\"2011-10-06\",\"2011-10-14\",\"2011-10-18\",\"2011-10-25\",\"2011-10-27\",\"2011-10-31\",\"2011-11-02\",\"2011-11-16\",\"2011-11-18\",\"2011-11-23\",\"2011-11-29\",\"2011-12-02\",\"2011-12-12\",\"2011-12-28\",\"2011-12-30\",\"2012-01-05\",\"2012-01-11\",\"2012-01-19\",\"2012-01-26\",\"2012-01-27\",\"2012-02-01\",\"2012-02-02\",\"2012-02-06\",\"2012-02-07\",\"2012-02-15\",\"2012-02-24\",\"2012-02-28\",\"2012-03-12\",\"2012-03-19\",\"2012-03-30\",\"2012-04-09\",\"2012-04-23\",\"2012-04-25\",\"2012-05-02\",\"2012-05-11\",\"2012-05-22\",\"2012-05-23\",\"2012-05-24\",\"2012-05-25\",\"2012-05-31\",\"2012-06-07\",\"2012-06-08\",\"2012-06-18\",\"2012-06-28\",\"2012-06-29\",\"2012-07-09\",\"2012-07-23\",\"2012-07-27\",\"2012-07-31\",\"2012-08-02\",\"2012-08-17\",\"2012-08-24\",\"2012-08-28\",\"2012-10-02\",\"2012-10-19\",\"2012-10-23\",\"2012-10-24\",\"2012-11-01\",\"2012-11-05\",\"2012-11-12\",\"2012-11-14\",\"2012-11-16\",\"2012-11-20\",\"2012-11-27\",\"2012-11-29\",\"2012-12-17\",\"2012-12-24\",\"2013-01-03\",\"2013-01-09\",\"2013-01-14\",\"2013-02-04\",\"2013-02-11\",\"2013-02-12\",\"2013-02-13\",\"2013-02-27\",\"2013-03-04\",\"2013-03-06\",\"2013-03-15\",\"2013-03-18\",\"2013-04-01\",\"2013-04-04\",\"2013-04-05\",\"2013-04-29\",\"2013-05-02\",\"2013-05-15\",\"2013-06-05\",\"2013-06-07\",\"2013-06-24\",\"2013-07-08\",\"2013-07-18\",\"2013-07-24\",\"2013-08-01\",\"2013-08-02\",\"2013-08-05\",\"2013-08-08\",\"2013-08-21\",\"2013-08-27\",\"2013-09-09\",\"2013-09-16\",\"2013-09-19\",\"2013-09-20\",\"2013-09-30\",\"2013-10-02\",\"2013-10-07\",\"2013-10-10\",\"2013-11-04\",\"2013-11-06\",\"2013-11-11\",\"2013-11-14\",\"2013-11-15\",\"2013-11-26\",\"2013-12-04\",\"2013-12-17\",\"2014-01-02\",\"2014-01-14\",\"2014-01-15\",\"2014-01-23\",\"2014-02-04\",\"2014-02-06\",\"2014-02-13\",\"2014-02-18\",\"2014-02-19\",\"2014-02-25\",\"2014-03-12\",\"2014-03-13\",\"2014-03-31\",\"2014-04-03\",\"2014-04-08\",\"2014-04-10\",\"2014-04-21\",\"2014-05-05\",\"2014-05-07\",\"2014-05-19\",\"2014-05-21\",\"2014-06-05\",\"2014-06-20\",\"2014-06-23\",\"2014-06-26\",\"2014-06-30\",\"2014-07-17\",\"2014-07-21\",\"2014-07-23\",\"2014-07-31\",\"2014-08-07\",\"2014-08-12\",\"2014-08-13\",\"2014-08-15\",\"2014-08-25\",\"2014-09-03\",\"2014-09-17\",\"2014-09-26\",\"2014-09-30\",\"2014-10-03\",\"2014-10-08\",\"2014-10-14\",\"2014-10-21\",\"2014-10-28\",\"2014-10-31\",\"2014-11-05\",\"2014-11-06\",\"2014-11-14\",\"2014-12-02\",\"2014-12-12\",\"2014-12-15\",\"2014-12-18\",\"2015-01-08\",\"2015-01-09\",\"2015-01-13\",\"2015-01-16\",\"2015-01-22\",\"2015-01-23\",\"2015-01-27\",\"2015-02-05\",\"2015-02-25\",\"2015-03-05\",\"2015-03-10\",\"2015-03-11\",\"2015-03-16\",\"2015-03-20\",\"2015-03-24\",\"2015-03-27\",\"2015-03-30\",\"2015-04-02\",\"2015-04-23\",\"2015-05-05\",\"2015-05-07\",\"2015-05-13\",\"2015-05-15\",\"2015-05-22\",\"2015-05-27\",\"2015-05-28\",\"2015-05-29\",\"2015-07-01\",\"2015-07-07\",\"2015-07-08\",\"2015-07-10\",\"2015-07-14\",\"2015-07-15\",\"2015-07-28\",\"2015-07-30\",\"2015-08-12\",\"2015-08-24\",\"2015-08-26\",\"2015-08-27\",\"2015-09-08\",\"2015-09-09\",\"2015-09-10\",\"2015-09-15\",\"2015-09-16\",\"2015-09-21\",\"2015-09-29\",\"2015-10-06\",\"2015-10-13\",\"2015-10-16\",\"2015-10-20\",\"2015-10-30\",\"2015-11-06\",\"2015-11-30\",\"2015-12-21\",\"2015-12-29\",\"2015-12-30\",\"2016-01-06\",\"2016-01-14\",\"2016-01-25\",\"2016-01-29\",\"2016-02-05\",\"2016-02-19\",\"2016-02-22\",\"2016-02-23\",\"2016-03-08\",\"2016-03-15\",\"2016-03-18\",\"2016-03-21\",\"2016-03-23\",\"2016-03-31\",\"2016-04-14\",\"2016-04-15\",\"2016-04-18\",\"2016-04-28\",\"2016-05-05\",\"2016-05-13\",\"2016-05-16\",\"2016-05-18\",\"2016-05-19\",\"2016-05-24\",\"2016-05-27\",\"2016-05-31\",\"2016-06-03\",\"2016-06-13\",\"2016-06-15\",\"2016-06-20\",\"2016-06-27\",\"2016-07-01\",\"2016-07-22\",\"2016-08-01\",\"2016-08-02\",\"2016-08-12\",\"2016-08-16\",\"2016-09-01\",\"2016-09-15\",\"2016-09-23\",\"2016-10-07\",\"2016-10-24\",\"2016-10-27\",\"2016-10-28\",\"2016-11-01\",\"2016-11-18\",\"2016-11-22\",\"2016-11-30\",\"2016-12-08\",\"2016-12-22\",\"2016-12-27\",\"2017-01-03\",\"2017-01-05\",\"2017-01-06\",\"2017-01-31\",\"2017-02-15\",\"2017-03-10\",\"2017-03-14\",\"2017-03-17\",\"2017-03-20\",\"2017-03-21\",\"2017-03-31\",\"2017-04-05\",\"2017-04-19\",\"2017-04-24\",\"2017-05-02\",\"2017-05-15\",\"2017-05-17\",\"2017-06-01\",\"2017-06-08\",\"2017-06-09\",\"2017-06-13\",\"2017-06-22\",\"2017-06-26\",\"2017-06-29\",\"2017-07-24\",\"2017-07-31\",\"2017-08-09\",\"2017-08-11\",\"2017-08-22\",\"2017-08-23\",\"2017-08-25\",\"2017-09-12\",\"2017-09-13\",\"2017-09-18\",\"2017-09-20\",\"2017-10-04\",\"2017-10-06\",\"2017-11-24\",\"2017-12-04\",\"2017-12-06\",\"2017-12-12\",\"2017-12-18\",\"2017-12-19\",\"2017-12-20\",\"2017-12-29\",\"2018-01-10\",\"2018-01-11\",\"2018-01-19\",\"2018-01-24\",\"2018-01-25\",\"2018-01-30\",\"2018-02-01\",\"2018-02-05\",\"2018-02-07\",\"2018-02-22\",\"2018-02-28\",\"2018-03-01\",\"2018-03-02\",\"2018-03-12\",\"2018-03-13\",\"2018-03-16\",\"2018-03-20\",\"2018-04-04\",\"2018-04-05\",\"2018-04-12\",\"2018-04-20\",\"2018-05-04\",\"2018-05-14\",\"2018-05-15\",\"2018-05-25\",\"2018-05-30\",\"2018-06-13\",\"2018-06-19\",\"2018-06-25\",\"2018-07-03\",\"2018-07-19\",\"2018-07-20\",\"2018-07-30\",\"2018-08-27\",\"2018-08-29\",\"2018-09-04\",\"2018-09-06\",\"2018-09-11\",\"2018-09-26\",\"2018-09-27\",\"2018-10-12\",\"2018-10-16\",\"2018-10-25\",\"2018-10-31\",\"2018-11-08\",\"2018-11-09\",\"2018-11-12\",\"2018-11-15\",\"2018-11-16\",\"2018-11-19\",\"2018-11-21\",\"2018-11-28\",\"2018-12-13\",\"2018-12-20\",\"2019-01-25\",\"2019-02-14\",\"2019-03-01\",\"2019-03-05\",\"2019-03-06\",\"2019-03-15\",\"2019-03-18\",\"2019-03-20\",\"2019-03-25\",\"2019-03-27\",\"2019-03-29\",\"2019-04-01\",\"2019-04-02\",\"2019-04-04\",\"2019-04-08\",\"2019-04-12\",\"2019-04-18\",\"2019-04-24\",\"2019-04-29\",\"2019-05-06\",\"2019-05-17\",\"2019-05-22\",\"2019-06-03\",\"2019-06-10\",\"2019-06-14\",\"2019-06-18\",\"2019-06-25\",\"2019-07-02\",\"2019-07-10\",\"2019-07-25\",\"2019-08-07\",\"2019-08-08\",\"2019-08-13\",\"2019-09-06\",\"2019-09-09\",\"2019-09-10\",\"2019-09-11\",\"2019-09-23\",\"2019-09-25\",\"2019-10-10\",\"2019-10-24\",\"2019-10-31\",\"2019-11-01\",\"2019-11-04\",\"2019-11-22\",\"2019-12-03\",\"2019-12-11\",\"2019-12-19\",\"2019-12-24\",\"2019-12-27\",\"2020-01-06\",\"2020-01-09\",\"2020-01-16\",\"2020-01-17\",\"2020-01-31\",\"2020-02-05\",\"2020-02-13\",\"2020-02-19\",\"2020-02-21\",\"2020-03-04\",\"2020-03-06\",\"2020-03-10\",\"2020-03-12\",\"2020-03-25\"],\"y\":[3.859375,3.9453125,4.078125,4.1875,4.21875,4.46875,4.1953125,4.1640625,4.2734375,4.109375,4.125,4.1953125,3.8046875,3.609375,3.578125,3.51953125,3.5234375,3.515625,3.53125,3.4765625,3.6171875,3.3359375,3.46875,3.666249990463257,3.65625,3.652499914169312,3.766249895095825,3.706249952316284,3.791249990463257,3.518749952316284,3.75,3.677500009536743,3.640000104904175,3.502500057220459,3.662499904632568,3.674999952316284,3.765000104904175,3.5762500762939453,3.865000009536743,4.144999980926514,4.198750019073486,4.193749904632568,4.051249980926514,4.068749904632568,3.7587499618530273,3.668750047683716,3.5737500190734863,3.640000104904175,3.631249904632568,3.846250057220459,3.825000047683716,3.75,3.7074999809265137,3.6762499809265137,3.315000057220459,3.190000057220459,3.5,3.4487500190734863,3.4124999046325684,3.275000095367432,3.430000066757202,3.3125,3.333750009536743,3.4049999713897705,2.90625,3.103749990463257,3.008749961853028,3.049999952316284,3.0799999237060547,2.977499961853028,3.0537500381469727,3.0299999713897705,3.0062499046325684,3.032500028610229,3.1912500858306885,3.3125,3.493750095367432,3.706249952316284,3.671250104904175,3.816250085830689,3.952500104904175,4.074999809265137,4.067500114440918,3.944999933242798,3.96875,3.9487500190734863,4.006249904632568,4.067500114440918,4.148749828338623,4.119999885559082,4.143750190734863,4.227499961853027,4.065000057220459,4.017499923706055,4.0625,4.106249809265137,4.102499961853027,4.00124979019165,3.682499885559082,3.5625,3.8424999713897705,3.982500076293945,4.152500152587891,4.065000057220459,4.224999904632568,4.197500228881836,4.051249980926514,4.028749942779541,3.839999914169312,3.666249990463257,3.588749885559082,3.793750047683716,3.352499961853028,3.212500095367432,3.223750114440918,3.1287500858306885,3.25,3.240000009536743,3.1987500190734863,3.383749961853028,3.6887500286102295,3.6262500286102295,3.694999933242798,3.732500076293945,3.809999942779541,3.776249885559082,3.9362499713897705,3.868750095367432,3.9149999618530273,3.911250114440918,3.887500047683716,4.306250095367432,4.446249961853027,4.125,4.096250057220459,4.137499809265137,4.152500152587891,4.480000019073486,4.397500038146973,4.463749885559082,4.683750152587891,4.929999828338623,5.256249904632568,4.988749980926514,4.75,4.818749904632568,4.762499809265137,4.65500020980835,4.832499980926514,5.150000095367432,5.144999980926514,5.079999923706055,5.03125,5.008749961853027,5.016250133514404,4.925000190734863,4.847499847412109,4.976250171661377,4.992499828338623,5.043749809265137,5.257500171661377,5.502500057220459,5.537499904632568,5.431250095367432,5.505000114440918,5.09375,5.309999942779541,5.351250171661377,5.494999885559082,5.892499923706055,5.671249866485596,5.826250076293945,6.612500190734863,6.426249980926514,6.776249885559082,6.431250095367432,6.458749771118164,6.300000190734863,6.62624979019165,7.131249904632568,6.87624979019165,6.731249809265137,6.670000076293945,7.018750190734863,7.309999942779541,7.414999961853027,7.139999866485596,7.539999961853027,7.366250038146973,6.652500152587891,6.482500076293945,6.602499961853027,7.34499979019165,7.380000114440918,7.577499866485596,7.277500152587891,7.902500152587891,7.857500076293945,7.730000019073486,8.119999885559082,7.784999847412109,7.872499942779541,8.362500190734863,8.479999542236328,8.867500305175781,9.38249969482422,10.36750030517578,10.369999885559082,10.489999771118164,10.1850004196167,9.9375,10.302499771118164,10.522500038146973,9.520000457763672,9.625,10.4975004196167,10.022500038146973,10.154999732971191,10.807499885559082,10.852499961853027,10.954999923706056,10.755000114440918,10.717499732971191,13.137499809265137,13.63249969482422,14.607500076293944,14.677499771118164,15.074999809265137,14.5,14.307499885559082,14.350000381469728,14.392499923706056,14.399999618530272,13.005000114440918,13.037500381469728,13.395000457763672,12.899999618530272,14.087499618530272,14.177499771118164,15.199999809265137,15.1850004196167,18.600000381469727,18.280000686645508,18.709999084472656,18.190000534057617,19.834999084472656,20.155000686645508,20.209999084472656,20.790000915527344,22.01000022888184,22.729999542236328,24.049999237060547,22.424999237060547,23.21999931335449,22.809999465942383,23.059999465942383,20.70499992370605,19.084999084472656,18.940000534057617,19.65999984741211,20.81999969482422,20.71500015258789,20.21999931335449,23.07999992370605,23.90999984741211,22.44499969482422,22.69499969482422,23.739999771118164,22.6200008392334,24.32999992370605,24.434999465942383,25.03499984741211,24.825000762939453,25.424999237060547,26.165000915527344,25.46999931335449,24.95499992370605,24.049999237060547,25.94499969482422,30.114999771118164,29.8799991607666,28.934999465942383,26.979999542236328,27.34000015258789,28.059999465942383,30.1299991607666,28.125,27.424999237060547,27.69499969482422,29.8799991607666,31.61000061035156,30.600000381469727,28.229999542236328,27.270000457763672,27.399999618530277,26.084999084472656,26.530000686645508,25.34499931335449,23.70499992370605,24.75,26.834999084472656,25.405000686645508,25.149999618530277,26.71999931335449,26.06999969482422,26.645000457763672,26.940000534057617,27.03499984741211,22.790000915527344,21.309999465942383,22.489999771118164,23.36000061035156,26.725000381469727,26.09000015258789,25.174999237060547,25.38500022888184,26.21500015258789,27.5049991607666,25.7450008392334,25.71500015258789,25.809999465942383,26.614999771118164,23.104999542236328,23.2450008392334,24.270000457763672,25.01000022888184,24.825000762939453,26.01499938964844,26.03499984741211,25.315000534057617,26.899999618530277,30.040000915527344,29.61000061035156,29.5049991607666,29.80500030517578,31.625,31.59000015258789,31.434999465942383,32.28499984741211,33.915000915527344,34.6150016784668,33.51499938964844,33.67499923706055,34.275001525878906,36.2599983215332,34.68000030517578,33.04999923706055,33.20500183105469,35.1150016784668,34.400001525878906,37.45000076293945,37.79499816894531,37.45500183105469,37.61000061035156,37.875,36.77000045776367,38.75,40.75,34.16999816894531,35.44499969482422,36.14500045776367,37.43999862670898,38.07500076293945,37.119998931884766,34.67499923706055,29.78499984741211,31.51000022888184,31.34000015258789,31.30500030517578,31.434999465942383,32.36000061035156,36.69499969482422,37.41999816894531,37.68999862670898,37.64500045776367,36.43999862670898,33.94499969482422,34.51499938964844,34.70000076293945,35.04999923706055,38.30500030517578,38.32500076293945,43.709999084472656,43.33000183105469,42.790000915527344,53.119998931884766,48.2599983215332,50.27999877929688,51.52000045776367,50.89500045776367,50.75,49.790000915527344,44.84000015258789,37.73500061035156,36.52000045776367,37.82500076293945,37.540000915527344,38.72499847412109,42.68999862670898,41.720001220703125,43.11000061035156,36.875,41.20000076293945,40.709999084472656,39.06499862670898,23.674999237060547,24.459999084472656,25.825000762939453,22.86000061035156,19.420000076293945,18.924999237060547,16.78499984741211,18.399999618530277,20.315000534057617,18.25,17.549999237060547,17.860000610351562,18.725000381469727,18.44499969482422,18.010000228881836,17.434999465942383,15.800000190734863,18.94499969482422,19.7549991607666,20.46500015258789,19.84499931335449,20.665000915527344,21.21500015258789,20.69499969482422,22.290000915527344,22.670000076293945,22.95499992370605,23.905000686645508,25.700000762939453,26.709999084472656,29.155000686645508,28.934999465942383,27.524999618530277,26.959999084472656,24.34000015258789,26.049999237060547,26.09000015258789,25.5049991607666,28.155000686645508,29.415000915527344,29.2549991607666,29.545000076293945,27.690000534057617,32.45500183105469,33.345001220703125,37.69499969482422,34.45500183105469,32.224998474121094,34.57500076293945,33.150001525878906,36.880001068115234,35.96500015258789,35.44499969482422,33.974998474121094,33.18000030517578,32.8849983215332,32.8849983215332,32.529998779296875,32.720001220703125,34.540000915527344,35.91999816894531,36.0,39.52999877929688,39.04499816894531,37.994998931884766,37.525001525878906,38.63999938964844,37.560001373291016,34.540000915527344,32.630001068115234,34.290000915527344,35.599998474121094,32.79999923706055,35.61000061035156,34.25,35.59000015258789,34.66999816894531,35.75,36.02000045776367,32.150001525878906,32.20000076293945,33.779998779296875,32.0,33.22999954223633,33.59000015258789,35.560001373291016,37.52000045776367,36.880001068115234,37.369998931884766,39.2400016784668,39.970001220703125,37.86000061035156,40.56999969482422,43.790000915527344,43.720001220703125,41.900001525878906,42.630001068115234,42.16999816894531,42.31999969482422,41.47999954223633,44.52000045776367,45.34999847412109,44.77999877929688,45.150001525878906,47.900001525878906,50.18999862670898,51.209999084472656,49.7599983215332,48.970001220703125,47.88999938964844,49.7599983215332,49.209999084472656,48.43999862670898,45.40999984741211,45.11000061035156,46.619998931884766,46.09999847412109,45.97999954223633,46.31999969482422,43.619998931884766,40.709999084472656,42.27000045776367,40.25,38.7599983215332,38.810001373291016,41.220001220703125,42.59000015258789,41.16999816894531,42.470001220703125,43.02000045776367,41.63999938964844,40.290000915527344,36.02000045776367,36.66999816894531,36.619998931884766,34.2599983215332,33.189998626708984,34.849998474121094,36.18000030517578,36.13999938964844,33.880001068115234,34.310001373291016,31.739999771118164,30.040000915527344,30.34000015258789,27.59000015258789,27.43000030517578,29.540000915527344,30.270000457763672,29.1299991607666,31.270000457763672,31.920000076293945,34.2599983215332,36.81999969482422,33.40999984741211,37.84000015258789,36.209999084472656,35.150001525878906,32.63999938964844,37.34000015258789,37.68000030517578,35.560001373291016,36.61000061035156,39.38999938964844,38.08000183105469,37.68999862670898,38.5099983215332,40.20000076293945,39.77000045776367,40.43000030517578,41.060001373291016,38.7400016784668,38.09000015258789,37.209999084472656,37.650001525878906,37.11000061035156,35.13999938964844,35.150001525878906,34.02000045776367,31.15999984741211,31.68000030517578,33.099998474121094,33.310001373291016,30.190000534057617,30.729999542236328,30.65999984741211,30.75,31.34000015258789,27.420000076293945,27.38999938964844,26.790000915527344,28.280000686645508,26.850000381469727,26.809999465942383,25.280000686645508,27.07999992370605,28.049999237060547,27.479999542236328,27.88999938964844,32.15999984741211,30.950000762939453,30.709999084472656,30.6299991607666,31.0,29.71999931335449,30.1299991607666,29.989999771118164,30.43000030517578,27.700000762939453,27.309999465942383,27.63999938964844,27.51000022888184,28.450000762939453,28.489999771118164,28.729999542236328,28.5,30.549999237060547,30.13999938964844,29.57999992370605,30.32999992370605,31.46999931335449,31.739999771118164,31.15999984741211,30.489999771118164,29.790000915527344,31.190000534057617,32.540000915527344,32.41999816894531,32.119998931884766,30.540000915527344,30.63999938964844,29.34000015258789,29.32999992370605,29.170000076293945,29.18000030517578,29.280000686645508,28.299999237060547,30.34000015258789,33.11000061035156,32.84000015258789,31.46999931335449,31.3700008392334,30.82999992370605,30.479999542236328,29.700000762939453,31.43000030517578,31.31999969482422,31.65999984741211,31.530000686645508,31.38999938964844,31.799999237060547,30.790000915527344,30.989999771118164,32.16999816894531,30.920000076293945,31.15999984741211,30.61000061035156,32.560001373291016,32.220001220703125,32.38999938964844,32.150001525878906,32.25,32.93000030517578,32.79999923706055,32.84000015258789,32.0,33.939998626708984,34.27000045776367,35.040000915527344,36.68999862670898,36.84000015258789,36.630001068115234,35.68000030517578,35.79999923706055,38.47999954223633,39.72999954223633,40.540000915527344,39.400001525878906,40.43999862670898,40.68000030517578,39.79999923706055,39.75,40.7599983215332,42.09000015258789,45.63999938964844,44.65999984741211,45.720001220703125,46.150001525878906,45.0,45.650001525878906,45.77000045776367,42.040000915527344,42.02000045776367,41.290000915527344,41.0099983215332,41.31999969482422,43.06999969482422,41.7400016784668,41.18999862670898,39.470001220703125,37.77000045776367,37.150001525878906,34.93000030517578,32.02000045776367,34.2599983215332,34.58000183105469,33.70000076293945,34.689998626708984,36.02999877929688,35.56999969482422,34.2599983215332,27.309999465942383,27.920000076293945,31.649999618530277,27.940000534057617,26.559999465942383,27.38999938964844,28.270000457763672,29.26000022888184,29.1200008392334,28.21999931335449,31.25,29.489999771118164,29.709999084472656,28.81999969482422,28.65999984741211,29.440000534057617,29.8700008392334,30.82999992370605,30.82999992370605,30.709999084472656,32.2599983215332,33.619998931884766,31.959999084472656,31.6200008392334,31.530000686645508,31.34000015258789,30.520000457763672,30.739999771118164,30.84000015258789,30.3799991607666,26.979999542236328,25.899999618530277,25.809999465942383,26.07999992370605,25.549999237060547,25.40999984741211,23.71999931335449,24.3799991607666,23.700000762939453,19.34000015258789,21.350000381469727,21.799999237060547,20.520000457763672,20.84000015258789,20.030000686645508,21.209999084472656,21.21999931335449,20.07999992370605,19.450000762939453,23.8799991607666,24.01000022888184,23.280000686645508,23.209999084472656,23.799999237060547,24.82999992370605,24.200000762939453,20.790000915527344,21.81999969482422,21.82999992370605,19.549999237060547,16.81999969482422,18.76000022888184,20.899999618530277,20.979999542236328,21.040000915527344,20.0,19.950000762939453,26.299999237060547,27.57999992370605,27.21999931335449,27.65999984741211,26.57999992370605,25.799999237060547,28.559999465942383,29.3700008392334,30.020000457763672,30.020000457763672,27.71999931335449,29.280000686645508,29.690000534057617,28.540000915527344,28.88999938964844,29.899999618530277,29.739999771118164,29.030000686645508,29.940000534057617,28.899999618530277,28.700000762939453,30.34000015258789,29.3700008392334,30.8799991607666,30.06999969482422,29.600000381469727,30.13999938964844,32.45000076293945,32.400001525878906,31.850000381469727,29.200000762939453,29.549999237060547,32.33000183105469,32.709999084472656,32.38999938964844,31.709999084472656,31.46999931335449,32.880001068115234,32.70000076293945,34.06999969482422,33.380001068115234,32.15999984741211,32.209999084472656,32.84000015258789,32.58000183105469,31.600000381469727,30.1299991607666,30.34000015258789,31.790000915527344,32.86000061035156,32.22999954223633,31.790000915527344,32.02000045776367,32.66999816894531,33.400001525878906,32.529998779296875,33.40999984741211,31.530000686645508,31.190000534057617,30.440000534057617,28.850000381469727,29.25,29.38999938964844,28.21999931335449,28.5,28.540000915527344,28.84000015258789,30.40999984741211,30.520000457763672,31.309999465942383,30.86000061035156,30.8700008392334,30.90999984741211,30.8700008392334,33.029998779296875,32.97999954223633,33.0,34.20000076293945,33.40999984741211,32.9900016784668,33.529998779296875,35.150001525878906,34.56999969482422,33.83000183105469,33.79999923706055,34.22999954223633,34.83000183105469,36.540000915527344,36.72999954223633,37.13999938964844,36.06999969482422,35.95000076293945,36.02999877929688,34.150001525878906,33.689998626708984,31.93000030517578,29.76000022888184,32.150001525878906,31.049999237060547,30.88999938964844,31.030000686645508,29.959999084472656,29.920000076293945,29.799999237060547,31.450000762939453,33.79999923706055,33.02000045776367,35.130001068115234,35.779998779296875,35.11000061035156,36.40999984741211,36.70000076293945,34.27000045776367,34.560001373291016,32.06999969482422,32.02000045776367,33.95000076293945,35.470001220703125,35.22999954223633,35.0099983215332,36.63999938964844,35.31999969482422,34.970001220703125,33.290000915527344,32.43000030517578,31.940000534057617,33.029998779296875,32.65999984741211,28.770000457763672,28.63999938964844,28.190000534057617,28.90999984741211,28.15999984741211,28.1200008392334,27.26000022888184,27.1200008392334,27.200000762939453,26.26000022888184,25.21999931335449,25.200000762939453,25.6299991607666,23.26000022888184,26.209999084472656,27.850000381469727,27.280000686645508,26.690000534057617,27.31999969482422,28.020000457763672,27.799999237060547,28.450000762939453,27.770000457763672,27.459999084472656,27.940000534057617,27.809999465942383,27.71999931335449,28.670000076293945,29.34000015258789,29.6200008392334,31.07999992370605,30.15999984741211,29.979999542236328,27.690000534057617,27.100000381469727,25.84000015258789,26.84000015258789,27.209999084472656,26.93000030517578,27.0,27.850000381469727,26.600000381469727,27.6200008392334,24.940000534057617,24.450000762939453,24.38999938964844,23.239999771118164,24.729999542236328,25.68000030517578,25.420000076293945,25.350000381469727,27.13999938964844,26.709999084472656,25.450000762939453,26.040000915527344,25.93000030517578,26.520000457763672,26.46999931335449,28.280000686645508,28.36000061035156,30.46999931335449,31.600000381469727,32.18000030517578,32.189998626708984,32.220001220703125,31.76000022888184,31.709999084472656,31.149999618530277,28.07999992370605,29.149999618530277,29.290000915527344,30.43000030517578,28.57999992370605,24.25,15.729999542236328,15.079999923706056,14.380000114440918,10.40999984741211],\"type\":\"scatter\"},{\"mode\":\"lines\",\"name\":\"Predicted\",\"x\":[\"2000-08-14\",\"2000-08-22\",\"2000-09-05\",\"2000-09-06\",\"2000-09-11\",\"2000-09-13\",\"2000-09-26\",\"2000-09-28\",\"2000-10-04\",\"2000-10-05\",\"2000-10-11\",\"2000-10-12\",\"2000-10-26\",\"2000-11-08\",\"2000-11-10\",\"2000-11-14\",\"2000-11-15\",\"2000-11-17\",\"2000-11-28\",\"2000-11-29\",\"2000-12-08\",\"2001-01-04\",\"2001-01-18\",\"2001-01-29\",\"2001-01-30\",\"2001-01-31\",\"2001-02-02\",\"2001-02-05\",\"2001-02-12\",\"2001-02-28\",\"2001-03-15\",\"2001-03-26\",\"2001-03-28\",\"2001-04-03\",\"2001-04-09\",\"2001-04-11\",\"2001-04-24\",\"2001-05-03\",\"2001-05-14\",\"2001-05-23\",\"2001-05-30\",\"2001-06-05\",\"2001-06-11\",\"2001-06-13\",\"2001-06-21\",\"2001-07-02\",\"2001-07-20\",\"2001-07-23\",\"2001-07-27\",\"2001-08-03\",\"2001-08-06\",\"2001-08-16\",\"2001-08-22\",\"2001-09-10\",\"2001-09-19\",\"2001-10-01\",\"2001-10-10\",\"2001-10-12\",\"2001-10-16\",\"2001-10-17\",\"2001-10-25\",\"2001-10-31\",\"2001-11-09\",\"2001-11-12\",\"2001-11-16\",\"2001-11-29\",\"2001-12-21\",\"2001-12-26\",\"2001-12-27\",\"2001-12-31\",\"2002-01-04\",\"2002-01-15\",\"2002-01-18\",\"2002-01-22\",\"2002-01-28\",\"2002-02-01\",\"2002-02-19\",\"2002-02-26\",\"2002-02-27\",\"2002-03-11\",\"2002-03-19\",\"2002-03-26\",\"2002-04-02\",\"2002-04-03\",\"2002-04-04\",\"2002-04-15\",\"2002-04-16\",\"2002-04-18\",\"2002-04-25\",\"2002-04-29\",\"2002-04-30\",\"2002-05-02\",\"2002-05-13\",\"2002-05-14\",\"2002-05-23\",\"2002-05-24\",\"2002-05-28\",\"2002-06-17\",\"2002-07-19\",\"2002-07-22\",\"2002-07-23\",\"2002-08-02\",\"2002-08-05\",\"2002-08-06\",\"2002-08-13\",\"2002-08-26\",\"2002-09-04\",\"2002-09-06\",\"2002-09-18\",\"2002-10-07\",\"2002-10-08\",\"2002-10-15\",\"2002-10-29\",\"2002-11-07\",\"2002-11-11\",\"2002-11-13\",\"2002-11-19\",\"2002-11-20\",\"2002-11-25\",\"2002-12-04\",\"2002-12-12\",\"2002-12-17\",\"2002-12-26\",\"2002-12-27\",\"2003-01-02\",\"2003-01-14\",\"2003-01-22\",\"2003-01-29\",\"2003-02-06\",\"2003-02-11\",\"2003-02-13\",\"2003-02-27\",\"2003-03-07\",\"2003-03-13\",\"2003-03-20\",\"2003-03-25\",\"2003-04-28\",\"2003-05-06\",\"2003-05-08\",\"2003-05-12\",\"2003-05-19\",\"2003-06-02\",\"2003-06-10\",\"2003-06-27\",\"2003-07-10\",\"2003-07-15\",\"2003-07-21\",\"2003-07-29\",\"2003-08-04\",\"2003-08-08\",\"2003-08-11\",\"2003-08-15\",\"2003-08-18\",\"2003-08-19\",\"2003-08-22\",\"2003-08-25\",\"2003-08-26\",\"2003-09-12\",\"2003-09-25\",\"2003-09-26\",\"2003-10-01\",\"2003-10-09\",\"2003-10-13\",\"2003-10-17\",\"2003-10-24\",\"2003-11-04\",\"2003-11-12\",\"2003-11-17\",\"2003-11-20\",\"2003-12-05\",\"2003-12-15\",\"2003-12-16\",\"2004-01-05\",\"2004-01-07\",\"2004-01-20\",\"2004-02-10\",\"2004-02-13\",\"2004-02-18\",\"2004-02-25\",\"2004-03-05\",\"2004-03-10\",\"2004-03-23\",\"2004-03-24\",\"2004-03-31\",\"2004-04-05\",\"2004-04-08\",\"2004-04-13\",\"2004-04-14\",\"2004-05-03\",\"2004-05-07\",\"2004-05-26\",\"2004-06-03\",\"2004-06-18\",\"2004-06-21\",\"2004-06-24\",\"2004-06-28\",\"2004-07-13\",\"2004-07-14\",\"2004-07-23\",\"2004-07-28\",\"2004-08-11\",\"2004-08-23\",\"2004-08-31\",\"2004-09-13\",\"2004-09-16\",\"2004-09-23\",\"2004-10-19\",\"2004-10-27\",\"2004-10-28\",\"2004-11-01\",\"2004-11-10\",\"2004-11-18\",\"2004-11-30\",\"2004-12-06\",\"2004-12-10\",\"2004-12-28\",\"2005-01-06\",\"2005-01-10\",\"2005-01-11\",\"2005-01-13\",\"2005-01-14\",\"2005-01-20\",\"2005-01-21\",\"2005-02-11\",\"2005-02-15\",\"2005-02-24\",\"2005-03-02\",\"2005-03-03\",\"2005-03-15\",\"2005-03-21\",\"2005-03-31\",\"2005-04-01\",\"2005-04-05\",\"2005-04-13\",\"2005-04-19\",\"2005-04-22\",\"2005-04-26\",\"2005-05-05\",\"2005-05-06\",\"2005-06-02\",\"2005-06-07\",\"2005-06-17\",\"2005-06-22\",\"2005-06-24\",\"2005-06-29\",\"2005-07-19\",\"2005-07-21\",\"2005-07-26\",\"2005-07-28\",\"2005-08-02\",\"2005-08-03\",\"2005-08-09\",\"2005-08-22\",\"2005-09-09\",\"2005-09-23\",\"2005-09-27\",\"2005-10-04\",\"2005-10-12\",\"2005-10-17\",\"2005-10-18\",\"2005-10-24\",\"2005-10-25\",\"2005-10-26\",\"2005-11-04\",\"2005-11-08\",\"2005-11-09\",\"2005-11-11\",\"2005-11-15\",\"2005-11-17\",\"2005-12-02\",\"2005-12-05\",\"2005-12-07\",\"2005-12-08\",\"2005-12-09\",\"2005-12-12\",\"2005-12-20\",\"2005-12-22\",\"2005-12-23\",\"2006-01-10\",\"2006-01-20\",\"2006-01-23\",\"2006-02-07\",\"2006-02-13\",\"2006-02-22\",\"2006-02-23\",\"2006-03-01\",\"2006-03-16\",\"2006-03-17\",\"2006-03-30\",\"2006-04-11\",\"2006-04-20\",\"2006-05-02\",\"2006-05-05\",\"2006-05-31\",\"2006-06-01\",\"2006-06-02\",\"2006-06-05\",\"2006-06-07\",\"2006-06-13\",\"2006-06-22\",\"2006-07-05\",\"2006-07-14\",\"2006-07-17\",\"2006-08-02\",\"2006-08-03\",\"2006-08-04\",\"2006-08-18\",\"2006-08-24\",\"2006-09-28\",\"2006-10-03\",\"2006-10-06\",\"2006-10-12\",\"2006-10-25\",\"2006-11-08\",\"2006-11-15\",\"2006-11-17\",\"2006-11-27\",\"2006-12-01\",\"2006-12-15\",\"2006-12-19\",\"2006-12-20\",\"2006-12-28\",\"2007-01-03\",\"2007-01-12\",\"2007-01-25\",\"2007-01-30\",\"2007-02-01\",\"2007-03-08\",\"2007-03-09\",\"2007-03-15\",\"2007-03-22\",\"2007-04-12\",\"2007-04-17\",\"2007-04-19\",\"2007-04-27\",\"2007-05-02\",\"2007-05-08\",\"2007-05-14\",\"2007-05-25\",\"2007-05-31\",\"2007-06-18\",\"2007-06-20\",\"2007-07-03\",\"2007-07-10\",\"2007-07-20\",\"2007-07-23\",\"2007-08-03\",\"2007-08-06\",\"2007-08-31\",\"2007-09-07\",\"2007-09-12\",\"2007-09-13\",\"2007-09-14\",\"2007-09-19\",\"2007-09-27\",\"2007-10-03\",\"2007-10-18\",\"2007-11-08\",\"2007-12-07\",\"2007-12-20\",\"2007-12-26\",\"2007-12-31\",\"2008-01-02\",\"2008-01-03\",\"2008-01-14\",\"2008-01-22\",\"2008-01-23\",\"2008-01-28\",\"2008-02-08\",\"2008-02-11\",\"2008-02-14\",\"2008-02-26\",\"2008-02-28\",\"2008-02-29\",\"2008-03-03\",\"2008-03-11\",\"2008-03-24\",\"2008-03-27\",\"2008-04-01\",\"2008-04-02\",\"2008-04-08\",\"2008-04-10\",\"2008-04-18\",\"2008-04-21\",\"2008-05-01\",\"2008-05-19\",\"2008-06-02\",\"2008-06-09\",\"2008-06-10\",\"2008-06-11\",\"2008-06-18\",\"2008-06-26\",\"2008-07-15\",\"2008-07-28\",\"2008-08-01\",\"2008-08-05\",\"2008-08-14\",\"2008-08-18\",\"2008-08-20\",\"2008-08-25\",\"2008-08-26\",\"2008-09-09\",\"2008-09-18\",\"2008-09-24\",\"2008-09-25\",\"2008-10-13\",\"2008-10-17\",\"2008-11-04\",\"2008-11-06\",\"2008-11-11\",\"2008-12-02\",\"2008-12-05\",\"2008-12-11\",\"2008-12-15\",\"2008-12-18\",\"2008-12-19\",\"2008-12-23\",\"2009-01-13\",\"2009-01-23\",\"2009-01-26\",\"2009-02-10\",\"2009-02-13\",\"2009-03-11\",\"2009-03-16\",\"2009-03-18\",\"2009-03-19\",\"2009-03-23\",\"2009-03-24\",\"2009-04-06\",\"2009-04-08\",\"2009-04-09\",\"2009-04-15\",\"2009-04-24\",\"2009-05-06\",\"2009-05-18\",\"2009-06-09\",\"2009-06-11\",\"2009-06-12\",\"2009-06-15\",\"2009-06-22\",\"2009-06-24\",\"2009-06-30\",\"2009-07-13\",\"2009-07-16\",\"2009-07-17\",\"2009-07-22\",\"2009-08-25\",\"2009-09-01\",\"2009-09-10\",\"2009-09-28\",\"2009-10-13\",\"2009-10-26\",\"2009-11-03\",\"2009-11-13\",\"2009-12-11\",\"2009-12-31\",\"2010-01-06\",\"2010-01-11\",\"2010-01-20\",\"2010-01-22\",\"2010-01-25\",\"2010-01-26\",\"2010-01-29\",\"2010-02-03\",\"2010-02-26\",\"2010-03-12\",\"2010-03-26\",\"2010-04-05\",\"2010-04-12\",\"2010-04-15\",\"2010-04-26\",\"2010-04-28\",\"2010-05-03\",\"2010-05-06\",\"2010-05-25\",\"2010-06-08\",\"2010-06-22\",\"2010-07-01\",\"2010-07-12\",\"2010-07-20\",\"2010-07-23\",\"2010-07-27\",\"2010-08-03\",\"2010-08-04\",\"2010-08-12\",\"2010-08-19\",\"2010-09-01\",\"2010-09-22\",\"2010-09-24\",\"2010-09-27\",\"2010-10-01\",\"2010-10-05\",\"2010-10-06\",\"2010-11-02\",\"2010-11-03\",\"2010-11-09\",\"2010-11-16\",\"2010-11-30\",\"2010-12-21\",\"2010-12-27\",\"2011-01-07\",\"2011-01-14\",\"2011-01-19\",\"2011-01-21\",\"2011-01-24\",\"2011-01-28\",\"2011-01-31\",\"2011-02-01\",\"2011-02-14\",\"2011-02-17\",\"2011-02-28\",\"2011-03-01\",\"2011-03-18\",\"2011-03-23\",\"2011-03-25\",\"2011-04-04\",\"2011-04-05\",\"2011-04-06\",\"2011-04-14\",\"2011-04-15\",\"2011-04-20\",\"2011-04-25\",\"2011-04-26\",\"2011-04-29\",\"2011-05-05\",\"2011-05-12\",\"2011-05-24\",\"2011-06-09\",\"2011-06-23\",\"2011-06-24\",\"2011-06-28\",\"2011-07-05\",\"2011-07-15\",\"2011-07-18\",\"2011-07-25\",\"2011-07-26\",\"2011-07-28\",\"2011-08-04\",\"2011-08-11\",\"2011-08-15\",\"2011-08-17\",\"2011-08-19\",\"2011-09-02\",\"2011-09-06\",\"2011-09-07\",\"2011-09-09\",\"2011-09-12\",\"2011-09-20\",\"2011-09-21\",\"2011-09-28\",\"2011-09-30\",\"2011-10-03\",\"2011-10-04\",\"2011-10-05\",\"2011-10-06\",\"2011-10-14\",\"2011-10-18\",\"2011-10-25\",\"2011-10-27\",\"2011-10-31\",\"2011-11-02\",\"2011-11-16\",\"2011-11-18\",\"2011-11-23\",\"2011-11-29\",\"2011-12-02\",\"2011-12-12\",\"2011-12-28\",\"2011-12-30\",\"2012-01-05\",\"2012-01-11\",\"2012-01-19\",\"2012-01-26\",\"2012-01-27\",\"2012-02-01\",\"2012-02-02\",\"2012-02-06\",\"2012-02-07\",\"2012-02-15\",\"2012-02-24\",\"2012-02-28\",\"2012-03-12\",\"2012-03-19\",\"2012-03-30\",\"2012-04-09\",\"2012-04-23\",\"2012-04-25\",\"2012-05-02\",\"2012-05-11\",\"2012-05-22\",\"2012-05-23\",\"2012-05-24\",\"2012-05-25\",\"2012-05-31\",\"2012-06-07\",\"2012-06-08\",\"2012-06-18\",\"2012-06-28\",\"2012-06-29\",\"2012-07-09\",\"2012-07-23\",\"2012-07-27\",\"2012-07-31\",\"2012-08-02\",\"2012-08-17\",\"2012-08-24\",\"2012-08-28\",\"2012-10-02\",\"2012-10-19\",\"2012-10-23\",\"2012-10-24\",\"2012-11-01\",\"2012-11-05\",\"2012-11-12\",\"2012-11-14\",\"2012-11-16\",\"2012-11-20\",\"2012-11-27\",\"2012-11-29\",\"2012-12-17\",\"2012-12-24\",\"2013-01-03\",\"2013-01-09\",\"2013-01-14\",\"2013-02-04\",\"2013-02-11\",\"2013-02-12\",\"2013-02-13\",\"2013-02-27\",\"2013-03-04\",\"2013-03-06\",\"2013-03-15\",\"2013-03-18\",\"2013-04-01\",\"2013-04-04\",\"2013-04-05\",\"2013-04-29\",\"2013-05-02\",\"2013-05-15\",\"2013-06-05\",\"2013-06-07\",\"2013-06-24\",\"2013-07-08\",\"2013-07-18\",\"2013-07-24\",\"2013-08-01\",\"2013-08-02\",\"2013-08-05\",\"2013-08-08\",\"2013-08-21\",\"2013-08-27\",\"2013-09-09\",\"2013-09-16\",\"2013-09-19\",\"2013-09-20\",\"2013-09-30\",\"2013-10-02\",\"2013-10-07\",\"2013-10-10\",\"2013-11-04\",\"2013-11-06\",\"2013-11-11\",\"2013-11-14\",\"2013-11-15\",\"2013-11-26\",\"2013-12-04\",\"2013-12-17\",\"2014-01-02\",\"2014-01-14\",\"2014-01-15\",\"2014-01-23\",\"2014-02-04\",\"2014-02-06\",\"2014-02-13\",\"2014-02-18\",\"2014-02-19\",\"2014-02-25\",\"2014-03-12\",\"2014-03-13\",\"2014-03-31\",\"2014-04-03\",\"2014-04-08\",\"2014-04-10\",\"2014-04-21\",\"2014-05-05\",\"2014-05-07\",\"2014-05-19\",\"2014-05-21\",\"2014-06-05\",\"2014-06-20\",\"2014-06-23\",\"2014-06-26\",\"2014-06-30\",\"2014-07-17\",\"2014-07-21\",\"2014-07-23\",\"2014-07-31\",\"2014-08-07\",\"2014-08-12\",\"2014-08-13\",\"2014-08-15\",\"2014-08-25\",\"2014-09-03\",\"2014-09-17\",\"2014-09-26\",\"2014-09-30\",\"2014-10-03\",\"2014-10-08\",\"2014-10-14\",\"2014-10-21\",\"2014-10-28\",\"2014-10-31\",\"2014-11-05\",\"2014-11-06\",\"2014-11-14\",\"2014-12-02\",\"2014-12-12\",\"2014-12-15\",\"2014-12-18\",\"2015-01-08\",\"2015-01-09\",\"2015-01-13\",\"2015-01-16\",\"2015-01-22\",\"2015-01-23\",\"2015-01-27\",\"2015-02-05\",\"2015-02-25\",\"2015-03-05\",\"2015-03-10\",\"2015-03-11\",\"2015-03-16\",\"2015-03-20\",\"2015-03-24\",\"2015-03-27\",\"2015-03-30\",\"2015-04-02\",\"2015-04-23\",\"2015-05-05\",\"2015-05-07\",\"2015-05-13\",\"2015-05-15\",\"2015-05-22\",\"2015-05-27\",\"2015-05-28\",\"2015-05-29\",\"2015-07-01\",\"2015-07-07\",\"2015-07-08\",\"2015-07-10\",\"2015-07-14\",\"2015-07-15\",\"2015-07-28\",\"2015-07-30\",\"2015-08-12\",\"2015-08-24\",\"2015-08-26\",\"2015-08-27\",\"2015-09-08\",\"2015-09-09\",\"2015-09-10\",\"2015-09-15\",\"2015-09-16\",\"2015-09-21\",\"2015-09-29\",\"2015-10-06\",\"2015-10-13\",\"2015-10-16\",\"2015-10-20\",\"2015-10-30\",\"2015-11-06\",\"2015-11-30\",\"2015-12-21\",\"2015-12-29\",\"2015-12-30\",\"2016-01-06\",\"2016-01-14\",\"2016-01-25\",\"2016-01-29\",\"2016-02-05\",\"2016-02-19\",\"2016-02-22\",\"2016-02-23\",\"2016-03-08\",\"2016-03-15\",\"2016-03-18\",\"2016-03-21\",\"2016-03-23\",\"2016-03-31\",\"2016-04-14\",\"2016-04-15\",\"2016-04-18\",\"2016-04-28\",\"2016-05-05\",\"2016-05-13\",\"2016-05-16\",\"2016-05-18\",\"2016-05-19\",\"2016-05-24\",\"2016-05-27\",\"2016-05-31\",\"2016-06-03\",\"2016-06-13\",\"2016-06-15\",\"2016-06-20\",\"2016-06-27\",\"2016-07-01\",\"2016-07-22\",\"2016-08-01\",\"2016-08-02\",\"2016-08-12\",\"2016-08-16\",\"2016-09-01\",\"2016-09-15\",\"2016-09-23\",\"2016-10-07\",\"2016-10-24\",\"2016-10-27\",\"2016-10-28\",\"2016-11-01\",\"2016-11-18\",\"2016-11-22\",\"2016-11-30\",\"2016-12-08\",\"2016-12-22\",\"2016-12-27\",\"2017-01-03\",\"2017-01-05\",\"2017-01-06\",\"2017-01-31\",\"2017-02-15\",\"2017-03-10\",\"2017-03-14\",\"2017-03-17\",\"2017-03-20\",\"2017-03-21\",\"2017-03-31\",\"2017-04-05\",\"2017-04-19\",\"2017-04-24\",\"2017-05-02\",\"2017-05-15\",\"2017-05-17\",\"2017-06-01\",\"2017-06-08\",\"2017-06-09\",\"2017-06-13\",\"2017-06-22\",\"2017-06-26\",\"2017-06-29\",\"2017-07-24\",\"2017-07-31\",\"2017-08-09\",\"2017-08-11\",\"2017-08-22\",\"2017-08-23\",\"2017-08-25\",\"2017-09-12\",\"2017-09-13\",\"2017-09-18\",\"2017-09-20\",\"2017-10-04\",\"2017-10-06\",\"2017-11-24\",\"2017-12-04\",\"2017-12-06\",\"2017-12-12\",\"2017-12-18\",\"2017-12-19\",\"2017-12-20\",\"2017-12-29\",\"2018-01-10\",\"2018-01-11\",\"2018-01-19\",\"2018-01-24\",\"2018-01-25\",\"2018-01-30\",\"2018-02-01\",\"2018-02-05\",\"2018-02-07\",\"2018-02-22\",\"2018-02-28\",\"2018-03-01\",\"2018-03-02\",\"2018-03-12\",\"2018-03-13\",\"2018-03-16\",\"2018-03-20\",\"2018-04-04\",\"2018-04-05\",\"2018-04-12\",\"2018-04-20\",\"2018-05-04\",\"2018-05-14\",\"2018-05-15\",\"2018-05-25\",\"2018-05-30\",\"2018-06-13\",\"2018-06-19\",\"2018-06-25\",\"2018-07-03\",\"2018-07-19\",\"2018-07-20\",\"2018-07-30\",\"2018-08-27\",\"2018-08-29\",\"2018-09-04\",\"2018-09-06\",\"2018-09-11\",\"2018-09-26\",\"2018-09-27\",\"2018-10-12\",\"2018-10-16\",\"2018-10-25\",\"2018-10-31\",\"2018-11-08\",\"2018-11-09\",\"2018-11-12\",\"2018-11-15\",\"2018-11-16\",\"2018-11-19\",\"2018-11-21\",\"2018-11-28\",\"2018-12-13\",\"2018-12-20\",\"2019-01-25\",\"2019-02-14\",\"2019-03-01\",\"2019-03-05\",\"2019-03-06\",\"2019-03-15\",\"2019-03-18\",\"2019-03-20\",\"2019-03-25\",\"2019-03-27\",\"2019-03-29\",\"2019-04-01\",\"2019-04-02\",\"2019-04-04\",\"2019-04-08\",\"2019-04-12\",\"2019-04-18\",\"2019-04-24\",\"2019-04-29\",\"2019-05-06\",\"2019-05-17\",\"2019-05-22\",\"2019-06-03\",\"2019-06-10\",\"2019-06-14\",\"2019-06-18\",\"2019-06-25\",\"2019-07-02\",\"2019-07-10\",\"2019-07-25\",\"2019-08-07\",\"2019-08-08\",\"2019-08-13\",\"2019-09-06\",\"2019-09-09\",\"2019-09-10\",\"2019-09-11\",\"2019-09-23\",\"2019-09-25\",\"2019-10-10\",\"2019-10-24\",\"2019-10-31\",\"2019-11-01\",\"2019-11-04\",\"2019-11-22\",\"2019-12-03\",\"2019-12-11\",\"2019-12-19\",\"2019-12-24\",\"2019-12-27\",\"2020-01-06\",\"2020-01-09\",\"2020-01-16\",\"2020-01-17\",\"2020-01-31\",\"2020-02-05\",\"2020-02-13\",\"2020-02-19\",\"2020-02-21\",\"2020-03-04\",\"2020-03-06\",\"2020-03-10\",\"2020-03-12\",\"2020-03-25\"],\"y\":[3.8461203575134277,3.996811866760254,4.025284767150879,4.102266311645508,4.199905872344971,4.431863784790039,4.135653972625732,4.22827672958374,4.257628440856934,4.299785614013672,4.126888275146484,4.150957107543945,3.801511526107788,3.657518148422241,3.642390251159668,3.495939254760742,3.5444064140319824,3.564509153366089,3.484126567840576,3.5581843852996826,3.7180302143096924,3.4228897094726562,3.5853726863861084,3.6867308616638184,3.697190523147583,3.682857036590576,3.773829221725464,3.7976365089416504,3.782414197921753,3.626826286315918,3.9081010818481445,3.7087855339050293,3.7088818550109863,3.583829402923584,3.5743801593780518,3.805626630783081,3.8071751594543457,3.584542989730835,3.824707508087158,4.191831111907959,4.231790065765381,4.215312957763672,4.0668134689331055,4.105523586273193,3.8846874237060547,3.7271156311035156,3.469639778137207,3.5968799591064453,3.691796064376831,3.8031578063964844,3.8760454654693604,3.869950771331787,3.6871113777160645,3.665985107421875,3.4495017528533936,3.097984552383423,3.5371925830841064,3.493903636932373,3.465381622314453,3.4425764083862305,3.3115146160125732,3.378356695175171,3.3538970947265625,3.358081579208374,2.937124013900757,3.137556791305542,3.036905288696289,3.1014533042907715,3.0879034996032715,3.0822792053222656,3.0257601737976074,3.134000539779663,3.026031494140625,3.0360589027404785,3.2832937240600586,3.365440845489502,3.5294690132141113,3.7093594074249268,3.7349472045898438,3.869518756866455,3.9928221702575684,4.0045857429504395,4.1959099769592285,4.096285820007324,3.9719762802124023,3.845435380935669,3.9719362258911133,4.04138708114624,4.176617622375488,4.1312255859375,4.145120620727539,4.149628162384033,4.125992298126221,4.08897590637207,4.121457099914551,4.089444637298584,4.130408763885498,3.993389129638672,4.036864757537842,3.7207908630371094,3.588951826095581,4.088321208953857,4.0146307945251465,4.174641132354736,4.2701287269592285,4.234879493713379,4.094682216644287,4.101280689239502,3.891045331954956,3.7385950088500977,3.6867895126342773,3.778149366378784,3.3517861366271973,3.2591681480407715,3.1967878341674805,3.196981906890869,3.2002971172332764,3.2788219451904297,3.264220952987671,3.4298605918884277,3.63620662689209,3.6918134689331055,3.764383316040039,3.7223880290985107,3.790701150894165,3.7160885334014893,3.9179599285125732,3.9285919666290283,3.9550487995147705,3.9440369606018066,3.9503586292266846,4.296719074249268,4.473384380340576,4.276856422424316,4.175932884216309,4.109033107757568,4.221080780029297,4.5596489906311035,4.455844402313232,4.4680705070495605,4.673757553100586,4.956476211547852,5.198675155639648,4.913026809692383,4.819771766662598,4.799726963043213,4.811281681060791,4.780016899108887,4.7325825691223145,5.023855686187744,5.17677116394043,5.124236106872559,5.103579044342041,5.049925327301025,5.066800594329834,5.035959243774414,4.952452659606934,5.034686088562012,5.063235282897949,5.019545555114746,5.19842004776001,5.349094867706299,5.491802215576172,5.532240390777588,5.475796699523926,5.126662731170654,5.2594075202941895,5.313832759857178,5.572273254394531,5.765319347381592,5.687194347381592,5.689039707183838,6.937938213348389,6.449636459350586,6.760826110839844,6.449949264526367,6.352225303649902,6.3749165534973145,6.470546722412109,7.1110758781433105,6.8684186935424805,6.917079448699951,6.756415367126465,6.975560665130615,7.287319183349609,7.319682598114014,7.39922571182251,7.1649250984191895,7.073360919952393,7.044859409332275,6.855605602264404,6.531857490539551,7.236971378326416,7.420638084411621,7.5252909660339355,7.353887557983398,7.79691219329834,7.916374206542969,7.959935188293457,8.028502464294434,7.727433204650879,7.984684944152832,8.141301155090332,8.359892845153809,8.890681266784668,9.265948295593262,10.012438774108887,10.502538681030273,10.370659828186035,10.329571723937988,10.159584045410156,9.904260635375977,10.866909980773926,9.946483612060547,9.373747825622559,10.44320011138916,10.1010103225708,10.17966365814209,10.167562484741211,10.830053329467773,10.859856605529785,10.56039047241211,10.73883056640625,12.890653610229492,13.260842323303223,13.992841720581055,14.1236572265625,14.646843910217285,14.37686538696289,14.637372970581055,14.195306777954102,14.371512413024902,14.070945739746094,13.259928703308105,13.090924263000488,13.4147367477417,13.432762145996094,13.578431129455566,14.10708236694336,14.892496109008789,15.258621215820312,18.546079635620117,17.851016998291016,18.36920928955078,18.20265007019043,20.083419799804688,19.667137145996094,19.71670150756836,20.299827575683594,22.510042190551758,22.080095291137695,23.981719970703125,22.447036743164062,24.114307403564453,21.92733383178711,22.474506378173828,21.362932205200195,20.058528900146484,19.65787696838379,18.917753219604492,19.428442001342773,20.736886978149414,20.75278663635254,23.467906951904297,23.456090927124023,23.89812660217285,23.09368133544922,22.747859954833984,23.245882034301758,23.90997886657715,24.307435989379883,24.77015495300293,24.98987579345703,24.765363693237305,25.380680084228516,25.370824813842773,24.999876022338867,24.88249397277832,26.13327980041504,28.53740882873535,30.067110061645508,30.405675888061523,26.460220336914062,27.51886749267578,27.24884796142578,28.525745391845703,28.651161193847656,28.07435417175293,28.43515968322754,30.196247100830078,30.874679565429688,31.043968200683594,28.96573829650879,26.858943939208984,27.171205520629883,27.310739517211914,26.105613708496094,25.08350944519043,23.087934494018555,23.812541961669922,27.965978622436523,26.387683868408203,25.355911254882812,27.039485931396484,26.64546775817871,25.999025344848633,26.58650016784668,26.81820297241211,23.65566635131836,20.945640563964844,22.113550186157227,22.589017868041992,26.6418514251709,25.528348922729492,25.93838119506836,25.08112335205078,25.69977378845215,27.27145004272461,26.200544357299805,25.816940307617188,25.65387725830078,26.470151901245117,24.540237426757812,23.26348876953125,24.0738582611084,24.900440216064453,25.03663444519043,25.55141830444336,25.99276351928711,25.477502822875977,26.48404312133789,29.335636138916016,29.701204299926758,28.935426712036133,30.12615966796875,30.335840225219727,32.210174560546875,31.48887825012207,32.63163375854492,33.22297668457031,34.598854064941406,33.45853042602539,33.60958480834961,34.24008560180664,36.59538269042969,36.1561279296875,33.53644561767578,32.955299377441406,34.04827117919922,34.279441833496094,36.353519439697266,37.415767669677734,37.69867706298828,37.01277542114258,37.44818878173828,36.9559326171875,39.843040466308594,41.63639450073242,33.51552200317383,35.06194305419922,35.81132125854492,36.47843551635742,37.361995697021484,38.01079177856445,35.92369079589844,30.91830062866211,29.746938705444336,31.176471710205078,31.09661865234375,31.161640167236328,32.51392364501953,36.63248825073242,38.61383056640625,37.38710021972656,37.539703369140625,36.95769119262695,32.702388763427734,34.95124053955078,34.14390563964844,34.62440490722656,36.90865707397461,39.02479553222656,42.107418060302734,43.64026641845703,41.50069808959961,52.10957336425781,48.75719451904297,51.62871551513672,50.16162872314453,51.30768966674805,53.54124450683594,48.46089553833008,45.81332015991211,38.24287033081055,39.449649810791016,35.99565505981445,38.825897216796875,37.481842041015625,41.40003967285156,40.95425796508789,41.61772537231445,35.007293701171875,37.81474304199219,39.617401123046875,40.503936767578125,23.91010856628418,20.91302490234375,27.41124725341797,22.455303192138672,22.101497650146484,19.13405990600586,15.633992195129395,18.12595558166504,18.74289321899414,18.526418685913086,18.282367706298828,18.04722785949707,19.440555572509766,18.010400772094727,18.41165542602539,18.049760818481445,17.179574966430664,17.57428741455078,18.76923179626465,19.75457763671875,20.510393142700195,21.62659454345703,20.690364837646484,21.54057502746582,21.132089614868164,22.267539978027344,22.776988983154297,24.529680252075195,26.533958435058594,26.159278869628906,28.814128875732422,29.87487030029297,28.865705490112305,27.502851486206055,23.809833526611328,24.524444580078125,26.24789047241211,24.707935333251953,27.503616333007812,28.10651206970215,27.648771286010742,29.805294036865234,28.027448654174805,31.380069732666016,33.51313781738281,36.23503112792969,34.44850158691406,32.15674591064453,33.262786865234375,32.338653564453125,35.85240936279297,36.78935623168945,35.910377502441406,34.07304000854492,32.992034912109375,33.08877944946289,32.83226013183594,31.861251831054688,33.743770599365234,33.795005798339844,36.58055877685547,34.92555236816406,39.71199417114258,39.141483306884766,39.213661193847656,39.03653335571289,37.6693000793457,38.976646423339844,34.51292037963867,31.913311004638672,34.47040939331055,35.81785583496094,33.10948181152344,35.279327392578125,34.76069641113281,35.266902923583984,35.46890640258789,35.37809753417969,35.6597785949707,32.459068298339844,32.661598205566406,33.305023193359375,32.53953170776367,32.997711181640625,33.12145233154297,36.12132263183594,36.640525817871094,37.46070861816406,37.37800979614258,37.30823516845703,39.332576751708984,37.751136779785156,38.39659118652344,43.0047607421875,43.44499206542969,41.05886459350586,41.72640609741211,42.3384895324707,42.5277099609375,42.19834518432617,42.94145584106445,44.46516036987305,45.23224639892578,44.758079528808594,47.776153564453125,50.031497955322266,50.07625198364258,48.52332305908203,49.13232421875,48.60240936279297,48.904048919677734,49.520809173583984,49.06697082519531,44.28912353515625,45.218177795410156,46.29077911376953,45.8266487121582,45.969085693359375,46.78148651123047,42.57109832763672,41.4617919921875,41.5240478515625,41.33784866333008,39.61619567871094,38.6614990234375,40.00532150268555,42.93824768066406,41.53550720214844,41.00707244873047,43.611289978027344,42.92104721069336,41.077083587646484,36.800662994384766,36.562042236328125,37.54771423339844,36.74068832397461,33.33567428588867,35.400596618652344,34.69137954711914,36.023902893066406,34.33169174194336,33.799190521240234,33.085140228271484,31.704160690307617,29.711671829223633,29.189990997314453,27.518482208251953,27.45263671875,29.48822593688965,30.152141571044922,32.493309020996094,32.34165954589844,33.32177734375,36.34486389160156,35.26066970825195,34.347442626953125,37.748680114746094,35.91257095336914,33.22389602661133,35.18589401245117,36.95692443847656,36.135276794433594,35.873817443847656,37.24544143676758,38.49079513549805,37.59144973754883,38.73408889770508,40.02364730834961,40.09028244018555,40.02693557739258,40.32794952392578,40.40434265136719,38.80612564086914,36.373046875,37.94709014892578,37.55308151245117,34.57297134399414,35.774757385253906,33.086238861083984,31.669708251953125,31.687793731689453,32.79182815551758,34.350868225097656,30.9182186126709,30.32608413696289,30.677248001098633,30.575916290283203,30.690223693847656,28.532546997070312,28.015920639038086,27.305513381958008,27.613439559936523,25.696794509887695,26.811054229736328,25.73505401611328,28.15829086303711,27.97014617919922,27.176570892333984,26.55134391784668,31.84676742553711,31.221254348754883,30.78566551208496,31.571279525756836,31.211328506469727,29.81280517578125,29.64106559753418,30.311851501464844,29.996763229370117,27.706907272338867,27.620346069335938,27.20271110534668,27.540571212768555,28.053466796875,28.65989112854004,28.04258918762207,29.003759384155273,29.811803817749023,29.510570526123047,29.719736099243164,29.980131149291992,30.326078414916992,31.448436737060547,31.68595314025879,30.142919540405273,30.4525203704834,30.115835189819336,32.904659271240234,32.408477783203125,31.71358871459961,30.464672088623047,30.435649871826172,29.558616638183594,29.158761978149414,29.20322036743164,28.754758834838867,29.04911231994629,27.94068717956543,29.52033233642578,32.647178649902344,32.74785232543945,31.50177001953125,31.370634078979492,31.28251075744629,30.6922607421875,29.201248168945312,30.28125762939453,31.070655822753906,31.700349807739258,31.609928131103516,31.428945541381836,31.360698699951172,31.13826560974121,31.13119888305664,32.06368637084961,31.231531143188477,31.054174423217773,31.025766372680664,31.665477752685547,32.534934997558594,32.472991943359375,32.3418083190918,31.815162658691406,33.042572021484375,32.81227493286133,32.731021881103516,32.48262405395508,33.25315475463867,34.185420989990234,35.21244430541992,35.676753997802734,36.7155647277832,36.77835464477539,35.98664093017578,35.56804275512695,38.195823669433594,39.35879135131836,39.9050178527832,39.955047607421875,40.296905517578125,40.719722747802734,40.79206085205078,39.64215850830078,40.44447708129883,41.4592170715332,45.077301025390625,45.56254959106445,45.16295623779297,45.78453063964844,43.992733001708984,45.07234573364258,45.61156463623047,43.491127014160156,40.96346664428711,41.705623626708984,41.192901611328125,41.599239349365234,42.32648849487305,42.16814041137695,41.17111587524414,39.54670333862305,38.726417541503906,36.74443817138672,35.71390914916992,32.30576705932617,34.73857879638672,34.608577728271484,34.68205642700195,33.505821228027344,34.508567810058594,35.93204879760742,34.335689544677734,28.638568878173828,27.303619384765625,30.199682235717773,27.85192108154297,27.857601165771484,26.652271270751953,29.644149780273438,29.20762825012207,29.178295135498047,29.400243759155273,31.148189544677734,30.14382553100586,30.88357162475586,28.61861801147461,28.643644332885742,28.989892959594727,29.52570343017578,30.234851837158203,30.663219451904297,30.725481033325195,31.239646911621094,33.514930725097656,32.785621643066406,31.287065505981445,31.902873992919922,31.472328186035156,31.31907844543457,30.379783630371094,30.65582275390625,30.781152725219727,26.51590919494629,26.31941032409668,25.860410690307617,25.970726013183594,26.1594295501709,25.50522804260254,23.44501495361328,24.26066780090332,24.67062759399414,19.65635108947754,19.355571746826172,21.2951602935791,20.99475860595703,20.51299476623535,20.784290313720703,19.85736656188965,21.165651321411133,20.577632904052734,19.53205680847168,22.679033279418945,23.408403396606445,23.99812126159668,23.939796447753906,23.208234786987305,25.280977249145508,24.15766143798828,20.59786605834961,22.547657012939453,21.800254821777344,20.813634872436523,17.907821655273438,17.47504234313965,21.284900665283203,21.740060806274414,20.382068634033203,21.014432907104492,19.9912052154541,24.968442916870117,26.44743537902832,27.45821189880371,27.147645950317383,26.307477951049805,26.981510162353516,29.065902709960938,28.484188079833984,29.273353576660156,30.15687370300293,27.802278518676758,28.52432632446289,29.21221160888672,29.08490753173828,28.471847534179688,28.924381256103516,29.71804428100586,29.69463348388672,29.402441024780273,28.613018035888672,28.643827438354492,29.971885681152344,28.757537841796875,30.827749252319336,31.5257625579834,29.04067611694336,29.57173728942871,31.98012351989746,32.25178527832031,31.07775115966797,29.111469268798828,29.590675354003906,31.827503204345703,33.03711700439453,32.4383659362793,32.30793380737305,31.561559677124023,31.81159782409668,32.65412139892578,33.716285705566406,33.04705810546875,32.34642791748047,31.911821365356445,32.43366241455078,32.72407150268555,32.52668762207031,30.1204833984375,30.364410400390625,32.19658660888672,31.167802810668945,32.63665771484375,32.16761779785156,31.71051788330078,32.69633865356445,33.117916107177734,32.346656799316406,32.653533935546875,31.5769100189209,31.342018127441406,30.19347381591797,29.078025817871094,28.57669448852539,29.19643211364746,29.60185432434082,28.38623046875,28.271343231201172,29.21015739440918,29.757545471191406,30.53159523010254,32.003761291503906,31.111392974853516,30.303621292114258,30.79299545288086,30.879314422607422,32.053619384765625,32.93583297729492,32.69761657714844,33.53374481201172,33.48838424682617,32.68623733520508,34.59008026123047,34.794132232666016,34.453834533691406,34.35753631591797,33.57965087890625,33.689491271972656,34.10966873168945,35.65525817871094,36.4180908203125,36.62289047241211,36.01179504394531,36.11397933959961,35.864952087402344,34.46620178222656,34.492740631103516,32.0352668762207,30.627853393554688,31.451505661010742,31.442420959472656,31.011953353881836,30.802106857299805,30.040767669677734,29.888084411621094,30.295621871948242,29.963903427124023,32.40530014038086,33.69503402709961,34.4146614074707,35.18992233276367,35.42650604248047,36.62689971923828,36.344173431396484,34.271759033203125,35.06174850463867,32.90800476074219,31.428781509399414,32.81223678588867,35.845481872558594,35.04718780517578,35.11896514892578,36.373558044433594,35.549835205078125,35.493553161621094,33.266746520996094,32.68934631347656,31.828502655029297,32.87181854248047,32.96860885620117,28.925466537475586,29.26822853088379,27.90623664855957,27.312639236450195,28.952686309814453,28.124862670898438,28.035018920898438,27.039098739624023,27.038190841674805,27.193159103393555,26.80748748779297,24.2804012298584,26.3961181640625,24.010066986083984,26.3162784576416,26.60824966430664,28.513586044311523,27.232275009155273,26.615983963012695,27.673189163208008,27.93941879272461,28.344940185546875,27.009565353393555,27.103233337402344,27.450239181518555,27.912418365478516,27.74628448486328,27.647438049316406,29.173524856567383,29.761444091796875,31.25901985168457,30.49176025390625,30.145601272583008,27.926511764526367,27.227001190185547,26.801860809326172,26.5977840423584,26.764507293701172,26.454153060913086,27.15532684326172,27.518508911132812,26.512100219726562,27.549480438232422,24.964672088623047,23.644203186035156,24.395280838012695,24.043506622314453,23.804706573486328,24.662017822265625,25.651277542114258,25.412290573120117,27.53785514831543,26.892013549804688,24.783042907714844,25.556921005249023,25.158437728881836,25.82653045654297,26.5330867767334,27.92209815979004,27.3278865814209,29.485910415649414,31.567176818847656,31.7573184967041,31.99969482421875,32.30418395996094,32.01607131958008,31.658905029296875,31.658018112182617,28.12112808227539,29.192493438720703,29.288103103637695,30.42255973815918,30.025407791137695,24.704626083374023,22.566791534423828,15.934489250183105,12.601682662963867,10.097646713256836],\"type\":\"scatter\"}],                        {\"template\":{\"data\":{\"histogram2dcontour\":[{\"type\":\"histogram2dcontour\",\"colorbar\":{\"outlinewidth\":0,\"ticks\":\"\"},\"colorscale\":[[0.0,\"#0d0887\"],[0.1111111111111111,\"#46039f\"],[0.2222222222222222,\"#7201a8\"],[0.3333333333333333,\"#9c179e\"],[0.4444444444444444,\"#bd3786\"],[0.5555555555555556,\"#d8576b\"],[0.6666666666666666,\"#ed7953\"],[0.7777777777777778,\"#fb9f3a\"],[0.8888888888888888,\"#fdca26\"],[1.0,\"#f0f921\"]]}],\"choropleth\":[{\"type\":\"choropleth\",\"colorbar\":{\"outlinewidth\":0,\"ticks\":\"\"}}],\"histogram2d\":[{\"type\":\"histogram2d\",\"colorbar\":{\"outlinewidth\":0,\"ticks\":\"\"},\"colorscale\":[[0.0,\"#0d0887\"],[0.1111111111111111,\"#46039f\"],[0.2222222222222222,\"#7201a8\"],[0.3333333333333333,\"#9c179e\"],[0.4444444444444444,\"#bd3786\"],[0.5555555555555556,\"#d8576b\"],[0.6666666666666666,\"#ed7953\"],[0.7777777777777778,\"#fb9f3a\"],[0.8888888888888888,\"#fdca26\"],[1.0,\"#f0f921\"]]}],\"heatmap\":[{\"type\":\"heatmap\",\"colorbar\":{\"outlinewidth\":0,\"ticks\":\"\"},\"colorscale\":[[0.0,\"#0d0887\"],[0.1111111111111111,\"#46039f\"],[0.2222222222222222,\"#7201a8\"],[0.3333333333333333,\"#9c179e\"],[0.4444444444444444,\"#bd3786\"],[0.5555555555555556,\"#d8576b\"],[0.6666666666666666,\"#ed7953\"],[0.7777777777777778,\"#fb9f3a\"],[0.8888888888888888,\"#fdca26\"],[1.0,\"#f0f921\"]]}],\"heatmapgl\":[{\"type\":\"heatmapgl\",\"colorbar\":{\"outlinewidth\":0,\"ticks\":\"\"},\"colorscale\":[[0.0,\"#0d0887\"],[0.1111111111111111,\"#46039f\"],[0.2222222222222222,\"#7201a8\"],[0.3333333333333333,\"#9c179e\"],[0.4444444444444444,\"#bd3786\"],[0.5555555555555556,\"#d8576b\"],[0.6666666666666666,\"#ed7953\"],[0.7777777777777778,\"#fb9f3a\"],[0.8888888888888888,\"#fdca26\"],[1.0,\"#f0f921\"]]}],\"contourcarpet\":[{\"type\":\"contourcarpet\",\"colorbar\":{\"outlinewidth\":0,\"ticks\":\"\"}}],\"contour\":[{\"type\":\"contour\",\"colorbar\":{\"outlinewidth\":0,\"ticks\":\"\"},\"colorscale\":[[0.0,\"#0d0887\"],[0.1111111111111111,\"#46039f\"],[0.2222222222222222,\"#7201a8\"],[0.3333333333333333,\"#9c179e\"],[0.4444444444444444,\"#bd3786\"],[0.5555555555555556,\"#d8576b\"],[0.6666666666666666,\"#ed7953\"],[0.7777777777777778,\"#fb9f3a\"],[0.8888888888888888,\"#fdca26\"],[1.0,\"#f0f921\"]]}],\"surface\":[{\"type\":\"surface\",\"colorbar\":{\"outlinewidth\":0,\"ticks\":\"\"},\"colorscale\":[[0.0,\"#0d0887\"],[0.1111111111111111,\"#46039f\"],[0.2222222222222222,\"#7201a8\"],[0.3333333333333333,\"#9c179e\"],[0.4444444444444444,\"#bd3786\"],[0.5555555555555556,\"#d8576b\"],[0.6666666666666666,\"#ed7953\"],[0.7777777777777778,\"#fb9f3a\"],[0.8888888888888888,\"#fdca26\"],[1.0,\"#f0f921\"]]}],\"mesh3d\":[{\"type\":\"mesh3d\",\"colorbar\":{\"outlinewidth\":0,\"ticks\":\"\"}}],\"scatter\":[{\"fillpattern\":{\"fillmode\":\"overlay\",\"size\":10,\"solidity\":0.2},\"type\":\"scatter\"}],\"parcoords\":[{\"type\":\"parcoords\",\"line\":{\"colorbar\":{\"outlinewidth\":0,\"ticks\":\"\"}}}],\"scatterpolargl\":[{\"type\":\"scatterpolargl\",\"marker\":{\"colorbar\":{\"outlinewidth\":0,\"ticks\":\"\"}}}],\"bar\":[{\"error_x\":{\"color\":\"#2a3f5f\"},\"error_y\":{\"color\":\"#2a3f5f\"},\"marker\":{\"line\":{\"color\":\"#E5ECF6\",\"width\":0.5},\"pattern\":{\"fillmode\":\"overlay\",\"size\":10,\"solidity\":0.2}},\"type\":\"bar\"}],\"scattergeo\":[{\"type\":\"scattergeo\",\"marker\":{\"colorbar\":{\"outlinewidth\":0,\"ticks\":\"\"}}}],\"scatterpolar\":[{\"type\":\"scatterpolar\",\"marker\":{\"colorbar\":{\"outlinewidth\":0,\"ticks\":\"\"}}}],\"histogram\":[{\"marker\":{\"pattern\":{\"fillmode\":\"overlay\",\"size\":10,\"solidity\":0.2}},\"type\":\"histogram\"}],\"scattergl\":[{\"type\":\"scattergl\",\"marker\":{\"colorbar\":{\"outlinewidth\":0,\"ticks\":\"\"}}}],\"scatter3d\":[{\"type\":\"scatter3d\",\"line\":{\"colorbar\":{\"outlinewidth\":0,\"ticks\":\"\"}},\"marker\":{\"colorbar\":{\"outlinewidth\":0,\"ticks\":\"\"}}}],\"scattermapbox\":[{\"type\":\"scattermapbox\",\"marker\":{\"colorbar\":{\"outlinewidth\":0,\"ticks\":\"\"}}}],\"scatterternary\":[{\"type\":\"scatterternary\",\"marker\":{\"colorbar\":{\"outlinewidth\":0,\"ticks\":\"\"}}}],\"scattercarpet\":[{\"type\":\"scattercarpet\",\"marker\":{\"colorbar\":{\"outlinewidth\":0,\"ticks\":\"\"}}}],\"carpet\":[{\"aaxis\":{\"endlinecolor\":\"#2a3f5f\",\"gridcolor\":\"white\",\"linecolor\":\"white\",\"minorgridcolor\":\"white\",\"startlinecolor\":\"#2a3f5f\"},\"baxis\":{\"endlinecolor\":\"#2a3f5f\",\"gridcolor\":\"white\",\"linecolor\":\"white\",\"minorgridcolor\":\"white\",\"startlinecolor\":\"#2a3f5f\"},\"type\":\"carpet\"}],\"table\":[{\"cells\":{\"fill\":{\"color\":\"#EBF0F8\"},\"line\":{\"color\":\"white\"}},\"header\":{\"fill\":{\"color\":\"#C8D4E3\"},\"line\":{\"color\":\"white\"}},\"type\":\"table\"}],\"barpolar\":[{\"marker\":{\"line\":{\"color\":\"#E5ECF6\",\"width\":0.5},\"pattern\":{\"fillmode\":\"overlay\",\"size\":10,\"solidity\":0.2}},\"type\":\"barpolar\"}],\"pie\":[{\"automargin\":true,\"type\":\"pie\"}]},\"layout\":{\"autotypenumbers\":\"strict\",\"colorway\":[\"#636efa\",\"#EF553B\",\"#00cc96\",\"#ab63fa\",\"#FFA15A\",\"#19d3f3\",\"#FF6692\",\"#B6E880\",\"#FF97FF\",\"#FECB52\"],\"font\":{\"color\":\"#2a3f5f\"},\"hovermode\":\"closest\",\"hoverlabel\":{\"align\":\"left\"},\"paper_bgcolor\":\"white\",\"plot_bgcolor\":\"#E5ECF6\",\"polar\":{\"bgcolor\":\"#E5ECF6\",\"angularaxis\":{\"gridcolor\":\"white\",\"linecolor\":\"white\",\"ticks\":\"\"},\"radialaxis\":{\"gridcolor\":\"white\",\"linecolor\":\"white\",\"ticks\":\"\"}},\"ternary\":{\"bgcolor\":\"#E5ECF6\",\"aaxis\":{\"gridcolor\":\"white\",\"linecolor\":\"white\",\"ticks\":\"\"},\"baxis\":{\"gridcolor\":\"white\",\"linecolor\":\"white\",\"ticks\":\"\"},\"caxis\":{\"gridcolor\":\"white\",\"linecolor\":\"white\",\"ticks\":\"\"}},\"coloraxis\":{\"colorbar\":{\"outlinewidth\":0,\"ticks\":\"\"}},\"colorscale\":{\"sequential\":[[0.0,\"#0d0887\"],[0.1111111111111111,\"#46039f\"],[0.2222222222222222,\"#7201a8\"],[0.3333333333333333,\"#9c179e\"],[0.4444444444444444,\"#bd3786\"],[0.5555555555555556,\"#d8576b\"],[0.6666666666666666,\"#ed7953\"],[0.7777777777777778,\"#fb9f3a\"],[0.8888888888888888,\"#fdca26\"],[1.0,\"#f0f921\"]],\"sequentialminus\":[[0.0,\"#0d0887\"],[0.1111111111111111,\"#46039f\"],[0.2222222222222222,\"#7201a8\"],[0.3333333333333333,\"#9c179e\"],[0.4444444444444444,\"#bd3786\"],[0.5555555555555556,\"#d8576b\"],[0.6666666666666666,\"#ed7953\"],[0.7777777777777778,\"#fb9f3a\"],[0.8888888888888888,\"#fdca26\"],[1.0,\"#f0f921\"]],\"diverging\":[[0,\"#8e0152\"],[0.1,\"#c51b7d\"],[0.2,\"#de77ae\"],[0.3,\"#f1b6da\"],[0.4,\"#fde0ef\"],[0.5,\"#f7f7f7\"],[0.6,\"#e6f5d0\"],[0.7,\"#b8e186\"],[0.8,\"#7fbc41\"],[0.9,\"#4d9221\"],[1,\"#276419\"]]},\"xaxis\":{\"gridcolor\":\"white\",\"linecolor\":\"white\",\"ticks\":\"\",\"title\":{\"standoff\":15},\"zerolinecolor\":\"white\",\"automargin\":true,\"zerolinewidth\":2},\"yaxis\":{\"gridcolor\":\"white\",\"linecolor\":\"white\",\"ticks\":\"\",\"title\":{\"standoff\":15},\"zerolinecolor\":\"white\",\"automargin\":true,\"zerolinewidth\":2},\"scene\":{\"xaxis\":{\"backgroundcolor\":\"#E5ECF6\",\"gridcolor\":\"white\",\"linecolor\":\"white\",\"showbackground\":true,\"ticks\":\"\",\"zerolinecolor\":\"white\",\"gridwidth\":2},\"yaxis\":{\"backgroundcolor\":\"#E5ECF6\",\"gridcolor\":\"white\",\"linecolor\":\"white\",\"showbackground\":true,\"ticks\":\"\",\"zerolinecolor\":\"white\",\"gridwidth\":2},\"zaxis\":{\"backgroundcolor\":\"#E5ECF6\",\"gridcolor\":\"white\",\"linecolor\":\"white\",\"showbackground\":true,\"ticks\":\"\",\"zerolinecolor\":\"white\",\"gridwidth\":2}},\"shapedefaults\":{\"line\":{\"color\":\"#2a3f5f\"}},\"annotationdefaults\":{\"arrowcolor\":\"#2a3f5f\",\"arrowhead\":0,\"arrowwidth\":1},\"geo\":{\"bgcolor\":\"white\",\"landcolor\":\"#E5ECF6\",\"subunitcolor\":\"white\",\"showland\":true,\"showlakes\":true,\"lakecolor\":\"white\"},\"title\":{\"x\":0.05},\"mapbox\":{\"style\":\"light\"}}},\"title\":{\"text\":\"Stock Prices: actual \\u002f predicted\"},\"xaxis\":{\"title\":{\"text\":\"Date\"}},\"yaxis\":{\"title\":{\"text\":\"Stock price\"}}},                        {\"responsive\": true}                    ).then(function(){\n",
              "                            \n",
              "var gd = document.getElementById('9a57c477-cfec-481a-a0c9-2b127331f996');\n",
              "var x = new MutationObserver(function (mutations, observer) {{\n",
              "        var display = window.getComputedStyle(gd).display;\n",
              "        if (!display || display === 'none') {{\n",
              "            console.log([gd, 'removed!']);\n",
              "            Plotly.purge(gd);\n",
              "            observer.disconnect();\n",
              "        }}\n",
              "}});\n",
              "\n",
              "// Listen for the removal of the full notebook cells\n",
              "var notebookContainer = gd.closest('#notebook-container');\n",
              "if (notebookContainer) {{\n",
              "    x.observe(notebookContainer, {childList: true});\n",
              "}}\n",
              "\n",
              "// Listen for the clearing of the current output cell\n",
              "var outputEl = gd.closest('.output');\n",
              "if (outputEl) {{\n",
              "    x.observe(outputEl, {childList: true});\n",
              "}}\n",
              "\n",
              "                        })                };                            </script>        </div>\n",
              "</body>\n",
              "</html>"
            ]
          },
          "metadata": {}
        }
      ]
    },
    {
      "cell_type": "markdown",
      "source": [
        "## Linear Regression (вбудована лінійна регресія)"
      ],
      "metadata": {
        "collapsed": false,
        "id": "rcnyYL5iwK4V"
      }
    },
    {
      "cell_type": "markdown",
      "source": [
        "Модель:"
      ],
      "metadata": {
        "id": "2KGs9moQbnfo"
      }
    },
    {
      "cell_type": "code",
      "execution_count": null,
      "outputs": [],
      "source": [
        "model_LR2 = LinearRegression()\n",
        "\n",
        "# перетворимо тренувальні дані в 1-вимірний масив через метод flatten\n",
        "flatten_train_data = []\n",
        "for x_train_data in X_train:\n",
        "    flatten_train_data.append(x_train_data.flatten())"
      ],
      "metadata": {
        "id": "XR05XadmwK4W"
      }
    },
    {
      "cell_type": "markdown",
      "source": [
        "Тренуємо:"
      ],
      "metadata": {
        "id": "a_3K2R_1b9Xg"
      }
    },
    {
      "cell_type": "code",
      "source": [
        "model_LR2.fit(flatten_train_data, y_train)"
      ],
      "metadata": {
        "colab": {
          "base_uri": "https://localhost:8080/",
          "height": 74
        },
        "id": "tsT0U-LEbytf",
        "outputId": "0e97472d-0e5f-4a41-9f7a-9c56312b5aab"
      },
      "execution_count": null,
      "outputs": [
        {
          "output_type": "execute_result",
          "data": {
            "text/plain": [
              "LinearRegression()"
            ],
            "text/html": [
              "<style>#sk-container-id-1 {color: black;background-color: white;}#sk-container-id-1 pre{padding: 0;}#sk-container-id-1 div.sk-toggleable {background-color: white;}#sk-container-id-1 label.sk-toggleable__label {cursor: pointer;display: block;width: 100%;margin-bottom: 0;padding: 0.3em;box-sizing: border-box;text-align: center;}#sk-container-id-1 label.sk-toggleable__label-arrow:before {content: \"▸\";float: left;margin-right: 0.25em;color: #696969;}#sk-container-id-1 label.sk-toggleable__label-arrow:hover:before {color: black;}#sk-container-id-1 div.sk-estimator:hover label.sk-toggleable__label-arrow:before {color: black;}#sk-container-id-1 div.sk-toggleable__content {max-height: 0;max-width: 0;overflow: hidden;text-align: left;background-color: #f0f8ff;}#sk-container-id-1 div.sk-toggleable__content pre {margin: 0.2em;color: black;border-radius: 0.25em;background-color: #f0f8ff;}#sk-container-id-1 input.sk-toggleable__control:checked~div.sk-toggleable__content {max-height: 200px;max-width: 100%;overflow: auto;}#sk-container-id-1 input.sk-toggleable__control:checked~label.sk-toggleable__label-arrow:before {content: \"▾\";}#sk-container-id-1 div.sk-estimator input.sk-toggleable__control:checked~label.sk-toggleable__label {background-color: #d4ebff;}#sk-container-id-1 div.sk-label input.sk-toggleable__control:checked~label.sk-toggleable__label {background-color: #d4ebff;}#sk-container-id-1 input.sk-hidden--visually {border: 0;clip: rect(1px 1px 1px 1px);clip: rect(1px, 1px, 1px, 1px);height: 1px;margin: -1px;overflow: hidden;padding: 0;position: absolute;width: 1px;}#sk-container-id-1 div.sk-estimator {font-family: monospace;background-color: #f0f8ff;border: 1px dotted black;border-radius: 0.25em;box-sizing: border-box;margin-bottom: 0.5em;}#sk-container-id-1 div.sk-estimator:hover {background-color: #d4ebff;}#sk-container-id-1 div.sk-parallel-item::after {content: \"\";width: 100%;border-bottom: 1px solid gray;flex-grow: 1;}#sk-container-id-1 div.sk-label:hover label.sk-toggleable__label {background-color: #d4ebff;}#sk-container-id-1 div.sk-serial::before {content: \"\";position: absolute;border-left: 1px solid gray;box-sizing: border-box;top: 0;bottom: 0;left: 50%;z-index: 0;}#sk-container-id-1 div.sk-serial {display: flex;flex-direction: column;align-items: center;background-color: white;padding-right: 0.2em;padding-left: 0.2em;position: relative;}#sk-container-id-1 div.sk-item {position: relative;z-index: 1;}#sk-container-id-1 div.sk-parallel {display: flex;align-items: stretch;justify-content: center;background-color: white;position: relative;}#sk-container-id-1 div.sk-item::before, #sk-container-id-1 div.sk-parallel-item::before {content: \"\";position: absolute;border-left: 1px solid gray;box-sizing: border-box;top: 0;bottom: 0;left: 50%;z-index: -1;}#sk-container-id-1 div.sk-parallel-item {display: flex;flex-direction: column;z-index: 1;position: relative;background-color: white;}#sk-container-id-1 div.sk-parallel-item:first-child::after {align-self: flex-end;width: 50%;}#sk-container-id-1 div.sk-parallel-item:last-child::after {align-self: flex-start;width: 50%;}#sk-container-id-1 div.sk-parallel-item:only-child::after {width: 0;}#sk-container-id-1 div.sk-dashed-wrapped {border: 1px dashed gray;margin: 0 0.4em 0.5em 0.4em;box-sizing: border-box;padding-bottom: 0.4em;background-color: white;}#sk-container-id-1 div.sk-label label {font-family: monospace;font-weight: bold;display: inline-block;line-height: 1.2em;}#sk-container-id-1 div.sk-label-container {text-align: center;}#sk-container-id-1 div.sk-container {/* jupyter's `normalize.less` sets `[hidden] { display: none; }` but bootstrap.min.css set `[hidden] { display: none !important; }` so we also need the `!important` here to be able to override the default hidden behavior on the sphinx rendered scikit-learn.org. See: https://github.com/scikit-learn/scikit-learn/issues/21755 */display: inline-block !important;position: relative;}#sk-container-id-1 div.sk-text-repr-fallback {display: none;}</style><div id=\"sk-container-id-1\" class=\"sk-top-container\"><div class=\"sk-text-repr-fallback\"><pre>LinearRegression()</pre><b>In a Jupyter environment, please rerun this cell to show the HTML representation or trust the notebook. <br />On GitHub, the HTML representation is unable to render, please try loading this page with nbviewer.org.</b></div><div class=\"sk-container\" hidden><div class=\"sk-item\"><div class=\"sk-estimator sk-toggleable\"><input class=\"sk-toggleable__control sk-hidden--visually\" id=\"sk-estimator-id-1\" type=\"checkbox\" checked><label for=\"sk-estimator-id-1\" class=\"sk-toggleable__label sk-toggleable__label-arrow\">LinearRegression</label><div class=\"sk-toggleable__content\"><pre>LinearRegression()</pre></div></div></div></div></div>"
            ]
          },
          "metadata": {},
          "execution_count": 80
        }
      ]
    },
    {
      "cell_type": "markdown",
      "source": [
        "Передбачення:"
      ],
      "metadata": {
        "id": "5IMNb6g-cNXI"
      }
    },
    {
      "cell_type": "code",
      "execution_count": null,
      "outputs": [],
      "source": [
        "# передбачення теж на основі перетворених в 1-вимірний масив даних X_test\n",
        "y_preds = []\n",
        "for x_test_data in X_test:\n",
        "    y_preds.append(model_LR2.predict([x_test_data.flatten()]))"
      ],
      "metadata": {
        "id": "oigRrLujwK4W"
      }
    },
    {
      "cell_type": "markdown",
      "source": [
        "Оцінка:"
      ],
      "metadata": {
        "id": "ese_SOxocSKk"
      }
    },
    {
      "cell_type": "code",
      "source": [
        "print(\"Mean Squared Error, MSE:\", mean_squared_error(y_test, y_preds))\n",
        "print(\"Mean Absolute Error, MAE:\", mean_absolute_error(y_test, y_preds))\n",
        "print(\"R^2 score:\", r2_score(y_test, y_preds))"
      ],
      "metadata": {
        "colab": {
          "base_uri": "https://localhost:8080/"
        },
        "id": "d_VfaxpmcQxA",
        "outputId": "6d3050a2-4e81-4020-837d-2792ff63f5da"
      },
      "execution_count": null,
      "outputs": [
        {
          "output_type": "stream",
          "name": "stdout",
          "text": [
            "Mean Squared Error, MSE: 0.5028052652852383\n",
            "Mean Absolute Error, MAE: 0.4677287562536077\n",
            "R^2 score: 0.9968119199317811\n"
          ]
        }
      ]
    },
    {
      "cell_type": "markdown",
      "source": [
        "Графік:"
      ],
      "metadata": {
        "id": "vxySNpbQdRbt"
      }
    },
    {
      "cell_type": "code",
      "execution_count": null,
      "outputs": [
        {
          "output_type": "stream",
          "name": "stdout",
          "text": [
            "        Actual  Predicted        Date\n",
            "972   3.859375   3.839580  2000-08-14\n",
            "224   3.945312   3.986114  2000-08-22\n",
            "722   4.078125   4.018417  2000-09-05\n",
            "260   4.187500   4.098992  2000-09-06\n",
            "877   4.218750   4.194945  2000-09-11\n",
            "..         ...        ...         ...\n",
            "748  24.250000  24.639929  2020-03-04\n",
            "298  15.730000  22.567965  2020-03-06\n",
            "631  15.080000  15.805296  2020-03-10\n",
            "849  14.380000  11.942930  2020-03-12\n",
            "46   10.410000  10.267389  2020-03-25\n",
            "\n",
            "[989 rows x 3 columns]\n"
          ]
        },
        {
          "output_type": "display_data",
          "data": {
            "text/html": [
              "<html>\n",
              "<head><meta charset=\"utf-8\" /></head>\n",
              "<body>\n",
              "    <div>            <script src=\"https://cdnjs.cloudflare.com/ajax/libs/mathjax/2.7.5/MathJax.js?config=TeX-AMS-MML_SVG\"></script><script type=\"text/javascript\">if (window.MathJax && window.MathJax.Hub && window.MathJax.Hub.Config) {window.MathJax.Hub.Config({SVG: {font: \"STIX-Web\"}});}</script>                <script type=\"text/javascript\">window.PlotlyConfig = {MathJaxConfig: 'local'};</script>\n",
              "        <script charset=\"utf-8\" src=\"https://cdn.plot.ly/plotly-2.24.1.min.js\"></script>                <div id=\"a24feb47-9d7e-4096-87fa-d9d9c710409a\" class=\"plotly-graph-div\" style=\"height:525px; width:100%;\"></div>            <script type=\"text/javascript\">                                    window.PLOTLYENV=window.PLOTLYENV || {};                                    if (document.getElementById(\"a24feb47-9d7e-4096-87fa-d9d9c710409a\")) {                    Plotly.newPlot(                        \"a24feb47-9d7e-4096-87fa-d9d9c710409a\",                        [{\"mode\":\"lines\",\"name\":\"Actual\",\"x\":[\"2000-08-14\",\"2000-08-22\",\"2000-09-05\",\"2000-09-06\",\"2000-09-11\",\"2000-09-13\",\"2000-09-26\",\"2000-09-28\",\"2000-10-04\",\"2000-10-05\",\"2000-10-11\",\"2000-10-12\",\"2000-10-26\",\"2000-11-08\",\"2000-11-10\",\"2000-11-14\",\"2000-11-15\",\"2000-11-17\",\"2000-11-28\",\"2000-11-29\",\"2000-12-08\",\"2001-01-04\",\"2001-01-18\",\"2001-01-29\",\"2001-01-30\",\"2001-01-31\",\"2001-02-02\",\"2001-02-05\",\"2001-02-12\",\"2001-02-28\",\"2001-03-15\",\"2001-03-26\",\"2001-03-28\",\"2001-04-03\",\"2001-04-09\",\"2001-04-11\",\"2001-04-24\",\"2001-05-03\",\"2001-05-14\",\"2001-05-23\",\"2001-05-30\",\"2001-06-05\",\"2001-06-11\",\"2001-06-13\",\"2001-06-21\",\"2001-07-02\",\"2001-07-20\",\"2001-07-23\",\"2001-07-27\",\"2001-08-03\",\"2001-08-06\",\"2001-08-16\",\"2001-08-22\",\"2001-09-10\",\"2001-09-19\",\"2001-10-01\",\"2001-10-10\",\"2001-10-12\",\"2001-10-16\",\"2001-10-17\",\"2001-10-25\",\"2001-10-31\",\"2001-11-09\",\"2001-11-12\",\"2001-11-16\",\"2001-11-29\",\"2001-12-21\",\"2001-12-26\",\"2001-12-27\",\"2001-12-31\",\"2002-01-04\",\"2002-01-15\",\"2002-01-18\",\"2002-01-22\",\"2002-01-28\",\"2002-02-01\",\"2002-02-19\",\"2002-02-26\",\"2002-02-27\",\"2002-03-11\",\"2002-03-19\",\"2002-03-26\",\"2002-04-02\",\"2002-04-03\",\"2002-04-04\",\"2002-04-15\",\"2002-04-16\",\"2002-04-18\",\"2002-04-25\",\"2002-04-29\",\"2002-04-30\",\"2002-05-02\",\"2002-05-13\",\"2002-05-14\",\"2002-05-23\",\"2002-05-24\",\"2002-05-28\",\"2002-06-17\",\"2002-07-19\",\"2002-07-22\",\"2002-07-23\",\"2002-08-02\",\"2002-08-05\",\"2002-08-06\",\"2002-08-13\",\"2002-08-26\",\"2002-09-04\",\"2002-09-06\",\"2002-09-18\",\"2002-10-07\",\"2002-10-08\",\"2002-10-15\",\"2002-10-29\",\"2002-11-07\",\"2002-11-11\",\"2002-11-13\",\"2002-11-19\",\"2002-11-20\",\"2002-11-25\",\"2002-12-04\",\"2002-12-12\",\"2002-12-17\",\"2002-12-26\",\"2002-12-27\",\"2003-01-02\",\"2003-01-14\",\"2003-01-22\",\"2003-01-29\",\"2003-02-06\",\"2003-02-11\",\"2003-02-13\",\"2003-02-27\",\"2003-03-07\",\"2003-03-13\",\"2003-03-20\",\"2003-03-25\",\"2003-04-28\",\"2003-05-06\",\"2003-05-08\",\"2003-05-12\",\"2003-05-19\",\"2003-06-02\",\"2003-06-10\",\"2003-06-27\",\"2003-07-10\",\"2003-07-15\",\"2003-07-21\",\"2003-07-29\",\"2003-08-04\",\"2003-08-08\",\"2003-08-11\",\"2003-08-15\",\"2003-08-18\",\"2003-08-19\",\"2003-08-22\",\"2003-08-25\",\"2003-08-26\",\"2003-09-12\",\"2003-09-25\",\"2003-09-26\",\"2003-10-01\",\"2003-10-09\",\"2003-10-13\",\"2003-10-17\",\"2003-10-24\",\"2003-11-04\",\"2003-11-12\",\"2003-11-17\",\"2003-11-20\",\"2003-12-05\",\"2003-12-15\",\"2003-12-16\",\"2004-01-05\",\"2004-01-07\",\"2004-01-20\",\"2004-02-10\",\"2004-02-13\",\"2004-02-18\",\"2004-02-25\",\"2004-03-05\",\"2004-03-10\",\"2004-03-23\",\"2004-03-24\",\"2004-03-31\",\"2004-04-05\",\"2004-04-08\",\"2004-04-13\",\"2004-04-14\",\"2004-05-03\",\"2004-05-07\",\"2004-05-26\",\"2004-06-03\",\"2004-06-18\",\"2004-06-21\",\"2004-06-24\",\"2004-06-28\",\"2004-07-13\",\"2004-07-14\",\"2004-07-23\",\"2004-07-28\",\"2004-08-11\",\"2004-08-23\",\"2004-08-31\",\"2004-09-13\",\"2004-09-16\",\"2004-09-23\",\"2004-10-19\",\"2004-10-27\",\"2004-10-28\",\"2004-11-01\",\"2004-11-10\",\"2004-11-18\",\"2004-11-30\",\"2004-12-06\",\"2004-12-10\",\"2004-12-28\",\"2005-01-06\",\"2005-01-10\",\"2005-01-11\",\"2005-01-13\",\"2005-01-14\",\"2005-01-20\",\"2005-01-21\",\"2005-02-11\",\"2005-02-15\",\"2005-02-24\",\"2005-03-02\",\"2005-03-03\",\"2005-03-15\",\"2005-03-21\",\"2005-03-31\",\"2005-04-01\",\"2005-04-05\",\"2005-04-13\",\"2005-04-19\",\"2005-04-22\",\"2005-04-26\",\"2005-05-05\",\"2005-05-06\",\"2005-06-02\",\"2005-06-07\",\"2005-06-17\",\"2005-06-22\",\"2005-06-24\",\"2005-06-29\",\"2005-07-19\",\"2005-07-21\",\"2005-07-26\",\"2005-07-28\",\"2005-08-02\",\"2005-08-03\",\"2005-08-09\",\"2005-08-22\",\"2005-09-09\",\"2005-09-23\",\"2005-09-27\",\"2005-10-04\",\"2005-10-12\",\"2005-10-17\",\"2005-10-18\",\"2005-10-24\",\"2005-10-25\",\"2005-10-26\",\"2005-11-04\",\"2005-11-08\",\"2005-11-09\",\"2005-11-11\",\"2005-11-15\",\"2005-11-17\",\"2005-12-02\",\"2005-12-05\",\"2005-12-07\",\"2005-12-08\",\"2005-12-09\",\"2005-12-12\",\"2005-12-20\",\"2005-12-22\",\"2005-12-23\",\"2006-01-10\",\"2006-01-20\",\"2006-01-23\",\"2006-02-07\",\"2006-02-13\",\"2006-02-22\",\"2006-02-23\",\"2006-03-01\",\"2006-03-16\",\"2006-03-17\",\"2006-03-30\",\"2006-04-11\",\"2006-04-20\",\"2006-05-02\",\"2006-05-05\",\"2006-05-31\",\"2006-06-01\",\"2006-06-02\",\"2006-06-05\",\"2006-06-07\",\"2006-06-13\",\"2006-06-22\",\"2006-07-05\",\"2006-07-14\",\"2006-07-17\",\"2006-08-02\",\"2006-08-03\",\"2006-08-04\",\"2006-08-18\",\"2006-08-24\",\"2006-09-28\",\"2006-10-03\",\"2006-10-06\",\"2006-10-12\",\"2006-10-25\",\"2006-11-08\",\"2006-11-15\",\"2006-11-17\",\"2006-11-27\",\"2006-12-01\",\"2006-12-15\",\"2006-12-19\",\"2006-12-20\",\"2006-12-28\",\"2007-01-03\",\"2007-01-12\",\"2007-01-25\",\"2007-01-30\",\"2007-02-01\",\"2007-03-08\",\"2007-03-09\",\"2007-03-15\",\"2007-03-22\",\"2007-04-12\",\"2007-04-17\",\"2007-04-19\",\"2007-04-27\",\"2007-05-02\",\"2007-05-08\",\"2007-05-14\",\"2007-05-25\",\"2007-05-31\",\"2007-06-18\",\"2007-06-20\",\"2007-07-03\",\"2007-07-10\",\"2007-07-20\",\"2007-07-23\",\"2007-08-03\",\"2007-08-06\",\"2007-08-31\",\"2007-09-07\",\"2007-09-12\",\"2007-09-13\",\"2007-09-14\",\"2007-09-19\",\"2007-09-27\",\"2007-10-03\",\"2007-10-18\",\"2007-11-08\",\"2007-12-07\",\"2007-12-20\",\"2007-12-26\",\"2007-12-31\",\"2008-01-02\",\"2008-01-03\",\"2008-01-14\",\"2008-01-22\",\"2008-01-23\",\"2008-01-28\",\"2008-02-08\",\"2008-02-11\",\"2008-02-14\",\"2008-02-26\",\"2008-02-28\",\"2008-02-29\",\"2008-03-03\",\"2008-03-11\",\"2008-03-24\",\"2008-03-27\",\"2008-04-01\",\"2008-04-02\",\"2008-04-08\",\"2008-04-10\",\"2008-04-18\",\"2008-04-21\",\"2008-05-01\",\"2008-05-19\",\"2008-06-02\",\"2008-06-09\",\"2008-06-10\",\"2008-06-11\",\"2008-06-18\",\"2008-06-26\",\"2008-07-15\",\"2008-07-28\",\"2008-08-01\",\"2008-08-05\",\"2008-08-14\",\"2008-08-18\",\"2008-08-20\",\"2008-08-25\",\"2008-08-26\",\"2008-09-09\",\"2008-09-18\",\"2008-09-24\",\"2008-09-25\",\"2008-10-13\",\"2008-10-17\",\"2008-11-04\",\"2008-11-06\",\"2008-11-11\",\"2008-12-02\",\"2008-12-05\",\"2008-12-11\",\"2008-12-15\",\"2008-12-18\",\"2008-12-19\",\"2008-12-23\",\"2009-01-13\",\"2009-01-23\",\"2009-01-26\",\"2009-02-10\",\"2009-02-13\",\"2009-03-11\",\"2009-03-16\",\"2009-03-18\",\"2009-03-19\",\"2009-03-23\",\"2009-03-24\",\"2009-04-06\",\"2009-04-08\",\"2009-04-09\",\"2009-04-15\",\"2009-04-24\",\"2009-05-06\",\"2009-05-18\",\"2009-06-09\",\"2009-06-11\",\"2009-06-12\",\"2009-06-15\",\"2009-06-22\",\"2009-06-24\",\"2009-06-30\",\"2009-07-13\",\"2009-07-16\",\"2009-07-17\",\"2009-07-22\",\"2009-08-25\",\"2009-09-01\",\"2009-09-10\",\"2009-09-28\",\"2009-10-13\",\"2009-10-26\",\"2009-11-03\",\"2009-11-13\",\"2009-12-11\",\"2009-12-31\",\"2010-01-06\",\"2010-01-11\",\"2010-01-20\",\"2010-01-22\",\"2010-01-25\",\"2010-01-26\",\"2010-01-29\",\"2010-02-03\",\"2010-02-26\",\"2010-03-12\",\"2010-03-26\",\"2010-04-05\",\"2010-04-12\",\"2010-04-15\",\"2010-04-26\",\"2010-04-28\",\"2010-05-03\",\"2010-05-06\",\"2010-05-25\",\"2010-06-08\",\"2010-06-22\",\"2010-07-01\",\"2010-07-12\",\"2010-07-20\",\"2010-07-23\",\"2010-07-27\",\"2010-08-03\",\"2010-08-04\",\"2010-08-12\",\"2010-08-19\",\"2010-09-01\",\"2010-09-22\",\"2010-09-24\",\"2010-09-27\",\"2010-10-01\",\"2010-10-05\",\"2010-10-06\",\"2010-11-02\",\"2010-11-03\",\"2010-11-09\",\"2010-11-16\",\"2010-11-30\",\"2010-12-21\",\"2010-12-27\",\"2011-01-07\",\"2011-01-14\",\"2011-01-19\",\"2011-01-21\",\"2011-01-24\",\"2011-01-28\",\"2011-01-31\",\"2011-02-01\",\"2011-02-14\",\"2011-02-17\",\"2011-02-28\",\"2011-03-01\",\"2011-03-18\",\"2011-03-23\",\"2011-03-25\",\"2011-04-04\",\"2011-04-05\",\"2011-04-06\",\"2011-04-14\",\"2011-04-15\",\"2011-04-20\",\"2011-04-25\",\"2011-04-26\",\"2011-04-29\",\"2011-05-05\",\"2011-05-12\",\"2011-05-24\",\"2011-06-09\",\"2011-06-23\",\"2011-06-24\",\"2011-06-28\",\"2011-07-05\",\"2011-07-15\",\"2011-07-18\",\"2011-07-25\",\"2011-07-26\",\"2011-07-28\",\"2011-08-04\",\"2011-08-11\",\"2011-08-15\",\"2011-08-17\",\"2011-08-19\",\"2011-09-02\",\"2011-09-06\",\"2011-09-07\",\"2011-09-09\",\"2011-09-12\",\"2011-09-20\",\"2011-09-21\",\"2011-09-28\",\"2011-09-30\",\"2011-10-03\",\"2011-10-04\",\"2011-10-05\",\"2011-10-06\",\"2011-10-14\",\"2011-10-18\",\"2011-10-25\",\"2011-10-27\",\"2011-10-31\",\"2011-11-02\",\"2011-11-16\",\"2011-11-18\",\"2011-11-23\",\"2011-11-29\",\"2011-12-02\",\"2011-12-12\",\"2011-12-28\",\"2011-12-30\",\"2012-01-05\",\"2012-01-11\",\"2012-01-19\",\"2012-01-26\",\"2012-01-27\",\"2012-02-01\",\"2012-02-02\",\"2012-02-06\",\"2012-02-07\",\"2012-02-15\",\"2012-02-24\",\"2012-02-28\",\"2012-03-12\",\"2012-03-19\",\"2012-03-30\",\"2012-04-09\",\"2012-04-23\",\"2012-04-25\",\"2012-05-02\",\"2012-05-11\",\"2012-05-22\",\"2012-05-23\",\"2012-05-24\",\"2012-05-25\",\"2012-05-31\",\"2012-06-07\",\"2012-06-08\",\"2012-06-18\",\"2012-06-28\",\"2012-06-29\",\"2012-07-09\",\"2012-07-23\",\"2012-07-27\",\"2012-07-31\",\"2012-08-02\",\"2012-08-17\",\"2012-08-24\",\"2012-08-28\",\"2012-10-02\",\"2012-10-19\",\"2012-10-23\",\"2012-10-24\",\"2012-11-01\",\"2012-11-05\",\"2012-11-12\",\"2012-11-14\",\"2012-11-16\",\"2012-11-20\",\"2012-11-27\",\"2012-11-29\",\"2012-12-17\",\"2012-12-24\",\"2013-01-03\",\"2013-01-09\",\"2013-01-14\",\"2013-02-04\",\"2013-02-11\",\"2013-02-12\",\"2013-02-13\",\"2013-02-27\",\"2013-03-04\",\"2013-03-06\",\"2013-03-15\",\"2013-03-18\",\"2013-04-01\",\"2013-04-04\",\"2013-04-05\",\"2013-04-29\",\"2013-05-02\",\"2013-05-15\",\"2013-06-05\",\"2013-06-07\",\"2013-06-24\",\"2013-07-08\",\"2013-07-18\",\"2013-07-24\",\"2013-08-01\",\"2013-08-02\",\"2013-08-05\",\"2013-08-08\",\"2013-08-21\",\"2013-08-27\",\"2013-09-09\",\"2013-09-16\",\"2013-09-19\",\"2013-09-20\",\"2013-09-30\",\"2013-10-02\",\"2013-10-07\",\"2013-10-10\",\"2013-11-04\",\"2013-11-06\",\"2013-11-11\",\"2013-11-14\",\"2013-11-15\",\"2013-11-26\",\"2013-12-04\",\"2013-12-17\",\"2014-01-02\",\"2014-01-14\",\"2014-01-15\",\"2014-01-23\",\"2014-02-04\",\"2014-02-06\",\"2014-02-13\",\"2014-02-18\",\"2014-02-19\",\"2014-02-25\",\"2014-03-12\",\"2014-03-13\",\"2014-03-31\",\"2014-04-03\",\"2014-04-08\",\"2014-04-10\",\"2014-04-21\",\"2014-05-05\",\"2014-05-07\",\"2014-05-19\",\"2014-05-21\",\"2014-06-05\",\"2014-06-20\",\"2014-06-23\",\"2014-06-26\",\"2014-06-30\",\"2014-07-17\",\"2014-07-21\",\"2014-07-23\",\"2014-07-31\",\"2014-08-07\",\"2014-08-12\",\"2014-08-13\",\"2014-08-15\",\"2014-08-25\",\"2014-09-03\",\"2014-09-17\",\"2014-09-26\",\"2014-09-30\",\"2014-10-03\",\"2014-10-08\",\"2014-10-14\",\"2014-10-21\",\"2014-10-28\",\"2014-10-31\",\"2014-11-05\",\"2014-11-06\",\"2014-11-14\",\"2014-12-02\",\"2014-12-12\",\"2014-12-15\",\"2014-12-18\",\"2015-01-08\",\"2015-01-09\",\"2015-01-13\",\"2015-01-16\",\"2015-01-22\",\"2015-01-23\",\"2015-01-27\",\"2015-02-05\",\"2015-02-25\",\"2015-03-05\",\"2015-03-10\",\"2015-03-11\",\"2015-03-16\",\"2015-03-20\",\"2015-03-24\",\"2015-03-27\",\"2015-03-30\",\"2015-04-02\",\"2015-04-23\",\"2015-05-05\",\"2015-05-07\",\"2015-05-13\",\"2015-05-15\",\"2015-05-22\",\"2015-05-27\",\"2015-05-28\",\"2015-05-29\",\"2015-07-01\",\"2015-07-07\",\"2015-07-08\",\"2015-07-10\",\"2015-07-14\",\"2015-07-15\",\"2015-07-28\",\"2015-07-30\",\"2015-08-12\",\"2015-08-24\",\"2015-08-26\",\"2015-08-27\",\"2015-09-08\",\"2015-09-09\",\"2015-09-10\",\"2015-09-15\",\"2015-09-16\",\"2015-09-21\",\"2015-09-29\",\"2015-10-06\",\"2015-10-13\",\"2015-10-16\",\"2015-10-20\",\"2015-10-30\",\"2015-11-06\",\"2015-11-30\",\"2015-12-21\",\"2015-12-29\",\"2015-12-30\",\"2016-01-06\",\"2016-01-14\",\"2016-01-25\",\"2016-01-29\",\"2016-02-05\",\"2016-02-19\",\"2016-02-22\",\"2016-02-23\",\"2016-03-08\",\"2016-03-15\",\"2016-03-18\",\"2016-03-21\",\"2016-03-23\",\"2016-03-31\",\"2016-04-14\",\"2016-04-15\",\"2016-04-18\",\"2016-04-28\",\"2016-05-05\",\"2016-05-13\",\"2016-05-16\",\"2016-05-18\",\"2016-05-19\",\"2016-05-24\",\"2016-05-27\",\"2016-05-31\",\"2016-06-03\",\"2016-06-13\",\"2016-06-15\",\"2016-06-20\",\"2016-06-27\",\"2016-07-01\",\"2016-07-22\",\"2016-08-01\",\"2016-08-02\",\"2016-08-12\",\"2016-08-16\",\"2016-09-01\",\"2016-09-15\",\"2016-09-23\",\"2016-10-07\",\"2016-10-24\",\"2016-10-27\",\"2016-10-28\",\"2016-11-01\",\"2016-11-18\",\"2016-11-22\",\"2016-11-30\",\"2016-12-08\",\"2016-12-22\",\"2016-12-27\",\"2017-01-03\",\"2017-01-05\",\"2017-01-06\",\"2017-01-31\",\"2017-02-15\",\"2017-03-10\",\"2017-03-14\",\"2017-03-17\",\"2017-03-20\",\"2017-03-21\",\"2017-03-31\",\"2017-04-05\",\"2017-04-19\",\"2017-04-24\",\"2017-05-02\",\"2017-05-15\",\"2017-05-17\",\"2017-06-01\",\"2017-06-08\",\"2017-06-09\",\"2017-06-13\",\"2017-06-22\",\"2017-06-26\",\"2017-06-29\",\"2017-07-24\",\"2017-07-31\",\"2017-08-09\",\"2017-08-11\",\"2017-08-22\",\"2017-08-23\",\"2017-08-25\",\"2017-09-12\",\"2017-09-13\",\"2017-09-18\",\"2017-09-20\",\"2017-10-04\",\"2017-10-06\",\"2017-11-24\",\"2017-12-04\",\"2017-12-06\",\"2017-12-12\",\"2017-12-18\",\"2017-12-19\",\"2017-12-20\",\"2017-12-29\",\"2018-01-10\",\"2018-01-11\",\"2018-01-19\",\"2018-01-24\",\"2018-01-25\",\"2018-01-30\",\"2018-02-01\",\"2018-02-05\",\"2018-02-07\",\"2018-02-22\",\"2018-02-28\",\"2018-03-01\",\"2018-03-02\",\"2018-03-12\",\"2018-03-13\",\"2018-03-16\",\"2018-03-20\",\"2018-04-04\",\"2018-04-05\",\"2018-04-12\",\"2018-04-20\",\"2018-05-04\",\"2018-05-14\",\"2018-05-15\",\"2018-05-25\",\"2018-05-30\",\"2018-06-13\",\"2018-06-19\",\"2018-06-25\",\"2018-07-03\",\"2018-07-19\",\"2018-07-20\",\"2018-07-30\",\"2018-08-27\",\"2018-08-29\",\"2018-09-04\",\"2018-09-06\",\"2018-09-11\",\"2018-09-26\",\"2018-09-27\",\"2018-10-12\",\"2018-10-16\",\"2018-10-25\",\"2018-10-31\",\"2018-11-08\",\"2018-11-09\",\"2018-11-12\",\"2018-11-15\",\"2018-11-16\",\"2018-11-19\",\"2018-11-21\",\"2018-11-28\",\"2018-12-13\",\"2018-12-20\",\"2019-01-25\",\"2019-02-14\",\"2019-03-01\",\"2019-03-05\",\"2019-03-06\",\"2019-03-15\",\"2019-03-18\",\"2019-03-20\",\"2019-03-25\",\"2019-03-27\",\"2019-03-29\",\"2019-04-01\",\"2019-04-02\",\"2019-04-04\",\"2019-04-08\",\"2019-04-12\",\"2019-04-18\",\"2019-04-24\",\"2019-04-29\",\"2019-05-06\",\"2019-05-17\",\"2019-05-22\",\"2019-06-03\",\"2019-06-10\",\"2019-06-14\",\"2019-06-18\",\"2019-06-25\",\"2019-07-02\",\"2019-07-10\",\"2019-07-25\",\"2019-08-07\",\"2019-08-08\",\"2019-08-13\",\"2019-09-06\",\"2019-09-09\",\"2019-09-10\",\"2019-09-11\",\"2019-09-23\",\"2019-09-25\",\"2019-10-10\",\"2019-10-24\",\"2019-10-31\",\"2019-11-01\",\"2019-11-04\",\"2019-11-22\",\"2019-12-03\",\"2019-12-11\",\"2019-12-19\",\"2019-12-24\",\"2019-12-27\",\"2020-01-06\",\"2020-01-09\",\"2020-01-16\",\"2020-01-17\",\"2020-01-31\",\"2020-02-05\",\"2020-02-13\",\"2020-02-19\",\"2020-02-21\",\"2020-03-04\",\"2020-03-06\",\"2020-03-10\",\"2020-03-12\",\"2020-03-25\"],\"y\":[3.859375,3.9453125,4.078125,4.1875,4.21875,4.46875,4.1953125,4.1640625,4.2734375,4.109375,4.125,4.1953125,3.8046875,3.609375,3.578125,3.51953125,3.5234375,3.515625,3.53125,3.4765625,3.6171875,3.3359375,3.46875,3.666249990463257,3.65625,3.652499914169312,3.766249895095825,3.706249952316284,3.791249990463257,3.518749952316284,3.75,3.677500009536743,3.640000104904175,3.502500057220459,3.662499904632568,3.674999952316284,3.765000104904175,3.5762500762939453,3.865000009536743,4.144999980926514,4.198750019073486,4.193749904632568,4.051249980926514,4.068749904632568,3.7587499618530273,3.668750047683716,3.5737500190734863,3.640000104904175,3.631249904632568,3.846250057220459,3.825000047683716,3.75,3.7074999809265137,3.6762499809265137,3.315000057220459,3.190000057220459,3.5,3.4487500190734863,3.4124999046325684,3.275000095367432,3.430000066757202,3.3125,3.333750009536743,3.4049999713897705,2.90625,3.103749990463257,3.008749961853028,3.049999952316284,3.0799999237060547,2.977499961853028,3.0537500381469727,3.0299999713897705,3.0062499046325684,3.032500028610229,3.1912500858306885,3.3125,3.493750095367432,3.706249952316284,3.671250104904175,3.816250085830689,3.952500104904175,4.074999809265137,4.067500114440918,3.944999933242798,3.96875,3.9487500190734863,4.006249904632568,4.067500114440918,4.148749828338623,4.119999885559082,4.143750190734863,4.227499961853027,4.065000057220459,4.017499923706055,4.0625,4.106249809265137,4.102499961853027,4.00124979019165,3.682499885559082,3.5625,3.8424999713897705,3.982500076293945,4.152500152587891,4.065000057220459,4.224999904632568,4.197500228881836,4.051249980926514,4.028749942779541,3.839999914169312,3.666249990463257,3.588749885559082,3.793750047683716,3.352499961853028,3.212500095367432,3.223750114440918,3.1287500858306885,3.25,3.240000009536743,3.1987500190734863,3.383749961853028,3.6887500286102295,3.6262500286102295,3.694999933242798,3.732500076293945,3.809999942779541,3.776249885559082,3.9362499713897705,3.868750095367432,3.9149999618530273,3.911250114440918,3.887500047683716,4.306250095367432,4.446249961853027,4.125,4.096250057220459,4.137499809265137,4.152500152587891,4.480000019073486,4.397500038146973,4.463749885559082,4.683750152587891,4.929999828338623,5.256249904632568,4.988749980926514,4.75,4.818749904632568,4.762499809265137,4.65500020980835,4.832499980926514,5.150000095367432,5.144999980926514,5.079999923706055,5.03125,5.008749961853027,5.016250133514404,4.925000190734863,4.847499847412109,4.976250171661377,4.992499828338623,5.043749809265137,5.257500171661377,5.502500057220459,5.537499904632568,5.431250095367432,5.505000114440918,5.09375,5.309999942779541,5.351250171661377,5.494999885559082,5.892499923706055,5.671249866485596,5.826250076293945,6.612500190734863,6.426249980926514,6.776249885559082,6.431250095367432,6.458749771118164,6.300000190734863,6.62624979019165,7.131249904632568,6.87624979019165,6.731249809265137,6.670000076293945,7.018750190734863,7.309999942779541,7.414999961853027,7.139999866485596,7.539999961853027,7.366250038146973,6.652500152587891,6.482500076293945,6.602499961853027,7.34499979019165,7.380000114440918,7.577499866485596,7.277500152587891,7.902500152587891,7.857500076293945,7.730000019073486,8.119999885559082,7.784999847412109,7.872499942779541,8.362500190734863,8.479999542236328,8.867500305175781,9.38249969482422,10.36750030517578,10.369999885559082,10.489999771118164,10.1850004196167,9.9375,10.302499771118164,10.522500038146973,9.520000457763672,9.625,10.4975004196167,10.022500038146973,10.154999732971191,10.807499885559082,10.852499961853027,10.954999923706056,10.755000114440918,10.717499732971191,13.137499809265137,13.63249969482422,14.607500076293944,14.677499771118164,15.074999809265137,14.5,14.307499885559082,14.350000381469728,14.392499923706056,14.399999618530272,13.005000114440918,13.037500381469728,13.395000457763672,12.899999618530272,14.087499618530272,14.177499771118164,15.199999809265137,15.1850004196167,18.600000381469727,18.280000686645508,18.709999084472656,18.190000534057617,19.834999084472656,20.155000686645508,20.209999084472656,20.790000915527344,22.01000022888184,22.729999542236328,24.049999237060547,22.424999237060547,23.21999931335449,22.809999465942383,23.059999465942383,20.70499992370605,19.084999084472656,18.940000534057617,19.65999984741211,20.81999969482422,20.71500015258789,20.21999931335449,23.07999992370605,23.90999984741211,22.44499969482422,22.69499969482422,23.739999771118164,22.6200008392334,24.32999992370605,24.434999465942383,25.03499984741211,24.825000762939453,25.424999237060547,26.165000915527344,25.46999931335449,24.95499992370605,24.049999237060547,25.94499969482422,30.114999771118164,29.8799991607666,28.934999465942383,26.979999542236328,27.34000015258789,28.059999465942383,30.1299991607666,28.125,27.424999237060547,27.69499969482422,29.8799991607666,31.61000061035156,30.600000381469727,28.229999542236328,27.270000457763672,27.399999618530277,26.084999084472656,26.530000686645508,25.34499931335449,23.70499992370605,24.75,26.834999084472656,25.405000686645508,25.149999618530277,26.71999931335449,26.06999969482422,26.645000457763672,26.940000534057617,27.03499984741211,22.790000915527344,21.309999465942383,22.489999771118164,23.36000061035156,26.725000381469727,26.09000015258789,25.174999237060547,25.38500022888184,26.21500015258789,27.5049991607666,25.7450008392334,25.71500015258789,25.809999465942383,26.614999771118164,23.104999542236328,23.2450008392334,24.270000457763672,25.01000022888184,24.825000762939453,26.01499938964844,26.03499984741211,25.315000534057617,26.899999618530277,30.040000915527344,29.61000061035156,29.5049991607666,29.80500030517578,31.625,31.59000015258789,31.434999465942383,32.28499984741211,33.915000915527344,34.6150016784668,33.51499938964844,33.67499923706055,34.275001525878906,36.2599983215332,34.68000030517578,33.04999923706055,33.20500183105469,35.1150016784668,34.400001525878906,37.45000076293945,37.79499816894531,37.45500183105469,37.61000061035156,37.875,36.77000045776367,38.75,40.75,34.16999816894531,35.44499969482422,36.14500045776367,37.43999862670898,38.07500076293945,37.119998931884766,34.67499923706055,29.78499984741211,31.51000022888184,31.34000015258789,31.30500030517578,31.434999465942383,32.36000061035156,36.69499969482422,37.41999816894531,37.68999862670898,37.64500045776367,36.43999862670898,33.94499969482422,34.51499938964844,34.70000076293945,35.04999923706055,38.30500030517578,38.32500076293945,43.709999084472656,43.33000183105469,42.790000915527344,53.119998931884766,48.2599983215332,50.27999877929688,51.52000045776367,50.89500045776367,50.75,49.790000915527344,44.84000015258789,37.73500061035156,36.52000045776367,37.82500076293945,37.540000915527344,38.72499847412109,42.68999862670898,41.720001220703125,43.11000061035156,36.875,41.20000076293945,40.709999084472656,39.06499862670898,23.674999237060547,24.459999084472656,25.825000762939453,22.86000061035156,19.420000076293945,18.924999237060547,16.78499984741211,18.399999618530277,20.315000534057617,18.25,17.549999237060547,17.860000610351562,18.725000381469727,18.44499969482422,18.010000228881836,17.434999465942383,15.800000190734863,18.94499969482422,19.7549991607666,20.46500015258789,19.84499931335449,20.665000915527344,21.21500015258789,20.69499969482422,22.290000915527344,22.670000076293945,22.95499992370605,23.905000686645508,25.700000762939453,26.709999084472656,29.155000686645508,28.934999465942383,27.524999618530277,26.959999084472656,24.34000015258789,26.049999237060547,26.09000015258789,25.5049991607666,28.155000686645508,29.415000915527344,29.2549991607666,29.545000076293945,27.690000534057617,32.45500183105469,33.345001220703125,37.69499969482422,34.45500183105469,32.224998474121094,34.57500076293945,33.150001525878906,36.880001068115234,35.96500015258789,35.44499969482422,33.974998474121094,33.18000030517578,32.8849983215332,32.8849983215332,32.529998779296875,32.720001220703125,34.540000915527344,35.91999816894531,36.0,39.52999877929688,39.04499816894531,37.994998931884766,37.525001525878906,38.63999938964844,37.560001373291016,34.540000915527344,32.630001068115234,34.290000915527344,35.599998474121094,32.79999923706055,35.61000061035156,34.25,35.59000015258789,34.66999816894531,35.75,36.02000045776367,32.150001525878906,32.20000076293945,33.779998779296875,32.0,33.22999954223633,33.59000015258789,35.560001373291016,37.52000045776367,36.880001068115234,37.369998931884766,39.2400016784668,39.970001220703125,37.86000061035156,40.56999969482422,43.790000915527344,43.720001220703125,41.900001525878906,42.630001068115234,42.16999816894531,42.31999969482422,41.47999954223633,44.52000045776367,45.34999847412109,44.77999877929688,45.150001525878906,47.900001525878906,50.18999862670898,51.209999084472656,49.7599983215332,48.970001220703125,47.88999938964844,49.7599983215332,49.209999084472656,48.43999862670898,45.40999984741211,45.11000061035156,46.619998931884766,46.09999847412109,45.97999954223633,46.31999969482422,43.619998931884766,40.709999084472656,42.27000045776367,40.25,38.7599983215332,38.810001373291016,41.220001220703125,42.59000015258789,41.16999816894531,42.470001220703125,43.02000045776367,41.63999938964844,40.290000915527344,36.02000045776367,36.66999816894531,36.619998931884766,34.2599983215332,33.189998626708984,34.849998474121094,36.18000030517578,36.13999938964844,33.880001068115234,34.310001373291016,31.739999771118164,30.040000915527344,30.34000015258789,27.59000015258789,27.43000030517578,29.540000915527344,30.270000457763672,29.1299991607666,31.270000457763672,31.920000076293945,34.2599983215332,36.81999969482422,33.40999984741211,37.84000015258789,36.209999084472656,35.150001525878906,32.63999938964844,37.34000015258789,37.68000030517578,35.560001373291016,36.61000061035156,39.38999938964844,38.08000183105469,37.68999862670898,38.5099983215332,40.20000076293945,39.77000045776367,40.43000030517578,41.060001373291016,38.7400016784668,38.09000015258789,37.209999084472656,37.650001525878906,37.11000061035156,35.13999938964844,35.150001525878906,34.02000045776367,31.15999984741211,31.68000030517578,33.099998474121094,33.310001373291016,30.190000534057617,30.729999542236328,30.65999984741211,30.75,31.34000015258789,27.420000076293945,27.38999938964844,26.790000915527344,28.280000686645508,26.850000381469727,26.809999465942383,25.280000686645508,27.07999992370605,28.049999237060547,27.479999542236328,27.88999938964844,32.15999984741211,30.950000762939453,30.709999084472656,30.6299991607666,31.0,29.71999931335449,30.1299991607666,29.989999771118164,30.43000030517578,27.700000762939453,27.309999465942383,27.63999938964844,27.51000022888184,28.450000762939453,28.489999771118164,28.729999542236328,28.5,30.549999237060547,30.13999938964844,29.57999992370605,30.32999992370605,31.46999931335449,31.739999771118164,31.15999984741211,30.489999771118164,29.790000915527344,31.190000534057617,32.540000915527344,32.41999816894531,32.119998931884766,30.540000915527344,30.63999938964844,29.34000015258789,29.32999992370605,29.170000076293945,29.18000030517578,29.280000686645508,28.299999237060547,30.34000015258789,33.11000061035156,32.84000015258789,31.46999931335449,31.3700008392334,30.82999992370605,30.479999542236328,29.700000762939453,31.43000030517578,31.31999969482422,31.65999984741211,31.530000686645508,31.38999938964844,31.799999237060547,30.790000915527344,30.989999771118164,32.16999816894531,30.920000076293945,31.15999984741211,30.61000061035156,32.560001373291016,32.220001220703125,32.38999938964844,32.150001525878906,32.25,32.93000030517578,32.79999923706055,32.84000015258789,32.0,33.939998626708984,34.27000045776367,35.040000915527344,36.68999862670898,36.84000015258789,36.630001068115234,35.68000030517578,35.79999923706055,38.47999954223633,39.72999954223633,40.540000915527344,39.400001525878906,40.43999862670898,40.68000030517578,39.79999923706055,39.75,40.7599983215332,42.09000015258789,45.63999938964844,44.65999984741211,45.720001220703125,46.150001525878906,45.0,45.650001525878906,45.77000045776367,42.040000915527344,42.02000045776367,41.290000915527344,41.0099983215332,41.31999969482422,43.06999969482422,41.7400016784668,41.18999862670898,39.470001220703125,37.77000045776367,37.150001525878906,34.93000030517578,32.02000045776367,34.2599983215332,34.58000183105469,33.70000076293945,34.689998626708984,36.02999877929688,35.56999969482422,34.2599983215332,27.309999465942383,27.920000076293945,31.649999618530277,27.940000534057617,26.559999465942383,27.38999938964844,28.270000457763672,29.26000022888184,29.1200008392334,28.21999931335449,31.25,29.489999771118164,29.709999084472656,28.81999969482422,28.65999984741211,29.440000534057617,29.8700008392334,30.82999992370605,30.82999992370605,30.709999084472656,32.2599983215332,33.619998931884766,31.959999084472656,31.6200008392334,31.530000686645508,31.34000015258789,30.520000457763672,30.739999771118164,30.84000015258789,30.3799991607666,26.979999542236328,25.899999618530277,25.809999465942383,26.07999992370605,25.549999237060547,25.40999984741211,23.71999931335449,24.3799991607666,23.700000762939453,19.34000015258789,21.350000381469727,21.799999237060547,20.520000457763672,20.84000015258789,20.030000686645508,21.209999084472656,21.21999931335449,20.07999992370605,19.450000762939453,23.8799991607666,24.01000022888184,23.280000686645508,23.209999084472656,23.799999237060547,24.82999992370605,24.200000762939453,20.790000915527344,21.81999969482422,21.82999992370605,19.549999237060547,16.81999969482422,18.76000022888184,20.899999618530277,20.979999542236328,21.040000915527344,20.0,19.950000762939453,26.299999237060547,27.57999992370605,27.21999931335449,27.65999984741211,26.57999992370605,25.799999237060547,28.559999465942383,29.3700008392334,30.020000457763672,30.020000457763672,27.71999931335449,29.280000686645508,29.690000534057617,28.540000915527344,28.88999938964844,29.899999618530277,29.739999771118164,29.030000686645508,29.940000534057617,28.899999618530277,28.700000762939453,30.34000015258789,29.3700008392334,30.8799991607666,30.06999969482422,29.600000381469727,30.13999938964844,32.45000076293945,32.400001525878906,31.850000381469727,29.200000762939453,29.549999237060547,32.33000183105469,32.709999084472656,32.38999938964844,31.709999084472656,31.46999931335449,32.880001068115234,32.70000076293945,34.06999969482422,33.380001068115234,32.15999984741211,32.209999084472656,32.84000015258789,32.58000183105469,31.600000381469727,30.1299991607666,30.34000015258789,31.790000915527344,32.86000061035156,32.22999954223633,31.790000915527344,32.02000045776367,32.66999816894531,33.400001525878906,32.529998779296875,33.40999984741211,31.530000686645508,31.190000534057617,30.440000534057617,28.850000381469727,29.25,29.38999938964844,28.21999931335449,28.5,28.540000915527344,28.84000015258789,30.40999984741211,30.520000457763672,31.309999465942383,30.86000061035156,30.8700008392334,30.90999984741211,30.8700008392334,33.029998779296875,32.97999954223633,33.0,34.20000076293945,33.40999984741211,32.9900016784668,33.529998779296875,35.150001525878906,34.56999969482422,33.83000183105469,33.79999923706055,34.22999954223633,34.83000183105469,36.540000915527344,36.72999954223633,37.13999938964844,36.06999969482422,35.95000076293945,36.02999877929688,34.150001525878906,33.689998626708984,31.93000030517578,29.76000022888184,32.150001525878906,31.049999237060547,30.88999938964844,31.030000686645508,29.959999084472656,29.920000076293945,29.799999237060547,31.450000762939453,33.79999923706055,33.02000045776367,35.130001068115234,35.779998779296875,35.11000061035156,36.40999984741211,36.70000076293945,34.27000045776367,34.560001373291016,32.06999969482422,32.02000045776367,33.95000076293945,35.470001220703125,35.22999954223633,35.0099983215332,36.63999938964844,35.31999969482422,34.970001220703125,33.290000915527344,32.43000030517578,31.940000534057617,33.029998779296875,32.65999984741211,28.770000457763672,28.63999938964844,28.190000534057617,28.90999984741211,28.15999984741211,28.1200008392334,27.26000022888184,27.1200008392334,27.200000762939453,26.26000022888184,25.21999931335449,25.200000762939453,25.6299991607666,23.26000022888184,26.209999084472656,27.850000381469727,27.280000686645508,26.690000534057617,27.31999969482422,28.020000457763672,27.799999237060547,28.450000762939453,27.770000457763672,27.459999084472656,27.940000534057617,27.809999465942383,27.71999931335449,28.670000076293945,29.34000015258789,29.6200008392334,31.07999992370605,30.15999984741211,29.979999542236328,27.690000534057617,27.100000381469727,25.84000015258789,26.84000015258789,27.209999084472656,26.93000030517578,27.0,27.850000381469727,26.600000381469727,27.6200008392334,24.940000534057617,24.450000762939453,24.38999938964844,23.239999771118164,24.729999542236328,25.68000030517578,25.420000076293945,25.350000381469727,27.13999938964844,26.709999084472656,25.450000762939453,26.040000915527344,25.93000030517578,26.520000457763672,26.46999931335449,28.280000686645508,28.36000061035156,30.46999931335449,31.600000381469727,32.18000030517578,32.189998626708984,32.220001220703125,31.76000022888184,31.709999084472656,31.149999618530277,28.07999992370605,29.149999618530277,29.290000915527344,30.43000030517578,28.57999992370605,24.25,15.729999542236328,15.079999923706056,14.380000114440918,10.40999984741211],\"type\":\"scatter\"},{\"mode\":\"lines\",\"name\":\"Predicted\",\"x\":[\"2000-08-14\",\"2000-08-22\",\"2000-09-05\",\"2000-09-06\",\"2000-09-11\",\"2000-09-13\",\"2000-09-26\",\"2000-09-28\",\"2000-10-04\",\"2000-10-05\",\"2000-10-11\",\"2000-10-12\",\"2000-10-26\",\"2000-11-08\",\"2000-11-10\",\"2000-11-14\",\"2000-11-15\",\"2000-11-17\",\"2000-11-28\",\"2000-11-29\",\"2000-12-08\",\"2001-01-04\",\"2001-01-18\",\"2001-01-29\",\"2001-01-30\",\"2001-01-31\",\"2001-02-02\",\"2001-02-05\",\"2001-02-12\",\"2001-02-28\",\"2001-03-15\",\"2001-03-26\",\"2001-03-28\",\"2001-04-03\",\"2001-04-09\",\"2001-04-11\",\"2001-04-24\",\"2001-05-03\",\"2001-05-14\",\"2001-05-23\",\"2001-05-30\",\"2001-06-05\",\"2001-06-11\",\"2001-06-13\",\"2001-06-21\",\"2001-07-02\",\"2001-07-20\",\"2001-07-23\",\"2001-07-27\",\"2001-08-03\",\"2001-08-06\",\"2001-08-16\",\"2001-08-22\",\"2001-09-10\",\"2001-09-19\",\"2001-10-01\",\"2001-10-10\",\"2001-10-12\",\"2001-10-16\",\"2001-10-17\",\"2001-10-25\",\"2001-10-31\",\"2001-11-09\",\"2001-11-12\",\"2001-11-16\",\"2001-11-29\",\"2001-12-21\",\"2001-12-26\",\"2001-12-27\",\"2001-12-31\",\"2002-01-04\",\"2002-01-15\",\"2002-01-18\",\"2002-01-22\",\"2002-01-28\",\"2002-02-01\",\"2002-02-19\",\"2002-02-26\",\"2002-02-27\",\"2002-03-11\",\"2002-03-19\",\"2002-03-26\",\"2002-04-02\",\"2002-04-03\",\"2002-04-04\",\"2002-04-15\",\"2002-04-16\",\"2002-04-18\",\"2002-04-25\",\"2002-04-29\",\"2002-04-30\",\"2002-05-02\",\"2002-05-13\",\"2002-05-14\",\"2002-05-23\",\"2002-05-24\",\"2002-05-28\",\"2002-06-17\",\"2002-07-19\",\"2002-07-22\",\"2002-07-23\",\"2002-08-02\",\"2002-08-05\",\"2002-08-06\",\"2002-08-13\",\"2002-08-26\",\"2002-09-04\",\"2002-09-06\",\"2002-09-18\",\"2002-10-07\",\"2002-10-08\",\"2002-10-15\",\"2002-10-29\",\"2002-11-07\",\"2002-11-11\",\"2002-11-13\",\"2002-11-19\",\"2002-11-20\",\"2002-11-25\",\"2002-12-04\",\"2002-12-12\",\"2002-12-17\",\"2002-12-26\",\"2002-12-27\",\"2003-01-02\",\"2003-01-14\",\"2003-01-22\",\"2003-01-29\",\"2003-02-06\",\"2003-02-11\",\"2003-02-13\",\"2003-02-27\",\"2003-03-07\",\"2003-03-13\",\"2003-03-20\",\"2003-03-25\",\"2003-04-28\",\"2003-05-06\",\"2003-05-08\",\"2003-05-12\",\"2003-05-19\",\"2003-06-02\",\"2003-06-10\",\"2003-06-27\",\"2003-07-10\",\"2003-07-15\",\"2003-07-21\",\"2003-07-29\",\"2003-08-04\",\"2003-08-08\",\"2003-08-11\",\"2003-08-15\",\"2003-08-18\",\"2003-08-19\",\"2003-08-22\",\"2003-08-25\",\"2003-08-26\",\"2003-09-12\",\"2003-09-25\",\"2003-09-26\",\"2003-10-01\",\"2003-10-09\",\"2003-10-13\",\"2003-10-17\",\"2003-10-24\",\"2003-11-04\",\"2003-11-12\",\"2003-11-17\",\"2003-11-20\",\"2003-12-05\",\"2003-12-15\",\"2003-12-16\",\"2004-01-05\",\"2004-01-07\",\"2004-01-20\",\"2004-02-10\",\"2004-02-13\",\"2004-02-18\",\"2004-02-25\",\"2004-03-05\",\"2004-03-10\",\"2004-03-23\",\"2004-03-24\",\"2004-03-31\",\"2004-04-05\",\"2004-04-08\",\"2004-04-13\",\"2004-04-14\",\"2004-05-03\",\"2004-05-07\",\"2004-05-26\",\"2004-06-03\",\"2004-06-18\",\"2004-06-21\",\"2004-06-24\",\"2004-06-28\",\"2004-07-13\",\"2004-07-14\",\"2004-07-23\",\"2004-07-28\",\"2004-08-11\",\"2004-08-23\",\"2004-08-31\",\"2004-09-13\",\"2004-09-16\",\"2004-09-23\",\"2004-10-19\",\"2004-10-27\",\"2004-10-28\",\"2004-11-01\",\"2004-11-10\",\"2004-11-18\",\"2004-11-30\",\"2004-12-06\",\"2004-12-10\",\"2004-12-28\",\"2005-01-06\",\"2005-01-10\",\"2005-01-11\",\"2005-01-13\",\"2005-01-14\",\"2005-01-20\",\"2005-01-21\",\"2005-02-11\",\"2005-02-15\",\"2005-02-24\",\"2005-03-02\",\"2005-03-03\",\"2005-03-15\",\"2005-03-21\",\"2005-03-31\",\"2005-04-01\",\"2005-04-05\",\"2005-04-13\",\"2005-04-19\",\"2005-04-22\",\"2005-04-26\",\"2005-05-05\",\"2005-05-06\",\"2005-06-02\",\"2005-06-07\",\"2005-06-17\",\"2005-06-22\",\"2005-06-24\",\"2005-06-29\",\"2005-07-19\",\"2005-07-21\",\"2005-07-26\",\"2005-07-28\",\"2005-08-02\",\"2005-08-03\",\"2005-08-09\",\"2005-08-22\",\"2005-09-09\",\"2005-09-23\",\"2005-09-27\",\"2005-10-04\",\"2005-10-12\",\"2005-10-17\",\"2005-10-18\",\"2005-10-24\",\"2005-10-25\",\"2005-10-26\",\"2005-11-04\",\"2005-11-08\",\"2005-11-09\",\"2005-11-11\",\"2005-11-15\",\"2005-11-17\",\"2005-12-02\",\"2005-12-05\",\"2005-12-07\",\"2005-12-08\",\"2005-12-09\",\"2005-12-12\",\"2005-12-20\",\"2005-12-22\",\"2005-12-23\",\"2006-01-10\",\"2006-01-20\",\"2006-01-23\",\"2006-02-07\",\"2006-02-13\",\"2006-02-22\",\"2006-02-23\",\"2006-03-01\",\"2006-03-16\",\"2006-03-17\",\"2006-03-30\",\"2006-04-11\",\"2006-04-20\",\"2006-05-02\",\"2006-05-05\",\"2006-05-31\",\"2006-06-01\",\"2006-06-02\",\"2006-06-05\",\"2006-06-07\",\"2006-06-13\",\"2006-06-22\",\"2006-07-05\",\"2006-07-14\",\"2006-07-17\",\"2006-08-02\",\"2006-08-03\",\"2006-08-04\",\"2006-08-18\",\"2006-08-24\",\"2006-09-28\",\"2006-10-03\",\"2006-10-06\",\"2006-10-12\",\"2006-10-25\",\"2006-11-08\",\"2006-11-15\",\"2006-11-17\",\"2006-11-27\",\"2006-12-01\",\"2006-12-15\",\"2006-12-19\",\"2006-12-20\",\"2006-12-28\",\"2007-01-03\",\"2007-01-12\",\"2007-01-25\",\"2007-01-30\",\"2007-02-01\",\"2007-03-08\",\"2007-03-09\",\"2007-03-15\",\"2007-03-22\",\"2007-04-12\",\"2007-04-17\",\"2007-04-19\",\"2007-04-27\",\"2007-05-02\",\"2007-05-08\",\"2007-05-14\",\"2007-05-25\",\"2007-05-31\",\"2007-06-18\",\"2007-06-20\",\"2007-07-03\",\"2007-07-10\",\"2007-07-20\",\"2007-07-23\",\"2007-08-03\",\"2007-08-06\",\"2007-08-31\",\"2007-09-07\",\"2007-09-12\",\"2007-09-13\",\"2007-09-14\",\"2007-09-19\",\"2007-09-27\",\"2007-10-03\",\"2007-10-18\",\"2007-11-08\",\"2007-12-07\",\"2007-12-20\",\"2007-12-26\",\"2007-12-31\",\"2008-01-02\",\"2008-01-03\",\"2008-01-14\",\"2008-01-22\",\"2008-01-23\",\"2008-01-28\",\"2008-02-08\",\"2008-02-11\",\"2008-02-14\",\"2008-02-26\",\"2008-02-28\",\"2008-02-29\",\"2008-03-03\",\"2008-03-11\",\"2008-03-24\",\"2008-03-27\",\"2008-04-01\",\"2008-04-02\",\"2008-04-08\",\"2008-04-10\",\"2008-04-18\",\"2008-04-21\",\"2008-05-01\",\"2008-05-19\",\"2008-06-02\",\"2008-06-09\",\"2008-06-10\",\"2008-06-11\",\"2008-06-18\",\"2008-06-26\",\"2008-07-15\",\"2008-07-28\",\"2008-08-01\",\"2008-08-05\",\"2008-08-14\",\"2008-08-18\",\"2008-08-20\",\"2008-08-25\",\"2008-08-26\",\"2008-09-09\",\"2008-09-18\",\"2008-09-24\",\"2008-09-25\",\"2008-10-13\",\"2008-10-17\",\"2008-11-04\",\"2008-11-06\",\"2008-11-11\",\"2008-12-02\",\"2008-12-05\",\"2008-12-11\",\"2008-12-15\",\"2008-12-18\",\"2008-12-19\",\"2008-12-23\",\"2009-01-13\",\"2009-01-23\",\"2009-01-26\",\"2009-02-10\",\"2009-02-13\",\"2009-03-11\",\"2009-03-16\",\"2009-03-18\",\"2009-03-19\",\"2009-03-23\",\"2009-03-24\",\"2009-04-06\",\"2009-04-08\",\"2009-04-09\",\"2009-04-15\",\"2009-04-24\",\"2009-05-06\",\"2009-05-18\",\"2009-06-09\",\"2009-06-11\",\"2009-06-12\",\"2009-06-15\",\"2009-06-22\",\"2009-06-24\",\"2009-06-30\",\"2009-07-13\",\"2009-07-16\",\"2009-07-17\",\"2009-07-22\",\"2009-08-25\",\"2009-09-01\",\"2009-09-10\",\"2009-09-28\",\"2009-10-13\",\"2009-10-26\",\"2009-11-03\",\"2009-11-13\",\"2009-12-11\",\"2009-12-31\",\"2010-01-06\",\"2010-01-11\",\"2010-01-20\",\"2010-01-22\",\"2010-01-25\",\"2010-01-26\",\"2010-01-29\",\"2010-02-03\",\"2010-02-26\",\"2010-03-12\",\"2010-03-26\",\"2010-04-05\",\"2010-04-12\",\"2010-04-15\",\"2010-04-26\",\"2010-04-28\",\"2010-05-03\",\"2010-05-06\",\"2010-05-25\",\"2010-06-08\",\"2010-06-22\",\"2010-07-01\",\"2010-07-12\",\"2010-07-20\",\"2010-07-23\",\"2010-07-27\",\"2010-08-03\",\"2010-08-04\",\"2010-08-12\",\"2010-08-19\",\"2010-09-01\",\"2010-09-22\",\"2010-09-24\",\"2010-09-27\",\"2010-10-01\",\"2010-10-05\",\"2010-10-06\",\"2010-11-02\",\"2010-11-03\",\"2010-11-09\",\"2010-11-16\",\"2010-11-30\",\"2010-12-21\",\"2010-12-27\",\"2011-01-07\",\"2011-01-14\",\"2011-01-19\",\"2011-01-21\",\"2011-01-24\",\"2011-01-28\",\"2011-01-31\",\"2011-02-01\",\"2011-02-14\",\"2011-02-17\",\"2011-02-28\",\"2011-03-01\",\"2011-03-18\",\"2011-03-23\",\"2011-03-25\",\"2011-04-04\",\"2011-04-05\",\"2011-04-06\",\"2011-04-14\",\"2011-04-15\",\"2011-04-20\",\"2011-04-25\",\"2011-04-26\",\"2011-04-29\",\"2011-05-05\",\"2011-05-12\",\"2011-05-24\",\"2011-06-09\",\"2011-06-23\",\"2011-06-24\",\"2011-06-28\",\"2011-07-05\",\"2011-07-15\",\"2011-07-18\",\"2011-07-25\",\"2011-07-26\",\"2011-07-28\",\"2011-08-04\",\"2011-08-11\",\"2011-08-15\",\"2011-08-17\",\"2011-08-19\",\"2011-09-02\",\"2011-09-06\",\"2011-09-07\",\"2011-09-09\",\"2011-09-12\",\"2011-09-20\",\"2011-09-21\",\"2011-09-28\",\"2011-09-30\",\"2011-10-03\",\"2011-10-04\",\"2011-10-05\",\"2011-10-06\",\"2011-10-14\",\"2011-10-18\",\"2011-10-25\",\"2011-10-27\",\"2011-10-31\",\"2011-11-02\",\"2011-11-16\",\"2011-11-18\",\"2011-11-23\",\"2011-11-29\",\"2011-12-02\",\"2011-12-12\",\"2011-12-28\",\"2011-12-30\",\"2012-01-05\",\"2012-01-11\",\"2012-01-19\",\"2012-01-26\",\"2012-01-27\",\"2012-02-01\",\"2012-02-02\",\"2012-02-06\",\"2012-02-07\",\"2012-02-15\",\"2012-02-24\",\"2012-02-28\",\"2012-03-12\",\"2012-03-19\",\"2012-03-30\",\"2012-04-09\",\"2012-04-23\",\"2012-04-25\",\"2012-05-02\",\"2012-05-11\",\"2012-05-22\",\"2012-05-23\",\"2012-05-24\",\"2012-05-25\",\"2012-05-31\",\"2012-06-07\",\"2012-06-08\",\"2012-06-18\",\"2012-06-28\",\"2012-06-29\",\"2012-07-09\",\"2012-07-23\",\"2012-07-27\",\"2012-07-31\",\"2012-08-02\",\"2012-08-17\",\"2012-08-24\",\"2012-08-28\",\"2012-10-02\",\"2012-10-19\",\"2012-10-23\",\"2012-10-24\",\"2012-11-01\",\"2012-11-05\",\"2012-11-12\",\"2012-11-14\",\"2012-11-16\",\"2012-11-20\",\"2012-11-27\",\"2012-11-29\",\"2012-12-17\",\"2012-12-24\",\"2013-01-03\",\"2013-01-09\",\"2013-01-14\",\"2013-02-04\",\"2013-02-11\",\"2013-02-12\",\"2013-02-13\",\"2013-02-27\",\"2013-03-04\",\"2013-03-06\",\"2013-03-15\",\"2013-03-18\",\"2013-04-01\",\"2013-04-04\",\"2013-04-05\",\"2013-04-29\",\"2013-05-02\",\"2013-05-15\",\"2013-06-05\",\"2013-06-07\",\"2013-06-24\",\"2013-07-08\",\"2013-07-18\",\"2013-07-24\",\"2013-08-01\",\"2013-08-02\",\"2013-08-05\",\"2013-08-08\",\"2013-08-21\",\"2013-08-27\",\"2013-09-09\",\"2013-09-16\",\"2013-09-19\",\"2013-09-20\",\"2013-09-30\",\"2013-10-02\",\"2013-10-07\",\"2013-10-10\",\"2013-11-04\",\"2013-11-06\",\"2013-11-11\",\"2013-11-14\",\"2013-11-15\",\"2013-11-26\",\"2013-12-04\",\"2013-12-17\",\"2014-01-02\",\"2014-01-14\",\"2014-01-15\",\"2014-01-23\",\"2014-02-04\",\"2014-02-06\",\"2014-02-13\",\"2014-02-18\",\"2014-02-19\",\"2014-02-25\",\"2014-03-12\",\"2014-03-13\",\"2014-03-31\",\"2014-04-03\",\"2014-04-08\",\"2014-04-10\",\"2014-04-21\",\"2014-05-05\",\"2014-05-07\",\"2014-05-19\",\"2014-05-21\",\"2014-06-05\",\"2014-06-20\",\"2014-06-23\",\"2014-06-26\",\"2014-06-30\",\"2014-07-17\",\"2014-07-21\",\"2014-07-23\",\"2014-07-31\",\"2014-08-07\",\"2014-08-12\",\"2014-08-13\",\"2014-08-15\",\"2014-08-25\",\"2014-09-03\",\"2014-09-17\",\"2014-09-26\",\"2014-09-30\",\"2014-10-03\",\"2014-10-08\",\"2014-10-14\",\"2014-10-21\",\"2014-10-28\",\"2014-10-31\",\"2014-11-05\",\"2014-11-06\",\"2014-11-14\",\"2014-12-02\",\"2014-12-12\",\"2014-12-15\",\"2014-12-18\",\"2015-01-08\",\"2015-01-09\",\"2015-01-13\",\"2015-01-16\",\"2015-01-22\",\"2015-01-23\",\"2015-01-27\",\"2015-02-05\",\"2015-02-25\",\"2015-03-05\",\"2015-03-10\",\"2015-03-11\",\"2015-03-16\",\"2015-03-20\",\"2015-03-24\",\"2015-03-27\",\"2015-03-30\",\"2015-04-02\",\"2015-04-23\",\"2015-05-05\",\"2015-05-07\",\"2015-05-13\",\"2015-05-15\",\"2015-05-22\",\"2015-05-27\",\"2015-05-28\",\"2015-05-29\",\"2015-07-01\",\"2015-07-07\",\"2015-07-08\",\"2015-07-10\",\"2015-07-14\",\"2015-07-15\",\"2015-07-28\",\"2015-07-30\",\"2015-08-12\",\"2015-08-24\",\"2015-08-26\",\"2015-08-27\",\"2015-09-08\",\"2015-09-09\",\"2015-09-10\",\"2015-09-15\",\"2015-09-16\",\"2015-09-21\",\"2015-09-29\",\"2015-10-06\",\"2015-10-13\",\"2015-10-16\",\"2015-10-20\",\"2015-10-30\",\"2015-11-06\",\"2015-11-30\",\"2015-12-21\",\"2015-12-29\",\"2015-12-30\",\"2016-01-06\",\"2016-01-14\",\"2016-01-25\",\"2016-01-29\",\"2016-02-05\",\"2016-02-19\",\"2016-02-22\",\"2016-02-23\",\"2016-03-08\",\"2016-03-15\",\"2016-03-18\",\"2016-03-21\",\"2016-03-23\",\"2016-03-31\",\"2016-04-14\",\"2016-04-15\",\"2016-04-18\",\"2016-04-28\",\"2016-05-05\",\"2016-05-13\",\"2016-05-16\",\"2016-05-18\",\"2016-05-19\",\"2016-05-24\",\"2016-05-27\",\"2016-05-31\",\"2016-06-03\",\"2016-06-13\",\"2016-06-15\",\"2016-06-20\",\"2016-06-27\",\"2016-07-01\",\"2016-07-22\",\"2016-08-01\",\"2016-08-02\",\"2016-08-12\",\"2016-08-16\",\"2016-09-01\",\"2016-09-15\",\"2016-09-23\",\"2016-10-07\",\"2016-10-24\",\"2016-10-27\",\"2016-10-28\",\"2016-11-01\",\"2016-11-18\",\"2016-11-22\",\"2016-11-30\",\"2016-12-08\",\"2016-12-22\",\"2016-12-27\",\"2017-01-03\",\"2017-01-05\",\"2017-01-06\",\"2017-01-31\",\"2017-02-15\",\"2017-03-10\",\"2017-03-14\",\"2017-03-17\",\"2017-03-20\",\"2017-03-21\",\"2017-03-31\",\"2017-04-05\",\"2017-04-19\",\"2017-04-24\",\"2017-05-02\",\"2017-05-15\",\"2017-05-17\",\"2017-06-01\",\"2017-06-08\",\"2017-06-09\",\"2017-06-13\",\"2017-06-22\",\"2017-06-26\",\"2017-06-29\",\"2017-07-24\",\"2017-07-31\",\"2017-08-09\",\"2017-08-11\",\"2017-08-22\",\"2017-08-23\",\"2017-08-25\",\"2017-09-12\",\"2017-09-13\",\"2017-09-18\",\"2017-09-20\",\"2017-10-04\",\"2017-10-06\",\"2017-11-24\",\"2017-12-04\",\"2017-12-06\",\"2017-12-12\",\"2017-12-18\",\"2017-12-19\",\"2017-12-20\",\"2017-12-29\",\"2018-01-10\",\"2018-01-11\",\"2018-01-19\",\"2018-01-24\",\"2018-01-25\",\"2018-01-30\",\"2018-02-01\",\"2018-02-05\",\"2018-02-07\",\"2018-02-22\",\"2018-02-28\",\"2018-03-01\",\"2018-03-02\",\"2018-03-12\",\"2018-03-13\",\"2018-03-16\",\"2018-03-20\",\"2018-04-04\",\"2018-04-05\",\"2018-04-12\",\"2018-04-20\",\"2018-05-04\",\"2018-05-14\",\"2018-05-15\",\"2018-05-25\",\"2018-05-30\",\"2018-06-13\",\"2018-06-19\",\"2018-06-25\",\"2018-07-03\",\"2018-07-19\",\"2018-07-20\",\"2018-07-30\",\"2018-08-27\",\"2018-08-29\",\"2018-09-04\",\"2018-09-06\",\"2018-09-11\",\"2018-09-26\",\"2018-09-27\",\"2018-10-12\",\"2018-10-16\",\"2018-10-25\",\"2018-10-31\",\"2018-11-08\",\"2018-11-09\",\"2018-11-12\",\"2018-11-15\",\"2018-11-16\",\"2018-11-19\",\"2018-11-21\",\"2018-11-28\",\"2018-12-13\",\"2018-12-20\",\"2019-01-25\",\"2019-02-14\",\"2019-03-01\",\"2019-03-05\",\"2019-03-06\",\"2019-03-15\",\"2019-03-18\",\"2019-03-20\",\"2019-03-25\",\"2019-03-27\",\"2019-03-29\",\"2019-04-01\",\"2019-04-02\",\"2019-04-04\",\"2019-04-08\",\"2019-04-12\",\"2019-04-18\",\"2019-04-24\",\"2019-04-29\",\"2019-05-06\",\"2019-05-17\",\"2019-05-22\",\"2019-06-03\",\"2019-06-10\",\"2019-06-14\",\"2019-06-18\",\"2019-06-25\",\"2019-07-02\",\"2019-07-10\",\"2019-07-25\",\"2019-08-07\",\"2019-08-08\",\"2019-08-13\",\"2019-09-06\",\"2019-09-09\",\"2019-09-10\",\"2019-09-11\",\"2019-09-23\",\"2019-09-25\",\"2019-10-10\",\"2019-10-24\",\"2019-10-31\",\"2019-11-01\",\"2019-11-04\",\"2019-11-22\",\"2019-12-03\",\"2019-12-11\",\"2019-12-19\",\"2019-12-24\",\"2019-12-27\",\"2020-01-06\",\"2020-01-09\",\"2020-01-16\",\"2020-01-17\",\"2020-01-31\",\"2020-02-05\",\"2020-02-13\",\"2020-02-19\",\"2020-02-21\",\"2020-03-04\",\"2020-03-06\",\"2020-03-10\",\"2020-03-12\",\"2020-03-25\"],\"y\":[3.839580100439325,3.9861137408836216,4.018416714489113,4.09899215730378,4.194944922079336,4.42705389754868,4.140551192281249,4.213286351966204,4.2462554329287245,4.2846116908280045,4.114237761394944,4.145324707545452,3.789689288183041,3.643352299136498,3.6218430569744386,3.471316157138048,3.532909407858324,3.5542829631239314,3.451193685573874,3.5397255816501896,3.6812730660960318,3.3993647532826925,3.5757175913850987,3.6685721754799863,3.6823252462492735,3.677526607783251,3.7720844313735866,3.7844872923091204,3.7772624305101825,3.618268733176947,3.897839558169589,3.6986630317919404,3.6994965092847365,3.5679371242515923,3.5670814109738807,3.7959959589087013,3.809150090029952,3.5608618493621433,3.815059583375005,4.203830047728419,4.229323304823621,4.201876957960447,4.061695821363474,4.094519295349825,3.872656985013185,3.7089118060014203,3.4561497219562725,3.579056179315394,3.6727407653349284,3.8029982602462864,3.8648928423643705,3.868167143420279,3.6715804635693496,3.6585513970469132,3.4228234517064973,3.1021129036344988,3.523981967204751,3.480959816216521,3.451076227721488,3.420977023462059,3.2968166466997513,3.3598690825083835,3.325121499556371,3.338714891024041,2.9198987381526056,3.13333220227108,3.0316614980320575,3.1007439195298083,3.086226771383777,3.0823310609121046,3.021911763411068,3.1331749502874686,3.0095982094014837,3.0181892861249544,3.287760151655239,3.353717214278123,3.517751856852984,3.7077172951754,3.7243244441883143,3.868073270495341,3.9851822428481585,4.005688994656861,4.1931637001863,4.097566002392641,3.9585795332678515,3.837058048433025,3.9520415752016813,4.033097126666383,4.1799445584610035,4.1366894263128255,4.144458233581646,4.148497224352106,4.140642193415312,4.0899228945931885,4.115826912857033,4.091257454322309,4.133705930008802,4.020518409765382,4.049237513981897,3.7222670286628934,3.593673451553213,4.087584288399328,3.9986143715762053,4.16775886470269,4.264591752026983,4.2303024771978714,4.089794162522972,4.08948448295288,3.887315628084159,3.7242791585633803,3.6727994817739518,3.7584351346883147,3.3358078125944393,3.24761209114824,3.1693627189183413,3.1843710302158628,3.1964629771217985,3.277877444244725,3.2626946583342105,3.422858229289332,3.64156082357097,3.7110681624125395,3.7564954422938577,3.7187060024355207,3.792338905043663,3.713562182151373,3.921713647341269,3.9594315331127135,3.9512200073587254,3.9436689355754897,3.9518160832406783,4.28901142735777,4.4779698730992,4.2890269671908134,4.180382181674237,4.105691414479934,4.2265495287028685,4.56197899115381,4.452259885384956,4.468655958081973,4.6593513970142375,4.963896844207264,5.2083068450545085,4.918687695850894,4.8280015065874995,4.79989237669347,4.853065444891385,4.787522631296628,4.713309056389397,5.029811837897507,5.182166216877259,5.122353033306276,5.0976972080939795,5.048371864074813,5.069424155627501,5.037282706156718,4.9473842710718525,5.0459587676705935,5.0615132764724935,5.022091135345705,5.20964397703456,5.347748093686889,5.488307572131509,5.53961725593839,5.494971616217678,5.14029410262933,5.283221997205006,5.318294518191785,5.5766005095491815,5.76187807588725,5.692404035099469,5.70380475557417,6.956590980569529,6.438311649642036,6.749924621067239,6.44997857292796,6.347827885005472,6.356557447779163,6.472303704667226,7.142007227106602,6.884651659927564,6.922025810720111,6.7667118151448005,7.011677088277141,7.318084984247903,7.356252006850088,7.416686623954418,7.189253967748916,7.109296918186042,7.028879950633938,6.891708457642256,6.506073266572373,7.255819370110213,7.473026004703159,7.5998930324189615,7.401069501639381,7.823386269554174,7.91998632850302,7.964763798230361,8.010246523900378,7.738398587772807,7.971759856541368,8.132190092380766,8.36364459913236,8.894400145282368,9.282638732024179,10.057056358140608,10.471772224629921,10.400510591624082,10.327563973576096,10.247915964817862,9.932462756197546,10.869436818030662,9.939390871192652,9.386992506544134,10.474574298308028,10.136291752481386,10.197843785118465,10.165486974021718,10.829441356993357,10.894048044215495,10.600999339808842,10.789171886512031,12.916302945190107,13.331563597763463,14.05266873987371,14.095093537425704,14.642713539929414,14.38881522175573,14.652051830976466,14.199589524939704,14.37974548641889,14.097766850805419,13.26128270948079,13.107496970438728,13.41573526753894,13.435297310729924,13.598876570987397,14.155679523527043,14.876069798257282,15.288900754152404,18.596931744885083,17.974177683694435,18.395678809749434,18.30437545012129,20.09248555755239,19.677767287968926,19.79001930007114,20.31069155843933,22.556693840109826,22.084405558333582,24.056958361138566,22.54139928333707,24.15310228277632,21.90084651811754,22.410237980018323,21.33585234648307,19.907337837579128,19.578814263614696,18.93959757207825,19.502101631970103,20.83766561551524,20.829987992878067,23.48135366833826,23.49092439907831,23.866555780152446,23.11085389671495,22.738409985128897,23.18145888956087,23.944767950372047,24.369393971981847,24.787825957738885,25.00177636255978,24.749808676199333,25.3816359768617,25.40965808792174,25.00736439717725,24.92470321838284,26.15001370781507,28.433700886222166,30.044767414184737,30.184947240037804,26.305764964171793,27.430023270382403,27.268920860147503,28.627513814469086,28.72482259187443,28.128352948761755,28.42041396914156,30.21335457872575,30.844723597304107,31.07213015231422,28.99619267436939,26.914114389739236,27.155225988601565,27.354240323230027,26.103974846252807,24.993863400737535,23.056160392154915,23.806023947567834,27.972948841843603,26.438494040137538,25.324755756927463,27.013684811112288,26.69586900745188,25.96098987283943,26.577760240305942,26.851445061595857,23.681834432760294,21.033172050108377,22.145284229478108,22.768747726134745,26.726016905163036,25.69008740593155,26.072214523825522,25.207299104507452,25.76885352034074,27.416660525920932,26.25189938342248,25.91769081005444,25.72468445359776,26.509217140774133,24.576789390501645,23.48822427334624,24.10844000182786,25.00466658133014,25.16203768067188,25.681207543346698,26.16586446150608,25.505313003300554,26.58828709775993,29.48411444601976,29.784597864638453,29.015162419225152,30.32095516721978,30.380088567504206,32.26400766957747,31.521856547796034,32.677444790311995,33.262371957325115,34.689863833144784,33.54766053737711,33.59563734595511,34.323715331016146,36.712201001093135,36.25242008039153,33.5559009847623,32.95395174037024,34.10465351049517,34.377212576854475,36.432670571383184,37.50001099466101,37.82245555201543,37.00174823631667,37.54655905964721,37.07421993537528,39.99063972618207,41.574428860816795,33.658262838937645,35.1228260330051,35.8815103489424,36.46658115611875,37.50772662921534,38.026735329551855,36.115174350883166,30.854756436014373,29.74400055404895,31.129079596270053,31.063285383314156,31.211428162331522,32.493312956466966,36.635867884776275,38.67689272937589,37.39032589414775,37.658211601273706,37.00302277043298,32.38859838958416,34.92907850792173,34.23268912211833,34.7012600791184,37.089772017501886,39.16680558584608,42.2551030464699,43.78393972143034,41.551139469837864,52.18485860014172,48.662539132236745,51.75092444061853,49.964681982038755,51.44562766109782,53.69854720160639,48.27493646262867,45.6169521268325,38.2431071483858,39.67393910116331,36.27774487817224,38.70328518074024,37.5893034839868,41.532118869793635,40.91786187267054,41.6617318111164,34.94692808804099,38.01434982076104,39.300297686604836,40.63937688257607,23.656251546658332,20.481004755405422,27.294897858711845,22.518746669486823,21.873279680217763,19.248102147782514,15.900169737898068,18.278710947281994,18.8275833903601,18.653008876838452,18.390813614773595,18.111590852593444,19.605122912607932,18.19256991394764,18.435673017093986,18.070048438536592,17.1738455946546,17.800321216504237,18.927007642726398,19.78365035514285,20.602559624607334,21.746645199179422,20.829522830992996,21.65293873377429,21.33110841623627,22.3218787496907,22.967990789709635,24.611399453545324,26.64724474637856,26.25822357149625,28.78398102150765,29.81187735488267,28.882062140121743,27.561211742710757,23.76582498669696,24.45018058328303,26.26766349026391,24.755396232325978,27.44377045966449,28.14723522346214,27.78479277225088,29.76697180624009,28.009626448178672,31.484051345298234,33.51761717539787,36.280574420521845,34.55631317690761,32.27942727807921,33.329637563239615,32.30354559207976,35.94439185258854,36.917203823508316,35.9263579907429,34.14991413301206,33.125959084267905,33.22124491832531,33.017718139674244,31.926841711038737,33.80950993077474,33.874687286435645,36.7524043928634,35.043429456833195,39.78883171803511,39.25343018844623,39.33640336870178,39.11698321487691,37.80881436523637,39.09311219551914,34.50106631295873,32.11841500477563,34.52767061592283,35.73771375535587,33.02411403337767,35.30116143207276,34.742653708749415,35.180706244994724,35.46539973571048,35.44795148364442,35.71722257498172,32.68904331144307,32.6475853293157,33.32970562216312,32.50674718783473,33.04992700048862,33.15697020016141,36.15098932352596,36.71245557675448,37.54431253859666,37.44658495368262,37.27545442125077,39.43458722550639,37.84802077238034,38.504303103416945,43.11585653760878,43.49449068162778,41.360637459831196,41.78932870211713,42.419702021857844,42.70872344184987,42.37949231586754,43.03171416548922,44.55075089099219,45.3689093077751,44.903457106103545,47.79775085825503,49.96187404929006,50.118764916215184,48.26355858813203,49.18891720880008,48.67583503265794,48.995061466992894,49.62691980699293,49.104431244216386,44.30231096268153,45.162293196815014,46.36043841608351,45.84099167677451,46.0718006426591,46.84352205356609,42.60638422987034,41.49625635115912,41.62615488095973,41.39835525978589,39.81957034668335,38.71603133643541,40.00322548425957,42.98160611928654,41.674494714759575,41.096447515364076,43.79626620502668,43.07173875835565,41.199195335299706,36.59782018472187,36.65105343907858,37.56875273657049,36.77965128282868,33.452875850432534,35.48966958211676,34.94064684798818,36.18386240795887,34.34187811225367,33.948099356626685,33.13586097095197,31.766664419671535,29.605319143707284,29.097039923755336,27.47146697248304,27.620846038440142,29.5625389267414,30.25078274637073,32.50574817550401,32.336664830481524,33.19313183725788,36.19393043893946,35.15903900307018,34.554009997371224,37.90089349403725,35.94666071583495,33.2868772776682,35.11230013102292,36.9107309205162,36.1271774022711,35.861934687717536,37.2729778366442,38.61738747406825,37.60926726488702,38.659236812949544,40.063332876126225,40.23453936626683,40.1068837927573,40.318101622654865,40.58116910712879,38.923607352951635,36.52551932012972,38.05989261982721,37.62307904428059,34.5677356960302,35.848974007303866,33.152535805246,31.84686969438462,31.78860911782215,32.91982147569716,34.49127656291978,31.008034330730304,30.43514673573483,30.849793548776603,30.628392268007797,30.835675214401718,28.647290630815082,27.9080494812699,27.41497590300997,27.736091697462193,25.75615821254317,26.78216219489722,25.830005970924223,28.333089965584925,27.935417651985276,27.228008151944845,26.562046006010444,31.946775700122405,31.3412773947838,30.855377318376355,31.63631377857427,31.34256272026152,29.982508023704625,29.750407106375203,30.319594032238456,30.11864704136205,27.857085154386578,27.707148324576632,27.33645928925612,27.653883114479193,28.141961867394127,28.785638519507497,28.258229911600644,29.134410811356442,29.937671160823573,29.63858571436105,29.75200913019678,30.102783362005656,30.471326061978083,31.613190287380032,31.834840220482633,30.22258130905016,30.492494607104465,30.150111349839612,32.98129071722121,32.546191108096906,31.83561791166607,30.58827465376748,30.47894857268102,29.630974098541433,29.278429576856936,29.29302470151681,28.862446523439868,29.104929353098363,28.09536222471873,29.5892920188707,32.77969542520928,32.883665718755324,31.570299458401724,31.45160300801297,31.419215793348602,30.777353862100476,29.2326959020468,30.35727573590037,31.192213345838343,31.782166672643093,31.65738575235065,31.523881231790284,31.520914779924333,31.242765033532645,31.18726667155678,32.13260210150629,31.254200282391093,31.14702340221911,31.059657900668757,31.76945171810986,32.63437044615783,32.563368314955014,32.48892682670734,31.94664511051708,33.17277171404373,32.96161933759383,32.87813685915674,32.670453136239786,33.45752511897345,34.315596332020604,35.327055769408005,35.852035961941056,36.842067810582066,36.97573248788504,36.15217850188537,35.610397849621634,38.32423386124489,39.46019256852067,40.07488486610163,40.11785348424692,40.46912876241289,40.93489894802025,40.94790424341211,39.72734090720324,40.547303410994544,41.62849859281789,45.179891884799076,45.71239533345221,45.34228919553547,45.95405464687799,44.00046468481888,45.13656190264699,45.75221044313332,43.54547296785326,40.99439793745876,41.71710989555187,41.24448009189793,41.630677425221236,42.43180939308152,42.30157260542465,41.27326686497699,39.69073818000895,38.828374172057664,36.73718395609512,35.86047947040282,32.398486207874356,34.84214460327351,34.72267479447139,34.719366406918255,33.45685457937772,34.47841182890309,36.08175685510733,34.532259346005134,28.86120048333116,27.41942116596887,30.2104036101489,27.874219817955154,27.913880701039798,26.857514989694057,29.80575630334314,29.255972308272476,29.22532166106427,29.48039406973174,31.257973892858843,30.21808792881629,30.8576849058721,28.717051966475672,28.778711418422418,29.0698104871413,29.624367854869096,30.299445515349113,30.703359989452867,30.807488862840614,31.387158534967956,33.496843135695784,32.798005690728715,31.38773797003592,31.910733123287354,31.566220609299283,31.39567666361124,30.499070254232535,30.786470015408494,30.864491926794546,26.539684257222678,26.419667500305252,25.93306049355542,25.956990513426597,26.25579700451102,25.56888478609801,23.60026223368748,24.429330236194343,24.84888315480926,19.93436181759356,19.53947159263983,21.282119455384695,21.01810040279166,20.54943385037218,20.837823774685564,19.937154695379803,21.253702595713303,20.708981838627263,19.699739548511225,22.828189319257444,23.52524545636861,24.11294762023327,23.989060582072373,23.33081065839953,25.352261124042396,24.311135548513167,20.613689382290588,22.618063973336064,21.87457813407782,20.913048627913277,17.888776979744886,17.536604395552168,21.32767565791154,21.86668414942676,20.44323839841932,21.011151508724186,20.007289491553014,25.266650874212417,26.63944096815329,27.49769805458057,27.227354449860073,26.376066172523153,27.029808192371938,29.16928402678276,28.56863835690397,29.445623926214243,30.19778539179792,27.69721675217358,28.489301748991323,29.186619548788265,29.16328708551837,28.661189364374604,28.942089634603946,29.818866750473926,29.802897491565982,29.529377747058383,28.70433770146622,28.78422518668391,30.0213325492902,28.867143304242468,30.903912316039982,31.62204255798782,29.084771650984504,29.705329519833025,32.060507418720505,32.35976217385566,31.18511487867971,29.19462396750026,29.641302416037423,31.873640035718125,33.204245565086424,32.500127647211926,32.40322491646785,31.63068381080499,31.89434560702675,32.62587580369754,33.65107549633359,33.16609119789932,32.46517187485783,32.039750635199184,32.541820557107314,32.79712096124699,32.627268163644814,30.20364590787771,30.51862154294441,31.98895192747261,31.179139138429612,32.77391854753073,32.264870806542206,31.833536954609837,32.89239068902971,33.18515776271356,32.431570947828504,32.72217488470304,31.591108229092658,31.34416629634025,30.20419391472851,29.22162141570051,28.70072079054887,29.26110021918541,29.70212059662185,28.516332032694386,28.32225681935431,29.203392691296617,29.837043394687033,30.620274538865782,32.154047068859555,31.25075144924791,30.437287455669352,30.879823837958916,31.035784759080876,32.14449113548247,33.0362435222944,32.80807955246401,33.62413062992704,33.62288678262715,32.81722966363634,34.604914714271416,34.858510087463486,34.53405010181335,34.484421198551274,33.69331159708564,33.77797091505309,34.17631618902932,35.74205867808527,36.498008821264776,36.77954272552998,36.09450597020209,36.20113112857243,35.90860428596544,34.6171641116177,34.61405617877446,32.08737749610695,30.64017070631838,31.537120984068363,31.459346201540516,31.072044028939366,30.83081868451817,30.04132543704969,29.954158096934773,30.36973186064045,30.08306441551643,32.38297464985109,33.71974434883515,34.460349777790455,35.294432383199876,35.505413630191256,36.87086143597689,36.4778361438989,34.49924662745505,35.2492009408696,33.05246376039304,31.51030491920241,32.87657261150393,35.95702871981803,35.18725775125384,35.22742487728469,36.54028271551522,35.679995842084736,35.60424687075805,33.26331207503658,32.67652100697258,31.8733341870118,33.02241427238715,33.1342934175034,29.008534237994386,29.372028261528435,28.050087098570348,27.233291362664627,29.064017081599935,28.170484862079938,28.075407231334555,27.022305081538985,27.025158690376504,27.21836197218295,26.965176627786686,24.322529866248257,26.360489650699968,24.104789722276692,26.32779046460282,26.74030846408265,28.616908889592093,27.29046993070505,26.65129285178186,27.791316157212368,28.082613584874014,28.46901030619767,27.170225080619822,27.140691117991953,27.47684253131818,28.004727829664546,27.757685609784293,27.70480182478901,29.220473517368458,29.840985456225397,31.296319611106423,30.462449349144432,30.141350798164073,28.003377774475275,27.312769612102368,26.888130626652686,26.564794550877288,26.785944974930946,26.541661709174136,27.234487525982672,27.62021022597541,26.513846501864872,27.577308247636555,24.994182002485726,23.738394922193656,24.513636992150058,24.14574054601048,23.920054045394235,24.827330388640622,25.7616264490828,25.45038942247423,27.639523501917832,27.01798921096745,24.79920278818419,25.56418883219537,25.238245680684066,25.85393191125822,26.599361831446103,27.995720398326213,27.488248862074645,29.592584766735335,31.697370219120003,31.862716857770263,32.09877388888958,32.380620536170596,32.176119243527225,31.750994759962325,31.78179801904373,28.248774299136926,29.23909537927541,29.28616571123758,30.503679791912536,30.130818444669835,24.63992860163166,22.567965273390307,15.805295785465825,11.942930349646542,10.267388925932313],\"type\":\"scatter\"}],                        {\"template\":{\"data\":{\"histogram2dcontour\":[{\"type\":\"histogram2dcontour\",\"colorbar\":{\"outlinewidth\":0,\"ticks\":\"\"},\"colorscale\":[[0.0,\"#0d0887\"],[0.1111111111111111,\"#46039f\"],[0.2222222222222222,\"#7201a8\"],[0.3333333333333333,\"#9c179e\"],[0.4444444444444444,\"#bd3786\"],[0.5555555555555556,\"#d8576b\"],[0.6666666666666666,\"#ed7953\"],[0.7777777777777778,\"#fb9f3a\"],[0.8888888888888888,\"#fdca26\"],[1.0,\"#f0f921\"]]}],\"choropleth\":[{\"type\":\"choropleth\",\"colorbar\":{\"outlinewidth\":0,\"ticks\":\"\"}}],\"histogram2d\":[{\"type\":\"histogram2d\",\"colorbar\":{\"outlinewidth\":0,\"ticks\":\"\"},\"colorscale\":[[0.0,\"#0d0887\"],[0.1111111111111111,\"#46039f\"],[0.2222222222222222,\"#7201a8\"],[0.3333333333333333,\"#9c179e\"],[0.4444444444444444,\"#bd3786\"],[0.5555555555555556,\"#d8576b\"],[0.6666666666666666,\"#ed7953\"],[0.7777777777777778,\"#fb9f3a\"],[0.8888888888888888,\"#fdca26\"],[1.0,\"#f0f921\"]]}],\"heatmap\":[{\"type\":\"heatmap\",\"colorbar\":{\"outlinewidth\":0,\"ticks\":\"\"},\"colorscale\":[[0.0,\"#0d0887\"],[0.1111111111111111,\"#46039f\"],[0.2222222222222222,\"#7201a8\"],[0.3333333333333333,\"#9c179e\"],[0.4444444444444444,\"#bd3786\"],[0.5555555555555556,\"#d8576b\"],[0.6666666666666666,\"#ed7953\"],[0.7777777777777778,\"#fb9f3a\"],[0.8888888888888888,\"#fdca26\"],[1.0,\"#f0f921\"]]}],\"heatmapgl\":[{\"type\":\"heatmapgl\",\"colorbar\":{\"outlinewidth\":0,\"ticks\":\"\"},\"colorscale\":[[0.0,\"#0d0887\"],[0.1111111111111111,\"#46039f\"],[0.2222222222222222,\"#7201a8\"],[0.3333333333333333,\"#9c179e\"],[0.4444444444444444,\"#bd3786\"],[0.5555555555555556,\"#d8576b\"],[0.6666666666666666,\"#ed7953\"],[0.7777777777777778,\"#fb9f3a\"],[0.8888888888888888,\"#fdca26\"],[1.0,\"#f0f921\"]]}],\"contourcarpet\":[{\"type\":\"contourcarpet\",\"colorbar\":{\"outlinewidth\":0,\"ticks\":\"\"}}],\"contour\":[{\"type\":\"contour\",\"colorbar\":{\"outlinewidth\":0,\"ticks\":\"\"},\"colorscale\":[[0.0,\"#0d0887\"],[0.1111111111111111,\"#46039f\"],[0.2222222222222222,\"#7201a8\"],[0.3333333333333333,\"#9c179e\"],[0.4444444444444444,\"#bd3786\"],[0.5555555555555556,\"#d8576b\"],[0.6666666666666666,\"#ed7953\"],[0.7777777777777778,\"#fb9f3a\"],[0.8888888888888888,\"#fdca26\"],[1.0,\"#f0f921\"]]}],\"surface\":[{\"type\":\"surface\",\"colorbar\":{\"outlinewidth\":0,\"ticks\":\"\"},\"colorscale\":[[0.0,\"#0d0887\"],[0.1111111111111111,\"#46039f\"],[0.2222222222222222,\"#7201a8\"],[0.3333333333333333,\"#9c179e\"],[0.4444444444444444,\"#bd3786\"],[0.5555555555555556,\"#d8576b\"],[0.6666666666666666,\"#ed7953\"],[0.7777777777777778,\"#fb9f3a\"],[0.8888888888888888,\"#fdca26\"],[1.0,\"#f0f921\"]]}],\"mesh3d\":[{\"type\":\"mesh3d\",\"colorbar\":{\"outlinewidth\":0,\"ticks\":\"\"}}],\"scatter\":[{\"fillpattern\":{\"fillmode\":\"overlay\",\"size\":10,\"solidity\":0.2},\"type\":\"scatter\"}],\"parcoords\":[{\"type\":\"parcoords\",\"line\":{\"colorbar\":{\"outlinewidth\":0,\"ticks\":\"\"}}}],\"scatterpolargl\":[{\"type\":\"scatterpolargl\",\"marker\":{\"colorbar\":{\"outlinewidth\":0,\"ticks\":\"\"}}}],\"bar\":[{\"error_x\":{\"color\":\"#2a3f5f\"},\"error_y\":{\"color\":\"#2a3f5f\"},\"marker\":{\"line\":{\"color\":\"#E5ECF6\",\"width\":0.5},\"pattern\":{\"fillmode\":\"overlay\",\"size\":10,\"solidity\":0.2}},\"type\":\"bar\"}],\"scattergeo\":[{\"type\":\"scattergeo\",\"marker\":{\"colorbar\":{\"outlinewidth\":0,\"ticks\":\"\"}}}],\"scatterpolar\":[{\"type\":\"scatterpolar\",\"marker\":{\"colorbar\":{\"outlinewidth\":0,\"ticks\":\"\"}}}],\"histogram\":[{\"marker\":{\"pattern\":{\"fillmode\":\"overlay\",\"size\":10,\"solidity\":0.2}},\"type\":\"histogram\"}],\"scattergl\":[{\"type\":\"scattergl\",\"marker\":{\"colorbar\":{\"outlinewidth\":0,\"ticks\":\"\"}}}],\"scatter3d\":[{\"type\":\"scatter3d\",\"line\":{\"colorbar\":{\"outlinewidth\":0,\"ticks\":\"\"}},\"marker\":{\"colorbar\":{\"outlinewidth\":0,\"ticks\":\"\"}}}],\"scattermapbox\":[{\"type\":\"scattermapbox\",\"marker\":{\"colorbar\":{\"outlinewidth\":0,\"ticks\":\"\"}}}],\"scatterternary\":[{\"type\":\"scatterternary\",\"marker\":{\"colorbar\":{\"outlinewidth\":0,\"ticks\":\"\"}}}],\"scattercarpet\":[{\"type\":\"scattercarpet\",\"marker\":{\"colorbar\":{\"outlinewidth\":0,\"ticks\":\"\"}}}],\"carpet\":[{\"aaxis\":{\"endlinecolor\":\"#2a3f5f\",\"gridcolor\":\"white\",\"linecolor\":\"white\",\"minorgridcolor\":\"white\",\"startlinecolor\":\"#2a3f5f\"},\"baxis\":{\"endlinecolor\":\"#2a3f5f\",\"gridcolor\":\"white\",\"linecolor\":\"white\",\"minorgridcolor\":\"white\",\"startlinecolor\":\"#2a3f5f\"},\"type\":\"carpet\"}],\"table\":[{\"cells\":{\"fill\":{\"color\":\"#EBF0F8\"},\"line\":{\"color\":\"white\"}},\"header\":{\"fill\":{\"color\":\"#C8D4E3\"},\"line\":{\"color\":\"white\"}},\"type\":\"table\"}],\"barpolar\":[{\"marker\":{\"line\":{\"color\":\"#E5ECF6\",\"width\":0.5},\"pattern\":{\"fillmode\":\"overlay\",\"size\":10,\"solidity\":0.2}},\"type\":\"barpolar\"}],\"pie\":[{\"automargin\":true,\"type\":\"pie\"}]},\"layout\":{\"autotypenumbers\":\"strict\",\"colorway\":[\"#636efa\",\"#EF553B\",\"#00cc96\",\"#ab63fa\",\"#FFA15A\",\"#19d3f3\",\"#FF6692\",\"#B6E880\",\"#FF97FF\",\"#FECB52\"],\"font\":{\"color\":\"#2a3f5f\"},\"hovermode\":\"closest\",\"hoverlabel\":{\"align\":\"left\"},\"paper_bgcolor\":\"white\",\"plot_bgcolor\":\"#E5ECF6\",\"polar\":{\"bgcolor\":\"#E5ECF6\",\"angularaxis\":{\"gridcolor\":\"white\",\"linecolor\":\"white\",\"ticks\":\"\"},\"radialaxis\":{\"gridcolor\":\"white\",\"linecolor\":\"white\",\"ticks\":\"\"}},\"ternary\":{\"bgcolor\":\"#E5ECF6\",\"aaxis\":{\"gridcolor\":\"white\",\"linecolor\":\"white\",\"ticks\":\"\"},\"baxis\":{\"gridcolor\":\"white\",\"linecolor\":\"white\",\"ticks\":\"\"},\"caxis\":{\"gridcolor\":\"white\",\"linecolor\":\"white\",\"ticks\":\"\"}},\"coloraxis\":{\"colorbar\":{\"outlinewidth\":0,\"ticks\":\"\"}},\"colorscale\":{\"sequential\":[[0.0,\"#0d0887\"],[0.1111111111111111,\"#46039f\"],[0.2222222222222222,\"#7201a8\"],[0.3333333333333333,\"#9c179e\"],[0.4444444444444444,\"#bd3786\"],[0.5555555555555556,\"#d8576b\"],[0.6666666666666666,\"#ed7953\"],[0.7777777777777778,\"#fb9f3a\"],[0.8888888888888888,\"#fdca26\"],[1.0,\"#f0f921\"]],\"sequentialminus\":[[0.0,\"#0d0887\"],[0.1111111111111111,\"#46039f\"],[0.2222222222222222,\"#7201a8\"],[0.3333333333333333,\"#9c179e\"],[0.4444444444444444,\"#bd3786\"],[0.5555555555555556,\"#d8576b\"],[0.6666666666666666,\"#ed7953\"],[0.7777777777777778,\"#fb9f3a\"],[0.8888888888888888,\"#fdca26\"],[1.0,\"#f0f921\"]],\"diverging\":[[0,\"#8e0152\"],[0.1,\"#c51b7d\"],[0.2,\"#de77ae\"],[0.3,\"#f1b6da\"],[0.4,\"#fde0ef\"],[0.5,\"#f7f7f7\"],[0.6,\"#e6f5d0\"],[0.7,\"#b8e186\"],[0.8,\"#7fbc41\"],[0.9,\"#4d9221\"],[1,\"#276419\"]]},\"xaxis\":{\"gridcolor\":\"white\",\"linecolor\":\"white\",\"ticks\":\"\",\"title\":{\"standoff\":15},\"zerolinecolor\":\"white\",\"automargin\":true,\"zerolinewidth\":2},\"yaxis\":{\"gridcolor\":\"white\",\"linecolor\":\"white\",\"ticks\":\"\",\"title\":{\"standoff\":15},\"zerolinecolor\":\"white\",\"automargin\":true,\"zerolinewidth\":2},\"scene\":{\"xaxis\":{\"backgroundcolor\":\"#E5ECF6\",\"gridcolor\":\"white\",\"linecolor\":\"white\",\"showbackground\":true,\"ticks\":\"\",\"zerolinecolor\":\"white\",\"gridwidth\":2},\"yaxis\":{\"backgroundcolor\":\"#E5ECF6\",\"gridcolor\":\"white\",\"linecolor\":\"white\",\"showbackground\":true,\"ticks\":\"\",\"zerolinecolor\":\"white\",\"gridwidth\":2},\"zaxis\":{\"backgroundcolor\":\"#E5ECF6\",\"gridcolor\":\"white\",\"linecolor\":\"white\",\"showbackground\":true,\"ticks\":\"\",\"zerolinecolor\":\"white\",\"gridwidth\":2}},\"shapedefaults\":{\"line\":{\"color\":\"#2a3f5f\"}},\"annotationdefaults\":{\"arrowcolor\":\"#2a3f5f\",\"arrowhead\":0,\"arrowwidth\":1},\"geo\":{\"bgcolor\":\"white\",\"landcolor\":\"#E5ECF6\",\"subunitcolor\":\"white\",\"showland\":true,\"showlakes\":true,\"lakecolor\":\"white\"},\"title\":{\"x\":0.05},\"mapbox\":{\"style\":\"light\"}}},\"title\":{\"text\":\"Stock Prices: actual \\u002f predicted\"},\"xaxis\":{\"title\":{\"text\":\"Date\"}},\"yaxis\":{\"title\":{\"text\":\"Stock price\"}}},                        {\"responsive\": true}                    ).then(function(){\n",
              "                            \n",
              "var gd = document.getElementById('a24feb47-9d7e-4096-87fa-d9d9c710409a');\n",
              "var x = new MutationObserver(function (mutations, observer) {{\n",
              "        var display = window.getComputedStyle(gd).display;\n",
              "        if (!display || display === 'none') {{\n",
              "            console.log([gd, 'removed!']);\n",
              "            Plotly.purge(gd);\n",
              "            observer.disconnect();\n",
              "        }}\n",
              "}});\n",
              "\n",
              "// Listen for the removal of the full notebook cells\n",
              "var notebookContainer = gd.closest('#notebook-container');\n",
              "if (notebookContainer) {{\n",
              "    x.observe(notebookContainer, {childList: true});\n",
              "}}\n",
              "\n",
              "// Listen for the clearing of the current output cell\n",
              "var outputEl = gd.closest('.output');\n",
              "if (outputEl) {{\n",
              "    x.observe(outputEl, {childList: true});\n",
              "}}\n",
              "\n",
              "                        })                };                            </script>        </div>\n",
              "</body>\n",
              "</html>"
            ]
          },
          "metadata": {}
        }
      ],
      "source": [
        "plot_predictions(model_LR2, predictions=np.array(y_preds))"
      ],
      "metadata": {
        "id": "G6ZZbn6awK4W",
        "outputId": "56951fb7-4e62-4681-a7ac-2a9023d9a668",
        "colab": {
          "base_uri": "https://localhost:8080/",
          "height": 785
        }
      }
    },
    {
      "cell_type": "markdown",
      "source": [
        "# Random Forest Regressor (Випадковий ліс для регресії)"
      ],
      "metadata": {
        "collapsed": false,
        "id": "NIZovB3vwK4X"
      }
    },
    {
      "cell_type": "markdown",
      "source": [
        "Як вбудована лінійна регресія, через вбудовану функцію."
      ],
      "metadata": {
        "id": "WhBgJVl6dd3Y"
      }
    },
    {
      "cell_type": "code",
      "execution_count": null,
      "outputs": [],
      "source": [
        "model_RF = RandomForestRegressor()"
      ],
      "metadata": {
        "id": "OzO0xqE8wK4X"
      }
    },
    {
      "cell_type": "markdown",
      "source": [
        "І також тренувальні/тестувальні дані мають бути приведені до 1-вимірного масиву, тому передаємо flatten_train_data."
      ],
      "metadata": {
        "id": "2zK_pNXqdl-F"
      }
    },
    {
      "cell_type": "code",
      "execution_count": null,
      "outputs": [
        {
          "output_type": "execute_result",
          "data": {
            "text/plain": [
              "RandomForestRegressor()"
            ],
            "text/html": [
              "<style>#sk-container-id-2 {color: black;background-color: white;}#sk-container-id-2 pre{padding: 0;}#sk-container-id-2 div.sk-toggleable {background-color: white;}#sk-container-id-2 label.sk-toggleable__label {cursor: pointer;display: block;width: 100%;margin-bottom: 0;padding: 0.3em;box-sizing: border-box;text-align: center;}#sk-container-id-2 label.sk-toggleable__label-arrow:before {content: \"▸\";float: left;margin-right: 0.25em;color: #696969;}#sk-container-id-2 label.sk-toggleable__label-arrow:hover:before {color: black;}#sk-container-id-2 div.sk-estimator:hover label.sk-toggleable__label-arrow:before {color: black;}#sk-container-id-2 div.sk-toggleable__content {max-height: 0;max-width: 0;overflow: hidden;text-align: left;background-color: #f0f8ff;}#sk-container-id-2 div.sk-toggleable__content pre {margin: 0.2em;color: black;border-radius: 0.25em;background-color: #f0f8ff;}#sk-container-id-2 input.sk-toggleable__control:checked~div.sk-toggleable__content {max-height: 200px;max-width: 100%;overflow: auto;}#sk-container-id-2 input.sk-toggleable__control:checked~label.sk-toggleable__label-arrow:before {content: \"▾\";}#sk-container-id-2 div.sk-estimator input.sk-toggleable__control:checked~label.sk-toggleable__label {background-color: #d4ebff;}#sk-container-id-2 div.sk-label input.sk-toggleable__control:checked~label.sk-toggleable__label {background-color: #d4ebff;}#sk-container-id-2 input.sk-hidden--visually {border: 0;clip: rect(1px 1px 1px 1px);clip: rect(1px, 1px, 1px, 1px);height: 1px;margin: -1px;overflow: hidden;padding: 0;position: absolute;width: 1px;}#sk-container-id-2 div.sk-estimator {font-family: monospace;background-color: #f0f8ff;border: 1px dotted black;border-radius: 0.25em;box-sizing: border-box;margin-bottom: 0.5em;}#sk-container-id-2 div.sk-estimator:hover {background-color: #d4ebff;}#sk-container-id-2 div.sk-parallel-item::after {content: \"\";width: 100%;border-bottom: 1px solid gray;flex-grow: 1;}#sk-container-id-2 div.sk-label:hover label.sk-toggleable__label {background-color: #d4ebff;}#sk-container-id-2 div.sk-serial::before {content: \"\";position: absolute;border-left: 1px solid gray;box-sizing: border-box;top: 0;bottom: 0;left: 50%;z-index: 0;}#sk-container-id-2 div.sk-serial {display: flex;flex-direction: column;align-items: center;background-color: white;padding-right: 0.2em;padding-left: 0.2em;position: relative;}#sk-container-id-2 div.sk-item {position: relative;z-index: 1;}#sk-container-id-2 div.sk-parallel {display: flex;align-items: stretch;justify-content: center;background-color: white;position: relative;}#sk-container-id-2 div.sk-item::before, #sk-container-id-2 div.sk-parallel-item::before {content: \"\";position: absolute;border-left: 1px solid gray;box-sizing: border-box;top: 0;bottom: 0;left: 50%;z-index: -1;}#sk-container-id-2 div.sk-parallel-item {display: flex;flex-direction: column;z-index: 1;position: relative;background-color: white;}#sk-container-id-2 div.sk-parallel-item:first-child::after {align-self: flex-end;width: 50%;}#sk-container-id-2 div.sk-parallel-item:last-child::after {align-self: flex-start;width: 50%;}#sk-container-id-2 div.sk-parallel-item:only-child::after {width: 0;}#sk-container-id-2 div.sk-dashed-wrapped {border: 1px dashed gray;margin: 0 0.4em 0.5em 0.4em;box-sizing: border-box;padding-bottom: 0.4em;background-color: white;}#sk-container-id-2 div.sk-label label {font-family: monospace;font-weight: bold;display: inline-block;line-height: 1.2em;}#sk-container-id-2 div.sk-label-container {text-align: center;}#sk-container-id-2 div.sk-container {/* jupyter's `normalize.less` sets `[hidden] { display: none; }` but bootstrap.min.css set `[hidden] { display: none !important; }` so we also need the `!important` here to be able to override the default hidden behavior on the sphinx rendered scikit-learn.org. See: https://github.com/scikit-learn/scikit-learn/issues/21755 */display: inline-block !important;position: relative;}#sk-container-id-2 div.sk-text-repr-fallback {display: none;}</style><div id=\"sk-container-id-2\" class=\"sk-top-container\"><div class=\"sk-text-repr-fallback\"><pre>RandomForestRegressor()</pre><b>In a Jupyter environment, please rerun this cell to show the HTML representation or trust the notebook. <br />On GitHub, the HTML representation is unable to render, please try loading this page with nbviewer.org.</b></div><div class=\"sk-container\" hidden><div class=\"sk-item\"><div class=\"sk-estimator sk-toggleable\"><input class=\"sk-toggleable__control sk-hidden--visually\" id=\"sk-estimator-id-2\" type=\"checkbox\" checked><label for=\"sk-estimator-id-2\" class=\"sk-toggleable__label sk-toggleable__label-arrow\">RandomForestRegressor</label><div class=\"sk-toggleable__content\"><pre>RandomForestRegressor()</pre></div></div></div></div></div>"
            ]
          },
          "metadata": {},
          "execution_count": 85
        }
      ],
      "source": [
        "model_RF.fit(flatten_train_data, y_train)"
      ],
      "metadata": {
        "id": "_E3spmeFwK4Y",
        "outputId": "52c5af2e-2db9-4a37-8e12-1355934a8a1a",
        "colab": {
          "base_uri": "https://localhost:8080/",
          "height": 74
        }
      }
    },
    {
      "cell_type": "markdown",
      "source": [
        "Аналогічно, передбачення (з приведених до 1-вимірного масиву даних X_test):"
      ],
      "metadata": {
        "id": "ZXTZ_IPmd8X0"
      }
    },
    {
      "cell_type": "code",
      "execution_count": null,
      "outputs": [],
      "source": [
        "y_preds = []\n",
        "for x_test_data in X_test:\n",
        "    y_preds.append(model_RF.predict([x_test_data.flatten()]))"
      ],
      "metadata": {
        "id": "XSb12jLOwK4Y"
      }
    },
    {
      "cell_type": "markdown",
      "source": [
        "Оцінка:"
      ],
      "metadata": {
        "id": "lNHkaDFneC2c"
      }
    },
    {
      "cell_type": "code",
      "source": [
        "print(\"Mean Squared Error, MSE:\", mean_squared_error(y_test, y_preds))\n",
        "print(\"Mean Absolute Error, MAE:\", mean_absolute_error(y_test, y_preds))\n",
        "print(\"R^2 score:\", r2_score(y_test, y_preds))"
      ],
      "metadata": {
        "colab": {
          "base_uri": "https://localhost:8080/"
        },
        "id": "U-TKrgmzj8tC",
        "outputId": "94d65fd0-f6b8-426e-b953-b679e0ed9f1c"
      },
      "execution_count": null,
      "outputs": [
        {
          "output_type": "stream",
          "name": "stdout",
          "text": [
            "Mean Squared Error, MSE: 0.482602824518735\n",
            "Mean Absolute Error, MAE: 0.444975274829472\n",
            "R^2 score: 0.9957593837217403\n"
          ]
        }
      ]
    },
    {
      "cell_type": "markdown",
      "source": [
        "Як бачимо, випадковий ліс трохи кращий за лінійну регресію.<br>\n",
        "**ЛР:** MSE: 0.503 MAE: 0.46 R^2 score: 0.997<br>\n",
        "**ВЛ:** MSE: 0.482 MAE: 0.45 R^2 score: 0.996\n"
      ],
      "metadata": {
        "id": "XDOHJnE_kDBd"
      }
    },
    {
      "cell_type": "markdown",
      "source": [
        "Графік:"
      ],
      "metadata": {
        "id": "XkfV8nsdeC2f"
      }
    },
    {
      "cell_type": "code",
      "execution_count": null,
      "outputs": [
        {
          "output_type": "stream",
          "name": "stdout",
          "text": [
            "        Actual  Predicted        Date\n",
            "972   3.859375   3.819284  2000-08-14\n",
            "224   3.945312   3.992884  2000-08-22\n",
            "722   4.078125   4.021484  2000-09-05\n",
            "260   4.187500   4.041591  2000-09-06\n",
            "877   4.218750   4.175069  2000-09-11\n",
            "..         ...        ...         ...\n",
            "748  24.250000  24.803800  2020-03-04\n",
            "298  15.730000  22.557100  2020-03-06\n",
            "631  15.080000  15.822550  2020-03-10\n",
            "849  14.380000  12.272775  2020-03-12\n",
            "46   10.410000  10.064275  2020-03-25\n",
            "\n",
            "[989 rows x 3 columns]\n"
          ]
        },
        {
          "output_type": "display_data",
          "data": {
            "text/html": [
              "<html>\n",
              "<head><meta charset=\"utf-8\" /></head>\n",
              "<body>\n",
              "    <div>            <script src=\"https://cdnjs.cloudflare.com/ajax/libs/mathjax/2.7.5/MathJax.js?config=TeX-AMS-MML_SVG\"></script><script type=\"text/javascript\">if (window.MathJax && window.MathJax.Hub && window.MathJax.Hub.Config) {window.MathJax.Hub.Config({SVG: {font: \"STIX-Web\"}});}</script>                <script type=\"text/javascript\">window.PlotlyConfig = {MathJaxConfig: 'local'};</script>\n",
              "        <script charset=\"utf-8\" src=\"https://cdn.plot.ly/plotly-2.24.1.min.js\"></script>                <div id=\"b287e3a5-f5bf-440e-a962-5a1fac25fe30\" class=\"plotly-graph-div\" style=\"height:525px; width:100%;\"></div>            <script type=\"text/javascript\">                                    window.PLOTLYENV=window.PLOTLYENV || {};                                    if (document.getElementById(\"b287e3a5-f5bf-440e-a962-5a1fac25fe30\")) {                    Plotly.newPlot(                        \"b287e3a5-f5bf-440e-a962-5a1fac25fe30\",                        [{\"mode\":\"lines\",\"name\":\"Actual\",\"x\":[\"2000-08-14\",\"2000-08-22\",\"2000-09-05\",\"2000-09-06\",\"2000-09-11\",\"2000-09-13\",\"2000-09-26\",\"2000-09-28\",\"2000-10-04\",\"2000-10-05\",\"2000-10-11\",\"2000-10-12\",\"2000-10-26\",\"2000-11-08\",\"2000-11-10\",\"2000-11-14\",\"2000-11-15\",\"2000-11-17\",\"2000-11-28\",\"2000-11-29\",\"2000-12-08\",\"2001-01-04\",\"2001-01-18\",\"2001-01-29\",\"2001-01-30\",\"2001-01-31\",\"2001-02-02\",\"2001-02-05\",\"2001-02-12\",\"2001-02-28\",\"2001-03-15\",\"2001-03-26\",\"2001-03-28\",\"2001-04-03\",\"2001-04-09\",\"2001-04-11\",\"2001-04-24\",\"2001-05-03\",\"2001-05-14\",\"2001-05-23\",\"2001-05-30\",\"2001-06-05\",\"2001-06-11\",\"2001-06-13\",\"2001-06-21\",\"2001-07-02\",\"2001-07-20\",\"2001-07-23\",\"2001-07-27\",\"2001-08-03\",\"2001-08-06\",\"2001-08-16\",\"2001-08-22\",\"2001-09-10\",\"2001-09-19\",\"2001-10-01\",\"2001-10-10\",\"2001-10-12\",\"2001-10-16\",\"2001-10-17\",\"2001-10-25\",\"2001-10-31\",\"2001-11-09\",\"2001-11-12\",\"2001-11-16\",\"2001-11-29\",\"2001-12-21\",\"2001-12-26\",\"2001-12-27\",\"2001-12-31\",\"2002-01-04\",\"2002-01-15\",\"2002-01-18\",\"2002-01-22\",\"2002-01-28\",\"2002-02-01\",\"2002-02-19\",\"2002-02-26\",\"2002-02-27\",\"2002-03-11\",\"2002-03-19\",\"2002-03-26\",\"2002-04-02\",\"2002-04-03\",\"2002-04-04\",\"2002-04-15\",\"2002-04-16\",\"2002-04-18\",\"2002-04-25\",\"2002-04-29\",\"2002-04-30\",\"2002-05-02\",\"2002-05-13\",\"2002-05-14\",\"2002-05-23\",\"2002-05-24\",\"2002-05-28\",\"2002-06-17\",\"2002-07-19\",\"2002-07-22\",\"2002-07-23\",\"2002-08-02\",\"2002-08-05\",\"2002-08-06\",\"2002-08-13\",\"2002-08-26\",\"2002-09-04\",\"2002-09-06\",\"2002-09-18\",\"2002-10-07\",\"2002-10-08\",\"2002-10-15\",\"2002-10-29\",\"2002-11-07\",\"2002-11-11\",\"2002-11-13\",\"2002-11-19\",\"2002-11-20\",\"2002-11-25\",\"2002-12-04\",\"2002-12-12\",\"2002-12-17\",\"2002-12-26\",\"2002-12-27\",\"2003-01-02\",\"2003-01-14\",\"2003-01-22\",\"2003-01-29\",\"2003-02-06\",\"2003-02-11\",\"2003-02-13\",\"2003-02-27\",\"2003-03-07\",\"2003-03-13\",\"2003-03-20\",\"2003-03-25\",\"2003-04-28\",\"2003-05-06\",\"2003-05-08\",\"2003-05-12\",\"2003-05-19\",\"2003-06-02\",\"2003-06-10\",\"2003-06-27\",\"2003-07-10\",\"2003-07-15\",\"2003-07-21\",\"2003-07-29\",\"2003-08-04\",\"2003-08-08\",\"2003-08-11\",\"2003-08-15\",\"2003-08-18\",\"2003-08-19\",\"2003-08-22\",\"2003-08-25\",\"2003-08-26\",\"2003-09-12\",\"2003-09-25\",\"2003-09-26\",\"2003-10-01\",\"2003-10-09\",\"2003-10-13\",\"2003-10-17\",\"2003-10-24\",\"2003-11-04\",\"2003-11-12\",\"2003-11-17\",\"2003-11-20\",\"2003-12-05\",\"2003-12-15\",\"2003-12-16\",\"2004-01-05\",\"2004-01-07\",\"2004-01-20\",\"2004-02-10\",\"2004-02-13\",\"2004-02-18\",\"2004-02-25\",\"2004-03-05\",\"2004-03-10\",\"2004-03-23\",\"2004-03-24\",\"2004-03-31\",\"2004-04-05\",\"2004-04-08\",\"2004-04-13\",\"2004-04-14\",\"2004-05-03\",\"2004-05-07\",\"2004-05-26\",\"2004-06-03\",\"2004-06-18\",\"2004-06-21\",\"2004-06-24\",\"2004-06-28\",\"2004-07-13\",\"2004-07-14\",\"2004-07-23\",\"2004-07-28\",\"2004-08-11\",\"2004-08-23\",\"2004-08-31\",\"2004-09-13\",\"2004-09-16\",\"2004-09-23\",\"2004-10-19\",\"2004-10-27\",\"2004-10-28\",\"2004-11-01\",\"2004-11-10\",\"2004-11-18\",\"2004-11-30\",\"2004-12-06\",\"2004-12-10\",\"2004-12-28\",\"2005-01-06\",\"2005-01-10\",\"2005-01-11\",\"2005-01-13\",\"2005-01-14\",\"2005-01-20\",\"2005-01-21\",\"2005-02-11\",\"2005-02-15\",\"2005-02-24\",\"2005-03-02\",\"2005-03-03\",\"2005-03-15\",\"2005-03-21\",\"2005-03-31\",\"2005-04-01\",\"2005-04-05\",\"2005-04-13\",\"2005-04-19\",\"2005-04-22\",\"2005-04-26\",\"2005-05-05\",\"2005-05-06\",\"2005-06-02\",\"2005-06-07\",\"2005-06-17\",\"2005-06-22\",\"2005-06-24\",\"2005-06-29\",\"2005-07-19\",\"2005-07-21\",\"2005-07-26\",\"2005-07-28\",\"2005-08-02\",\"2005-08-03\",\"2005-08-09\",\"2005-08-22\",\"2005-09-09\",\"2005-09-23\",\"2005-09-27\",\"2005-10-04\",\"2005-10-12\",\"2005-10-17\",\"2005-10-18\",\"2005-10-24\",\"2005-10-25\",\"2005-10-26\",\"2005-11-04\",\"2005-11-08\",\"2005-11-09\",\"2005-11-11\",\"2005-11-15\",\"2005-11-17\",\"2005-12-02\",\"2005-12-05\",\"2005-12-07\",\"2005-12-08\",\"2005-12-09\",\"2005-12-12\",\"2005-12-20\",\"2005-12-22\",\"2005-12-23\",\"2006-01-10\",\"2006-01-20\",\"2006-01-23\",\"2006-02-07\",\"2006-02-13\",\"2006-02-22\",\"2006-02-23\",\"2006-03-01\",\"2006-03-16\",\"2006-03-17\",\"2006-03-30\",\"2006-04-11\",\"2006-04-20\",\"2006-05-02\",\"2006-05-05\",\"2006-05-31\",\"2006-06-01\",\"2006-06-02\",\"2006-06-05\",\"2006-06-07\",\"2006-06-13\",\"2006-06-22\",\"2006-07-05\",\"2006-07-14\",\"2006-07-17\",\"2006-08-02\",\"2006-08-03\",\"2006-08-04\",\"2006-08-18\",\"2006-08-24\",\"2006-09-28\",\"2006-10-03\",\"2006-10-06\",\"2006-10-12\",\"2006-10-25\",\"2006-11-08\",\"2006-11-15\",\"2006-11-17\",\"2006-11-27\",\"2006-12-01\",\"2006-12-15\",\"2006-12-19\",\"2006-12-20\",\"2006-12-28\",\"2007-01-03\",\"2007-01-12\",\"2007-01-25\",\"2007-01-30\",\"2007-02-01\",\"2007-03-08\",\"2007-03-09\",\"2007-03-15\",\"2007-03-22\",\"2007-04-12\",\"2007-04-17\",\"2007-04-19\",\"2007-04-27\",\"2007-05-02\",\"2007-05-08\",\"2007-05-14\",\"2007-05-25\",\"2007-05-31\",\"2007-06-18\",\"2007-06-20\",\"2007-07-03\",\"2007-07-10\",\"2007-07-20\",\"2007-07-23\",\"2007-08-03\",\"2007-08-06\",\"2007-08-31\",\"2007-09-07\",\"2007-09-12\",\"2007-09-13\",\"2007-09-14\",\"2007-09-19\",\"2007-09-27\",\"2007-10-03\",\"2007-10-18\",\"2007-11-08\",\"2007-12-07\",\"2007-12-20\",\"2007-12-26\",\"2007-12-31\",\"2008-01-02\",\"2008-01-03\",\"2008-01-14\",\"2008-01-22\",\"2008-01-23\",\"2008-01-28\",\"2008-02-08\",\"2008-02-11\",\"2008-02-14\",\"2008-02-26\",\"2008-02-28\",\"2008-02-29\",\"2008-03-03\",\"2008-03-11\",\"2008-03-24\",\"2008-03-27\",\"2008-04-01\",\"2008-04-02\",\"2008-04-08\",\"2008-04-10\",\"2008-04-18\",\"2008-04-21\",\"2008-05-01\",\"2008-05-19\",\"2008-06-02\",\"2008-06-09\",\"2008-06-10\",\"2008-06-11\",\"2008-06-18\",\"2008-06-26\",\"2008-07-15\",\"2008-07-28\",\"2008-08-01\",\"2008-08-05\",\"2008-08-14\",\"2008-08-18\",\"2008-08-20\",\"2008-08-25\",\"2008-08-26\",\"2008-09-09\",\"2008-09-18\",\"2008-09-24\",\"2008-09-25\",\"2008-10-13\",\"2008-10-17\",\"2008-11-04\",\"2008-11-06\",\"2008-11-11\",\"2008-12-02\",\"2008-12-05\",\"2008-12-11\",\"2008-12-15\",\"2008-12-18\",\"2008-12-19\",\"2008-12-23\",\"2009-01-13\",\"2009-01-23\",\"2009-01-26\",\"2009-02-10\",\"2009-02-13\",\"2009-03-11\",\"2009-03-16\",\"2009-03-18\",\"2009-03-19\",\"2009-03-23\",\"2009-03-24\",\"2009-04-06\",\"2009-04-08\",\"2009-04-09\",\"2009-04-15\",\"2009-04-24\",\"2009-05-06\",\"2009-05-18\",\"2009-06-09\",\"2009-06-11\",\"2009-06-12\",\"2009-06-15\",\"2009-06-22\",\"2009-06-24\",\"2009-06-30\",\"2009-07-13\",\"2009-07-16\",\"2009-07-17\",\"2009-07-22\",\"2009-08-25\",\"2009-09-01\",\"2009-09-10\",\"2009-09-28\",\"2009-10-13\",\"2009-10-26\",\"2009-11-03\",\"2009-11-13\",\"2009-12-11\",\"2009-12-31\",\"2010-01-06\",\"2010-01-11\",\"2010-01-20\",\"2010-01-22\",\"2010-01-25\",\"2010-01-26\",\"2010-01-29\",\"2010-02-03\",\"2010-02-26\",\"2010-03-12\",\"2010-03-26\",\"2010-04-05\",\"2010-04-12\",\"2010-04-15\",\"2010-04-26\",\"2010-04-28\",\"2010-05-03\",\"2010-05-06\",\"2010-05-25\",\"2010-06-08\",\"2010-06-22\",\"2010-07-01\",\"2010-07-12\",\"2010-07-20\",\"2010-07-23\",\"2010-07-27\",\"2010-08-03\",\"2010-08-04\",\"2010-08-12\",\"2010-08-19\",\"2010-09-01\",\"2010-09-22\",\"2010-09-24\",\"2010-09-27\",\"2010-10-01\",\"2010-10-05\",\"2010-10-06\",\"2010-11-02\",\"2010-11-03\",\"2010-11-09\",\"2010-11-16\",\"2010-11-30\",\"2010-12-21\",\"2010-12-27\",\"2011-01-07\",\"2011-01-14\",\"2011-01-19\",\"2011-01-21\",\"2011-01-24\",\"2011-01-28\",\"2011-01-31\",\"2011-02-01\",\"2011-02-14\",\"2011-02-17\",\"2011-02-28\",\"2011-03-01\",\"2011-03-18\",\"2011-03-23\",\"2011-03-25\",\"2011-04-04\",\"2011-04-05\",\"2011-04-06\",\"2011-04-14\",\"2011-04-15\",\"2011-04-20\",\"2011-04-25\",\"2011-04-26\",\"2011-04-29\",\"2011-05-05\",\"2011-05-12\",\"2011-05-24\",\"2011-06-09\",\"2011-06-23\",\"2011-06-24\",\"2011-06-28\",\"2011-07-05\",\"2011-07-15\",\"2011-07-18\",\"2011-07-25\",\"2011-07-26\",\"2011-07-28\",\"2011-08-04\",\"2011-08-11\",\"2011-08-15\",\"2011-08-17\",\"2011-08-19\",\"2011-09-02\",\"2011-09-06\",\"2011-09-07\",\"2011-09-09\",\"2011-09-12\",\"2011-09-20\",\"2011-09-21\",\"2011-09-28\",\"2011-09-30\",\"2011-10-03\",\"2011-10-04\",\"2011-10-05\",\"2011-10-06\",\"2011-10-14\",\"2011-10-18\",\"2011-10-25\",\"2011-10-27\",\"2011-10-31\",\"2011-11-02\",\"2011-11-16\",\"2011-11-18\",\"2011-11-23\",\"2011-11-29\",\"2011-12-02\",\"2011-12-12\",\"2011-12-28\",\"2011-12-30\",\"2012-01-05\",\"2012-01-11\",\"2012-01-19\",\"2012-01-26\",\"2012-01-27\",\"2012-02-01\",\"2012-02-02\",\"2012-02-06\",\"2012-02-07\",\"2012-02-15\",\"2012-02-24\",\"2012-02-28\",\"2012-03-12\",\"2012-03-19\",\"2012-03-30\",\"2012-04-09\",\"2012-04-23\",\"2012-04-25\",\"2012-05-02\",\"2012-05-11\",\"2012-05-22\",\"2012-05-23\",\"2012-05-24\",\"2012-05-25\",\"2012-05-31\",\"2012-06-07\",\"2012-06-08\",\"2012-06-18\",\"2012-06-28\",\"2012-06-29\",\"2012-07-09\",\"2012-07-23\",\"2012-07-27\",\"2012-07-31\",\"2012-08-02\",\"2012-08-17\",\"2012-08-24\",\"2012-08-28\",\"2012-10-02\",\"2012-10-19\",\"2012-10-23\",\"2012-10-24\",\"2012-11-01\",\"2012-11-05\",\"2012-11-12\",\"2012-11-14\",\"2012-11-16\",\"2012-11-20\",\"2012-11-27\",\"2012-11-29\",\"2012-12-17\",\"2012-12-24\",\"2013-01-03\",\"2013-01-09\",\"2013-01-14\",\"2013-02-04\",\"2013-02-11\",\"2013-02-12\",\"2013-02-13\",\"2013-02-27\",\"2013-03-04\",\"2013-03-06\",\"2013-03-15\",\"2013-03-18\",\"2013-04-01\",\"2013-04-04\",\"2013-04-05\",\"2013-04-29\",\"2013-05-02\",\"2013-05-15\",\"2013-06-05\",\"2013-06-07\",\"2013-06-24\",\"2013-07-08\",\"2013-07-18\",\"2013-07-24\",\"2013-08-01\",\"2013-08-02\",\"2013-08-05\",\"2013-08-08\",\"2013-08-21\",\"2013-08-27\",\"2013-09-09\",\"2013-09-16\",\"2013-09-19\",\"2013-09-20\",\"2013-09-30\",\"2013-10-02\",\"2013-10-07\",\"2013-10-10\",\"2013-11-04\",\"2013-11-06\",\"2013-11-11\",\"2013-11-14\",\"2013-11-15\",\"2013-11-26\",\"2013-12-04\",\"2013-12-17\",\"2014-01-02\",\"2014-01-14\",\"2014-01-15\",\"2014-01-23\",\"2014-02-04\",\"2014-02-06\",\"2014-02-13\",\"2014-02-18\",\"2014-02-19\",\"2014-02-25\",\"2014-03-12\",\"2014-03-13\",\"2014-03-31\",\"2014-04-03\",\"2014-04-08\",\"2014-04-10\",\"2014-04-21\",\"2014-05-05\",\"2014-05-07\",\"2014-05-19\",\"2014-05-21\",\"2014-06-05\",\"2014-06-20\",\"2014-06-23\",\"2014-06-26\",\"2014-06-30\",\"2014-07-17\",\"2014-07-21\",\"2014-07-23\",\"2014-07-31\",\"2014-08-07\",\"2014-08-12\",\"2014-08-13\",\"2014-08-15\",\"2014-08-25\",\"2014-09-03\",\"2014-09-17\",\"2014-09-26\",\"2014-09-30\",\"2014-10-03\",\"2014-10-08\",\"2014-10-14\",\"2014-10-21\",\"2014-10-28\",\"2014-10-31\",\"2014-11-05\",\"2014-11-06\",\"2014-11-14\",\"2014-12-02\",\"2014-12-12\",\"2014-12-15\",\"2014-12-18\",\"2015-01-08\",\"2015-01-09\",\"2015-01-13\",\"2015-01-16\",\"2015-01-22\",\"2015-01-23\",\"2015-01-27\",\"2015-02-05\",\"2015-02-25\",\"2015-03-05\",\"2015-03-10\",\"2015-03-11\",\"2015-03-16\",\"2015-03-20\",\"2015-03-24\",\"2015-03-27\",\"2015-03-30\",\"2015-04-02\",\"2015-04-23\",\"2015-05-05\",\"2015-05-07\",\"2015-05-13\",\"2015-05-15\",\"2015-05-22\",\"2015-05-27\",\"2015-05-28\",\"2015-05-29\",\"2015-07-01\",\"2015-07-07\",\"2015-07-08\",\"2015-07-10\",\"2015-07-14\",\"2015-07-15\",\"2015-07-28\",\"2015-07-30\",\"2015-08-12\",\"2015-08-24\",\"2015-08-26\",\"2015-08-27\",\"2015-09-08\",\"2015-09-09\",\"2015-09-10\",\"2015-09-15\",\"2015-09-16\",\"2015-09-21\",\"2015-09-29\",\"2015-10-06\",\"2015-10-13\",\"2015-10-16\",\"2015-10-20\",\"2015-10-30\",\"2015-11-06\",\"2015-11-30\",\"2015-12-21\",\"2015-12-29\",\"2015-12-30\",\"2016-01-06\",\"2016-01-14\",\"2016-01-25\",\"2016-01-29\",\"2016-02-05\",\"2016-02-19\",\"2016-02-22\",\"2016-02-23\",\"2016-03-08\",\"2016-03-15\",\"2016-03-18\",\"2016-03-21\",\"2016-03-23\",\"2016-03-31\",\"2016-04-14\",\"2016-04-15\",\"2016-04-18\",\"2016-04-28\",\"2016-05-05\",\"2016-05-13\",\"2016-05-16\",\"2016-05-18\",\"2016-05-19\",\"2016-05-24\",\"2016-05-27\",\"2016-05-31\",\"2016-06-03\",\"2016-06-13\",\"2016-06-15\",\"2016-06-20\",\"2016-06-27\",\"2016-07-01\",\"2016-07-22\",\"2016-08-01\",\"2016-08-02\",\"2016-08-12\",\"2016-08-16\",\"2016-09-01\",\"2016-09-15\",\"2016-09-23\",\"2016-10-07\",\"2016-10-24\",\"2016-10-27\",\"2016-10-28\",\"2016-11-01\",\"2016-11-18\",\"2016-11-22\",\"2016-11-30\",\"2016-12-08\",\"2016-12-22\",\"2016-12-27\",\"2017-01-03\",\"2017-01-05\",\"2017-01-06\",\"2017-01-31\",\"2017-02-15\",\"2017-03-10\",\"2017-03-14\",\"2017-03-17\",\"2017-03-20\",\"2017-03-21\",\"2017-03-31\",\"2017-04-05\",\"2017-04-19\",\"2017-04-24\",\"2017-05-02\",\"2017-05-15\",\"2017-05-17\",\"2017-06-01\",\"2017-06-08\",\"2017-06-09\",\"2017-06-13\",\"2017-06-22\",\"2017-06-26\",\"2017-06-29\",\"2017-07-24\",\"2017-07-31\",\"2017-08-09\",\"2017-08-11\",\"2017-08-22\",\"2017-08-23\",\"2017-08-25\",\"2017-09-12\",\"2017-09-13\",\"2017-09-18\",\"2017-09-20\",\"2017-10-04\",\"2017-10-06\",\"2017-11-24\",\"2017-12-04\",\"2017-12-06\",\"2017-12-12\",\"2017-12-18\",\"2017-12-19\",\"2017-12-20\",\"2017-12-29\",\"2018-01-10\",\"2018-01-11\",\"2018-01-19\",\"2018-01-24\",\"2018-01-25\",\"2018-01-30\",\"2018-02-01\",\"2018-02-05\",\"2018-02-07\",\"2018-02-22\",\"2018-02-28\",\"2018-03-01\",\"2018-03-02\",\"2018-03-12\",\"2018-03-13\",\"2018-03-16\",\"2018-03-20\",\"2018-04-04\",\"2018-04-05\",\"2018-04-12\",\"2018-04-20\",\"2018-05-04\",\"2018-05-14\",\"2018-05-15\",\"2018-05-25\",\"2018-05-30\",\"2018-06-13\",\"2018-06-19\",\"2018-06-25\",\"2018-07-03\",\"2018-07-19\",\"2018-07-20\",\"2018-07-30\",\"2018-08-27\",\"2018-08-29\",\"2018-09-04\",\"2018-09-06\",\"2018-09-11\",\"2018-09-26\",\"2018-09-27\",\"2018-10-12\",\"2018-10-16\",\"2018-10-25\",\"2018-10-31\",\"2018-11-08\",\"2018-11-09\",\"2018-11-12\",\"2018-11-15\",\"2018-11-16\",\"2018-11-19\",\"2018-11-21\",\"2018-11-28\",\"2018-12-13\",\"2018-12-20\",\"2019-01-25\",\"2019-02-14\",\"2019-03-01\",\"2019-03-05\",\"2019-03-06\",\"2019-03-15\",\"2019-03-18\",\"2019-03-20\",\"2019-03-25\",\"2019-03-27\",\"2019-03-29\",\"2019-04-01\",\"2019-04-02\",\"2019-04-04\",\"2019-04-08\",\"2019-04-12\",\"2019-04-18\",\"2019-04-24\",\"2019-04-29\",\"2019-05-06\",\"2019-05-17\",\"2019-05-22\",\"2019-06-03\",\"2019-06-10\",\"2019-06-14\",\"2019-06-18\",\"2019-06-25\",\"2019-07-02\",\"2019-07-10\",\"2019-07-25\",\"2019-08-07\",\"2019-08-08\",\"2019-08-13\",\"2019-09-06\",\"2019-09-09\",\"2019-09-10\",\"2019-09-11\",\"2019-09-23\",\"2019-09-25\",\"2019-10-10\",\"2019-10-24\",\"2019-10-31\",\"2019-11-01\",\"2019-11-04\",\"2019-11-22\",\"2019-12-03\",\"2019-12-11\",\"2019-12-19\",\"2019-12-24\",\"2019-12-27\",\"2020-01-06\",\"2020-01-09\",\"2020-01-16\",\"2020-01-17\",\"2020-01-31\",\"2020-02-05\",\"2020-02-13\",\"2020-02-19\",\"2020-02-21\",\"2020-03-04\",\"2020-03-06\",\"2020-03-10\",\"2020-03-12\",\"2020-03-25\"],\"y\":[3.859375,3.9453125,4.078125,4.1875,4.21875,4.46875,4.1953125,4.1640625,4.2734375,4.109375,4.125,4.1953125,3.8046875,3.609375,3.578125,3.51953125,3.5234375,3.515625,3.53125,3.4765625,3.6171875,3.3359375,3.46875,3.666249990463257,3.65625,3.652499914169312,3.766249895095825,3.706249952316284,3.791249990463257,3.518749952316284,3.75,3.677500009536743,3.640000104904175,3.502500057220459,3.662499904632568,3.674999952316284,3.765000104904175,3.5762500762939453,3.865000009536743,4.144999980926514,4.198750019073486,4.193749904632568,4.051249980926514,4.068749904632568,3.7587499618530273,3.668750047683716,3.5737500190734863,3.640000104904175,3.631249904632568,3.846250057220459,3.825000047683716,3.75,3.7074999809265137,3.6762499809265137,3.315000057220459,3.190000057220459,3.5,3.4487500190734863,3.4124999046325684,3.275000095367432,3.430000066757202,3.3125,3.333750009536743,3.4049999713897705,2.90625,3.103749990463257,3.008749961853028,3.049999952316284,3.0799999237060547,2.977499961853028,3.0537500381469727,3.0299999713897705,3.0062499046325684,3.032500028610229,3.1912500858306885,3.3125,3.493750095367432,3.706249952316284,3.671250104904175,3.816250085830689,3.952500104904175,4.074999809265137,4.067500114440918,3.944999933242798,3.96875,3.9487500190734863,4.006249904632568,4.067500114440918,4.148749828338623,4.119999885559082,4.143750190734863,4.227499961853027,4.065000057220459,4.017499923706055,4.0625,4.106249809265137,4.102499961853027,4.00124979019165,3.682499885559082,3.5625,3.8424999713897705,3.982500076293945,4.152500152587891,4.065000057220459,4.224999904632568,4.197500228881836,4.051249980926514,4.028749942779541,3.839999914169312,3.666249990463257,3.588749885559082,3.793750047683716,3.352499961853028,3.212500095367432,3.223750114440918,3.1287500858306885,3.25,3.240000009536743,3.1987500190734863,3.383749961853028,3.6887500286102295,3.6262500286102295,3.694999933242798,3.732500076293945,3.809999942779541,3.776249885559082,3.9362499713897705,3.868750095367432,3.9149999618530273,3.911250114440918,3.887500047683716,4.306250095367432,4.446249961853027,4.125,4.096250057220459,4.137499809265137,4.152500152587891,4.480000019073486,4.397500038146973,4.463749885559082,4.683750152587891,4.929999828338623,5.256249904632568,4.988749980926514,4.75,4.818749904632568,4.762499809265137,4.65500020980835,4.832499980926514,5.150000095367432,5.144999980926514,5.079999923706055,5.03125,5.008749961853027,5.016250133514404,4.925000190734863,4.847499847412109,4.976250171661377,4.992499828338623,5.043749809265137,5.257500171661377,5.502500057220459,5.537499904632568,5.431250095367432,5.505000114440918,5.09375,5.309999942779541,5.351250171661377,5.494999885559082,5.892499923706055,5.671249866485596,5.826250076293945,6.612500190734863,6.426249980926514,6.776249885559082,6.431250095367432,6.458749771118164,6.300000190734863,6.62624979019165,7.131249904632568,6.87624979019165,6.731249809265137,6.670000076293945,7.018750190734863,7.309999942779541,7.414999961853027,7.139999866485596,7.539999961853027,7.366250038146973,6.652500152587891,6.482500076293945,6.602499961853027,7.34499979019165,7.380000114440918,7.577499866485596,7.277500152587891,7.902500152587891,7.857500076293945,7.730000019073486,8.119999885559082,7.784999847412109,7.872499942779541,8.362500190734863,8.479999542236328,8.867500305175781,9.38249969482422,10.36750030517578,10.369999885559082,10.489999771118164,10.1850004196167,9.9375,10.302499771118164,10.522500038146973,9.520000457763672,9.625,10.4975004196167,10.022500038146973,10.154999732971191,10.807499885559082,10.852499961853027,10.954999923706056,10.755000114440918,10.717499732971191,13.137499809265137,13.63249969482422,14.607500076293944,14.677499771118164,15.074999809265137,14.5,14.307499885559082,14.350000381469728,14.392499923706056,14.399999618530272,13.005000114440918,13.037500381469728,13.395000457763672,12.899999618530272,14.087499618530272,14.177499771118164,15.199999809265137,15.1850004196167,18.600000381469727,18.280000686645508,18.709999084472656,18.190000534057617,19.834999084472656,20.155000686645508,20.209999084472656,20.790000915527344,22.01000022888184,22.729999542236328,24.049999237060547,22.424999237060547,23.21999931335449,22.809999465942383,23.059999465942383,20.70499992370605,19.084999084472656,18.940000534057617,19.65999984741211,20.81999969482422,20.71500015258789,20.21999931335449,23.07999992370605,23.90999984741211,22.44499969482422,22.69499969482422,23.739999771118164,22.6200008392334,24.32999992370605,24.434999465942383,25.03499984741211,24.825000762939453,25.424999237060547,26.165000915527344,25.46999931335449,24.95499992370605,24.049999237060547,25.94499969482422,30.114999771118164,29.8799991607666,28.934999465942383,26.979999542236328,27.34000015258789,28.059999465942383,30.1299991607666,28.125,27.424999237060547,27.69499969482422,29.8799991607666,31.61000061035156,30.600000381469727,28.229999542236328,27.270000457763672,27.399999618530277,26.084999084472656,26.530000686645508,25.34499931335449,23.70499992370605,24.75,26.834999084472656,25.405000686645508,25.149999618530277,26.71999931335449,26.06999969482422,26.645000457763672,26.940000534057617,27.03499984741211,22.790000915527344,21.309999465942383,22.489999771118164,23.36000061035156,26.725000381469727,26.09000015258789,25.174999237060547,25.38500022888184,26.21500015258789,27.5049991607666,25.7450008392334,25.71500015258789,25.809999465942383,26.614999771118164,23.104999542236328,23.2450008392334,24.270000457763672,25.01000022888184,24.825000762939453,26.01499938964844,26.03499984741211,25.315000534057617,26.899999618530277,30.040000915527344,29.61000061035156,29.5049991607666,29.80500030517578,31.625,31.59000015258789,31.434999465942383,32.28499984741211,33.915000915527344,34.6150016784668,33.51499938964844,33.67499923706055,34.275001525878906,36.2599983215332,34.68000030517578,33.04999923706055,33.20500183105469,35.1150016784668,34.400001525878906,37.45000076293945,37.79499816894531,37.45500183105469,37.61000061035156,37.875,36.77000045776367,38.75,40.75,34.16999816894531,35.44499969482422,36.14500045776367,37.43999862670898,38.07500076293945,37.119998931884766,34.67499923706055,29.78499984741211,31.51000022888184,31.34000015258789,31.30500030517578,31.434999465942383,32.36000061035156,36.69499969482422,37.41999816894531,37.68999862670898,37.64500045776367,36.43999862670898,33.94499969482422,34.51499938964844,34.70000076293945,35.04999923706055,38.30500030517578,38.32500076293945,43.709999084472656,43.33000183105469,42.790000915527344,53.119998931884766,48.2599983215332,50.27999877929688,51.52000045776367,50.89500045776367,50.75,49.790000915527344,44.84000015258789,37.73500061035156,36.52000045776367,37.82500076293945,37.540000915527344,38.72499847412109,42.68999862670898,41.720001220703125,43.11000061035156,36.875,41.20000076293945,40.709999084472656,39.06499862670898,23.674999237060547,24.459999084472656,25.825000762939453,22.86000061035156,19.420000076293945,18.924999237060547,16.78499984741211,18.399999618530277,20.315000534057617,18.25,17.549999237060547,17.860000610351562,18.725000381469727,18.44499969482422,18.010000228881836,17.434999465942383,15.800000190734863,18.94499969482422,19.7549991607666,20.46500015258789,19.84499931335449,20.665000915527344,21.21500015258789,20.69499969482422,22.290000915527344,22.670000076293945,22.95499992370605,23.905000686645508,25.700000762939453,26.709999084472656,29.155000686645508,28.934999465942383,27.524999618530277,26.959999084472656,24.34000015258789,26.049999237060547,26.09000015258789,25.5049991607666,28.155000686645508,29.415000915527344,29.2549991607666,29.545000076293945,27.690000534057617,32.45500183105469,33.345001220703125,37.69499969482422,34.45500183105469,32.224998474121094,34.57500076293945,33.150001525878906,36.880001068115234,35.96500015258789,35.44499969482422,33.974998474121094,33.18000030517578,32.8849983215332,32.8849983215332,32.529998779296875,32.720001220703125,34.540000915527344,35.91999816894531,36.0,39.52999877929688,39.04499816894531,37.994998931884766,37.525001525878906,38.63999938964844,37.560001373291016,34.540000915527344,32.630001068115234,34.290000915527344,35.599998474121094,32.79999923706055,35.61000061035156,34.25,35.59000015258789,34.66999816894531,35.75,36.02000045776367,32.150001525878906,32.20000076293945,33.779998779296875,32.0,33.22999954223633,33.59000015258789,35.560001373291016,37.52000045776367,36.880001068115234,37.369998931884766,39.2400016784668,39.970001220703125,37.86000061035156,40.56999969482422,43.790000915527344,43.720001220703125,41.900001525878906,42.630001068115234,42.16999816894531,42.31999969482422,41.47999954223633,44.52000045776367,45.34999847412109,44.77999877929688,45.150001525878906,47.900001525878906,50.18999862670898,51.209999084472656,49.7599983215332,48.970001220703125,47.88999938964844,49.7599983215332,49.209999084472656,48.43999862670898,45.40999984741211,45.11000061035156,46.619998931884766,46.09999847412109,45.97999954223633,46.31999969482422,43.619998931884766,40.709999084472656,42.27000045776367,40.25,38.7599983215332,38.810001373291016,41.220001220703125,42.59000015258789,41.16999816894531,42.470001220703125,43.02000045776367,41.63999938964844,40.290000915527344,36.02000045776367,36.66999816894531,36.619998931884766,34.2599983215332,33.189998626708984,34.849998474121094,36.18000030517578,36.13999938964844,33.880001068115234,34.310001373291016,31.739999771118164,30.040000915527344,30.34000015258789,27.59000015258789,27.43000030517578,29.540000915527344,30.270000457763672,29.1299991607666,31.270000457763672,31.920000076293945,34.2599983215332,36.81999969482422,33.40999984741211,37.84000015258789,36.209999084472656,35.150001525878906,32.63999938964844,37.34000015258789,37.68000030517578,35.560001373291016,36.61000061035156,39.38999938964844,38.08000183105469,37.68999862670898,38.5099983215332,40.20000076293945,39.77000045776367,40.43000030517578,41.060001373291016,38.7400016784668,38.09000015258789,37.209999084472656,37.650001525878906,37.11000061035156,35.13999938964844,35.150001525878906,34.02000045776367,31.15999984741211,31.68000030517578,33.099998474121094,33.310001373291016,30.190000534057617,30.729999542236328,30.65999984741211,30.75,31.34000015258789,27.420000076293945,27.38999938964844,26.790000915527344,28.280000686645508,26.850000381469727,26.809999465942383,25.280000686645508,27.07999992370605,28.049999237060547,27.479999542236328,27.88999938964844,32.15999984741211,30.950000762939453,30.709999084472656,30.6299991607666,31.0,29.71999931335449,30.1299991607666,29.989999771118164,30.43000030517578,27.700000762939453,27.309999465942383,27.63999938964844,27.51000022888184,28.450000762939453,28.489999771118164,28.729999542236328,28.5,30.549999237060547,30.13999938964844,29.57999992370605,30.32999992370605,31.46999931335449,31.739999771118164,31.15999984741211,30.489999771118164,29.790000915527344,31.190000534057617,32.540000915527344,32.41999816894531,32.119998931884766,30.540000915527344,30.63999938964844,29.34000015258789,29.32999992370605,29.170000076293945,29.18000030517578,29.280000686645508,28.299999237060547,30.34000015258789,33.11000061035156,32.84000015258789,31.46999931335449,31.3700008392334,30.82999992370605,30.479999542236328,29.700000762939453,31.43000030517578,31.31999969482422,31.65999984741211,31.530000686645508,31.38999938964844,31.799999237060547,30.790000915527344,30.989999771118164,32.16999816894531,30.920000076293945,31.15999984741211,30.61000061035156,32.560001373291016,32.220001220703125,32.38999938964844,32.150001525878906,32.25,32.93000030517578,32.79999923706055,32.84000015258789,32.0,33.939998626708984,34.27000045776367,35.040000915527344,36.68999862670898,36.84000015258789,36.630001068115234,35.68000030517578,35.79999923706055,38.47999954223633,39.72999954223633,40.540000915527344,39.400001525878906,40.43999862670898,40.68000030517578,39.79999923706055,39.75,40.7599983215332,42.09000015258789,45.63999938964844,44.65999984741211,45.720001220703125,46.150001525878906,45.0,45.650001525878906,45.77000045776367,42.040000915527344,42.02000045776367,41.290000915527344,41.0099983215332,41.31999969482422,43.06999969482422,41.7400016784668,41.18999862670898,39.470001220703125,37.77000045776367,37.150001525878906,34.93000030517578,32.02000045776367,34.2599983215332,34.58000183105469,33.70000076293945,34.689998626708984,36.02999877929688,35.56999969482422,34.2599983215332,27.309999465942383,27.920000076293945,31.649999618530277,27.940000534057617,26.559999465942383,27.38999938964844,28.270000457763672,29.26000022888184,29.1200008392334,28.21999931335449,31.25,29.489999771118164,29.709999084472656,28.81999969482422,28.65999984741211,29.440000534057617,29.8700008392334,30.82999992370605,30.82999992370605,30.709999084472656,32.2599983215332,33.619998931884766,31.959999084472656,31.6200008392334,31.530000686645508,31.34000015258789,30.520000457763672,30.739999771118164,30.84000015258789,30.3799991607666,26.979999542236328,25.899999618530277,25.809999465942383,26.07999992370605,25.549999237060547,25.40999984741211,23.71999931335449,24.3799991607666,23.700000762939453,19.34000015258789,21.350000381469727,21.799999237060547,20.520000457763672,20.84000015258789,20.030000686645508,21.209999084472656,21.21999931335449,20.07999992370605,19.450000762939453,23.8799991607666,24.01000022888184,23.280000686645508,23.209999084472656,23.799999237060547,24.82999992370605,24.200000762939453,20.790000915527344,21.81999969482422,21.82999992370605,19.549999237060547,16.81999969482422,18.76000022888184,20.899999618530277,20.979999542236328,21.040000915527344,20.0,19.950000762939453,26.299999237060547,27.57999992370605,27.21999931335449,27.65999984741211,26.57999992370605,25.799999237060547,28.559999465942383,29.3700008392334,30.020000457763672,30.020000457763672,27.71999931335449,29.280000686645508,29.690000534057617,28.540000915527344,28.88999938964844,29.899999618530277,29.739999771118164,29.030000686645508,29.940000534057617,28.899999618530277,28.700000762939453,30.34000015258789,29.3700008392334,30.8799991607666,30.06999969482422,29.600000381469727,30.13999938964844,32.45000076293945,32.400001525878906,31.850000381469727,29.200000762939453,29.549999237060547,32.33000183105469,32.709999084472656,32.38999938964844,31.709999084472656,31.46999931335449,32.880001068115234,32.70000076293945,34.06999969482422,33.380001068115234,32.15999984741211,32.209999084472656,32.84000015258789,32.58000183105469,31.600000381469727,30.1299991607666,30.34000015258789,31.790000915527344,32.86000061035156,32.22999954223633,31.790000915527344,32.02000045776367,32.66999816894531,33.400001525878906,32.529998779296875,33.40999984741211,31.530000686645508,31.190000534057617,30.440000534057617,28.850000381469727,29.25,29.38999938964844,28.21999931335449,28.5,28.540000915527344,28.84000015258789,30.40999984741211,30.520000457763672,31.309999465942383,30.86000061035156,30.8700008392334,30.90999984741211,30.8700008392334,33.029998779296875,32.97999954223633,33.0,34.20000076293945,33.40999984741211,32.9900016784668,33.529998779296875,35.150001525878906,34.56999969482422,33.83000183105469,33.79999923706055,34.22999954223633,34.83000183105469,36.540000915527344,36.72999954223633,37.13999938964844,36.06999969482422,35.95000076293945,36.02999877929688,34.150001525878906,33.689998626708984,31.93000030517578,29.76000022888184,32.150001525878906,31.049999237060547,30.88999938964844,31.030000686645508,29.959999084472656,29.920000076293945,29.799999237060547,31.450000762939453,33.79999923706055,33.02000045776367,35.130001068115234,35.779998779296875,35.11000061035156,36.40999984741211,36.70000076293945,34.27000045776367,34.560001373291016,32.06999969482422,32.02000045776367,33.95000076293945,35.470001220703125,35.22999954223633,35.0099983215332,36.63999938964844,35.31999969482422,34.970001220703125,33.290000915527344,32.43000030517578,31.940000534057617,33.029998779296875,32.65999984741211,28.770000457763672,28.63999938964844,28.190000534057617,28.90999984741211,28.15999984741211,28.1200008392334,27.26000022888184,27.1200008392334,27.200000762939453,26.26000022888184,25.21999931335449,25.200000762939453,25.6299991607666,23.26000022888184,26.209999084472656,27.850000381469727,27.280000686645508,26.690000534057617,27.31999969482422,28.020000457763672,27.799999237060547,28.450000762939453,27.770000457763672,27.459999084472656,27.940000534057617,27.809999465942383,27.71999931335449,28.670000076293945,29.34000015258789,29.6200008392334,31.07999992370605,30.15999984741211,29.979999542236328,27.690000534057617,27.100000381469727,25.84000015258789,26.84000015258789,27.209999084472656,26.93000030517578,27.0,27.850000381469727,26.600000381469727,27.6200008392334,24.940000534057617,24.450000762939453,24.38999938964844,23.239999771118164,24.729999542236328,25.68000030517578,25.420000076293945,25.350000381469727,27.13999938964844,26.709999084472656,25.450000762939453,26.040000915527344,25.93000030517578,26.520000457763672,26.46999931335449,28.280000686645508,28.36000061035156,30.46999931335449,31.600000381469727,32.18000030517578,32.189998626708984,32.220001220703125,31.76000022888184,31.709999084472656,31.149999618530277,28.07999992370605,29.149999618530277,29.290000915527344,30.43000030517578,28.57999992370605,24.25,15.729999542236328,15.079999923706056,14.380000114440918,10.40999984741211],\"type\":\"scatter\"},{\"mode\":\"lines\",\"name\":\"Predicted\",\"x\":[\"2000-08-14\",\"2000-08-22\",\"2000-09-05\",\"2000-09-06\",\"2000-09-11\",\"2000-09-13\",\"2000-09-26\",\"2000-09-28\",\"2000-10-04\",\"2000-10-05\",\"2000-10-11\",\"2000-10-12\",\"2000-10-26\",\"2000-11-08\",\"2000-11-10\",\"2000-11-14\",\"2000-11-15\",\"2000-11-17\",\"2000-11-28\",\"2000-11-29\",\"2000-12-08\",\"2001-01-04\",\"2001-01-18\",\"2001-01-29\",\"2001-01-30\",\"2001-01-31\",\"2001-02-02\",\"2001-02-05\",\"2001-02-12\",\"2001-02-28\",\"2001-03-15\",\"2001-03-26\",\"2001-03-28\",\"2001-04-03\",\"2001-04-09\",\"2001-04-11\",\"2001-04-24\",\"2001-05-03\",\"2001-05-14\",\"2001-05-23\",\"2001-05-30\",\"2001-06-05\",\"2001-06-11\",\"2001-06-13\",\"2001-06-21\",\"2001-07-02\",\"2001-07-20\",\"2001-07-23\",\"2001-07-27\",\"2001-08-03\",\"2001-08-06\",\"2001-08-16\",\"2001-08-22\",\"2001-09-10\",\"2001-09-19\",\"2001-10-01\",\"2001-10-10\",\"2001-10-12\",\"2001-10-16\",\"2001-10-17\",\"2001-10-25\",\"2001-10-31\",\"2001-11-09\",\"2001-11-12\",\"2001-11-16\",\"2001-11-29\",\"2001-12-21\",\"2001-12-26\",\"2001-12-27\",\"2001-12-31\",\"2002-01-04\",\"2002-01-15\",\"2002-01-18\",\"2002-01-22\",\"2002-01-28\",\"2002-02-01\",\"2002-02-19\",\"2002-02-26\",\"2002-02-27\",\"2002-03-11\",\"2002-03-19\",\"2002-03-26\",\"2002-04-02\",\"2002-04-03\",\"2002-04-04\",\"2002-04-15\",\"2002-04-16\",\"2002-04-18\",\"2002-04-25\",\"2002-04-29\",\"2002-04-30\",\"2002-05-02\",\"2002-05-13\",\"2002-05-14\",\"2002-05-23\",\"2002-05-24\",\"2002-05-28\",\"2002-06-17\",\"2002-07-19\",\"2002-07-22\",\"2002-07-23\",\"2002-08-02\",\"2002-08-05\",\"2002-08-06\",\"2002-08-13\",\"2002-08-26\",\"2002-09-04\",\"2002-09-06\",\"2002-09-18\",\"2002-10-07\",\"2002-10-08\",\"2002-10-15\",\"2002-10-29\",\"2002-11-07\",\"2002-11-11\",\"2002-11-13\",\"2002-11-19\",\"2002-11-20\",\"2002-11-25\",\"2002-12-04\",\"2002-12-12\",\"2002-12-17\",\"2002-12-26\",\"2002-12-27\",\"2003-01-02\",\"2003-01-14\",\"2003-01-22\",\"2003-01-29\",\"2003-02-06\",\"2003-02-11\",\"2003-02-13\",\"2003-02-27\",\"2003-03-07\",\"2003-03-13\",\"2003-03-20\",\"2003-03-25\",\"2003-04-28\",\"2003-05-06\",\"2003-05-08\",\"2003-05-12\",\"2003-05-19\",\"2003-06-02\",\"2003-06-10\",\"2003-06-27\",\"2003-07-10\",\"2003-07-15\",\"2003-07-21\",\"2003-07-29\",\"2003-08-04\",\"2003-08-08\",\"2003-08-11\",\"2003-08-15\",\"2003-08-18\",\"2003-08-19\",\"2003-08-22\",\"2003-08-25\",\"2003-08-26\",\"2003-09-12\",\"2003-09-25\",\"2003-09-26\",\"2003-10-01\",\"2003-10-09\",\"2003-10-13\",\"2003-10-17\",\"2003-10-24\",\"2003-11-04\",\"2003-11-12\",\"2003-11-17\",\"2003-11-20\",\"2003-12-05\",\"2003-12-15\",\"2003-12-16\",\"2004-01-05\",\"2004-01-07\",\"2004-01-20\",\"2004-02-10\",\"2004-02-13\",\"2004-02-18\",\"2004-02-25\",\"2004-03-05\",\"2004-03-10\",\"2004-03-23\",\"2004-03-24\",\"2004-03-31\",\"2004-04-05\",\"2004-04-08\",\"2004-04-13\",\"2004-04-14\",\"2004-05-03\",\"2004-05-07\",\"2004-05-26\",\"2004-06-03\",\"2004-06-18\",\"2004-06-21\",\"2004-06-24\",\"2004-06-28\",\"2004-07-13\",\"2004-07-14\",\"2004-07-23\",\"2004-07-28\",\"2004-08-11\",\"2004-08-23\",\"2004-08-31\",\"2004-09-13\",\"2004-09-16\",\"2004-09-23\",\"2004-10-19\",\"2004-10-27\",\"2004-10-28\",\"2004-11-01\",\"2004-11-10\",\"2004-11-18\",\"2004-11-30\",\"2004-12-06\",\"2004-12-10\",\"2004-12-28\",\"2005-01-06\",\"2005-01-10\",\"2005-01-11\",\"2005-01-13\",\"2005-01-14\",\"2005-01-20\",\"2005-01-21\",\"2005-02-11\",\"2005-02-15\",\"2005-02-24\",\"2005-03-02\",\"2005-03-03\",\"2005-03-15\",\"2005-03-21\",\"2005-03-31\",\"2005-04-01\",\"2005-04-05\",\"2005-04-13\",\"2005-04-19\",\"2005-04-22\",\"2005-04-26\",\"2005-05-05\",\"2005-05-06\",\"2005-06-02\",\"2005-06-07\",\"2005-06-17\",\"2005-06-22\",\"2005-06-24\",\"2005-06-29\",\"2005-07-19\",\"2005-07-21\",\"2005-07-26\",\"2005-07-28\",\"2005-08-02\",\"2005-08-03\",\"2005-08-09\",\"2005-08-22\",\"2005-09-09\",\"2005-09-23\",\"2005-09-27\",\"2005-10-04\",\"2005-10-12\",\"2005-10-17\",\"2005-10-18\",\"2005-10-24\",\"2005-10-25\",\"2005-10-26\",\"2005-11-04\",\"2005-11-08\",\"2005-11-09\",\"2005-11-11\",\"2005-11-15\",\"2005-11-17\",\"2005-12-02\",\"2005-12-05\",\"2005-12-07\",\"2005-12-08\",\"2005-12-09\",\"2005-12-12\",\"2005-12-20\",\"2005-12-22\",\"2005-12-23\",\"2006-01-10\",\"2006-01-20\",\"2006-01-23\",\"2006-02-07\",\"2006-02-13\",\"2006-02-22\",\"2006-02-23\",\"2006-03-01\",\"2006-03-16\",\"2006-03-17\",\"2006-03-30\",\"2006-04-11\",\"2006-04-20\",\"2006-05-02\",\"2006-05-05\",\"2006-05-31\",\"2006-06-01\",\"2006-06-02\",\"2006-06-05\",\"2006-06-07\",\"2006-06-13\",\"2006-06-22\",\"2006-07-05\",\"2006-07-14\",\"2006-07-17\",\"2006-08-02\",\"2006-08-03\",\"2006-08-04\",\"2006-08-18\",\"2006-08-24\",\"2006-09-28\",\"2006-10-03\",\"2006-10-06\",\"2006-10-12\",\"2006-10-25\",\"2006-11-08\",\"2006-11-15\",\"2006-11-17\",\"2006-11-27\",\"2006-12-01\",\"2006-12-15\",\"2006-12-19\",\"2006-12-20\",\"2006-12-28\",\"2007-01-03\",\"2007-01-12\",\"2007-01-25\",\"2007-01-30\",\"2007-02-01\",\"2007-03-08\",\"2007-03-09\",\"2007-03-15\",\"2007-03-22\",\"2007-04-12\",\"2007-04-17\",\"2007-04-19\",\"2007-04-27\",\"2007-05-02\",\"2007-05-08\",\"2007-05-14\",\"2007-05-25\",\"2007-05-31\",\"2007-06-18\",\"2007-06-20\",\"2007-07-03\",\"2007-07-10\",\"2007-07-20\",\"2007-07-23\",\"2007-08-03\",\"2007-08-06\",\"2007-08-31\",\"2007-09-07\",\"2007-09-12\",\"2007-09-13\",\"2007-09-14\",\"2007-09-19\",\"2007-09-27\",\"2007-10-03\",\"2007-10-18\",\"2007-11-08\",\"2007-12-07\",\"2007-12-20\",\"2007-12-26\",\"2007-12-31\",\"2008-01-02\",\"2008-01-03\",\"2008-01-14\",\"2008-01-22\",\"2008-01-23\",\"2008-01-28\",\"2008-02-08\",\"2008-02-11\",\"2008-02-14\",\"2008-02-26\",\"2008-02-28\",\"2008-02-29\",\"2008-03-03\",\"2008-03-11\",\"2008-03-24\",\"2008-03-27\",\"2008-04-01\",\"2008-04-02\",\"2008-04-08\",\"2008-04-10\",\"2008-04-18\",\"2008-04-21\",\"2008-05-01\",\"2008-05-19\",\"2008-06-02\",\"2008-06-09\",\"2008-06-10\",\"2008-06-11\",\"2008-06-18\",\"2008-06-26\",\"2008-07-15\",\"2008-07-28\",\"2008-08-01\",\"2008-08-05\",\"2008-08-14\",\"2008-08-18\",\"2008-08-20\",\"2008-08-25\",\"2008-08-26\",\"2008-09-09\",\"2008-09-18\",\"2008-09-24\",\"2008-09-25\",\"2008-10-13\",\"2008-10-17\",\"2008-11-04\",\"2008-11-06\",\"2008-11-11\",\"2008-12-02\",\"2008-12-05\",\"2008-12-11\",\"2008-12-15\",\"2008-12-18\",\"2008-12-19\",\"2008-12-23\",\"2009-01-13\",\"2009-01-23\",\"2009-01-26\",\"2009-02-10\",\"2009-02-13\",\"2009-03-11\",\"2009-03-16\",\"2009-03-18\",\"2009-03-19\",\"2009-03-23\",\"2009-03-24\",\"2009-04-06\",\"2009-04-08\",\"2009-04-09\",\"2009-04-15\",\"2009-04-24\",\"2009-05-06\",\"2009-05-18\",\"2009-06-09\",\"2009-06-11\",\"2009-06-12\",\"2009-06-15\",\"2009-06-22\",\"2009-06-24\",\"2009-06-30\",\"2009-07-13\",\"2009-07-16\",\"2009-07-17\",\"2009-07-22\",\"2009-08-25\",\"2009-09-01\",\"2009-09-10\",\"2009-09-28\",\"2009-10-13\",\"2009-10-26\",\"2009-11-03\",\"2009-11-13\",\"2009-12-11\",\"2009-12-31\",\"2010-01-06\",\"2010-01-11\",\"2010-01-20\",\"2010-01-22\",\"2010-01-25\",\"2010-01-26\",\"2010-01-29\",\"2010-02-03\",\"2010-02-26\",\"2010-03-12\",\"2010-03-26\",\"2010-04-05\",\"2010-04-12\",\"2010-04-15\",\"2010-04-26\",\"2010-04-28\",\"2010-05-03\",\"2010-05-06\",\"2010-05-25\",\"2010-06-08\",\"2010-06-22\",\"2010-07-01\",\"2010-07-12\",\"2010-07-20\",\"2010-07-23\",\"2010-07-27\",\"2010-08-03\",\"2010-08-04\",\"2010-08-12\",\"2010-08-19\",\"2010-09-01\",\"2010-09-22\",\"2010-09-24\",\"2010-09-27\",\"2010-10-01\",\"2010-10-05\",\"2010-10-06\",\"2010-11-02\",\"2010-11-03\",\"2010-11-09\",\"2010-11-16\",\"2010-11-30\",\"2010-12-21\",\"2010-12-27\",\"2011-01-07\",\"2011-01-14\",\"2011-01-19\",\"2011-01-21\",\"2011-01-24\",\"2011-01-28\",\"2011-01-31\",\"2011-02-01\",\"2011-02-14\",\"2011-02-17\",\"2011-02-28\",\"2011-03-01\",\"2011-03-18\",\"2011-03-23\",\"2011-03-25\",\"2011-04-04\",\"2011-04-05\",\"2011-04-06\",\"2011-04-14\",\"2011-04-15\",\"2011-04-20\",\"2011-04-25\",\"2011-04-26\",\"2011-04-29\",\"2011-05-05\",\"2011-05-12\",\"2011-05-24\",\"2011-06-09\",\"2011-06-23\",\"2011-06-24\",\"2011-06-28\",\"2011-07-05\",\"2011-07-15\",\"2011-07-18\",\"2011-07-25\",\"2011-07-26\",\"2011-07-28\",\"2011-08-04\",\"2011-08-11\",\"2011-08-15\",\"2011-08-17\",\"2011-08-19\",\"2011-09-02\",\"2011-09-06\",\"2011-09-07\",\"2011-09-09\",\"2011-09-12\",\"2011-09-20\",\"2011-09-21\",\"2011-09-28\",\"2011-09-30\",\"2011-10-03\",\"2011-10-04\",\"2011-10-05\",\"2011-10-06\",\"2011-10-14\",\"2011-10-18\",\"2011-10-25\",\"2011-10-27\",\"2011-10-31\",\"2011-11-02\",\"2011-11-16\",\"2011-11-18\",\"2011-11-23\",\"2011-11-29\",\"2011-12-02\",\"2011-12-12\",\"2011-12-28\",\"2011-12-30\",\"2012-01-05\",\"2012-01-11\",\"2012-01-19\",\"2012-01-26\",\"2012-01-27\",\"2012-02-01\",\"2012-02-02\",\"2012-02-06\",\"2012-02-07\",\"2012-02-15\",\"2012-02-24\",\"2012-02-28\",\"2012-03-12\",\"2012-03-19\",\"2012-03-30\",\"2012-04-09\",\"2012-04-23\",\"2012-04-25\",\"2012-05-02\",\"2012-05-11\",\"2012-05-22\",\"2012-05-23\",\"2012-05-24\",\"2012-05-25\",\"2012-05-31\",\"2012-06-07\",\"2012-06-08\",\"2012-06-18\",\"2012-06-28\",\"2012-06-29\",\"2012-07-09\",\"2012-07-23\",\"2012-07-27\",\"2012-07-31\",\"2012-08-02\",\"2012-08-17\",\"2012-08-24\",\"2012-08-28\",\"2012-10-02\",\"2012-10-19\",\"2012-10-23\",\"2012-10-24\",\"2012-11-01\",\"2012-11-05\",\"2012-11-12\",\"2012-11-14\",\"2012-11-16\",\"2012-11-20\",\"2012-11-27\",\"2012-11-29\",\"2012-12-17\",\"2012-12-24\",\"2013-01-03\",\"2013-01-09\",\"2013-01-14\",\"2013-02-04\",\"2013-02-11\",\"2013-02-12\",\"2013-02-13\",\"2013-02-27\",\"2013-03-04\",\"2013-03-06\",\"2013-03-15\",\"2013-03-18\",\"2013-04-01\",\"2013-04-04\",\"2013-04-05\",\"2013-04-29\",\"2013-05-02\",\"2013-05-15\",\"2013-06-05\",\"2013-06-07\",\"2013-06-24\",\"2013-07-08\",\"2013-07-18\",\"2013-07-24\",\"2013-08-01\",\"2013-08-02\",\"2013-08-05\",\"2013-08-08\",\"2013-08-21\",\"2013-08-27\",\"2013-09-09\",\"2013-09-16\",\"2013-09-19\",\"2013-09-20\",\"2013-09-30\",\"2013-10-02\",\"2013-10-07\",\"2013-10-10\",\"2013-11-04\",\"2013-11-06\",\"2013-11-11\",\"2013-11-14\",\"2013-11-15\",\"2013-11-26\",\"2013-12-04\",\"2013-12-17\",\"2014-01-02\",\"2014-01-14\",\"2014-01-15\",\"2014-01-23\",\"2014-02-04\",\"2014-02-06\",\"2014-02-13\",\"2014-02-18\",\"2014-02-19\",\"2014-02-25\",\"2014-03-12\",\"2014-03-13\",\"2014-03-31\",\"2014-04-03\",\"2014-04-08\",\"2014-04-10\",\"2014-04-21\",\"2014-05-05\",\"2014-05-07\",\"2014-05-19\",\"2014-05-21\",\"2014-06-05\",\"2014-06-20\",\"2014-06-23\",\"2014-06-26\",\"2014-06-30\",\"2014-07-17\",\"2014-07-21\",\"2014-07-23\",\"2014-07-31\",\"2014-08-07\",\"2014-08-12\",\"2014-08-13\",\"2014-08-15\",\"2014-08-25\",\"2014-09-03\",\"2014-09-17\",\"2014-09-26\",\"2014-09-30\",\"2014-10-03\",\"2014-10-08\",\"2014-10-14\",\"2014-10-21\",\"2014-10-28\",\"2014-10-31\",\"2014-11-05\",\"2014-11-06\",\"2014-11-14\",\"2014-12-02\",\"2014-12-12\",\"2014-12-15\",\"2014-12-18\",\"2015-01-08\",\"2015-01-09\",\"2015-01-13\",\"2015-01-16\",\"2015-01-22\",\"2015-01-23\",\"2015-01-27\",\"2015-02-05\",\"2015-02-25\",\"2015-03-05\",\"2015-03-10\",\"2015-03-11\",\"2015-03-16\",\"2015-03-20\",\"2015-03-24\",\"2015-03-27\",\"2015-03-30\",\"2015-04-02\",\"2015-04-23\",\"2015-05-05\",\"2015-05-07\",\"2015-05-13\",\"2015-05-15\",\"2015-05-22\",\"2015-05-27\",\"2015-05-28\",\"2015-05-29\",\"2015-07-01\",\"2015-07-07\",\"2015-07-08\",\"2015-07-10\",\"2015-07-14\",\"2015-07-15\",\"2015-07-28\",\"2015-07-30\",\"2015-08-12\",\"2015-08-24\",\"2015-08-26\",\"2015-08-27\",\"2015-09-08\",\"2015-09-09\",\"2015-09-10\",\"2015-09-15\",\"2015-09-16\",\"2015-09-21\",\"2015-09-29\",\"2015-10-06\",\"2015-10-13\",\"2015-10-16\",\"2015-10-20\",\"2015-10-30\",\"2015-11-06\",\"2015-11-30\",\"2015-12-21\",\"2015-12-29\",\"2015-12-30\",\"2016-01-06\",\"2016-01-14\",\"2016-01-25\",\"2016-01-29\",\"2016-02-05\",\"2016-02-19\",\"2016-02-22\",\"2016-02-23\",\"2016-03-08\",\"2016-03-15\",\"2016-03-18\",\"2016-03-21\",\"2016-03-23\",\"2016-03-31\",\"2016-04-14\",\"2016-04-15\",\"2016-04-18\",\"2016-04-28\",\"2016-05-05\",\"2016-05-13\",\"2016-05-16\",\"2016-05-18\",\"2016-05-19\",\"2016-05-24\",\"2016-05-27\",\"2016-05-31\",\"2016-06-03\",\"2016-06-13\",\"2016-06-15\",\"2016-06-20\",\"2016-06-27\",\"2016-07-01\",\"2016-07-22\",\"2016-08-01\",\"2016-08-02\",\"2016-08-12\",\"2016-08-16\",\"2016-09-01\",\"2016-09-15\",\"2016-09-23\",\"2016-10-07\",\"2016-10-24\",\"2016-10-27\",\"2016-10-28\",\"2016-11-01\",\"2016-11-18\",\"2016-11-22\",\"2016-11-30\",\"2016-12-08\",\"2016-12-22\",\"2016-12-27\",\"2017-01-03\",\"2017-01-05\",\"2017-01-06\",\"2017-01-31\",\"2017-02-15\",\"2017-03-10\",\"2017-03-14\",\"2017-03-17\",\"2017-03-20\",\"2017-03-21\",\"2017-03-31\",\"2017-04-05\",\"2017-04-19\",\"2017-04-24\",\"2017-05-02\",\"2017-05-15\",\"2017-05-17\",\"2017-06-01\",\"2017-06-08\",\"2017-06-09\",\"2017-06-13\",\"2017-06-22\",\"2017-06-26\",\"2017-06-29\",\"2017-07-24\",\"2017-07-31\",\"2017-08-09\",\"2017-08-11\",\"2017-08-22\",\"2017-08-23\",\"2017-08-25\",\"2017-09-12\",\"2017-09-13\",\"2017-09-18\",\"2017-09-20\",\"2017-10-04\",\"2017-10-06\",\"2017-11-24\",\"2017-12-04\",\"2017-12-06\",\"2017-12-12\",\"2017-12-18\",\"2017-12-19\",\"2017-12-20\",\"2017-12-29\",\"2018-01-10\",\"2018-01-11\",\"2018-01-19\",\"2018-01-24\",\"2018-01-25\",\"2018-01-30\",\"2018-02-01\",\"2018-02-05\",\"2018-02-07\",\"2018-02-22\",\"2018-02-28\",\"2018-03-01\",\"2018-03-02\",\"2018-03-12\",\"2018-03-13\",\"2018-03-16\",\"2018-03-20\",\"2018-04-04\",\"2018-04-05\",\"2018-04-12\",\"2018-04-20\",\"2018-05-04\",\"2018-05-14\",\"2018-05-15\",\"2018-05-25\",\"2018-05-30\",\"2018-06-13\",\"2018-06-19\",\"2018-06-25\",\"2018-07-03\",\"2018-07-19\",\"2018-07-20\",\"2018-07-30\",\"2018-08-27\",\"2018-08-29\",\"2018-09-04\",\"2018-09-06\",\"2018-09-11\",\"2018-09-26\",\"2018-09-27\",\"2018-10-12\",\"2018-10-16\",\"2018-10-25\",\"2018-10-31\",\"2018-11-08\",\"2018-11-09\",\"2018-11-12\",\"2018-11-15\",\"2018-11-16\",\"2018-11-19\",\"2018-11-21\",\"2018-11-28\",\"2018-12-13\",\"2018-12-20\",\"2019-01-25\",\"2019-02-14\",\"2019-03-01\",\"2019-03-05\",\"2019-03-06\",\"2019-03-15\",\"2019-03-18\",\"2019-03-20\",\"2019-03-25\",\"2019-03-27\",\"2019-03-29\",\"2019-04-01\",\"2019-04-02\",\"2019-04-04\",\"2019-04-08\",\"2019-04-12\",\"2019-04-18\",\"2019-04-24\",\"2019-04-29\",\"2019-05-06\",\"2019-05-17\",\"2019-05-22\",\"2019-06-03\",\"2019-06-10\",\"2019-06-14\",\"2019-06-18\",\"2019-06-25\",\"2019-07-02\",\"2019-07-10\",\"2019-07-25\",\"2019-08-07\",\"2019-08-08\",\"2019-08-13\",\"2019-09-06\",\"2019-09-09\",\"2019-09-10\",\"2019-09-11\",\"2019-09-23\",\"2019-09-25\",\"2019-10-10\",\"2019-10-24\",\"2019-10-31\",\"2019-11-01\",\"2019-11-04\",\"2019-11-22\",\"2019-12-03\",\"2019-12-11\",\"2019-12-19\",\"2019-12-24\",\"2019-12-27\",\"2020-01-06\",\"2020-01-09\",\"2020-01-16\",\"2020-01-17\",\"2020-01-31\",\"2020-02-05\",\"2020-02-13\",\"2020-02-19\",\"2020-02-21\",\"2020-03-04\",\"2020-03-06\",\"2020-03-10\",\"2020-03-12\",\"2020-03-25\"],\"y\":[3.8192843842506408,3.9928843688964846,4.021484363079071,4.041590597629547,4.175068755149841,4.420437498092651,4.108159313201904,4.2110156106948855,4.278493700027465,4.30923749923706,4.067275018692016,4.1193374824523925,3.7696437406539918,3.627159376144409,3.584815618991852,3.444921886920929,3.519775004386902,3.5688125014305117,3.458193745613098,3.536196885108948,3.6821468806266786,3.4090093922615052,3.5930562376976014,3.635315623283386,3.6883124995231626,3.651018753051758,3.714159369468689,3.787528121471405,3.736574990749359,3.6046812462806703,3.8550906205177307,3.7050624966621397,3.6789406180381774,3.572615644931793,3.566950008869171,3.7714750003814697,3.7804593896865843,3.519228160381317,3.8292999982833864,4.166471896171569,4.1975718593597415,4.193450031280517,4.0515874886512755,4.0587874794006344,3.863684389591217,3.7088218903541565,3.4770312571525572,3.561499991416931,3.6706000089645388,3.7861312460899352,3.835906250476837,3.824268727302551,3.6725281190872194,3.657743740081787,3.386796886920929,3.045824980735779,3.4518124938011168,3.4346406388282777,3.471062517166138,3.4457562589645385,3.2689437651634217,3.367184376716614,3.3322781348228454,3.374993760585785,2.962149977684021,3.134203131198883,3.0368374609947204,3.0639624762535096,3.074337465763092,3.0410749983787535,3.0248499798774717,3.12889999628067,3.0300374674797057,3.0549874687194825,3.2465781497955324,3.3408781266212464,3.500443742275238,3.706659393310547,3.6873312759399415,3.875125002861023,3.982112500667572,3.9771312355995176,4.169834365844727,4.074490606784821,3.9263625049591067,3.82725937128067,4.003103184700012,3.9887812447547915,4.156337475776672,4.118274965286255,4.137706220149994,4.118206214904785,4.033781211376191,4.1018312287330625,4.127543714046478,4.052009396553039,4.090768737792969,3.972634358406067,4.020715620517731,3.7208499789237974,3.6130625081062315,3.97683123588562,3.96059061050415,4.173753118515014,4.224618735313416,4.198593792915344,4.065718731880188,4.050525031089783,3.8723718905448914,3.693318769931793,3.6725375175476076,3.741609375476837,3.314040627479553,3.1910499954223632,3.2343656420707703,3.208140640258789,3.1975406336784364,3.2532187843322755,3.217603166103363,3.410965621471405,3.6499937438964842,3.6979062747955322,3.732918765544891,3.6761125183105468,3.761456253528595,3.7031750154495238,3.8692531323432924,3.9064593935012817,3.8895749974250795,3.911131274700165,3.933687491416931,4.25172182559967,4.429968800544739,4.276587443351746,4.18441246509552,4.0789249539375305,4.187125015258789,4.4617188453674315,4.509993844032287,4.5134313726425175,4.643775005340576,4.962062473297119,5.140837473869324,4.890287461280823,4.824950032234192,4.831962485313415,4.827462482452392,4.847300033569336,4.820449986457825,5.031174969673157,5.1128499746322635,5.091799993515014,5.068362512588501,5.011600012779236,5.053400001525879,5.0059124898910525,4.890524945259094,5.010162477493286,5.028587498664856,4.986587467193604,5.1714249610900875,5.3774625062942505,5.4861750364303585,5.544774899482727,5.48617506980896,5.1345499324798585,5.2265375185012815,5.346974983215332,5.487000017166138,5.7239374160766605,5.720437455177307,5.7622999620437625,6.83594997882843,6.507350063323974,6.7041874647140505,6.431287484169006,6.405037446022034,6.417637462615967,6.424087448120117,7.015500001907348,6.884587488174438,6.918800044059753,6.856837511062622,6.921662492752075,7.247587552070618,7.29968752861023,7.35946252822876,7.218750014305114,6.999012475013733,7.095274991989136,6.860625038146972,6.66460003376007,7.1662000465393065,7.393912572860717,7.542287578582764,7.462175045013428,7.985150094032288,7.987925105094909,7.982225079536438,8.060450134277344,7.970725078582763,7.940800023078919,8.226400074958802,8.354724969863891,8.842924957275391,9.360224943161011,10.005200052261353,10.425475177764893,10.277175178527832,10.330475034713745,10.140050048828124,9.975850067138673,10.786450023651122,9.99810001373291,9.730125017166138,10.413274974822999,9.921674995422363,10.198299951553345,10.180749931335448,10.898749933242797,10.857574882507324,10.497625179290772,10.937400064468385,12.546049909591675,13.473099908828736,14.143424940109252,14.184949836730958,14.621750011444092,14.230624980926514,14.78255018234253,14.066575107574463,14.141849975585938,14.027599906921386,13.44062502861023,13.364224891662598,13.528350038528442,13.482349948883057,13.545875053405762,14.02447509765625,14.82397512435913,15.537050075531006,18.52480005264282,17.890499877929688,18.537450008392334,18.3746000289917,20.138500061035156,19.934499950408934,20.166999969482422,20.298549995422363,22.84889989852905,21.887249965667724,23.96069990158081,22.333399906158448,24.071499824523926,21.981649932861327,22.365249938964844,21.822350006103516,20.483999881744385,20.026099739074706,19.060300102233885,19.304750003814696,20.924049949645998,21.071299991607667,23.0275,23.481049995422364,23.64709993362427,23.301499862670898,22.774049854278566,23.141949825286865,23.675449810028077,24.02944980621338,25.0140997505188,25.191699924468995,24.972699928283692,25.830949783325195,25.419399738311768,25.237050018310548,25.24659999847412,26.058899993896485,28.17065010070801,29.99064994812012,30.211199913024902,25.990300045013427,27.441700115203858,27.54684997558594,28.528450088500975,28.827950019836425,28.277700119018554,28.49170003890991,30.01055004119873,30.753250007629394,30.992700080871582,28.81830017089844,27.007900009155275,27.376950130462646,27.36414987564087,26.255700187683104,25.649599895477294,23.22119997024536,23.801299896240234,27.975499744415284,26.647749977111815,25.31114978790283,27.052749881744386,26.674499893188475,26.153500118255614,26.503350067138673,26.566799812316894,23.206400089263916,20.85100009918213,22.10699987411499,22.428599910736082,26.441600284576417,25.88255006790161,25.734550094604494,25.15384994506836,25.79864995956421,27.31769998550415,26.454150085449218,25.81065008163452,25.824850006103517,26.5592999458313,24.67720012664795,23.541099967956544,24.13679998397827,25.228600025177002,25.081549968719482,25.99579999923706,26.048450088500978,25.640049991607665,26.520149974823,29.472100162506102,29.951799869537354,29.259450092315674,30.170050067901613,30.388950061798095,32.33900011062622,31.721649951934815,32.649850025177,33.25274974822998,34.53484977722168,33.117700214385984,33.52860006332398,34.63729953765869,37.259350051879885,36.45845001220703,33.660800018310546,33.3940998840332,33.979350357055665,34.855849990844725,36.45379978179932,37.73009967803955,37.740449600219726,36.2765998840332,37.34884967803955,36.84014972686768,40.00150012969971,41.64434993743897,33.84240020751953,35.11095020294189,36.04824977874756,36.82139995574951,37.100749816894535,37.57969970703125,35.7809497833252,31.52564971923828,29.68824983596802,31.46374973297119,31.200449810028076,31.622949810028075,33.06404977798462,36.597349662780765,39.077550354003904,37.18874984741211,37.69039966583252,36.435549850463865,32.612199993133544,35.13314971923828,34.24390007019043,34.67989974975586,36.871499900817874,38.668750038146975,41.94565010070801,43.51174991607666,41.023650093078615,50.915850486755375,48.81819988250732,51.094100646972656,50.41650020599365,50.05195037841797,51.94190082550049,48.18584972381592,47.66400039672852,38.19175022125244,39.37870014190674,35.51140007019043,38.31055019378662,37.43280002593994,40.79010040283203,40.38734981536865,41.61259986877442,35.00024967193603,38.05004985809326,39.35285026550293,40.45324977874756,24.81580020904541,20.639049854278564,27.462549896240233,22.35894998550415,21.695500011444093,18.45939998626709,15.34974998474121,18.332499942779542,18.418749961853027,19.12450002670288,18.223200073242186,18.54879997253418,19.302000198364258,18.134050045013428,18.60675012588501,18.664149990081786,17.832450046539307,17.933799953460692,18.897149963378908,19.93989990234375,20.945250148773194,21.448349914550782,20.561599712371827,21.53739990234375,21.4517498588562,22.567999782562257,22.665649852752686,24.712700023651124,26.745500106811523,26.23540002822876,29.181799869537354,30.308949871063234,29.280299949645997,27.603699951171876,24.057050151824953,24.99600009918213,26.54975008010864,24.874349975585936,27.314800128936767,27.506650104522706,27.84639995574951,30.013249855041504,28.10699998855591,30.842099990844726,33.29670021057129,36.26999980926514,33.987999534606935,32.069700050354,33.51389978408813,32.561650066375734,35.52424976348877,36.91349998474121,35.97660003662109,34.21624992370605,33.137800235748294,33.14219989776611,32.61060014724731,31.978750019073487,33.97620018005371,33.83795028686524,36.86005023956299,34.72225017547608,39.57249969482422,39.16294998168945,38.73529991149903,38.82190002441406,37.873349838256836,39.10845024108887,34.95024963378906,32.411100177764894,34.45169971466064,35.55425010681152,33.1810001373291,35.67549987792969,34.717299995422366,35.48319980621338,35.80834957122803,35.61109977722168,35.81009967803955,32.640050144195556,32.90745002746582,33.61565006256104,32.87954992294311,33.3172500038147,33.19449993133545,35.97219993591309,37.03359970092774,37.597999801635744,37.45464962005615,37.22639991760254,39.389399948120115,37.72274997711182,39.019849586486814,43.03100009918213,43.50815017700195,40.65659999847412,41.562499923706056,42.724950065612795,42.47005012512207,42.67830013275147,42.50734992980957,43.94055019378662,45.44860027313232,44.70780002593994,47.33795001983643,50.22500045776367,50.5624503326416,48.77325000762939,49.09935028076172,48.76635055541992,49.07935012817383,49.20495029449463,49.10660041809082,43.96909900665283,44.960499649047854,46.19800022125244,46.01549983978271,45.93649993896484,46.31140007019043,42.374599838256835,41.72849990844727,41.68259979248047,41.544950294494626,39.49679988861084,38.72755001068115,39.726400451660155,42.794700126647946,41.45965007781982,41.27604995727539,44.094450073242186,42.583349990844724,41.52415008544922,36.375949668884275,36.670249671936034,37.87419994354248,36.754300079345704,33.57925016403198,35.178349571228026,34.71244998931885,36.060049819946286,34.401249961853026,33.9198498916626,32.93710027694702,31.697550106048585,29.709199771881103,29.06605001449585,27.65890001296997,27.726100006103515,29.655850162506102,30.872999629974366,32.87719982147217,32.81710035324097,33.4127498626709,35.758349914550784,35.298399696350096,34.57159954071045,37.69594970703125,35.85390007019043,33.239799938201905,35.12790004730225,37.00839984893799,36.07999977111817,35.17555023193359,36.9363497543335,39.007149620056154,37.41184959411621,39.27329975128174,40.10385005950928,39.97840015411377,40.08139995574951,40.10390045166016,40.52380031585693,38.577999877929685,36.548700141906735,37.16374969482422,37.36079982757568,34.305899963378906,35.79400009155273,33.304649925231935,31.852549953460695,31.608950004577636,32.814000339508056,34.42859962463379,30.860699863433837,30.59279998779297,30.578399963378907,30.602449893951416,31.022899951934814,27.97345012664795,27.807800045013426,27.440649814605713,27.7178999710083,25.6545499420166,26.820949897766113,25.90515003204346,28.063700103759764,27.732599868774415,27.281499919891356,26.31529998779297,32.03539962768555,31.11300006866455,30.849600009918213,31.873199939727783,31.325649871826172,29.54014989852905,29.68134994506836,30.31660005569458,30.199450092315672,28.60004997253418,27.721249904632568,27.227149925231934,27.485649909973144,27.9721000289917,28.732499961853026,28.162299995422362,29.165349769592286,29.87444978713989,29.34950002670288,30.003949928283692,30.23880012512207,30.403899993896484,31.078949947357177,31.672599868774412,30.20665012359619,30.25544979095459,30.35650011062622,32.755200366973874,32.51324996948242,32.10925001144409,30.477699966430663,30.737100067138673,29.81379985809326,29.32970001220703,29.265800018310546,29.133450164794922,29.318200130462646,28.033749828338625,29.44385009765625,32.5876005935669,32.79939998626709,31.726049938201903,31.289100036621093,31.50235010147095,30.667549934387207,29.80465000152588,29.902150020599365,31.258999862670898,31.682050018310548,31.71009979248047,31.55520004272461,31.41714988708496,31.502350158691407,31.202799949645996,31.540049953460695,31.193999919891358,31.295899906158446,31.204549961090088,31.666849899291993,33.13004991531372,32.590349521636966,32.45070014953613,31.887599925994873,33.04665002822876,32.76284984588623,32.59085010528565,32.7253000831604,33.62104976654053,34.0904999923706,35.21180011749268,35.8773998260498,36.940849990844725,36.65564998626709,35.57964981079102,35.72869956970215,38.70344997406006,39.43899967193604,40.0092000579834,39.94749988555908,40.487749862670896,41.11965019226074,41.09080017089844,39.989599990844724,40.335300025939944,41.436650085449216,44.83699989318848,45.94580017089844,44.92924949645996,45.80550029754639,44.65884941101074,44.67489978790283,45.65210018157959,43.978549575805665,41.09089973449707,42.117150115966794,41.92289985656738,41.3879999923706,42.817199897766116,42.578350410461425,41.343750114440915,39.613950119018554,38.97334983825684,36.84499980926514,35.547850112915036,32.656099796295166,34.899349784851076,34.644249801635745,34.95425010681152,33.57930015563965,34.49559970855713,35.85764991760254,34.264599609375,28.710600147247316,28.181249923706055,30.664699649810792,27.835749855041502,27.829899940490723,26.617399997711182,30.23649980545044,29.3316001701355,29.592600059509277,29.39529987335205,30.866249828338624,30.085999965667725,30.919249935150148,28.86489999771118,29.05224998474121,29.222049922943114,29.57594985961914,30.22605007171631,30.741999988555907,31.01019994735718,30.977349872589112,33.68495002746582,33.00264987945557,31.435649814605714,32.03154993057251,31.47615001678467,31.348350048065186,30.454200077056885,30.835149879455567,30.839799880981445,26.316049938201903,26.408950004577637,26.06789991378784,25.9245499420166,26.26865001678467,25.64874979019165,23.358650074005126,24.124100017547608,24.6042999458313,19.66279993057251,19.578199977874757,21.543749980926513,21.19944980621338,20.234349918365478,20.952999820709227,20.149100074768068,21.602349758148193,20.91534984588623,19.612499904632568,22.79254991531372,23.303999996185304,24.110100002288817,23.972200012207033,23.08390005111694,26.198199996948244,23.93394998550415,20.767099857330322,22.44759984970093,22.06065008163452,20.675199890136717,18.047549934387206,18.138599967956544,21.539550075531007,21.57044988632202,20.58345001220703,21.004449882507323,20.335449867248535,25.332700004577635,26.527750091552733,27.457999897003173,27.119299907684326,26.49915008544922,27.07585006713867,29.43734992980957,28.52455011367798,29.543549995422364,30.38874979019165,27.830099906921387,28.59535005569458,29.44464994430542,29.311149845123293,28.85799991607666,29.267399883270265,29.96134973526001,30.004399967193603,29.49175006866455,28.880349941253662,28.956949977874757,30.311349983215333,29.090850162506104,30.87444986343384,31.423950023651123,28.98634994506836,29.490849914550783,32.01989953994751,32.21025016784668,31.17054992675781,29.399750232696533,29.646699829101564,31.68670009613037,33.176399612426756,32.61519983291626,32.65669981002807,31.71835000991821,31.598850078582764,32.54385028839111,34.11195028305054,33.2206001663208,32.5827995300293,31.8834499168396,32.43475025177002,32.68774993896484,32.61084987640381,29.993749980926513,30.39705005645752,31.911249961853027,31.44664981842041,32.75680021286011,32.33809986114502,31.808649921417235,32.81324993133545,33.20530006408691,32.531649570465085,32.73875007629395,31.86474992752075,31.24465000152588,30.08569990158081,29.178950004577636,28.591050033569335,29.456450061798094,29.799750003814697,28.40455005645752,28.57660015106201,29.264700050354005,30.095350017547606,30.77914991378784,32.110399875640866,31.07840003967285,30.396450004577638,30.6993998336792,30.85509983062744,31.91550008773804,33.17245006561279,32.5749998664856,33.41559991836548,33.42529987335205,32.829850387573245,34.8864497756958,34.84824993133545,34.75349964141846,34.74749969482422,33.41700031280518,33.69905006408691,34.18260009765625,35.75034969329834,36.89495014190674,36.86130016326904,36.01749988555908,36.125400123596194,35.82689979553223,34.34274990081787,34.81409980773926,32.307250022888184,30.576700134277345,31.426399879455566,31.34025001525879,31.194099998474123,30.82904996871948,30.29309995651245,29.945100078582765,30.0855499458313,30.29595003128052,32.69965009689331,33.82835052490234,34.81049976348877,35.05659999847412,35.57594985961914,37.026949920654296,36.65250015258789,34.29769992828369,34.91245014190674,32.998800086975095,31.805849952697756,32.850050106048585,35.91399974822998,34.74030014038086,34.95485023498535,36.56740016937256,35.72209983825684,35.68409969329834,32.99785037994385,32.899400520324704,31.763849983215334,32.6813998413086,33.04929998397827,29.125600242614745,29.3242999458313,28.10879991531372,27.43309991836548,29.074549942016603,28.153499965667724,28.073049907684325,27.181249809265136,27.124899997711182,27.204200019836424,26.79014989852905,24.101750106811522,26.684150009155275,24.205850048065187,26.47465009689331,26.713700008392333,28.557800045013426,27.368749809265136,26.50955001831055,27.78139991760254,28.045749835968017,28.245899925231935,26.971499824523924,26.968249797821045,27.239199867248534,27.75474977493286,27.834249839782714,27.86274995803833,29.55870023727417,30.27974977493286,31.191200065612794,30.487699851989746,30.133149909973145,28.207499771118165,27.333650054931642,26.603799839019775,26.590200080871583,26.747699871063233,26.509599838256836,27.197150173187257,27.719899978637695,26.61345010757446,28.04709987640381,25.110749912261962,23.720499992370605,24.181699924468994,24.062249889373778,23.840950031280517,24.923749923706055,25.934650173187254,25.710549869537353,27.743949794769286,26.652149906158446,25.063500003814696,25.693049869537354,25.011350002288818,25.915050144195558,26.673100032806396,28.226099815368652,27.56729995727539,29.304249897003174,31.583800029754638,31.934850215911865,31.96929983139038,32.34990009307862,31.805000247955324,32.007399768829345,31.925749740600587,28.07074996948242,29.378200149536134,29.09284994125366,30.631250152587892,30.325599956512452,24.803800048828126,22.55710018157959,15.822549743652344,12.27277494430542,10.064274940490723],\"type\":\"scatter\"}],                        {\"template\":{\"data\":{\"histogram2dcontour\":[{\"type\":\"histogram2dcontour\",\"colorbar\":{\"outlinewidth\":0,\"ticks\":\"\"},\"colorscale\":[[0.0,\"#0d0887\"],[0.1111111111111111,\"#46039f\"],[0.2222222222222222,\"#7201a8\"],[0.3333333333333333,\"#9c179e\"],[0.4444444444444444,\"#bd3786\"],[0.5555555555555556,\"#d8576b\"],[0.6666666666666666,\"#ed7953\"],[0.7777777777777778,\"#fb9f3a\"],[0.8888888888888888,\"#fdca26\"],[1.0,\"#f0f921\"]]}],\"choropleth\":[{\"type\":\"choropleth\",\"colorbar\":{\"outlinewidth\":0,\"ticks\":\"\"}}],\"histogram2d\":[{\"type\":\"histogram2d\",\"colorbar\":{\"outlinewidth\":0,\"ticks\":\"\"},\"colorscale\":[[0.0,\"#0d0887\"],[0.1111111111111111,\"#46039f\"],[0.2222222222222222,\"#7201a8\"],[0.3333333333333333,\"#9c179e\"],[0.4444444444444444,\"#bd3786\"],[0.5555555555555556,\"#d8576b\"],[0.6666666666666666,\"#ed7953\"],[0.7777777777777778,\"#fb9f3a\"],[0.8888888888888888,\"#fdca26\"],[1.0,\"#f0f921\"]]}],\"heatmap\":[{\"type\":\"heatmap\",\"colorbar\":{\"outlinewidth\":0,\"ticks\":\"\"},\"colorscale\":[[0.0,\"#0d0887\"],[0.1111111111111111,\"#46039f\"],[0.2222222222222222,\"#7201a8\"],[0.3333333333333333,\"#9c179e\"],[0.4444444444444444,\"#bd3786\"],[0.5555555555555556,\"#d8576b\"],[0.6666666666666666,\"#ed7953\"],[0.7777777777777778,\"#fb9f3a\"],[0.8888888888888888,\"#fdca26\"],[1.0,\"#f0f921\"]]}],\"heatmapgl\":[{\"type\":\"heatmapgl\",\"colorbar\":{\"outlinewidth\":0,\"ticks\":\"\"},\"colorscale\":[[0.0,\"#0d0887\"],[0.1111111111111111,\"#46039f\"],[0.2222222222222222,\"#7201a8\"],[0.3333333333333333,\"#9c179e\"],[0.4444444444444444,\"#bd3786\"],[0.5555555555555556,\"#d8576b\"],[0.6666666666666666,\"#ed7953\"],[0.7777777777777778,\"#fb9f3a\"],[0.8888888888888888,\"#fdca26\"],[1.0,\"#f0f921\"]]}],\"contourcarpet\":[{\"type\":\"contourcarpet\",\"colorbar\":{\"outlinewidth\":0,\"ticks\":\"\"}}],\"contour\":[{\"type\":\"contour\",\"colorbar\":{\"outlinewidth\":0,\"ticks\":\"\"},\"colorscale\":[[0.0,\"#0d0887\"],[0.1111111111111111,\"#46039f\"],[0.2222222222222222,\"#7201a8\"],[0.3333333333333333,\"#9c179e\"],[0.4444444444444444,\"#bd3786\"],[0.5555555555555556,\"#d8576b\"],[0.6666666666666666,\"#ed7953\"],[0.7777777777777778,\"#fb9f3a\"],[0.8888888888888888,\"#fdca26\"],[1.0,\"#f0f921\"]]}],\"surface\":[{\"type\":\"surface\",\"colorbar\":{\"outlinewidth\":0,\"ticks\":\"\"},\"colorscale\":[[0.0,\"#0d0887\"],[0.1111111111111111,\"#46039f\"],[0.2222222222222222,\"#7201a8\"],[0.3333333333333333,\"#9c179e\"],[0.4444444444444444,\"#bd3786\"],[0.5555555555555556,\"#d8576b\"],[0.6666666666666666,\"#ed7953\"],[0.7777777777777778,\"#fb9f3a\"],[0.8888888888888888,\"#fdca26\"],[1.0,\"#f0f921\"]]}],\"mesh3d\":[{\"type\":\"mesh3d\",\"colorbar\":{\"outlinewidth\":0,\"ticks\":\"\"}}],\"scatter\":[{\"fillpattern\":{\"fillmode\":\"overlay\",\"size\":10,\"solidity\":0.2},\"type\":\"scatter\"}],\"parcoords\":[{\"type\":\"parcoords\",\"line\":{\"colorbar\":{\"outlinewidth\":0,\"ticks\":\"\"}}}],\"scatterpolargl\":[{\"type\":\"scatterpolargl\",\"marker\":{\"colorbar\":{\"outlinewidth\":0,\"ticks\":\"\"}}}],\"bar\":[{\"error_x\":{\"color\":\"#2a3f5f\"},\"error_y\":{\"color\":\"#2a3f5f\"},\"marker\":{\"line\":{\"color\":\"#E5ECF6\",\"width\":0.5},\"pattern\":{\"fillmode\":\"overlay\",\"size\":10,\"solidity\":0.2}},\"type\":\"bar\"}],\"scattergeo\":[{\"type\":\"scattergeo\",\"marker\":{\"colorbar\":{\"outlinewidth\":0,\"ticks\":\"\"}}}],\"scatterpolar\":[{\"type\":\"scatterpolar\",\"marker\":{\"colorbar\":{\"outlinewidth\":0,\"ticks\":\"\"}}}],\"histogram\":[{\"marker\":{\"pattern\":{\"fillmode\":\"overlay\",\"size\":10,\"solidity\":0.2}},\"type\":\"histogram\"}],\"scattergl\":[{\"type\":\"scattergl\",\"marker\":{\"colorbar\":{\"outlinewidth\":0,\"ticks\":\"\"}}}],\"scatter3d\":[{\"type\":\"scatter3d\",\"line\":{\"colorbar\":{\"outlinewidth\":0,\"ticks\":\"\"}},\"marker\":{\"colorbar\":{\"outlinewidth\":0,\"ticks\":\"\"}}}],\"scattermapbox\":[{\"type\":\"scattermapbox\",\"marker\":{\"colorbar\":{\"outlinewidth\":0,\"ticks\":\"\"}}}],\"scatterternary\":[{\"type\":\"scatterternary\",\"marker\":{\"colorbar\":{\"outlinewidth\":0,\"ticks\":\"\"}}}],\"scattercarpet\":[{\"type\":\"scattercarpet\",\"marker\":{\"colorbar\":{\"outlinewidth\":0,\"ticks\":\"\"}}}],\"carpet\":[{\"aaxis\":{\"endlinecolor\":\"#2a3f5f\",\"gridcolor\":\"white\",\"linecolor\":\"white\",\"minorgridcolor\":\"white\",\"startlinecolor\":\"#2a3f5f\"},\"baxis\":{\"endlinecolor\":\"#2a3f5f\",\"gridcolor\":\"white\",\"linecolor\":\"white\",\"minorgridcolor\":\"white\",\"startlinecolor\":\"#2a3f5f\"},\"type\":\"carpet\"}],\"table\":[{\"cells\":{\"fill\":{\"color\":\"#EBF0F8\"},\"line\":{\"color\":\"white\"}},\"header\":{\"fill\":{\"color\":\"#C8D4E3\"},\"line\":{\"color\":\"white\"}},\"type\":\"table\"}],\"barpolar\":[{\"marker\":{\"line\":{\"color\":\"#E5ECF6\",\"width\":0.5},\"pattern\":{\"fillmode\":\"overlay\",\"size\":10,\"solidity\":0.2}},\"type\":\"barpolar\"}],\"pie\":[{\"automargin\":true,\"type\":\"pie\"}]},\"layout\":{\"autotypenumbers\":\"strict\",\"colorway\":[\"#636efa\",\"#EF553B\",\"#00cc96\",\"#ab63fa\",\"#FFA15A\",\"#19d3f3\",\"#FF6692\",\"#B6E880\",\"#FF97FF\",\"#FECB52\"],\"font\":{\"color\":\"#2a3f5f\"},\"hovermode\":\"closest\",\"hoverlabel\":{\"align\":\"left\"},\"paper_bgcolor\":\"white\",\"plot_bgcolor\":\"#E5ECF6\",\"polar\":{\"bgcolor\":\"#E5ECF6\",\"angularaxis\":{\"gridcolor\":\"white\",\"linecolor\":\"white\",\"ticks\":\"\"},\"radialaxis\":{\"gridcolor\":\"white\",\"linecolor\":\"white\",\"ticks\":\"\"}},\"ternary\":{\"bgcolor\":\"#E5ECF6\",\"aaxis\":{\"gridcolor\":\"white\",\"linecolor\":\"white\",\"ticks\":\"\"},\"baxis\":{\"gridcolor\":\"white\",\"linecolor\":\"white\",\"ticks\":\"\"},\"caxis\":{\"gridcolor\":\"white\",\"linecolor\":\"white\",\"ticks\":\"\"}},\"coloraxis\":{\"colorbar\":{\"outlinewidth\":0,\"ticks\":\"\"}},\"colorscale\":{\"sequential\":[[0.0,\"#0d0887\"],[0.1111111111111111,\"#46039f\"],[0.2222222222222222,\"#7201a8\"],[0.3333333333333333,\"#9c179e\"],[0.4444444444444444,\"#bd3786\"],[0.5555555555555556,\"#d8576b\"],[0.6666666666666666,\"#ed7953\"],[0.7777777777777778,\"#fb9f3a\"],[0.8888888888888888,\"#fdca26\"],[1.0,\"#f0f921\"]],\"sequentialminus\":[[0.0,\"#0d0887\"],[0.1111111111111111,\"#46039f\"],[0.2222222222222222,\"#7201a8\"],[0.3333333333333333,\"#9c179e\"],[0.4444444444444444,\"#bd3786\"],[0.5555555555555556,\"#d8576b\"],[0.6666666666666666,\"#ed7953\"],[0.7777777777777778,\"#fb9f3a\"],[0.8888888888888888,\"#fdca26\"],[1.0,\"#f0f921\"]],\"diverging\":[[0,\"#8e0152\"],[0.1,\"#c51b7d\"],[0.2,\"#de77ae\"],[0.3,\"#f1b6da\"],[0.4,\"#fde0ef\"],[0.5,\"#f7f7f7\"],[0.6,\"#e6f5d0\"],[0.7,\"#b8e186\"],[0.8,\"#7fbc41\"],[0.9,\"#4d9221\"],[1,\"#276419\"]]},\"xaxis\":{\"gridcolor\":\"white\",\"linecolor\":\"white\",\"ticks\":\"\",\"title\":{\"standoff\":15},\"zerolinecolor\":\"white\",\"automargin\":true,\"zerolinewidth\":2},\"yaxis\":{\"gridcolor\":\"white\",\"linecolor\":\"white\",\"ticks\":\"\",\"title\":{\"standoff\":15},\"zerolinecolor\":\"white\",\"automargin\":true,\"zerolinewidth\":2},\"scene\":{\"xaxis\":{\"backgroundcolor\":\"#E5ECF6\",\"gridcolor\":\"white\",\"linecolor\":\"white\",\"showbackground\":true,\"ticks\":\"\",\"zerolinecolor\":\"white\",\"gridwidth\":2},\"yaxis\":{\"backgroundcolor\":\"#E5ECF6\",\"gridcolor\":\"white\",\"linecolor\":\"white\",\"showbackground\":true,\"ticks\":\"\",\"zerolinecolor\":\"white\",\"gridwidth\":2},\"zaxis\":{\"backgroundcolor\":\"#E5ECF6\",\"gridcolor\":\"white\",\"linecolor\":\"white\",\"showbackground\":true,\"ticks\":\"\",\"zerolinecolor\":\"white\",\"gridwidth\":2}},\"shapedefaults\":{\"line\":{\"color\":\"#2a3f5f\"}},\"annotationdefaults\":{\"arrowcolor\":\"#2a3f5f\",\"arrowhead\":0,\"arrowwidth\":1},\"geo\":{\"bgcolor\":\"white\",\"landcolor\":\"#E5ECF6\",\"subunitcolor\":\"white\",\"showland\":true,\"showlakes\":true,\"lakecolor\":\"white\"},\"title\":{\"x\":0.05},\"mapbox\":{\"style\":\"light\"}}},\"title\":{\"text\":\"Stock Prices: actual \\u002f predicted\"},\"xaxis\":{\"title\":{\"text\":\"Date\"}},\"yaxis\":{\"title\":{\"text\":\"Stock price\"}}},                        {\"responsive\": true}                    ).then(function(){\n",
              "                            \n",
              "var gd = document.getElementById('b287e3a5-f5bf-440e-a962-5a1fac25fe30');\n",
              "var x = new MutationObserver(function (mutations, observer) {{\n",
              "        var display = window.getComputedStyle(gd).display;\n",
              "        if (!display || display === 'none') {{\n",
              "            console.log([gd, 'removed!']);\n",
              "            Plotly.purge(gd);\n",
              "            observer.disconnect();\n",
              "        }}\n",
              "}});\n",
              "\n",
              "// Listen for the removal of the full notebook cells\n",
              "var notebookContainer = gd.closest('#notebook-container');\n",
              "if (notebookContainer) {{\n",
              "    x.observe(notebookContainer, {childList: true});\n",
              "}}\n",
              "\n",
              "// Listen for the clearing of the current output cell\n",
              "var outputEl = gd.closest('.output');\n",
              "if (outputEl) {{\n",
              "    x.observe(outputEl, {childList: true});\n",
              "}}\n",
              "\n",
              "                        })                };                            </script>        </div>\n",
              "</body>\n",
              "</html>"
            ]
          },
          "metadata": {}
        }
      ],
      "source": [
        "plot_predictions(model_RF, predictions=np.array(y_preds))"
      ],
      "metadata": {
        "outputId": "9029ddd7-2151-42b0-add8-c60b8cf84119",
        "colab": {
          "base_uri": "https://localhost:8080/",
          "height": 785
        },
        "id": "7moIEW5KeC2f"
      }
    },
    {
      "cell_type": "markdown",
      "source": [
        "# LSTM"
      ],
      "metadata": {
        "collapsed": false,
        "id": "kY8jOHe5wK4a"
      }
    },
    {
      "cell_type": "markdown",
      "source": [
        "## Підбір найкращих гіперпараметрів"
      ],
      "metadata": {
        "id": "JFKa17w8eMMv"
      }
    },
    {
      "cell_type": "markdown",
      "source": [
        " build_model creates an LSTM-based recurrent neural network model, and then using the Keras Tuner's BayesianOptimization to search for the optimal hyperparameters for the model. The purpose of this process is to find the best model architecture and hyperparameters to improve the model's performance on your specific task."
      ],
      "metadata": {
        "id": "GdGPzXgp4kkp"
      }
    },
    {
      "cell_type": "code",
      "execution_count": null,
      "outputs": [
        {
          "output_type": "stream",
          "name": "stdout",
          "text": [
            "Trial 20 Complete [00h 01m 29s]\n",
            "val_loss: 0.7280365824699402\n",
            "\n",
            "Best val_loss So Far: 0.7280365824699402\n",
            "Total elapsed time: 00h 15m 04s\n"
          ]
        }
      ],
      "source": [
        "import tensorflow as tf\n",
        "from keras_tuner import BayesianOptimization\n",
        "\n",
        "# Функція побудови моделі з гіперпараметрами\n",
        "def build_model(hp):\n",
        "    model = tf.keras.models.Sequential([\n",
        "        # Перший шар RNN з налаштуванням кількості одиниць\n",
        "        tf.keras.layers.RNN(\n",
        "            tf.keras.layers.LSTMCell(hp.Int('units', min_value=32, max_value=256, step=16), implementation=2),\n",
        "            return_sequences=True, input_shape=(X_train.shape[1], X_train.shape[2])),\n",
        "        # Dropout шар для регуляризації\n",
        "        tf.keras.layers.Dropout(rate=hp.Float('dropout', min_value=0.2, max_value=0.5, step=0.1)),\n",
        "        # Другий шар RNN з налаштуванням кількості одиниць\n",
        "        tf.keras.layers.RNN(\n",
        "            tf.keras.layers.LSTMCell(hp.Int('units2', min_value=32, max_value=256, step=16), implementation=2)),\n",
        "        # Другий Dropout шар для регуляризації\n",
        "        tf.keras.layers.Dropout(rate=hp.Float('dropout2', min_value=0.2, max_value=0.5, step=0.1)),\n",
        "        # Вихідний шар\n",
        "        tf.keras.layers.Dense(1, activation=\"linear\")\n",
        "    ])\n",
        "\n",
        "    # Компіляція моделі з функцією втрат 'mse' та оптимізатором 'adam'\n",
        "    model.compile(optimizer='adam', loss='mse')\n",
        "    return model\n",
        "\n",
        "tuner = BayesianOptimization(\n",
        "    build_model,\n",
        "    objective='val_loss',  # мета - мінімізувати валідаційну втрату\n",
        "    max_trials=20,  # максимальна кількість спроб для пошуку найкращих гіперпараметрів\n",
        "    directory='tuner_directory',  # директорія для збереження результатів\n",
        "    project_name='lstm_hyperparameter_tuning'  # назва проекту\n",
        ")\n",
        "\n",
        "tuner.search(X_train, y_train, epochs=10, validation_data=(X_test, y_test))  # пошук\n",
        "best_hyperparam = tuner.get_best_hyperparameters(1)[0]  # найкращі гіперпараметри\n",
        "#print(best_hyperparam)\n",
        "\n",
        "# Створення фінальної моделі з найкращими гіперпараметрами\n",
        "# final_model = build_model(best_hp)\n",
        "# Тренування фінальної моделі\n",
        "# final_model.fit(X_train, y_train, epochs=50, validation_data=(X_test, y_test))"
      ],
      "metadata": {
        "id": "kXiUGAgMwK4a",
        "outputId": "1f36f7aa-4c8a-40ac-d3e1-be3a9ee63403",
        "colab": {
          "base_uri": "https://localhost:8080/"
        }
      }
    },
    {
      "cell_type": "code",
      "source": [
        "print(best_hyperparam)"
      ],
      "metadata": {
        "colab": {
          "base_uri": "https://localhost:8080/"
        },
        "id": "JWAcfsstiVi6",
        "outputId": "0748a6a0-203e-41bc-a13c-fe8f9b6d9108"
      },
      "execution_count": null,
      "outputs": [
        {
          "output_type": "stream",
          "name": "stdout",
          "text": [
            "<keras_tuner.src.engine.hyperparameters.hyperparameters.HyperParameters object at 0x7b53df6e76a0>\n"
          ]
        }
      ]
    },
    {
      "cell_type": "code",
      "execution_count": null,
      "outputs": [
        {
          "output_type": "stream",
          "name": "stdout",
          "text": [
            "256 0.2 256 0.2\n"
          ]
        }
      ],
      "source": [
        "print(best_hyperparam['units'], best_hyperparam['dropout'], best_hyperparam['units2'], best_hyperparam['dropout2'])"
      ],
      "metadata": {
        "id": "44zS7fYGwK4a",
        "outputId": "e4f7de7c-67c8-46e7-f24d-c7f771195397",
        "colab": {
          "base_uri": "https://localhost:8080/"
        }
      }
    },
    {
      "cell_type": "markdown",
      "source": [
        "## LSTM модель з підібраними гіперпараметрами"
      ],
      "metadata": {
        "collapsed": false,
        "id": "qF0iqHq-wK4a"
      }
    },
    {
      "cell_type": "markdown",
      "source": [
        "Передамо найкращі гіперпараметри у відповідних місцях при побудові моделі:"
      ],
      "metadata": {
        "id": "kIJdYERNhLeO"
      }
    },
    {
      "cell_type": "code",
      "execution_count": null,
      "outputs": [],
      "source": [
        "model_LSTM = tf.keras.models.Sequential([\n",
        "    # Перший шар RNN з налаштуванням кількості одиниць як найкращої\n",
        "    tf.keras.layers.RNN(\n",
        "        tf.keras.layers.LSTMCell(best_hyperparam['units'], implementation=2),\n",
        "        return_sequences=True, input_shape=(X_train.shape[1], X_train.shape[2])),\n",
        "    # Dropout шар для регуляризації\n",
        "    tf.keras.layers.Dropout(best_hyperparam['dropout']),\n",
        "    # Другий шар RNN з налаштуванням кількості одиниць як найкращої\n",
        "    tf.keras.layers.RNN(\n",
        "        tf.keras.layers.LSTMCell(best_hyperparam['units2'], implementation=2)),\n",
        "    # Другий Dropout шар для регуляризації\n",
        "    tf.keras.layers.Dropout(best_hyperparam['dropout2']),\n",
        "    # Вихідний шар\n",
        "    tf.keras.layers.Dense(1, activation=\"linear\")\n",
        "])\n",
        "\n",
        "model_LSTM.compile(optimizer='adam', loss='mse')"
      ],
      "metadata": {
        "id": "Coz5oloCwK4a"
      }
    },
    {
      "cell_type": "markdown",
      "source": [
        "Тренуємо:"
      ],
      "metadata": {
        "id": "x5ywIUd0lTKh"
      }
    },
    {
      "cell_type": "code",
      "source": [
        "train_model(model_LSTM, epochs=120)"
      ],
      "metadata": {
        "colab": {
          "base_uri": "https://localhost:8080/"
        },
        "id": "4ksVECLvlUTZ",
        "outputId": "e6d47ce0-f76f-4b69-c0ab-286ee1d1c9f0"
      },
      "execution_count": null,
      "outputs": [
        {
          "output_type": "stream",
          "name": "stdout",
          "text": [
            "Epoch 1/120\n",
            "124/124 [==============================] - 6s 34ms/step - loss: 80.9941 - val_loss: 8.0606\n",
            "Epoch 2/120\n",
            "124/124 [==============================] - 6s 48ms/step - loss: 6.1525 - val_loss: 3.3791\n",
            "Epoch 3/120\n",
            "124/124 [==============================] - 6s 52ms/step - loss: 3.6932 - val_loss: 4.6454\n",
            "Epoch 4/120\n",
            "124/124 [==============================] - 8s 67ms/step - loss: 3.0716 - val_loss: 2.0929\n",
            "Epoch 5/120\n",
            "124/124 [==============================] - 7s 59ms/step - loss: 2.8043 - val_loss: 2.1114\n",
            "Epoch 6/120\n",
            "124/124 [==============================] - 10s 77ms/step - loss: 2.4090 - val_loss: 0.9869\n",
            "Epoch 7/120\n",
            "124/124 [==============================] - 7s 57ms/step - loss: 2.2061 - val_loss: 0.8455\n",
            "Epoch 8/120\n",
            "124/124 [==============================] - 6s 52ms/step - loss: 2.2187 - val_loss: 1.1729\n",
            "Epoch 9/120\n",
            "124/124 [==============================] - 8s 68ms/step - loss: 2.0523 - val_loss: 0.8980\n",
            "Epoch 10/120\n",
            "124/124 [==============================] - 6s 51ms/step - loss: 1.8023 - val_loss: 0.9496\n",
            "Epoch 11/120\n",
            "124/124 [==============================] - 7s 55ms/step - loss: 1.9957 - val_loss: 0.7364\n",
            "Epoch 12/120\n",
            "124/124 [==============================] - 5s 40ms/step - loss: 1.8911 - val_loss: 0.7146\n",
            "Epoch 13/120\n",
            "124/124 [==============================] - 8s 66ms/step - loss: 2.0583 - val_loss: 0.7406\n",
            "Epoch 14/120\n",
            "124/124 [==============================] - 7s 55ms/step - loss: 1.9293 - val_loss: 1.7683\n",
            "Epoch 15/120\n",
            "124/124 [==============================] - 8s 67ms/step - loss: 1.7648 - val_loss: 0.9909\n",
            "Epoch 16/120\n",
            "124/124 [==============================] - 6s 47ms/step - loss: 1.7516 - val_loss: 1.0520\n",
            "Epoch 17/120\n",
            "124/124 [==============================] - 6s 51ms/step - loss: 1.7359 - val_loss: 0.6957\n",
            "Epoch 18/120\n",
            "124/124 [==============================] - 4s 36ms/step - loss: 1.9082 - val_loss: 1.0487\n",
            "Epoch 19/120\n",
            "124/124 [==============================] - 4s 33ms/step - loss: 1.6856 - val_loss: 0.6847\n",
            "Epoch 20/120\n",
            "124/124 [==============================] - 5s 41ms/step - loss: 1.8698 - val_loss: 0.9450\n",
            "Epoch 21/120\n",
            "124/124 [==============================] - 5s 39ms/step - loss: 1.9431 - val_loss: 0.6323\n",
            "Epoch 22/120\n",
            "124/124 [==============================] - 4s 32ms/step - loss: 1.8023 - val_loss: 0.9507\n",
            "Epoch 23/120\n",
            "124/124 [==============================] - 5s 36ms/step - loss: 1.9088 - val_loss: 0.8573\n",
            "Epoch 24/120\n",
            "124/124 [==============================] - 6s 45ms/step - loss: 1.6968 - val_loss: 1.2670\n",
            "Epoch 25/120\n",
            "124/124 [==============================] - 6s 45ms/step - loss: 1.6534 - val_loss: 0.7076\n",
            "Epoch 26/120\n",
            "124/124 [==============================] - 7s 60ms/step - loss: 1.6654 - val_loss: 0.7744\n",
            "Epoch 27/120\n",
            "124/124 [==============================] - 6s 49ms/step - loss: 1.6905 - val_loss: 0.7278\n",
            "Epoch 28/120\n",
            "124/124 [==============================] - 4s 32ms/step - loss: 1.9017 - val_loss: 0.7230\n",
            "Epoch 29/120\n",
            "124/124 [==============================] - 6s 48ms/step - loss: 1.8165 - val_loss: 1.1628\n",
            "Epoch 30/120\n",
            "124/124 [==============================] - 4s 33ms/step - loss: 1.9732 - val_loss: 1.0124\n",
            "Epoch 31/120\n",
            "124/124 [==============================] - 4s 35ms/step - loss: 1.7746 - val_loss: 0.6308\n",
            "Epoch 32/120\n",
            "124/124 [==============================] - 8s 62ms/step - loss: 1.7775 - val_loss: 0.7637\n",
            "Epoch 33/120\n",
            "124/124 [==============================] - 5s 38ms/step - loss: 1.6055 - val_loss: 0.7609\n",
            "Epoch 34/120\n",
            "124/124 [==============================] - 7s 53ms/step - loss: 1.6633 - val_loss: 0.7605\n",
            "Epoch 35/120\n",
            "124/124 [==============================] - 6s 46ms/step - loss: 1.6716 - val_loss: 0.5725\n",
            "Epoch 36/120\n",
            "124/124 [==============================] - 5s 38ms/step - loss: 1.6321 - val_loss: 0.7079\n",
            "Epoch 37/120\n",
            "124/124 [==============================] - 7s 54ms/step - loss: 1.7151 - val_loss: 0.6272\n",
            "Epoch 38/120\n",
            "124/124 [==============================] - 8s 63ms/step - loss: 1.6015 - val_loss: 0.6281\n",
            "Epoch 39/120\n",
            "124/124 [==============================] - 5s 41ms/step - loss: 1.5905 - val_loss: 0.6470\n",
            "Epoch 40/120\n",
            "124/124 [==============================] - 7s 59ms/step - loss: 1.7061 - val_loss: 1.4505\n",
            "Epoch 41/120\n",
            "124/124 [==============================] - 4s 32ms/step - loss: 1.7504 - val_loss: 1.1645\n",
            "Epoch 42/120\n",
            "124/124 [==============================] - 4s 34ms/step - loss: 1.5708 - val_loss: 0.7040\n",
            "Epoch 43/120\n",
            "124/124 [==============================] - 6s 46ms/step - loss: 1.5703 - val_loss: 0.6229\n",
            "Epoch 44/120\n",
            "124/124 [==============================] - 4s 32ms/step - loss: 1.6125 - val_loss: 0.6061\n",
            "Epoch 45/120\n",
            "124/124 [==============================] - 4s 33ms/step - loss: 1.7768 - val_loss: 1.0414\n",
            "Epoch 46/120\n",
            "124/124 [==============================] - 6s 48ms/step - loss: 1.6847 - val_loss: 0.9962\n",
            "Epoch 47/120\n",
            "124/124 [==============================] - 4s 34ms/step - loss: 1.6313 - val_loss: 0.5569\n",
            "Epoch 48/120\n",
            "124/124 [==============================] - 4s 32ms/step - loss: 1.5451 - val_loss: 0.6912\n",
            "Epoch 49/120\n",
            "124/124 [==============================] - 5s 43ms/step - loss: 1.4565 - val_loss: 0.5505\n",
            "Epoch 50/120\n",
            "124/124 [==============================] - 5s 38ms/step - loss: 1.6307 - val_loss: 1.3635\n",
            "Epoch 51/120\n",
            "124/124 [==============================] - 4s 32ms/step - loss: 1.5569 - val_loss: 0.6598\n",
            "Epoch 52/120\n",
            "124/124 [==============================] - 5s 39ms/step - loss: 1.5653 - val_loss: 0.6382\n",
            "Epoch 53/120\n",
            "124/124 [==============================] - 6s 45ms/step - loss: 1.7337 - val_loss: 0.6049\n",
            "Epoch 54/120\n",
            "124/124 [==============================] - 4s 33ms/step - loss: 1.5619 - val_loss: 0.6500\n",
            "Epoch 55/120\n",
            "124/124 [==============================] - 4s 32ms/step - loss: 1.4657 - val_loss: 1.1286\n",
            "Epoch 56/120\n",
            "124/124 [==============================] - 6s 48ms/step - loss: 1.5846 - val_loss: 0.5671\n",
            "Epoch 57/120\n",
            "124/124 [==============================] - 4s 32ms/step - loss: 1.5021 - val_loss: 0.7141\n",
            "Epoch 58/120\n",
            "124/124 [==============================] - 4s 33ms/step - loss: 1.6619 - val_loss: 0.9951\n",
            "Epoch 59/120\n",
            "124/124 [==============================] - 6s 45ms/step - loss: 1.5125 - val_loss: 0.5524\n",
            "Epoch 60/120\n",
            "124/124 [==============================] - 4s 36ms/step - loss: 1.5884 - val_loss: 0.5953\n",
            "Epoch 61/120\n",
            "124/124 [==============================] - 4s 33ms/step - loss: 1.6179 - val_loss: 0.5492\n",
            "Epoch 62/120\n",
            "124/124 [==============================] - 5s 41ms/step - loss: 1.7821 - val_loss: 1.0399\n",
            "Epoch 63/120\n",
            "124/124 [==============================] - 5s 40ms/step - loss: 1.6319 - val_loss: 0.5656\n",
            "Epoch 64/120\n",
            "124/124 [==============================] - 4s 32ms/step - loss: 1.5430 - val_loss: 0.6677\n",
            "Epoch 65/120\n",
            "124/124 [==============================] - 4s 34ms/step - loss: 1.5060 - val_loss: 0.5725\n",
            "Epoch 66/120\n",
            "124/124 [==============================] - 6s 46ms/step - loss: 1.5637 - val_loss: 0.9185\n",
            "Epoch 67/120\n",
            "124/124 [==============================] - 4s 32ms/step - loss: 1.4909 - val_loss: 1.1108\n",
            "Epoch 68/120\n",
            "124/124 [==============================] - 4s 32ms/step - loss: 1.5203 - val_loss: 0.5871\n",
            "Epoch 69/120\n",
            "124/124 [==============================] - 6s 48ms/step - loss: 1.4184 - val_loss: 0.6146\n",
            "Epoch 70/120\n",
            "124/124 [==============================] - 4s 32ms/step - loss: 1.4344 - val_loss: 0.5325\n",
            "Epoch 71/120\n",
            "124/124 [==============================] - 4s 32ms/step - loss: 1.4608 - val_loss: 0.6205\n",
            "Epoch 72/120\n",
            "124/124 [==============================] - 5s 43ms/step - loss: 1.5756 - val_loss: 0.6203\n",
            "Epoch 73/120\n",
            "124/124 [==============================] - 5s 38ms/step - loss: 1.5336 - val_loss: 0.5478\n",
            "Epoch 74/120\n",
            "124/124 [==============================] - 4s 33ms/step - loss: 1.5589 - val_loss: 0.5317\n",
            "Epoch 75/120\n",
            "124/124 [==============================] - 4s 36ms/step - loss: 1.4657 - val_loss: 0.5751\n",
            "Epoch 76/120\n",
            "124/124 [==============================] - 6s 44ms/step - loss: 1.4985 - val_loss: 0.5368\n",
            "Epoch 77/120\n",
            "124/124 [==============================] - 4s 31ms/step - loss: 1.4700 - val_loss: 0.6026\n",
            "Epoch 78/120\n",
            "124/124 [==============================] - 4s 32ms/step - loss: 1.5850 - val_loss: 0.8855\n",
            "Epoch 79/120\n",
            "124/124 [==============================] - 6s 48ms/step - loss: 1.5385 - val_loss: 0.5531\n",
            "Epoch 80/120\n",
            "124/124 [==============================] - 4s 32ms/step - loss: 1.5646 - val_loss: 0.5879\n",
            "Epoch 81/120\n",
            "124/124 [==============================] - 4s 33ms/step - loss: 1.3886 - val_loss: 0.6232\n",
            "Epoch 82/120\n",
            "124/124 [==============================] - 5s 44ms/step - loss: 1.4983 - val_loss: 0.6114\n",
            "Epoch 83/120\n",
            "124/124 [==============================] - 5s 36ms/step - loss: 1.4483 - val_loss: 0.8238\n",
            "Epoch 84/120\n",
            "124/124 [==============================] - 4s 33ms/step - loss: 1.5027 - val_loss: 0.6237\n",
            "Epoch 85/120\n",
            "124/124 [==============================] - 5s 41ms/step - loss: 1.5912 - val_loss: 1.0430\n",
            "Epoch 86/120\n",
            "124/124 [==============================] - 5s 41ms/step - loss: 1.5754 - val_loss: 0.8726\n",
            "Epoch 87/120\n",
            "124/124 [==============================] - 4s 33ms/step - loss: 1.4935 - val_loss: 0.6259\n",
            "Epoch 88/120\n",
            "124/124 [==============================] - 5s 37ms/step - loss: 1.4721 - val_loss: 0.8924\n",
            "Epoch 89/120\n",
            "124/124 [==============================] - 8s 67ms/step - loss: 1.5227 - val_loss: 0.5250\n",
            "Epoch 90/120\n",
            "124/124 [==============================] - 9s 70ms/step - loss: 1.4766 - val_loss: 0.5636\n",
            "Epoch 91/120\n",
            "124/124 [==============================] - 8s 64ms/step - loss: 1.5077 - val_loss: 0.9483\n",
            "Epoch 92/120\n",
            "124/124 [==============================] - 9s 72ms/step - loss: 1.5539 - val_loss: 0.8964\n",
            "Epoch 93/120\n",
            "124/124 [==============================] - 8s 68ms/step - loss: 1.5315 - val_loss: 0.6778\n",
            "Epoch 94/120\n",
            "124/124 [==============================] - 7s 56ms/step - loss: 1.4795 - val_loss: 0.5261\n",
            "Epoch 95/120\n",
            "124/124 [==============================] - 8s 61ms/step - loss: 1.4481 - val_loss: 0.5349\n",
            "Epoch 96/120\n",
            "124/124 [==============================] - 5s 42ms/step - loss: 1.4090 - val_loss: 0.5144\n",
            "Epoch 97/120\n",
            "124/124 [==============================] - 6s 48ms/step - loss: 1.4472 - val_loss: 0.9710\n",
            "Epoch 98/120\n",
            "124/124 [==============================] - 4s 32ms/step - loss: 1.4414 - val_loss: 0.5403\n",
            "Epoch 99/120\n",
            "124/124 [==============================] - 4s 32ms/step - loss: 1.4585 - val_loss: 0.6436\n",
            "Epoch 100/120\n",
            "124/124 [==============================] - 5s 43ms/step - loss: 1.4252 - val_loss: 0.5816\n",
            "Epoch 101/120\n",
            "124/124 [==============================] - 5s 37ms/step - loss: 1.4456 - val_loss: 0.6678\n",
            "Epoch 102/120\n",
            "124/124 [==============================] - 4s 32ms/step - loss: 1.5250 - val_loss: 0.8158\n",
            "Epoch 103/120\n",
            "124/124 [==============================] - 4s 36ms/step - loss: 1.3159 - val_loss: 0.5621\n",
            "Epoch 104/120\n",
            "124/124 [==============================] - 5s 44ms/step - loss: 1.3814 - val_loss: 0.6437\n",
            "Epoch 105/120\n",
            "124/124 [==============================] - 4s 32ms/step - loss: 1.3721 - val_loss: 0.9983\n",
            "Epoch 106/120\n",
            "124/124 [==============================] - 4s 32ms/step - loss: 1.3922 - val_loss: 1.1534\n",
            "Epoch 107/120\n",
            "124/124 [==============================] - 6s 49ms/step - loss: 1.4178 - val_loss: 0.5828\n",
            "Epoch 108/120\n",
            "124/124 [==============================] - 4s 32ms/step - loss: 1.4577 - val_loss: 0.6606\n",
            "Epoch 109/120\n",
            "124/124 [==============================] - 5s 40ms/step - loss: 1.3405 - val_loss: 0.9427\n",
            "Epoch 110/120\n",
            "124/124 [==============================] - 6s 48ms/step - loss: 1.4334 - val_loss: 0.6436\n",
            "Epoch 111/120\n",
            "124/124 [==============================] - 4s 32ms/step - loss: 1.3784 - val_loss: 0.7388\n",
            "Epoch 112/120\n",
            "124/124 [==============================] - 4s 32ms/step - loss: 1.4917 - val_loss: 0.6687\n",
            "Epoch 113/120\n",
            "124/124 [==============================] - 5s 43ms/step - loss: 1.4827 - val_loss: 0.5833\n",
            "Epoch 114/120\n",
            "124/124 [==============================] - 5s 37ms/step - loss: 1.3691 - val_loss: 0.6035\n",
            "Epoch 115/120\n",
            "124/124 [==============================] - 4s 32ms/step - loss: 1.3911 - val_loss: 0.7909\n",
            "Epoch 116/120\n",
            "124/124 [==============================] - 5s 37ms/step - loss: 1.4303 - val_loss: 0.6099\n",
            "Epoch 117/120\n",
            "124/124 [==============================] - 5s 44ms/step - loss: 1.4767 - val_loss: 0.5220\n",
            "Epoch 118/120\n",
            "124/124 [==============================] - 4s 32ms/step - loss: 1.4274 - val_loss: 0.5402\n",
            "Epoch 119/120\n",
            "124/124 [==============================] - 4s 32ms/step - loss: 1.3947 - val_loss: 0.5353\n",
            "Epoch 120/120\n",
            "124/124 [==============================] - 6s 47ms/step - loss: 1.3991 - val_loss: 0.5511\n"
          ]
        }
      ]
    },
    {
      "cell_type": "markdown",
      "source": [
        "Валідація:"
      ],
      "metadata": {
        "id": "b6JZfuI0leN0"
      }
    },
    {
      "cell_type": "code",
      "source": [
        "validate_model(model_LSTM)"
      ],
      "metadata": {
        "colab": {
          "base_uri": "https://localhost:8080/"
        },
        "id": "JuV9QJIelh8P",
        "outputId": "78a8eaf2-b4ec-4ec8-9f31-1c2feee65a06"
      },
      "execution_count": null,
      "outputs": [
        {
          "output_type": "stream",
          "name": "stdout",
          "text": [
            "31/31 [==============================] - 0s 8ms/step - loss: 0.5511\n",
            "Test loss: 0.5511458516120911\n"
          ]
        }
      ]
    },
    {
      "cell_type": "markdown",
      "source": [
        "Графік:"
      ],
      "metadata": {
        "id": "COChsVc6lhOw"
      }
    },
    {
      "cell_type": "code",
      "source": [
        "plot_predictions(model_LSTM)"
      ],
      "metadata": {
        "colab": {
          "base_uri": "https://localhost:8080/",
          "height": 802
        },
        "id": "Jrpp-MmdlfbO",
        "outputId": "31755a6a-a220-436d-ee3f-4bdff56e8d53"
      },
      "execution_count": null,
      "outputs": [
        {
          "output_type": "stream",
          "name": "stdout",
          "text": [
            "31/31 [==============================] - 1s 9ms/step\n",
            "        Actual  Predicted        Date\n",
            "972   3.859375   3.726032  2000-08-14\n",
            "224   3.945312   3.944346  2000-08-22\n",
            "722   4.078125   4.049009  2000-09-05\n",
            "260   4.187500   4.045255  2000-09-06\n",
            "877   4.218750   4.113012  2000-09-11\n",
            "..         ...        ...         ...\n",
            "748  24.250000  24.840910  2020-03-04\n",
            "298  15.730000  22.824217  2020-03-06\n",
            "631  15.080000  16.846230  2020-03-10\n",
            "849  14.380000  13.395309  2020-03-12\n",
            "46   10.410000  10.208023  2020-03-25\n",
            "\n",
            "[989 rows x 3 columns]\n"
          ]
        },
        {
          "output_type": "display_data",
          "data": {
            "text/html": [
              "<html>\n",
              "<head><meta charset=\"utf-8\" /></head>\n",
              "<body>\n",
              "    <div>            <script src=\"https://cdnjs.cloudflare.com/ajax/libs/mathjax/2.7.5/MathJax.js?config=TeX-AMS-MML_SVG\"></script><script type=\"text/javascript\">if (window.MathJax && window.MathJax.Hub && window.MathJax.Hub.Config) {window.MathJax.Hub.Config({SVG: {font: \"STIX-Web\"}});}</script>                <script type=\"text/javascript\">window.PlotlyConfig = {MathJaxConfig: 'local'};</script>\n",
              "        <script charset=\"utf-8\" src=\"https://cdn.plot.ly/plotly-2.24.1.min.js\"></script>                <div id=\"3a5b1037-f5de-4f1c-a5c6-8434e8914d22\" class=\"plotly-graph-div\" style=\"height:525px; width:100%;\"></div>            <script type=\"text/javascript\">                                    window.PLOTLYENV=window.PLOTLYENV || {};                                    if (document.getElementById(\"3a5b1037-f5de-4f1c-a5c6-8434e8914d22\")) {                    Plotly.newPlot(                        \"3a5b1037-f5de-4f1c-a5c6-8434e8914d22\",                        [{\"mode\":\"lines\",\"name\":\"Actual\",\"x\":[\"2000-08-14\",\"2000-08-22\",\"2000-09-05\",\"2000-09-06\",\"2000-09-11\",\"2000-09-13\",\"2000-09-26\",\"2000-09-28\",\"2000-10-04\",\"2000-10-05\",\"2000-10-11\",\"2000-10-12\",\"2000-10-26\",\"2000-11-08\",\"2000-11-10\",\"2000-11-14\",\"2000-11-15\",\"2000-11-17\",\"2000-11-28\",\"2000-11-29\",\"2000-12-08\",\"2001-01-04\",\"2001-01-18\",\"2001-01-29\",\"2001-01-30\",\"2001-01-31\",\"2001-02-02\",\"2001-02-05\",\"2001-02-12\",\"2001-02-28\",\"2001-03-15\",\"2001-03-26\",\"2001-03-28\",\"2001-04-03\",\"2001-04-09\",\"2001-04-11\",\"2001-04-24\",\"2001-05-03\",\"2001-05-14\",\"2001-05-23\",\"2001-05-30\",\"2001-06-05\",\"2001-06-11\",\"2001-06-13\",\"2001-06-21\",\"2001-07-02\",\"2001-07-20\",\"2001-07-23\",\"2001-07-27\",\"2001-08-03\",\"2001-08-06\",\"2001-08-16\",\"2001-08-22\",\"2001-09-10\",\"2001-09-19\",\"2001-10-01\",\"2001-10-10\",\"2001-10-12\",\"2001-10-16\",\"2001-10-17\",\"2001-10-25\",\"2001-10-31\",\"2001-11-09\",\"2001-11-12\",\"2001-11-16\",\"2001-11-29\",\"2001-12-21\",\"2001-12-26\",\"2001-12-27\",\"2001-12-31\",\"2002-01-04\",\"2002-01-15\",\"2002-01-18\",\"2002-01-22\",\"2002-01-28\",\"2002-02-01\",\"2002-02-19\",\"2002-02-26\",\"2002-02-27\",\"2002-03-11\",\"2002-03-19\",\"2002-03-26\",\"2002-04-02\",\"2002-04-03\",\"2002-04-04\",\"2002-04-15\",\"2002-04-16\",\"2002-04-18\",\"2002-04-25\",\"2002-04-29\",\"2002-04-30\",\"2002-05-02\",\"2002-05-13\",\"2002-05-14\",\"2002-05-23\",\"2002-05-24\",\"2002-05-28\",\"2002-06-17\",\"2002-07-19\",\"2002-07-22\",\"2002-07-23\",\"2002-08-02\",\"2002-08-05\",\"2002-08-06\",\"2002-08-13\",\"2002-08-26\",\"2002-09-04\",\"2002-09-06\",\"2002-09-18\",\"2002-10-07\",\"2002-10-08\",\"2002-10-15\",\"2002-10-29\",\"2002-11-07\",\"2002-11-11\",\"2002-11-13\",\"2002-11-19\",\"2002-11-20\",\"2002-11-25\",\"2002-12-04\",\"2002-12-12\",\"2002-12-17\",\"2002-12-26\",\"2002-12-27\",\"2003-01-02\",\"2003-01-14\",\"2003-01-22\",\"2003-01-29\",\"2003-02-06\",\"2003-02-11\",\"2003-02-13\",\"2003-02-27\",\"2003-03-07\",\"2003-03-13\",\"2003-03-20\",\"2003-03-25\",\"2003-04-28\",\"2003-05-06\",\"2003-05-08\",\"2003-05-12\",\"2003-05-19\",\"2003-06-02\",\"2003-06-10\",\"2003-06-27\",\"2003-07-10\",\"2003-07-15\",\"2003-07-21\",\"2003-07-29\",\"2003-08-04\",\"2003-08-08\",\"2003-08-11\",\"2003-08-15\",\"2003-08-18\",\"2003-08-19\",\"2003-08-22\",\"2003-08-25\",\"2003-08-26\",\"2003-09-12\",\"2003-09-25\",\"2003-09-26\",\"2003-10-01\",\"2003-10-09\",\"2003-10-13\",\"2003-10-17\",\"2003-10-24\",\"2003-11-04\",\"2003-11-12\",\"2003-11-17\",\"2003-11-20\",\"2003-12-05\",\"2003-12-15\",\"2003-12-16\",\"2004-01-05\",\"2004-01-07\",\"2004-01-20\",\"2004-02-10\",\"2004-02-13\",\"2004-02-18\",\"2004-02-25\",\"2004-03-05\",\"2004-03-10\",\"2004-03-23\",\"2004-03-24\",\"2004-03-31\",\"2004-04-05\",\"2004-04-08\",\"2004-04-13\",\"2004-04-14\",\"2004-05-03\",\"2004-05-07\",\"2004-05-26\",\"2004-06-03\",\"2004-06-18\",\"2004-06-21\",\"2004-06-24\",\"2004-06-28\",\"2004-07-13\",\"2004-07-14\",\"2004-07-23\",\"2004-07-28\",\"2004-08-11\",\"2004-08-23\",\"2004-08-31\",\"2004-09-13\",\"2004-09-16\",\"2004-09-23\",\"2004-10-19\",\"2004-10-27\",\"2004-10-28\",\"2004-11-01\",\"2004-11-10\",\"2004-11-18\",\"2004-11-30\",\"2004-12-06\",\"2004-12-10\",\"2004-12-28\",\"2005-01-06\",\"2005-01-10\",\"2005-01-11\",\"2005-01-13\",\"2005-01-14\",\"2005-01-20\",\"2005-01-21\",\"2005-02-11\",\"2005-02-15\",\"2005-02-24\",\"2005-03-02\",\"2005-03-03\",\"2005-03-15\",\"2005-03-21\",\"2005-03-31\",\"2005-04-01\",\"2005-04-05\",\"2005-04-13\",\"2005-04-19\",\"2005-04-22\",\"2005-04-26\",\"2005-05-05\",\"2005-05-06\",\"2005-06-02\",\"2005-06-07\",\"2005-06-17\",\"2005-06-22\",\"2005-06-24\",\"2005-06-29\",\"2005-07-19\",\"2005-07-21\",\"2005-07-26\",\"2005-07-28\",\"2005-08-02\",\"2005-08-03\",\"2005-08-09\",\"2005-08-22\",\"2005-09-09\",\"2005-09-23\",\"2005-09-27\",\"2005-10-04\",\"2005-10-12\",\"2005-10-17\",\"2005-10-18\",\"2005-10-24\",\"2005-10-25\",\"2005-10-26\",\"2005-11-04\",\"2005-11-08\",\"2005-11-09\",\"2005-11-11\",\"2005-11-15\",\"2005-11-17\",\"2005-12-02\",\"2005-12-05\",\"2005-12-07\",\"2005-12-08\",\"2005-12-09\",\"2005-12-12\",\"2005-12-20\",\"2005-12-22\",\"2005-12-23\",\"2006-01-10\",\"2006-01-20\",\"2006-01-23\",\"2006-02-07\",\"2006-02-13\",\"2006-02-22\",\"2006-02-23\",\"2006-03-01\",\"2006-03-16\",\"2006-03-17\",\"2006-03-30\",\"2006-04-11\",\"2006-04-20\",\"2006-05-02\",\"2006-05-05\",\"2006-05-31\",\"2006-06-01\",\"2006-06-02\",\"2006-06-05\",\"2006-06-07\",\"2006-06-13\",\"2006-06-22\",\"2006-07-05\",\"2006-07-14\",\"2006-07-17\",\"2006-08-02\",\"2006-08-03\",\"2006-08-04\",\"2006-08-18\",\"2006-08-24\",\"2006-09-28\",\"2006-10-03\",\"2006-10-06\",\"2006-10-12\",\"2006-10-25\",\"2006-11-08\",\"2006-11-15\",\"2006-11-17\",\"2006-11-27\",\"2006-12-01\",\"2006-12-15\",\"2006-12-19\",\"2006-12-20\",\"2006-12-28\",\"2007-01-03\",\"2007-01-12\",\"2007-01-25\",\"2007-01-30\",\"2007-02-01\",\"2007-03-08\",\"2007-03-09\",\"2007-03-15\",\"2007-03-22\",\"2007-04-12\",\"2007-04-17\",\"2007-04-19\",\"2007-04-27\",\"2007-05-02\",\"2007-05-08\",\"2007-05-14\",\"2007-05-25\",\"2007-05-31\",\"2007-06-18\",\"2007-06-20\",\"2007-07-03\",\"2007-07-10\",\"2007-07-20\",\"2007-07-23\",\"2007-08-03\",\"2007-08-06\",\"2007-08-31\",\"2007-09-07\",\"2007-09-12\",\"2007-09-13\",\"2007-09-14\",\"2007-09-19\",\"2007-09-27\",\"2007-10-03\",\"2007-10-18\",\"2007-11-08\",\"2007-12-07\",\"2007-12-20\",\"2007-12-26\",\"2007-12-31\",\"2008-01-02\",\"2008-01-03\",\"2008-01-14\",\"2008-01-22\",\"2008-01-23\",\"2008-01-28\",\"2008-02-08\",\"2008-02-11\",\"2008-02-14\",\"2008-02-26\",\"2008-02-28\",\"2008-02-29\",\"2008-03-03\",\"2008-03-11\",\"2008-03-24\",\"2008-03-27\",\"2008-04-01\",\"2008-04-02\",\"2008-04-08\",\"2008-04-10\",\"2008-04-18\",\"2008-04-21\",\"2008-05-01\",\"2008-05-19\",\"2008-06-02\",\"2008-06-09\",\"2008-06-10\",\"2008-06-11\",\"2008-06-18\",\"2008-06-26\",\"2008-07-15\",\"2008-07-28\",\"2008-08-01\",\"2008-08-05\",\"2008-08-14\",\"2008-08-18\",\"2008-08-20\",\"2008-08-25\",\"2008-08-26\",\"2008-09-09\",\"2008-09-18\",\"2008-09-24\",\"2008-09-25\",\"2008-10-13\",\"2008-10-17\",\"2008-11-04\",\"2008-11-06\",\"2008-11-11\",\"2008-12-02\",\"2008-12-05\",\"2008-12-11\",\"2008-12-15\",\"2008-12-18\",\"2008-12-19\",\"2008-12-23\",\"2009-01-13\",\"2009-01-23\",\"2009-01-26\",\"2009-02-10\",\"2009-02-13\",\"2009-03-11\",\"2009-03-16\",\"2009-03-18\",\"2009-03-19\",\"2009-03-23\",\"2009-03-24\",\"2009-04-06\",\"2009-04-08\",\"2009-04-09\",\"2009-04-15\",\"2009-04-24\",\"2009-05-06\",\"2009-05-18\",\"2009-06-09\",\"2009-06-11\",\"2009-06-12\",\"2009-06-15\",\"2009-06-22\",\"2009-06-24\",\"2009-06-30\",\"2009-07-13\",\"2009-07-16\",\"2009-07-17\",\"2009-07-22\",\"2009-08-25\",\"2009-09-01\",\"2009-09-10\",\"2009-09-28\",\"2009-10-13\",\"2009-10-26\",\"2009-11-03\",\"2009-11-13\",\"2009-12-11\",\"2009-12-31\",\"2010-01-06\",\"2010-01-11\",\"2010-01-20\",\"2010-01-22\",\"2010-01-25\",\"2010-01-26\",\"2010-01-29\",\"2010-02-03\",\"2010-02-26\",\"2010-03-12\",\"2010-03-26\",\"2010-04-05\",\"2010-04-12\",\"2010-04-15\",\"2010-04-26\",\"2010-04-28\",\"2010-05-03\",\"2010-05-06\",\"2010-05-25\",\"2010-06-08\",\"2010-06-22\",\"2010-07-01\",\"2010-07-12\",\"2010-07-20\",\"2010-07-23\",\"2010-07-27\",\"2010-08-03\",\"2010-08-04\",\"2010-08-12\",\"2010-08-19\",\"2010-09-01\",\"2010-09-22\",\"2010-09-24\",\"2010-09-27\",\"2010-10-01\",\"2010-10-05\",\"2010-10-06\",\"2010-11-02\",\"2010-11-03\",\"2010-11-09\",\"2010-11-16\",\"2010-11-30\",\"2010-12-21\",\"2010-12-27\",\"2011-01-07\",\"2011-01-14\",\"2011-01-19\",\"2011-01-21\",\"2011-01-24\",\"2011-01-28\",\"2011-01-31\",\"2011-02-01\",\"2011-02-14\",\"2011-02-17\",\"2011-02-28\",\"2011-03-01\",\"2011-03-18\",\"2011-03-23\",\"2011-03-25\",\"2011-04-04\",\"2011-04-05\",\"2011-04-06\",\"2011-04-14\",\"2011-04-15\",\"2011-04-20\",\"2011-04-25\",\"2011-04-26\",\"2011-04-29\",\"2011-05-05\",\"2011-05-12\",\"2011-05-24\",\"2011-06-09\",\"2011-06-23\",\"2011-06-24\",\"2011-06-28\",\"2011-07-05\",\"2011-07-15\",\"2011-07-18\",\"2011-07-25\",\"2011-07-26\",\"2011-07-28\",\"2011-08-04\",\"2011-08-11\",\"2011-08-15\",\"2011-08-17\",\"2011-08-19\",\"2011-09-02\",\"2011-09-06\",\"2011-09-07\",\"2011-09-09\",\"2011-09-12\",\"2011-09-20\",\"2011-09-21\",\"2011-09-28\",\"2011-09-30\",\"2011-10-03\",\"2011-10-04\",\"2011-10-05\",\"2011-10-06\",\"2011-10-14\",\"2011-10-18\",\"2011-10-25\",\"2011-10-27\",\"2011-10-31\",\"2011-11-02\",\"2011-11-16\",\"2011-11-18\",\"2011-11-23\",\"2011-11-29\",\"2011-12-02\",\"2011-12-12\",\"2011-12-28\",\"2011-12-30\",\"2012-01-05\",\"2012-01-11\",\"2012-01-19\",\"2012-01-26\",\"2012-01-27\",\"2012-02-01\",\"2012-02-02\",\"2012-02-06\",\"2012-02-07\",\"2012-02-15\",\"2012-02-24\",\"2012-02-28\",\"2012-03-12\",\"2012-03-19\",\"2012-03-30\",\"2012-04-09\",\"2012-04-23\",\"2012-04-25\",\"2012-05-02\",\"2012-05-11\",\"2012-05-22\",\"2012-05-23\",\"2012-05-24\",\"2012-05-25\",\"2012-05-31\",\"2012-06-07\",\"2012-06-08\",\"2012-06-18\",\"2012-06-28\",\"2012-06-29\",\"2012-07-09\",\"2012-07-23\",\"2012-07-27\",\"2012-07-31\",\"2012-08-02\",\"2012-08-17\",\"2012-08-24\",\"2012-08-28\",\"2012-10-02\",\"2012-10-19\",\"2012-10-23\",\"2012-10-24\",\"2012-11-01\",\"2012-11-05\",\"2012-11-12\",\"2012-11-14\",\"2012-11-16\",\"2012-11-20\",\"2012-11-27\",\"2012-11-29\",\"2012-12-17\",\"2012-12-24\",\"2013-01-03\",\"2013-01-09\",\"2013-01-14\",\"2013-02-04\",\"2013-02-11\",\"2013-02-12\",\"2013-02-13\",\"2013-02-27\",\"2013-03-04\",\"2013-03-06\",\"2013-03-15\",\"2013-03-18\",\"2013-04-01\",\"2013-04-04\",\"2013-04-05\",\"2013-04-29\",\"2013-05-02\",\"2013-05-15\",\"2013-06-05\",\"2013-06-07\",\"2013-06-24\",\"2013-07-08\",\"2013-07-18\",\"2013-07-24\",\"2013-08-01\",\"2013-08-02\",\"2013-08-05\",\"2013-08-08\",\"2013-08-21\",\"2013-08-27\",\"2013-09-09\",\"2013-09-16\",\"2013-09-19\",\"2013-09-20\",\"2013-09-30\",\"2013-10-02\",\"2013-10-07\",\"2013-10-10\",\"2013-11-04\",\"2013-11-06\",\"2013-11-11\",\"2013-11-14\",\"2013-11-15\",\"2013-11-26\",\"2013-12-04\",\"2013-12-17\",\"2014-01-02\",\"2014-01-14\",\"2014-01-15\",\"2014-01-23\",\"2014-02-04\",\"2014-02-06\",\"2014-02-13\",\"2014-02-18\",\"2014-02-19\",\"2014-02-25\",\"2014-03-12\",\"2014-03-13\",\"2014-03-31\",\"2014-04-03\",\"2014-04-08\",\"2014-04-10\",\"2014-04-21\",\"2014-05-05\",\"2014-05-07\",\"2014-05-19\",\"2014-05-21\",\"2014-06-05\",\"2014-06-20\",\"2014-06-23\",\"2014-06-26\",\"2014-06-30\",\"2014-07-17\",\"2014-07-21\",\"2014-07-23\",\"2014-07-31\",\"2014-08-07\",\"2014-08-12\",\"2014-08-13\",\"2014-08-15\",\"2014-08-25\",\"2014-09-03\",\"2014-09-17\",\"2014-09-26\",\"2014-09-30\",\"2014-10-03\",\"2014-10-08\",\"2014-10-14\",\"2014-10-21\",\"2014-10-28\",\"2014-10-31\",\"2014-11-05\",\"2014-11-06\",\"2014-11-14\",\"2014-12-02\",\"2014-12-12\",\"2014-12-15\",\"2014-12-18\",\"2015-01-08\",\"2015-01-09\",\"2015-01-13\",\"2015-01-16\",\"2015-01-22\",\"2015-01-23\",\"2015-01-27\",\"2015-02-05\",\"2015-02-25\",\"2015-03-05\",\"2015-03-10\",\"2015-03-11\",\"2015-03-16\",\"2015-03-20\",\"2015-03-24\",\"2015-03-27\",\"2015-03-30\",\"2015-04-02\",\"2015-04-23\",\"2015-05-05\",\"2015-05-07\",\"2015-05-13\",\"2015-05-15\",\"2015-05-22\",\"2015-05-27\",\"2015-05-28\",\"2015-05-29\",\"2015-07-01\",\"2015-07-07\",\"2015-07-08\",\"2015-07-10\",\"2015-07-14\",\"2015-07-15\",\"2015-07-28\",\"2015-07-30\",\"2015-08-12\",\"2015-08-24\",\"2015-08-26\",\"2015-08-27\",\"2015-09-08\",\"2015-09-09\",\"2015-09-10\",\"2015-09-15\",\"2015-09-16\",\"2015-09-21\",\"2015-09-29\",\"2015-10-06\",\"2015-10-13\",\"2015-10-16\",\"2015-10-20\",\"2015-10-30\",\"2015-11-06\",\"2015-11-30\",\"2015-12-21\",\"2015-12-29\",\"2015-12-30\",\"2016-01-06\",\"2016-01-14\",\"2016-01-25\",\"2016-01-29\",\"2016-02-05\",\"2016-02-19\",\"2016-02-22\",\"2016-02-23\",\"2016-03-08\",\"2016-03-15\",\"2016-03-18\",\"2016-03-21\",\"2016-03-23\",\"2016-03-31\",\"2016-04-14\",\"2016-04-15\",\"2016-04-18\",\"2016-04-28\",\"2016-05-05\",\"2016-05-13\",\"2016-05-16\",\"2016-05-18\",\"2016-05-19\",\"2016-05-24\",\"2016-05-27\",\"2016-05-31\",\"2016-06-03\",\"2016-06-13\",\"2016-06-15\",\"2016-06-20\",\"2016-06-27\",\"2016-07-01\",\"2016-07-22\",\"2016-08-01\",\"2016-08-02\",\"2016-08-12\",\"2016-08-16\",\"2016-09-01\",\"2016-09-15\",\"2016-09-23\",\"2016-10-07\",\"2016-10-24\",\"2016-10-27\",\"2016-10-28\",\"2016-11-01\",\"2016-11-18\",\"2016-11-22\",\"2016-11-30\",\"2016-12-08\",\"2016-12-22\",\"2016-12-27\",\"2017-01-03\",\"2017-01-05\",\"2017-01-06\",\"2017-01-31\",\"2017-02-15\",\"2017-03-10\",\"2017-03-14\",\"2017-03-17\",\"2017-03-20\",\"2017-03-21\",\"2017-03-31\",\"2017-04-05\",\"2017-04-19\",\"2017-04-24\",\"2017-05-02\",\"2017-05-15\",\"2017-05-17\",\"2017-06-01\",\"2017-06-08\",\"2017-06-09\",\"2017-06-13\",\"2017-06-22\",\"2017-06-26\",\"2017-06-29\",\"2017-07-24\",\"2017-07-31\",\"2017-08-09\",\"2017-08-11\",\"2017-08-22\",\"2017-08-23\",\"2017-08-25\",\"2017-09-12\",\"2017-09-13\",\"2017-09-18\",\"2017-09-20\",\"2017-10-04\",\"2017-10-06\",\"2017-11-24\",\"2017-12-04\",\"2017-12-06\",\"2017-12-12\",\"2017-12-18\",\"2017-12-19\",\"2017-12-20\",\"2017-12-29\",\"2018-01-10\",\"2018-01-11\",\"2018-01-19\",\"2018-01-24\",\"2018-01-25\",\"2018-01-30\",\"2018-02-01\",\"2018-02-05\",\"2018-02-07\",\"2018-02-22\",\"2018-02-28\",\"2018-03-01\",\"2018-03-02\",\"2018-03-12\",\"2018-03-13\",\"2018-03-16\",\"2018-03-20\",\"2018-04-04\",\"2018-04-05\",\"2018-04-12\",\"2018-04-20\",\"2018-05-04\",\"2018-05-14\",\"2018-05-15\",\"2018-05-25\",\"2018-05-30\",\"2018-06-13\",\"2018-06-19\",\"2018-06-25\",\"2018-07-03\",\"2018-07-19\",\"2018-07-20\",\"2018-07-30\",\"2018-08-27\",\"2018-08-29\",\"2018-09-04\",\"2018-09-06\",\"2018-09-11\",\"2018-09-26\",\"2018-09-27\",\"2018-10-12\",\"2018-10-16\",\"2018-10-25\",\"2018-10-31\",\"2018-11-08\",\"2018-11-09\",\"2018-11-12\",\"2018-11-15\",\"2018-11-16\",\"2018-11-19\",\"2018-11-21\",\"2018-11-28\",\"2018-12-13\",\"2018-12-20\",\"2019-01-25\",\"2019-02-14\",\"2019-03-01\",\"2019-03-05\",\"2019-03-06\",\"2019-03-15\",\"2019-03-18\",\"2019-03-20\",\"2019-03-25\",\"2019-03-27\",\"2019-03-29\",\"2019-04-01\",\"2019-04-02\",\"2019-04-04\",\"2019-04-08\",\"2019-04-12\",\"2019-04-18\",\"2019-04-24\",\"2019-04-29\",\"2019-05-06\",\"2019-05-17\",\"2019-05-22\",\"2019-06-03\",\"2019-06-10\",\"2019-06-14\",\"2019-06-18\",\"2019-06-25\",\"2019-07-02\",\"2019-07-10\",\"2019-07-25\",\"2019-08-07\",\"2019-08-08\",\"2019-08-13\",\"2019-09-06\",\"2019-09-09\",\"2019-09-10\",\"2019-09-11\",\"2019-09-23\",\"2019-09-25\",\"2019-10-10\",\"2019-10-24\",\"2019-10-31\",\"2019-11-01\",\"2019-11-04\",\"2019-11-22\",\"2019-12-03\",\"2019-12-11\",\"2019-12-19\",\"2019-12-24\",\"2019-12-27\",\"2020-01-06\",\"2020-01-09\",\"2020-01-16\",\"2020-01-17\",\"2020-01-31\",\"2020-02-05\",\"2020-02-13\",\"2020-02-19\",\"2020-02-21\",\"2020-03-04\",\"2020-03-06\",\"2020-03-10\",\"2020-03-12\",\"2020-03-25\"],\"y\":[3.859375,3.9453125,4.078125,4.1875,4.21875,4.46875,4.1953125,4.1640625,4.2734375,4.109375,4.125,4.1953125,3.8046875,3.609375,3.578125,3.51953125,3.5234375,3.515625,3.53125,3.4765625,3.6171875,3.3359375,3.46875,3.666249990463257,3.65625,3.652499914169312,3.766249895095825,3.706249952316284,3.791249990463257,3.518749952316284,3.75,3.677500009536743,3.640000104904175,3.502500057220459,3.662499904632568,3.674999952316284,3.765000104904175,3.5762500762939453,3.865000009536743,4.144999980926514,4.198750019073486,4.193749904632568,4.051249980926514,4.068749904632568,3.7587499618530273,3.668750047683716,3.5737500190734863,3.640000104904175,3.631249904632568,3.846250057220459,3.825000047683716,3.75,3.7074999809265137,3.6762499809265137,3.315000057220459,3.190000057220459,3.5,3.4487500190734863,3.4124999046325684,3.275000095367432,3.430000066757202,3.3125,3.333750009536743,3.4049999713897705,2.90625,3.103749990463257,3.008749961853028,3.049999952316284,3.0799999237060547,2.977499961853028,3.0537500381469727,3.0299999713897705,3.0062499046325684,3.032500028610229,3.1912500858306885,3.3125,3.493750095367432,3.706249952316284,3.671250104904175,3.816250085830689,3.952500104904175,4.074999809265137,4.067500114440918,3.944999933242798,3.96875,3.9487500190734863,4.006249904632568,4.067500114440918,4.148749828338623,4.119999885559082,4.143750190734863,4.227499961853027,4.065000057220459,4.017499923706055,4.0625,4.106249809265137,4.102499961853027,4.00124979019165,3.682499885559082,3.5625,3.8424999713897705,3.982500076293945,4.152500152587891,4.065000057220459,4.224999904632568,4.197500228881836,4.051249980926514,4.028749942779541,3.839999914169312,3.666249990463257,3.588749885559082,3.793750047683716,3.352499961853028,3.212500095367432,3.223750114440918,3.1287500858306885,3.25,3.240000009536743,3.1987500190734863,3.383749961853028,3.6887500286102295,3.6262500286102295,3.694999933242798,3.732500076293945,3.809999942779541,3.776249885559082,3.9362499713897705,3.868750095367432,3.9149999618530273,3.911250114440918,3.887500047683716,4.306250095367432,4.446249961853027,4.125,4.096250057220459,4.137499809265137,4.152500152587891,4.480000019073486,4.397500038146973,4.463749885559082,4.683750152587891,4.929999828338623,5.256249904632568,4.988749980926514,4.75,4.818749904632568,4.762499809265137,4.65500020980835,4.832499980926514,5.150000095367432,5.144999980926514,5.079999923706055,5.03125,5.008749961853027,5.016250133514404,4.925000190734863,4.847499847412109,4.976250171661377,4.992499828338623,5.043749809265137,5.257500171661377,5.502500057220459,5.537499904632568,5.431250095367432,5.505000114440918,5.09375,5.309999942779541,5.351250171661377,5.494999885559082,5.892499923706055,5.671249866485596,5.826250076293945,6.612500190734863,6.426249980926514,6.776249885559082,6.431250095367432,6.458749771118164,6.300000190734863,6.62624979019165,7.131249904632568,6.87624979019165,6.731249809265137,6.670000076293945,7.018750190734863,7.309999942779541,7.414999961853027,7.139999866485596,7.539999961853027,7.366250038146973,6.652500152587891,6.482500076293945,6.602499961853027,7.34499979019165,7.380000114440918,7.577499866485596,7.277500152587891,7.902500152587891,7.857500076293945,7.730000019073486,8.119999885559082,7.784999847412109,7.872499942779541,8.362500190734863,8.479999542236328,8.867500305175781,9.38249969482422,10.36750030517578,10.369999885559082,10.489999771118164,10.1850004196167,9.9375,10.302499771118164,10.522500038146973,9.520000457763672,9.625,10.4975004196167,10.022500038146973,10.154999732971191,10.807499885559082,10.852499961853027,10.954999923706056,10.755000114440918,10.717499732971191,13.137499809265137,13.63249969482422,14.607500076293944,14.677499771118164,15.074999809265137,14.5,14.307499885559082,14.350000381469728,14.392499923706056,14.399999618530272,13.005000114440918,13.037500381469728,13.395000457763672,12.899999618530272,14.087499618530272,14.177499771118164,15.199999809265137,15.1850004196167,18.600000381469727,18.280000686645508,18.709999084472656,18.190000534057617,19.834999084472656,20.155000686645508,20.209999084472656,20.790000915527344,22.01000022888184,22.729999542236328,24.049999237060547,22.424999237060547,23.21999931335449,22.809999465942383,23.059999465942383,20.70499992370605,19.084999084472656,18.940000534057617,19.65999984741211,20.81999969482422,20.71500015258789,20.21999931335449,23.07999992370605,23.90999984741211,22.44499969482422,22.69499969482422,23.739999771118164,22.6200008392334,24.32999992370605,24.434999465942383,25.03499984741211,24.825000762939453,25.424999237060547,26.165000915527344,25.46999931335449,24.95499992370605,24.049999237060547,25.94499969482422,30.114999771118164,29.8799991607666,28.934999465942383,26.979999542236328,27.34000015258789,28.059999465942383,30.1299991607666,28.125,27.424999237060547,27.69499969482422,29.8799991607666,31.61000061035156,30.600000381469727,28.229999542236328,27.270000457763672,27.399999618530277,26.084999084472656,26.530000686645508,25.34499931335449,23.70499992370605,24.75,26.834999084472656,25.405000686645508,25.149999618530277,26.71999931335449,26.06999969482422,26.645000457763672,26.940000534057617,27.03499984741211,22.790000915527344,21.309999465942383,22.489999771118164,23.36000061035156,26.725000381469727,26.09000015258789,25.174999237060547,25.38500022888184,26.21500015258789,27.5049991607666,25.7450008392334,25.71500015258789,25.809999465942383,26.614999771118164,23.104999542236328,23.2450008392334,24.270000457763672,25.01000022888184,24.825000762939453,26.01499938964844,26.03499984741211,25.315000534057617,26.899999618530277,30.040000915527344,29.61000061035156,29.5049991607666,29.80500030517578,31.625,31.59000015258789,31.434999465942383,32.28499984741211,33.915000915527344,34.6150016784668,33.51499938964844,33.67499923706055,34.275001525878906,36.2599983215332,34.68000030517578,33.04999923706055,33.20500183105469,35.1150016784668,34.400001525878906,37.45000076293945,37.79499816894531,37.45500183105469,37.61000061035156,37.875,36.77000045776367,38.75,40.75,34.16999816894531,35.44499969482422,36.14500045776367,37.43999862670898,38.07500076293945,37.119998931884766,34.67499923706055,29.78499984741211,31.51000022888184,31.34000015258789,31.30500030517578,31.434999465942383,32.36000061035156,36.69499969482422,37.41999816894531,37.68999862670898,37.64500045776367,36.43999862670898,33.94499969482422,34.51499938964844,34.70000076293945,35.04999923706055,38.30500030517578,38.32500076293945,43.709999084472656,43.33000183105469,42.790000915527344,53.119998931884766,48.2599983215332,50.27999877929688,51.52000045776367,50.89500045776367,50.75,49.790000915527344,44.84000015258789,37.73500061035156,36.52000045776367,37.82500076293945,37.540000915527344,38.72499847412109,42.68999862670898,41.720001220703125,43.11000061035156,36.875,41.20000076293945,40.709999084472656,39.06499862670898,23.674999237060547,24.459999084472656,25.825000762939453,22.86000061035156,19.420000076293945,18.924999237060547,16.78499984741211,18.399999618530277,20.315000534057617,18.25,17.549999237060547,17.860000610351562,18.725000381469727,18.44499969482422,18.010000228881836,17.434999465942383,15.800000190734863,18.94499969482422,19.7549991607666,20.46500015258789,19.84499931335449,20.665000915527344,21.21500015258789,20.69499969482422,22.290000915527344,22.670000076293945,22.95499992370605,23.905000686645508,25.700000762939453,26.709999084472656,29.155000686645508,28.934999465942383,27.524999618530277,26.959999084472656,24.34000015258789,26.049999237060547,26.09000015258789,25.5049991607666,28.155000686645508,29.415000915527344,29.2549991607666,29.545000076293945,27.690000534057617,32.45500183105469,33.345001220703125,37.69499969482422,34.45500183105469,32.224998474121094,34.57500076293945,33.150001525878906,36.880001068115234,35.96500015258789,35.44499969482422,33.974998474121094,33.18000030517578,32.8849983215332,32.8849983215332,32.529998779296875,32.720001220703125,34.540000915527344,35.91999816894531,36.0,39.52999877929688,39.04499816894531,37.994998931884766,37.525001525878906,38.63999938964844,37.560001373291016,34.540000915527344,32.630001068115234,34.290000915527344,35.599998474121094,32.79999923706055,35.61000061035156,34.25,35.59000015258789,34.66999816894531,35.75,36.02000045776367,32.150001525878906,32.20000076293945,33.779998779296875,32.0,33.22999954223633,33.59000015258789,35.560001373291016,37.52000045776367,36.880001068115234,37.369998931884766,39.2400016784668,39.970001220703125,37.86000061035156,40.56999969482422,43.790000915527344,43.720001220703125,41.900001525878906,42.630001068115234,42.16999816894531,42.31999969482422,41.47999954223633,44.52000045776367,45.34999847412109,44.77999877929688,45.150001525878906,47.900001525878906,50.18999862670898,51.209999084472656,49.7599983215332,48.970001220703125,47.88999938964844,49.7599983215332,49.209999084472656,48.43999862670898,45.40999984741211,45.11000061035156,46.619998931884766,46.09999847412109,45.97999954223633,46.31999969482422,43.619998931884766,40.709999084472656,42.27000045776367,40.25,38.7599983215332,38.810001373291016,41.220001220703125,42.59000015258789,41.16999816894531,42.470001220703125,43.02000045776367,41.63999938964844,40.290000915527344,36.02000045776367,36.66999816894531,36.619998931884766,34.2599983215332,33.189998626708984,34.849998474121094,36.18000030517578,36.13999938964844,33.880001068115234,34.310001373291016,31.739999771118164,30.040000915527344,30.34000015258789,27.59000015258789,27.43000030517578,29.540000915527344,30.270000457763672,29.1299991607666,31.270000457763672,31.920000076293945,34.2599983215332,36.81999969482422,33.40999984741211,37.84000015258789,36.209999084472656,35.150001525878906,32.63999938964844,37.34000015258789,37.68000030517578,35.560001373291016,36.61000061035156,39.38999938964844,38.08000183105469,37.68999862670898,38.5099983215332,40.20000076293945,39.77000045776367,40.43000030517578,41.060001373291016,38.7400016784668,38.09000015258789,37.209999084472656,37.650001525878906,37.11000061035156,35.13999938964844,35.150001525878906,34.02000045776367,31.15999984741211,31.68000030517578,33.099998474121094,33.310001373291016,30.190000534057617,30.729999542236328,30.65999984741211,30.75,31.34000015258789,27.420000076293945,27.38999938964844,26.790000915527344,28.280000686645508,26.850000381469727,26.809999465942383,25.280000686645508,27.07999992370605,28.049999237060547,27.479999542236328,27.88999938964844,32.15999984741211,30.950000762939453,30.709999084472656,30.6299991607666,31.0,29.71999931335449,30.1299991607666,29.989999771118164,30.43000030517578,27.700000762939453,27.309999465942383,27.63999938964844,27.51000022888184,28.450000762939453,28.489999771118164,28.729999542236328,28.5,30.549999237060547,30.13999938964844,29.57999992370605,30.32999992370605,31.46999931335449,31.739999771118164,31.15999984741211,30.489999771118164,29.790000915527344,31.190000534057617,32.540000915527344,32.41999816894531,32.119998931884766,30.540000915527344,30.63999938964844,29.34000015258789,29.32999992370605,29.170000076293945,29.18000030517578,29.280000686645508,28.299999237060547,30.34000015258789,33.11000061035156,32.84000015258789,31.46999931335449,31.3700008392334,30.82999992370605,30.479999542236328,29.700000762939453,31.43000030517578,31.31999969482422,31.65999984741211,31.530000686645508,31.38999938964844,31.799999237060547,30.790000915527344,30.989999771118164,32.16999816894531,30.920000076293945,31.15999984741211,30.61000061035156,32.560001373291016,32.220001220703125,32.38999938964844,32.150001525878906,32.25,32.93000030517578,32.79999923706055,32.84000015258789,32.0,33.939998626708984,34.27000045776367,35.040000915527344,36.68999862670898,36.84000015258789,36.630001068115234,35.68000030517578,35.79999923706055,38.47999954223633,39.72999954223633,40.540000915527344,39.400001525878906,40.43999862670898,40.68000030517578,39.79999923706055,39.75,40.7599983215332,42.09000015258789,45.63999938964844,44.65999984741211,45.720001220703125,46.150001525878906,45.0,45.650001525878906,45.77000045776367,42.040000915527344,42.02000045776367,41.290000915527344,41.0099983215332,41.31999969482422,43.06999969482422,41.7400016784668,41.18999862670898,39.470001220703125,37.77000045776367,37.150001525878906,34.93000030517578,32.02000045776367,34.2599983215332,34.58000183105469,33.70000076293945,34.689998626708984,36.02999877929688,35.56999969482422,34.2599983215332,27.309999465942383,27.920000076293945,31.649999618530277,27.940000534057617,26.559999465942383,27.38999938964844,28.270000457763672,29.26000022888184,29.1200008392334,28.21999931335449,31.25,29.489999771118164,29.709999084472656,28.81999969482422,28.65999984741211,29.440000534057617,29.8700008392334,30.82999992370605,30.82999992370605,30.709999084472656,32.2599983215332,33.619998931884766,31.959999084472656,31.6200008392334,31.530000686645508,31.34000015258789,30.520000457763672,30.739999771118164,30.84000015258789,30.3799991607666,26.979999542236328,25.899999618530277,25.809999465942383,26.07999992370605,25.549999237060547,25.40999984741211,23.71999931335449,24.3799991607666,23.700000762939453,19.34000015258789,21.350000381469727,21.799999237060547,20.520000457763672,20.84000015258789,20.030000686645508,21.209999084472656,21.21999931335449,20.07999992370605,19.450000762939453,23.8799991607666,24.01000022888184,23.280000686645508,23.209999084472656,23.799999237060547,24.82999992370605,24.200000762939453,20.790000915527344,21.81999969482422,21.82999992370605,19.549999237060547,16.81999969482422,18.76000022888184,20.899999618530277,20.979999542236328,21.040000915527344,20.0,19.950000762939453,26.299999237060547,27.57999992370605,27.21999931335449,27.65999984741211,26.57999992370605,25.799999237060547,28.559999465942383,29.3700008392334,30.020000457763672,30.020000457763672,27.71999931335449,29.280000686645508,29.690000534057617,28.540000915527344,28.88999938964844,29.899999618530277,29.739999771118164,29.030000686645508,29.940000534057617,28.899999618530277,28.700000762939453,30.34000015258789,29.3700008392334,30.8799991607666,30.06999969482422,29.600000381469727,30.13999938964844,32.45000076293945,32.400001525878906,31.850000381469727,29.200000762939453,29.549999237060547,32.33000183105469,32.709999084472656,32.38999938964844,31.709999084472656,31.46999931335449,32.880001068115234,32.70000076293945,34.06999969482422,33.380001068115234,32.15999984741211,32.209999084472656,32.84000015258789,32.58000183105469,31.600000381469727,30.1299991607666,30.34000015258789,31.790000915527344,32.86000061035156,32.22999954223633,31.790000915527344,32.02000045776367,32.66999816894531,33.400001525878906,32.529998779296875,33.40999984741211,31.530000686645508,31.190000534057617,30.440000534057617,28.850000381469727,29.25,29.38999938964844,28.21999931335449,28.5,28.540000915527344,28.84000015258789,30.40999984741211,30.520000457763672,31.309999465942383,30.86000061035156,30.8700008392334,30.90999984741211,30.8700008392334,33.029998779296875,32.97999954223633,33.0,34.20000076293945,33.40999984741211,32.9900016784668,33.529998779296875,35.150001525878906,34.56999969482422,33.83000183105469,33.79999923706055,34.22999954223633,34.83000183105469,36.540000915527344,36.72999954223633,37.13999938964844,36.06999969482422,35.95000076293945,36.02999877929688,34.150001525878906,33.689998626708984,31.93000030517578,29.76000022888184,32.150001525878906,31.049999237060547,30.88999938964844,31.030000686645508,29.959999084472656,29.920000076293945,29.799999237060547,31.450000762939453,33.79999923706055,33.02000045776367,35.130001068115234,35.779998779296875,35.11000061035156,36.40999984741211,36.70000076293945,34.27000045776367,34.560001373291016,32.06999969482422,32.02000045776367,33.95000076293945,35.470001220703125,35.22999954223633,35.0099983215332,36.63999938964844,35.31999969482422,34.970001220703125,33.290000915527344,32.43000030517578,31.940000534057617,33.029998779296875,32.65999984741211,28.770000457763672,28.63999938964844,28.190000534057617,28.90999984741211,28.15999984741211,28.1200008392334,27.26000022888184,27.1200008392334,27.200000762939453,26.26000022888184,25.21999931335449,25.200000762939453,25.6299991607666,23.26000022888184,26.209999084472656,27.850000381469727,27.280000686645508,26.690000534057617,27.31999969482422,28.020000457763672,27.799999237060547,28.450000762939453,27.770000457763672,27.459999084472656,27.940000534057617,27.809999465942383,27.71999931335449,28.670000076293945,29.34000015258789,29.6200008392334,31.07999992370605,30.15999984741211,29.979999542236328,27.690000534057617,27.100000381469727,25.84000015258789,26.84000015258789,27.209999084472656,26.93000030517578,27.0,27.850000381469727,26.600000381469727,27.6200008392334,24.940000534057617,24.450000762939453,24.38999938964844,23.239999771118164,24.729999542236328,25.68000030517578,25.420000076293945,25.350000381469727,27.13999938964844,26.709999084472656,25.450000762939453,26.040000915527344,25.93000030517578,26.520000457763672,26.46999931335449,28.280000686645508,28.36000061035156,30.46999931335449,31.600000381469727,32.18000030517578,32.189998626708984,32.220001220703125,31.76000022888184,31.709999084472656,31.149999618530277,28.07999992370605,29.149999618530277,29.290000915527344,30.43000030517578,28.57999992370605,24.25,15.729999542236328,15.079999923706056,14.380000114440918,10.40999984741211],\"type\":\"scatter\"},{\"mode\":\"lines\",\"name\":\"Predicted\",\"x\":[\"2000-08-14\",\"2000-08-22\",\"2000-09-05\",\"2000-09-06\",\"2000-09-11\",\"2000-09-13\",\"2000-09-26\",\"2000-09-28\",\"2000-10-04\",\"2000-10-05\",\"2000-10-11\",\"2000-10-12\",\"2000-10-26\",\"2000-11-08\",\"2000-11-10\",\"2000-11-14\",\"2000-11-15\",\"2000-11-17\",\"2000-11-28\",\"2000-11-29\",\"2000-12-08\",\"2001-01-04\",\"2001-01-18\",\"2001-01-29\",\"2001-01-30\",\"2001-01-31\",\"2001-02-02\",\"2001-02-05\",\"2001-02-12\",\"2001-02-28\",\"2001-03-15\",\"2001-03-26\",\"2001-03-28\",\"2001-04-03\",\"2001-04-09\",\"2001-04-11\",\"2001-04-24\",\"2001-05-03\",\"2001-05-14\",\"2001-05-23\",\"2001-05-30\",\"2001-06-05\",\"2001-06-11\",\"2001-06-13\",\"2001-06-21\",\"2001-07-02\",\"2001-07-20\",\"2001-07-23\",\"2001-07-27\",\"2001-08-03\",\"2001-08-06\",\"2001-08-16\",\"2001-08-22\",\"2001-09-10\",\"2001-09-19\",\"2001-10-01\",\"2001-10-10\",\"2001-10-12\",\"2001-10-16\",\"2001-10-17\",\"2001-10-25\",\"2001-10-31\",\"2001-11-09\",\"2001-11-12\",\"2001-11-16\",\"2001-11-29\",\"2001-12-21\",\"2001-12-26\",\"2001-12-27\",\"2001-12-31\",\"2002-01-04\",\"2002-01-15\",\"2002-01-18\",\"2002-01-22\",\"2002-01-28\",\"2002-02-01\",\"2002-02-19\",\"2002-02-26\",\"2002-02-27\",\"2002-03-11\",\"2002-03-19\",\"2002-03-26\",\"2002-04-02\",\"2002-04-03\",\"2002-04-04\",\"2002-04-15\",\"2002-04-16\",\"2002-04-18\",\"2002-04-25\",\"2002-04-29\",\"2002-04-30\",\"2002-05-02\",\"2002-05-13\",\"2002-05-14\",\"2002-05-23\",\"2002-05-24\",\"2002-05-28\",\"2002-06-17\",\"2002-07-19\",\"2002-07-22\",\"2002-07-23\",\"2002-08-02\",\"2002-08-05\",\"2002-08-06\",\"2002-08-13\",\"2002-08-26\",\"2002-09-04\",\"2002-09-06\",\"2002-09-18\",\"2002-10-07\",\"2002-10-08\",\"2002-10-15\",\"2002-10-29\",\"2002-11-07\",\"2002-11-11\",\"2002-11-13\",\"2002-11-19\",\"2002-11-20\",\"2002-11-25\",\"2002-12-04\",\"2002-12-12\",\"2002-12-17\",\"2002-12-26\",\"2002-12-27\",\"2003-01-02\",\"2003-01-14\",\"2003-01-22\",\"2003-01-29\",\"2003-02-06\",\"2003-02-11\",\"2003-02-13\",\"2003-02-27\",\"2003-03-07\",\"2003-03-13\",\"2003-03-20\",\"2003-03-25\",\"2003-04-28\",\"2003-05-06\",\"2003-05-08\",\"2003-05-12\",\"2003-05-19\",\"2003-06-02\",\"2003-06-10\",\"2003-06-27\",\"2003-07-10\",\"2003-07-15\",\"2003-07-21\",\"2003-07-29\",\"2003-08-04\",\"2003-08-08\",\"2003-08-11\",\"2003-08-15\",\"2003-08-18\",\"2003-08-19\",\"2003-08-22\",\"2003-08-25\",\"2003-08-26\",\"2003-09-12\",\"2003-09-25\",\"2003-09-26\",\"2003-10-01\",\"2003-10-09\",\"2003-10-13\",\"2003-10-17\",\"2003-10-24\",\"2003-11-04\",\"2003-11-12\",\"2003-11-17\",\"2003-11-20\",\"2003-12-05\",\"2003-12-15\",\"2003-12-16\",\"2004-01-05\",\"2004-01-07\",\"2004-01-20\",\"2004-02-10\",\"2004-02-13\",\"2004-02-18\",\"2004-02-25\",\"2004-03-05\",\"2004-03-10\",\"2004-03-23\",\"2004-03-24\",\"2004-03-31\",\"2004-04-05\",\"2004-04-08\",\"2004-04-13\",\"2004-04-14\",\"2004-05-03\",\"2004-05-07\",\"2004-05-26\",\"2004-06-03\",\"2004-06-18\",\"2004-06-21\",\"2004-06-24\",\"2004-06-28\",\"2004-07-13\",\"2004-07-14\",\"2004-07-23\",\"2004-07-28\",\"2004-08-11\",\"2004-08-23\",\"2004-08-31\",\"2004-09-13\",\"2004-09-16\",\"2004-09-23\",\"2004-10-19\",\"2004-10-27\",\"2004-10-28\",\"2004-11-01\",\"2004-11-10\",\"2004-11-18\",\"2004-11-30\",\"2004-12-06\",\"2004-12-10\",\"2004-12-28\",\"2005-01-06\",\"2005-01-10\",\"2005-01-11\",\"2005-01-13\",\"2005-01-14\",\"2005-01-20\",\"2005-01-21\",\"2005-02-11\",\"2005-02-15\",\"2005-02-24\",\"2005-03-02\",\"2005-03-03\",\"2005-03-15\",\"2005-03-21\",\"2005-03-31\",\"2005-04-01\",\"2005-04-05\",\"2005-04-13\",\"2005-04-19\",\"2005-04-22\",\"2005-04-26\",\"2005-05-05\",\"2005-05-06\",\"2005-06-02\",\"2005-06-07\",\"2005-06-17\",\"2005-06-22\",\"2005-06-24\",\"2005-06-29\",\"2005-07-19\",\"2005-07-21\",\"2005-07-26\",\"2005-07-28\",\"2005-08-02\",\"2005-08-03\",\"2005-08-09\",\"2005-08-22\",\"2005-09-09\",\"2005-09-23\",\"2005-09-27\",\"2005-10-04\",\"2005-10-12\",\"2005-10-17\",\"2005-10-18\",\"2005-10-24\",\"2005-10-25\",\"2005-10-26\",\"2005-11-04\",\"2005-11-08\",\"2005-11-09\",\"2005-11-11\",\"2005-11-15\",\"2005-11-17\",\"2005-12-02\",\"2005-12-05\",\"2005-12-07\",\"2005-12-08\",\"2005-12-09\",\"2005-12-12\",\"2005-12-20\",\"2005-12-22\",\"2005-12-23\",\"2006-01-10\",\"2006-01-20\",\"2006-01-23\",\"2006-02-07\",\"2006-02-13\",\"2006-02-22\",\"2006-02-23\",\"2006-03-01\",\"2006-03-16\",\"2006-03-17\",\"2006-03-30\",\"2006-04-11\",\"2006-04-20\",\"2006-05-02\",\"2006-05-05\",\"2006-05-31\",\"2006-06-01\",\"2006-06-02\",\"2006-06-05\",\"2006-06-07\",\"2006-06-13\",\"2006-06-22\",\"2006-07-05\",\"2006-07-14\",\"2006-07-17\",\"2006-08-02\",\"2006-08-03\",\"2006-08-04\",\"2006-08-18\",\"2006-08-24\",\"2006-09-28\",\"2006-10-03\",\"2006-10-06\",\"2006-10-12\",\"2006-10-25\",\"2006-11-08\",\"2006-11-15\",\"2006-11-17\",\"2006-11-27\",\"2006-12-01\",\"2006-12-15\",\"2006-12-19\",\"2006-12-20\",\"2006-12-28\",\"2007-01-03\",\"2007-01-12\",\"2007-01-25\",\"2007-01-30\",\"2007-02-01\",\"2007-03-08\",\"2007-03-09\",\"2007-03-15\",\"2007-03-22\",\"2007-04-12\",\"2007-04-17\",\"2007-04-19\",\"2007-04-27\",\"2007-05-02\",\"2007-05-08\",\"2007-05-14\",\"2007-05-25\",\"2007-05-31\",\"2007-06-18\",\"2007-06-20\",\"2007-07-03\",\"2007-07-10\",\"2007-07-20\",\"2007-07-23\",\"2007-08-03\",\"2007-08-06\",\"2007-08-31\",\"2007-09-07\",\"2007-09-12\",\"2007-09-13\",\"2007-09-14\",\"2007-09-19\",\"2007-09-27\",\"2007-10-03\",\"2007-10-18\",\"2007-11-08\",\"2007-12-07\",\"2007-12-20\",\"2007-12-26\",\"2007-12-31\",\"2008-01-02\",\"2008-01-03\",\"2008-01-14\",\"2008-01-22\",\"2008-01-23\",\"2008-01-28\",\"2008-02-08\",\"2008-02-11\",\"2008-02-14\",\"2008-02-26\",\"2008-02-28\",\"2008-02-29\",\"2008-03-03\",\"2008-03-11\",\"2008-03-24\",\"2008-03-27\",\"2008-04-01\",\"2008-04-02\",\"2008-04-08\",\"2008-04-10\",\"2008-04-18\",\"2008-04-21\",\"2008-05-01\",\"2008-05-19\",\"2008-06-02\",\"2008-06-09\",\"2008-06-10\",\"2008-06-11\",\"2008-06-18\",\"2008-06-26\",\"2008-07-15\",\"2008-07-28\",\"2008-08-01\",\"2008-08-05\",\"2008-08-14\",\"2008-08-18\",\"2008-08-20\",\"2008-08-25\",\"2008-08-26\",\"2008-09-09\",\"2008-09-18\",\"2008-09-24\",\"2008-09-25\",\"2008-10-13\",\"2008-10-17\",\"2008-11-04\",\"2008-11-06\",\"2008-11-11\",\"2008-12-02\",\"2008-12-05\",\"2008-12-11\",\"2008-12-15\",\"2008-12-18\",\"2008-12-19\",\"2008-12-23\",\"2009-01-13\",\"2009-01-23\",\"2009-01-26\",\"2009-02-10\",\"2009-02-13\",\"2009-03-11\",\"2009-03-16\",\"2009-03-18\",\"2009-03-19\",\"2009-03-23\",\"2009-03-24\",\"2009-04-06\",\"2009-04-08\",\"2009-04-09\",\"2009-04-15\",\"2009-04-24\",\"2009-05-06\",\"2009-05-18\",\"2009-06-09\",\"2009-06-11\",\"2009-06-12\",\"2009-06-15\",\"2009-06-22\",\"2009-06-24\",\"2009-06-30\",\"2009-07-13\",\"2009-07-16\",\"2009-07-17\",\"2009-07-22\",\"2009-08-25\",\"2009-09-01\",\"2009-09-10\",\"2009-09-28\",\"2009-10-13\",\"2009-10-26\",\"2009-11-03\",\"2009-11-13\",\"2009-12-11\",\"2009-12-31\",\"2010-01-06\",\"2010-01-11\",\"2010-01-20\",\"2010-01-22\",\"2010-01-25\",\"2010-01-26\",\"2010-01-29\",\"2010-02-03\",\"2010-02-26\",\"2010-03-12\",\"2010-03-26\",\"2010-04-05\",\"2010-04-12\",\"2010-04-15\",\"2010-04-26\",\"2010-04-28\",\"2010-05-03\",\"2010-05-06\",\"2010-05-25\",\"2010-06-08\",\"2010-06-22\",\"2010-07-01\",\"2010-07-12\",\"2010-07-20\",\"2010-07-23\",\"2010-07-27\",\"2010-08-03\",\"2010-08-04\",\"2010-08-12\",\"2010-08-19\",\"2010-09-01\",\"2010-09-22\",\"2010-09-24\",\"2010-09-27\",\"2010-10-01\",\"2010-10-05\",\"2010-10-06\",\"2010-11-02\",\"2010-11-03\",\"2010-11-09\",\"2010-11-16\",\"2010-11-30\",\"2010-12-21\",\"2010-12-27\",\"2011-01-07\",\"2011-01-14\",\"2011-01-19\",\"2011-01-21\",\"2011-01-24\",\"2011-01-28\",\"2011-01-31\",\"2011-02-01\",\"2011-02-14\",\"2011-02-17\",\"2011-02-28\",\"2011-03-01\",\"2011-03-18\",\"2011-03-23\",\"2011-03-25\",\"2011-04-04\",\"2011-04-05\",\"2011-04-06\",\"2011-04-14\",\"2011-04-15\",\"2011-04-20\",\"2011-04-25\",\"2011-04-26\",\"2011-04-29\",\"2011-05-05\",\"2011-05-12\",\"2011-05-24\",\"2011-06-09\",\"2011-06-23\",\"2011-06-24\",\"2011-06-28\",\"2011-07-05\",\"2011-07-15\",\"2011-07-18\",\"2011-07-25\",\"2011-07-26\",\"2011-07-28\",\"2011-08-04\",\"2011-08-11\",\"2011-08-15\",\"2011-08-17\",\"2011-08-19\",\"2011-09-02\",\"2011-09-06\",\"2011-09-07\",\"2011-09-09\",\"2011-09-12\",\"2011-09-20\",\"2011-09-21\",\"2011-09-28\",\"2011-09-30\",\"2011-10-03\",\"2011-10-04\",\"2011-10-05\",\"2011-10-06\",\"2011-10-14\",\"2011-10-18\",\"2011-10-25\",\"2011-10-27\",\"2011-10-31\",\"2011-11-02\",\"2011-11-16\",\"2011-11-18\",\"2011-11-23\",\"2011-11-29\",\"2011-12-02\",\"2011-12-12\",\"2011-12-28\",\"2011-12-30\",\"2012-01-05\",\"2012-01-11\",\"2012-01-19\",\"2012-01-26\",\"2012-01-27\",\"2012-02-01\",\"2012-02-02\",\"2012-02-06\",\"2012-02-07\",\"2012-02-15\",\"2012-02-24\",\"2012-02-28\",\"2012-03-12\",\"2012-03-19\",\"2012-03-30\",\"2012-04-09\",\"2012-04-23\",\"2012-04-25\",\"2012-05-02\",\"2012-05-11\",\"2012-05-22\",\"2012-05-23\",\"2012-05-24\",\"2012-05-25\",\"2012-05-31\",\"2012-06-07\",\"2012-06-08\",\"2012-06-18\",\"2012-06-28\",\"2012-06-29\",\"2012-07-09\",\"2012-07-23\",\"2012-07-27\",\"2012-07-31\",\"2012-08-02\",\"2012-08-17\",\"2012-08-24\",\"2012-08-28\",\"2012-10-02\",\"2012-10-19\",\"2012-10-23\",\"2012-10-24\",\"2012-11-01\",\"2012-11-05\",\"2012-11-12\",\"2012-11-14\",\"2012-11-16\",\"2012-11-20\",\"2012-11-27\",\"2012-11-29\",\"2012-12-17\",\"2012-12-24\",\"2013-01-03\",\"2013-01-09\",\"2013-01-14\",\"2013-02-04\",\"2013-02-11\",\"2013-02-12\",\"2013-02-13\",\"2013-02-27\",\"2013-03-04\",\"2013-03-06\",\"2013-03-15\",\"2013-03-18\",\"2013-04-01\",\"2013-04-04\",\"2013-04-05\",\"2013-04-29\",\"2013-05-02\",\"2013-05-15\",\"2013-06-05\",\"2013-06-07\",\"2013-06-24\",\"2013-07-08\",\"2013-07-18\",\"2013-07-24\",\"2013-08-01\",\"2013-08-02\",\"2013-08-05\",\"2013-08-08\",\"2013-08-21\",\"2013-08-27\",\"2013-09-09\",\"2013-09-16\",\"2013-09-19\",\"2013-09-20\",\"2013-09-30\",\"2013-10-02\",\"2013-10-07\",\"2013-10-10\",\"2013-11-04\",\"2013-11-06\",\"2013-11-11\",\"2013-11-14\",\"2013-11-15\",\"2013-11-26\",\"2013-12-04\",\"2013-12-17\",\"2014-01-02\",\"2014-01-14\",\"2014-01-15\",\"2014-01-23\",\"2014-02-04\",\"2014-02-06\",\"2014-02-13\",\"2014-02-18\",\"2014-02-19\",\"2014-02-25\",\"2014-03-12\",\"2014-03-13\",\"2014-03-31\",\"2014-04-03\",\"2014-04-08\",\"2014-04-10\",\"2014-04-21\",\"2014-05-05\",\"2014-05-07\",\"2014-05-19\",\"2014-05-21\",\"2014-06-05\",\"2014-06-20\",\"2014-06-23\",\"2014-06-26\",\"2014-06-30\",\"2014-07-17\",\"2014-07-21\",\"2014-07-23\",\"2014-07-31\",\"2014-08-07\",\"2014-08-12\",\"2014-08-13\",\"2014-08-15\",\"2014-08-25\",\"2014-09-03\",\"2014-09-17\",\"2014-09-26\",\"2014-09-30\",\"2014-10-03\",\"2014-10-08\",\"2014-10-14\",\"2014-10-21\",\"2014-10-28\",\"2014-10-31\",\"2014-11-05\",\"2014-11-06\",\"2014-11-14\",\"2014-12-02\",\"2014-12-12\",\"2014-12-15\",\"2014-12-18\",\"2015-01-08\",\"2015-01-09\",\"2015-01-13\",\"2015-01-16\",\"2015-01-22\",\"2015-01-23\",\"2015-01-27\",\"2015-02-05\",\"2015-02-25\",\"2015-03-05\",\"2015-03-10\",\"2015-03-11\",\"2015-03-16\",\"2015-03-20\",\"2015-03-24\",\"2015-03-27\",\"2015-03-30\",\"2015-04-02\",\"2015-04-23\",\"2015-05-05\",\"2015-05-07\",\"2015-05-13\",\"2015-05-15\",\"2015-05-22\",\"2015-05-27\",\"2015-05-28\",\"2015-05-29\",\"2015-07-01\",\"2015-07-07\",\"2015-07-08\",\"2015-07-10\",\"2015-07-14\",\"2015-07-15\",\"2015-07-28\",\"2015-07-30\",\"2015-08-12\",\"2015-08-24\",\"2015-08-26\",\"2015-08-27\",\"2015-09-08\",\"2015-09-09\",\"2015-09-10\",\"2015-09-15\",\"2015-09-16\",\"2015-09-21\",\"2015-09-29\",\"2015-10-06\",\"2015-10-13\",\"2015-10-16\",\"2015-10-20\",\"2015-10-30\",\"2015-11-06\",\"2015-11-30\",\"2015-12-21\",\"2015-12-29\",\"2015-12-30\",\"2016-01-06\",\"2016-01-14\",\"2016-01-25\",\"2016-01-29\",\"2016-02-05\",\"2016-02-19\",\"2016-02-22\",\"2016-02-23\",\"2016-03-08\",\"2016-03-15\",\"2016-03-18\",\"2016-03-21\",\"2016-03-23\",\"2016-03-31\",\"2016-04-14\",\"2016-04-15\",\"2016-04-18\",\"2016-04-28\",\"2016-05-05\",\"2016-05-13\",\"2016-05-16\",\"2016-05-18\",\"2016-05-19\",\"2016-05-24\",\"2016-05-27\",\"2016-05-31\",\"2016-06-03\",\"2016-06-13\",\"2016-06-15\",\"2016-06-20\",\"2016-06-27\",\"2016-07-01\",\"2016-07-22\",\"2016-08-01\",\"2016-08-02\",\"2016-08-12\",\"2016-08-16\",\"2016-09-01\",\"2016-09-15\",\"2016-09-23\",\"2016-10-07\",\"2016-10-24\",\"2016-10-27\",\"2016-10-28\",\"2016-11-01\",\"2016-11-18\",\"2016-11-22\",\"2016-11-30\",\"2016-12-08\",\"2016-12-22\",\"2016-12-27\",\"2017-01-03\",\"2017-01-05\",\"2017-01-06\",\"2017-01-31\",\"2017-02-15\",\"2017-03-10\",\"2017-03-14\",\"2017-03-17\",\"2017-03-20\",\"2017-03-21\",\"2017-03-31\",\"2017-04-05\",\"2017-04-19\",\"2017-04-24\",\"2017-05-02\",\"2017-05-15\",\"2017-05-17\",\"2017-06-01\",\"2017-06-08\",\"2017-06-09\",\"2017-06-13\",\"2017-06-22\",\"2017-06-26\",\"2017-06-29\",\"2017-07-24\",\"2017-07-31\",\"2017-08-09\",\"2017-08-11\",\"2017-08-22\",\"2017-08-23\",\"2017-08-25\",\"2017-09-12\",\"2017-09-13\",\"2017-09-18\",\"2017-09-20\",\"2017-10-04\",\"2017-10-06\",\"2017-11-24\",\"2017-12-04\",\"2017-12-06\",\"2017-12-12\",\"2017-12-18\",\"2017-12-19\",\"2017-12-20\",\"2017-12-29\",\"2018-01-10\",\"2018-01-11\",\"2018-01-19\",\"2018-01-24\",\"2018-01-25\",\"2018-01-30\",\"2018-02-01\",\"2018-02-05\",\"2018-02-07\",\"2018-02-22\",\"2018-02-28\",\"2018-03-01\",\"2018-03-02\",\"2018-03-12\",\"2018-03-13\",\"2018-03-16\",\"2018-03-20\",\"2018-04-04\",\"2018-04-05\",\"2018-04-12\",\"2018-04-20\",\"2018-05-04\",\"2018-05-14\",\"2018-05-15\",\"2018-05-25\",\"2018-05-30\",\"2018-06-13\",\"2018-06-19\",\"2018-06-25\",\"2018-07-03\",\"2018-07-19\",\"2018-07-20\",\"2018-07-30\",\"2018-08-27\",\"2018-08-29\",\"2018-09-04\",\"2018-09-06\",\"2018-09-11\",\"2018-09-26\",\"2018-09-27\",\"2018-10-12\",\"2018-10-16\",\"2018-10-25\",\"2018-10-31\",\"2018-11-08\",\"2018-11-09\",\"2018-11-12\",\"2018-11-15\",\"2018-11-16\",\"2018-11-19\",\"2018-11-21\",\"2018-11-28\",\"2018-12-13\",\"2018-12-20\",\"2019-01-25\",\"2019-02-14\",\"2019-03-01\",\"2019-03-05\",\"2019-03-06\",\"2019-03-15\",\"2019-03-18\",\"2019-03-20\",\"2019-03-25\",\"2019-03-27\",\"2019-03-29\",\"2019-04-01\",\"2019-04-02\",\"2019-04-04\",\"2019-04-08\",\"2019-04-12\",\"2019-04-18\",\"2019-04-24\",\"2019-04-29\",\"2019-05-06\",\"2019-05-17\",\"2019-05-22\",\"2019-06-03\",\"2019-06-10\",\"2019-06-14\",\"2019-06-18\",\"2019-06-25\",\"2019-07-02\",\"2019-07-10\",\"2019-07-25\",\"2019-08-07\",\"2019-08-08\",\"2019-08-13\",\"2019-09-06\",\"2019-09-09\",\"2019-09-10\",\"2019-09-11\",\"2019-09-23\",\"2019-09-25\",\"2019-10-10\",\"2019-10-24\",\"2019-10-31\",\"2019-11-01\",\"2019-11-04\",\"2019-11-22\",\"2019-12-03\",\"2019-12-11\",\"2019-12-19\",\"2019-12-24\",\"2019-12-27\",\"2020-01-06\",\"2020-01-09\",\"2020-01-16\",\"2020-01-17\",\"2020-01-31\",\"2020-02-05\",\"2020-02-13\",\"2020-02-19\",\"2020-02-21\",\"2020-03-04\",\"2020-03-06\",\"2020-03-10\",\"2020-03-12\",\"2020-03-25\"],\"y\":[3.726032257080078,3.9443464279174805,4.049008846282959,4.045254707336426,4.113011837005615,4.273708343505859,4.4192728996276855,4.200397491455078,4.192748546600342,4.219592571258545,4.114793300628662,4.057154178619385,3.875027656555176,3.644587516784668,3.6185216903686523,3.606173038482666,3.6118288040161133,3.513216972351074,3.432281494140625,3.38167667388916,3.7179861068725586,3.4258389472961426,3.5017337799072266,3.624777317047119,3.617361545562744,3.634342670440674,3.6987576484680176,3.695328712463379,3.684143543243408,3.7148962020874023,3.98895263671875,3.712613105773926,3.665236473083496,3.6431140899658203,3.5396485328674316,3.611462116241455,3.683901309967041,3.8754730224609375,3.722784996032715,4.108799457550049,4.170325756072998,4.2136735916137695,4.171825885772705,4.107509136199951,4.0124030113220215,3.736971855163574,3.525973320007324,3.5168895721435547,3.6632442474365234,3.703958511352539,3.7485365867614746,3.8201589584350586,3.7465462684631348,3.6023054122924805,3.647672653198242,3.088679790496826,3.356555461883545,3.463019847869873,3.5148463249206543,3.485903739929199,3.318970203399658,3.4435129165649414,3.274097442626953,3.241213321685791,3.345101833343506,3.1013755798339844,3.0776476860046387,3.0850934982299805,3.083487033843994,3.127197742462158,3.1033105850219727,3.1145458221435547,3.1437792778015137,3.091557502746582,3.138197422027588,3.265458106994629,3.4403076171875,3.5556530952453613,3.5883121490478516,3.8337526321411133,3.890346050262451,3.9752039909362793,4.11028528213501,4.120673179626465,4.118028163909912,3.885765552520752,3.894740581512451,3.8773603439331055,4.094061851501465,4.123954772949219,4.156645774841309,4.121005535125732,4.217551231384277,4.180003643035889,4.003832817077637,4.029253005981445,4.053905010223389,3.976736545562744,4.059325218200684,3.99265193939209,3.9599385261535645,4.005971908569336,4.042864799499512,4.03828239440918,4.171698570251465,4.176364421844482,4.120767593383789,4.090659141540527,4.001943111419678,3.874870777130127,3.7986555099487305,3.586430549621582,3.3571906089782715,3.4167518615722656,3.3375205993652344,3.248798370361328,3.1912074089050293,3.1709961891174316,3.2892260551452637,3.355008602142334,3.564631462097168,3.6512579917907715,3.7277936935424805,3.7481002807617188,3.72971248626709,3.7772154808044434,3.888312816619873,3.948160171508789,3.9295196533203125,3.935116767883301,3.897408962249756,4.150708198547363,4.337331295013428,4.427561283111572,4.171389579772949,4.147573947906494,4.180765151977539,4.348128795623779,4.440626621246338,4.488466739654541,4.656783103942871,4.843079090118408,5.164393424987793,5.004972457885742,4.902113437652588,4.821852207183838,4.870823860168457,4.836050510406494,4.70485782623291,4.919956207275391,4.984188079833984,5.183701038360596,5.174779891967773,5.077059745788574,5.076606750488281,5.057186126708984,5.056562900543213,5.009720802307129,4.996962547302246,5.042582035064697,5.101494312286377,5.371520042419434,5.429855823516846,5.609313011169434,5.563632965087891,5.31837797164917,5.25832462310791,5.327640533447266,5.436308860778809,5.755551338195801,5.804586410522461,5.769691467285156,6.6671342849731445,6.665363788604736,6.832005500793457,6.424771785736084,6.523266315460205,6.511636734008789,6.413949012756348,7.137626647949219,7.15312385559082,7.087263107299805,6.987853050231934,6.995518684387207,7.271628379821777,7.4594221115112305,7.494491100311279,7.408459186553955,7.245051383972168,7.364071846008301,7.010491847991943,6.7094221115112305,7.301036834716797,7.376728057861328,7.702765464782715,7.685576438903809,7.98526668548584,8.058143615722656,8.155187606811523,8.11268424987793,7.955183506011963,8.280582427978516,8.196555137634277,8.428777694702148,8.850043296813965,9.42486572265625,10.171106338500977,10.69832992553711,10.570830345153809,10.511943817138672,10.367199897766113,10.082317352294922,10.987770080566406,10.18150520324707,9.621322631835938,10.596487045288086,10.295024871826172,10.321904182434082,10.306818008422852,10.878700256347656,10.97071361541748,10.757039070129395,10.880258560180664,12.970914840698242,13.386125564575195,14.143925666809082,14.270811080932617,14.820672988891602,14.54638385772705,14.835320472717285,14.33431339263916,14.531099319458008,14.243816375732422,13.38409423828125,13.174246788024902,13.520811080932617,13.516688346862793,13.646002769470215,14.257095336914062,15.047697067260742,15.463786125183105,18.68406105041504,18.11794662475586,18.56594467163086,18.442045211791992,20.19025993347168,19.83146858215332,19.83561897277832,20.372894287109375,22.485349655151367,21.915332794189453,23.829233169555664,22.413816452026367,24.125322341918945,22.12547492980957,22.48250389099121,21.50115203857422,20.020658493041992,19.72331428527832,19.10341453552246,19.526845932006836,20.853260040283203,20.708765029907227,23.342069625854492,23.49382209777832,23.84120750427246,23.189043045043945,22.805925369262695,23.179119110107422,23.828136444091797,24.21795654296875,24.761281967163086,24.964061737060547,24.793630599975586,25.406057357788086,25.50750160217285,25.105682373046875,25.020071029663086,26.219589233398438,28.5068302154541,29.976572036743164,30.64825439453125,26.910715103149414,27.59977912902832,27.54317283630371,28.64708137512207,28.835735321044922,28.314382553100586,28.601850509643555,30.368566513061523,31.084672927856445,31.184789657592773,29.438003540039062,26.90741539001465,27.258956909179688,27.397035598754883,26.2872314453125,25.33274269104004,23.300447463989258,23.808420181274414,28.089778900146484,26.440622329711914,25.473737716674805,27.055627822875977,26.792404174804688,26.238985061645508,26.756723403930664,26.97157859802246,23.496234893798828,21.169652938842773,22.087522506713867,22.598875045776367,26.56083106994629,25.550321578979492,25.928007125854492,25.20733070373535,25.73707389831543,27.28290557861328,26.321035385131836,25.96391487121582,25.7493896484375,26.483354568481445,24.75196647644043,23.177200317382812,24.058767318725586,24.92893409729004,25.040666580200195,25.461326599121094,25.940526962280273,25.56833839416504,26.457876205444336,29.430864334106445,29.91810417175293,29.311323165893555,30.363330841064453,30.559329986572266,32.39324188232422,31.783802032470703,32.91608810424805,33.370079040527344,34.645721435546875,33.755462646484375,33.78667449951172,34.37136459350586,36.55592727661133,36.26915740966797,33.806819915771484,33.31960678100586,34.09064865112305,34.561710357666016,36.15776062011719,37.100059509277344,37.51087188720703,36.90705871582031,37.53028869628906,37.11259841918945,39.385337829589844,41.366798400878906,33.619232177734375,35.14437484741211,35.88759231567383,36.50695037841797,37.2689323425293,37.88652801513672,36.11111068725586,31.428266525268555,30.232404708862305,31.380250930786133,31.37339973449707,31.38080406188965,32.622703552246094,36.34383010864258,38.20453643798828,37.333099365234375,37.538246154785156,37.14289093017578,33.271995544433594,34.902015686035156,34.44157409667969,34.771240234375,36.83854675292969,38.62239456176758,41.827308654785156,43.03862380981445,41.35393524169922,49.75205993652344,48.15484619140625,49.80366897583008,49.41236114501953,49.96825408935547,50.693843841552734,48.03080749511719,45.40583038330078,38.48121643066406,39.27516174316406,36.26068878173828,38.66656494140625,37.65481185913086,40.47667694091797,40.863224029541016,41.51263427734375,35.270835876464844,37.688232421875,39.67247772216797,40.44381332397461,23.787675857543945,20.82166862487793,27.342119216918945,23.19202995300293,22.16221046447754,19.219608306884766,16.184057235717773,18.19870948791504,18.946863174438477,18.807884216308594,18.48914909362793,18.295223236083984,19.686962127685547,18.281713485717773,18.477994918823242,18.250341415405273,17.4691219329834,17.67641258239746,18.93553352355957,19.734331130981445,20.46664810180664,21.657161712646484,20.48855209350586,21.5036678314209,21.207468032836914,22.197988510131836,22.71748161315918,24.199541091918945,26.421192169189453,26.21067237854004,29.034088134765625,29.9429874420166,29.093849182128906,27.956350326538086,24.08127784729004,24.517213821411133,26.23655128479004,24.662118911743164,27.30889320373535,28.023889541625977,27.88592529296875,29.981584548950195,28.352481842041016,31.42728614807129,33.948299407958984,36.11627197265625,34.80548095703125,32.51377487182617,33.571678161621094,32.52632522583008,35.96836853027344,36.777137756347656,36.125953674316406,34.4227294921875,33.34752655029297,33.444332122802734,33.12752151489258,32.232845306396484,33.75405502319336,34.04499435424805,36.62974166870117,35.16020965576172,39.23050308227539,39.09215545654297,39.10762023925781,38.95562744140625,37.8128776550293,38.830135345458984,35.05809783935547,32.18495178222656,34.81230926513672,35.995845794677734,33.530792236328125,35.326332092285156,35.03636932373047,35.369747161865234,35.58499526977539,35.449546813964844,35.68727493286133,33.00480270385742,32.89914321899414,33.45500946044922,32.836978912353516,33.250484466552734,33.32245635986328,35.903873443603516,36.55165481567383,37.33926010131836,37.23548889160156,37.249046325683594,39.224693298339844,37.90337371826172,38.42668914794922,42.668128967285156,43.16883087158203,40.839324951171875,41.69365692138672,42.066429138183594,42.270729064941406,42.01220703125,42.481353759765625,43.76042175292969,44.433677673339844,44.26127243041992,46.73007583618164,48.783905029296875,48.870147705078125,47.576072692871094,48.385276794433594,48.01594161987305,48.28325653076172,48.60832214355469,48.369224548339844,44.1290283203125,44.982181549072266,45.639488220214844,45.45375442504883,45.60374450683594,46.14106750488281,42.53274154663086,41.457130432128906,41.364776611328125,41.11189270019531,39.43653106689453,38.732826232910156,39.82441711425781,42.4548225402832,41.23436737060547,40.93382263183594,43.299468994140625,42.720184326171875,41.101158142089844,37.07978820800781,36.43429946899414,37.445655822753906,36.852943420410156,33.891807556152344,35.677616119384766,35.17010498046875,36.2717399597168,34.50639343261719,34.21628189086914,33.56477355957031,32.276885986328125,29.944581985473633,29.626787185668945,28.092363357543945,27.821279525756836,29.49323272705078,30.030532836914062,32.55706024169922,32.50349044799805,33.38444137573242,36.11897277832031,35.294639587402344,34.73563766479492,37.64665985107422,36.13847351074219,33.70555114746094,35.1341667175293,36.874202728271484,36.40239715576172,36.0465087890625,37.271785736083984,38.363487243652344,37.590354919433594,38.527862548828125,39.847511291503906,39.94684600830078,39.93431854248047,40.113922119140625,40.231422424316406,38.642730712890625,36.656158447265625,37.92399597167969,37.67168426513672,34.78062438964844,35.82476806640625,33.364219665527344,32.1494026184082,32.03453063964844,32.94148254394531,34.48421096801758,31.159013748168945,30.410362243652344,30.806570053100586,30.787809371948242,30.922555923461914,29.037321090698242,28.05965805053711,27.613252639770508,27.604021072387695,25.760311126708984,26.80951499938965,26.04330062866211,28.39809226989746,28.009634017944336,27.427011489868164,26.816171646118164,31.992691040039062,31.621721267700195,31.095474243164062,31.795995712280273,31.455732345581055,30.26143455505371,30.090112686157227,30.526769638061523,30.237390518188477,28.06245231628418,27.83442497253418,27.357074737548828,27.716215133666992,28.16376304626465,28.779939651489258,28.297136306762695,29.222597122192383,29.90459632873535,29.794565200805664,29.93153190612793,30.35702896118164,30.565664291381836,31.49224281311035,31.740697860717773,30.37239646911621,30.639577865600586,30.471717834472656,32.92170715332031,32.576072692871094,32.07655715942383,30.898712158203125,30.868772506713867,29.79252052307129,29.421815872192383,29.461511611938477,29.087236404418945,29.31768226623535,28.239105224609375,29.661396026611328,32.7945556640625,32.956199645996094,31.7217960357666,31.588233947753906,31.557767868041992,31.01951026916504,29.5700740814209,30.40682029724121,31.328418731689453,31.972501754760742,31.902257919311523,31.749610900878906,31.64078712463379,31.43264389038086,31.4061336517334,32.20323181152344,31.578022003173828,31.35638999938965,31.304922103881836,31.79804229736328,32.511165618896484,32.83637237548828,32.65447998046875,32.15012741088867,33.28957748413086,33.04978942871094,33.01302719116211,32.79313278198242,33.43134307861328,34.23667907714844,35.24420928955078,35.75926971435547,36.51068878173828,36.87102508544922,36.21710968017578,35.8841667175293,38.159427642822266,39.185386657714844,39.75197219848633,39.80727767944336,40.143917083740234,40.595359802246094,40.604496002197266,39.66942596435547,40.239192962646484,41.22624206542969,44.470062255859375,44.90263748168945,44.837974548339844,45.28710174560547,43.77591323852539,44.66950988769531,45.154850006103516,43.32232666015625,40.847312927246094,41.47909927368164,41.0758056640625,41.4223518371582,42.07548522949219,42.037532806396484,40.95082092285156,39.5120849609375,38.71150207519531,37.037757873535156,35.96603012084961,32.773983001708984,34.8222541809082,34.8343505859375,34.91642761230469,33.835750579833984,34.64203643798828,36.09810256958008,34.7250862121582,29.056467056274414,27.757375717163086,29.979747772216797,28.073183059692383,27.982131958007812,26.9097843170166,29.500123977661133,29.350656509399414,29.341264724731445,29.61027717590332,31.47081184387207,30.387540817260742,30.91754913330078,29.07499122619629,29.04129981994629,29.184358596801758,29.780759811401367,30.362842559814453,30.89266586303711,31.04751205444336,31.440519332885742,33.75433349609375,33.01572799682617,31.759632110595703,32.132568359375,31.811574935913086,31.54255485534668,30.796911239624023,30.969152450561523,30.99385643005371,26.794511795043945,26.486181259155273,26.0128116607666,26.07123565673828,26.228944778442383,25.62574577331543,23.45882225036621,24.199268341064453,24.675643920898438,19.87946128845215,19.52440071105957,21.357650756835938,21.08864402770996,20.55710792541504,20.859376907348633,19.946346282958984,21.241201400756836,20.667476654052734,19.68016242980957,22.48243522644043,23.582181930541992,23.971912384033203,23.982463836669922,23.188817977905273,25.126428604125977,24.265256881713867,20.5478458404541,22.549020767211914,21.779600143432617,20.89170265197754,18.145910263061523,17.681581497192383,21.147478103637695,21.6611328125,20.51589012145996,21.071502685546875,20.059362411499023,25.0424861907959,26.60646629333496,27.481210708618164,27.381685256958008,26.5395450592041,27.03890037536621,29.22434425354004,28.830198287963867,29.518770217895508,30.42038917541504,28.07390785217285,28.74248695373535,29.406240463256836,29.29363250732422,28.815567016601562,29.088163375854492,29.946828842163086,29.947702407836914,29.65493392944336,29.062755584716797,28.85755157470703,30.049997329711914,29.161226272583008,30.97895050048828,31.83582878112793,29.357250213623047,29.805927276611328,32.18388748168945,32.447418212890625,31.448461532592773,29.49610137939453,29.80387306213379,32.11081314086914,33.22577667236328,32.76422119140625,32.608421325683594,31.935449600219727,32.076202392578125,32.773929595947266,33.631351470947266,33.417213439941406,32.70042037963867,32.24784851074219,32.630516052246094,32.86176300048828,32.771366119384766,30.468515396118164,30.562715530395508,32.145809173583984,31.583232879638672,32.77143096923828,32.50944900512695,32.10006332397461,32.894691467285156,33.277992248535156,32.70868682861328,32.9155387878418,31.895593643188477,31.598194122314453,30.56867027282715,29.37027931213379,28.86497688293457,29.385507583618164,29.756494522094727,28.56146240234375,28.471403121948242,29.32564353942871,30.106130599975586,30.811418533325195,32.28620147705078,31.509973526000977,30.61823844909668,31.034914016723633,31.112768173217773,32.37397766113281,33.10594940185547,32.985565185546875,33.67039108276367,33.719581604003906,33.05603790283203,34.753578186035156,34.79014205932617,34.712791442871094,34.55011749267578,33.870521545410156,33.912723541259766,34.261474609375,35.78184127807617,36.52394485473633,36.72919464111328,36.23808288574219,36.222206115722656,36.00471496582031,34.7689094543457,34.80711364746094,32.50889205932617,31.174053192138672,31.711292266845703,31.744810104370117,31.414003372192383,31.220354080200195,30.332244873046875,30.185441970825195,30.502960205078125,30.227598190307617,32.48503494262695,33.62501525878906,34.452064514160156,35.293190002441406,35.638763427734375,36.608489990234375,36.46922302246094,34.674861907958984,35.279991149902344,33.246307373046875,31.785411834716797,32.89226150512695,35.914459228515625,35.31598663330078,35.39206314086914,36.44431686401367,35.66400146484375,35.60316848754883,33.73187255859375,33.097816467285156,32.192325592041016,33.06647872924805,33.1839599609375,29.40036964416504,29.46963119506836,28.12523078918457,27.45708656311035,29.239482879638672,28.48050880432129,28.3696346282959,27.282299041748047,27.246667861938477,27.298276901245117,26.99738883972168,24.459148406982422,26.472341537475586,24.06517219543457,26.33659553527832,26.709932327270508,28.686782836914062,27.540700912475586,26.90118980407715,27.81741714477539,28.13052749633789,28.470643997192383,27.319726943969727,27.250280380249023,27.593503952026367,27.987133026123047,27.87251091003418,27.84206199645996,29.219518661499023,29.96492576599121,31.331932067871094,30.854381561279297,30.48182487487793,28.229768753051758,27.43781089782715,26.952394485473633,26.73642921447754,26.83780860900879,26.63848304748535,27.2314510345459,27.68585777282715,26.692806243896484,27.57537078857422,25.128618240356445,23.615541458129883,24.37529945373535,24.077213287353516,23.80485725402832,24.684295654296875,25.5499267578125,25.298324584960938,27.67812728881836,27.127023696899414,24.878711700439453,25.63637924194336,25.310768127441406,25.939462661743164,26.45759391784668,28.12089729309082,27.43952751159668,29.696481704711914,31.690698623657227,32.025577545166016,32.217735290527344,32.534202575683594,32.30704879760742,31.96906089782715,31.971288681030273,28.448057174682617,29.26453971862793,29.527563095092773,30.55788803100586,30.25697135925293,24.840909957885742,22.824216842651367,16.846229553222656,13.395309448242188,10.208023071289062],\"type\":\"scatter\"}],                        {\"template\":{\"data\":{\"histogram2dcontour\":[{\"type\":\"histogram2dcontour\",\"colorbar\":{\"outlinewidth\":0,\"ticks\":\"\"},\"colorscale\":[[0.0,\"#0d0887\"],[0.1111111111111111,\"#46039f\"],[0.2222222222222222,\"#7201a8\"],[0.3333333333333333,\"#9c179e\"],[0.4444444444444444,\"#bd3786\"],[0.5555555555555556,\"#d8576b\"],[0.6666666666666666,\"#ed7953\"],[0.7777777777777778,\"#fb9f3a\"],[0.8888888888888888,\"#fdca26\"],[1.0,\"#f0f921\"]]}],\"choropleth\":[{\"type\":\"choropleth\",\"colorbar\":{\"outlinewidth\":0,\"ticks\":\"\"}}],\"histogram2d\":[{\"type\":\"histogram2d\",\"colorbar\":{\"outlinewidth\":0,\"ticks\":\"\"},\"colorscale\":[[0.0,\"#0d0887\"],[0.1111111111111111,\"#46039f\"],[0.2222222222222222,\"#7201a8\"],[0.3333333333333333,\"#9c179e\"],[0.4444444444444444,\"#bd3786\"],[0.5555555555555556,\"#d8576b\"],[0.6666666666666666,\"#ed7953\"],[0.7777777777777778,\"#fb9f3a\"],[0.8888888888888888,\"#fdca26\"],[1.0,\"#f0f921\"]]}],\"heatmap\":[{\"type\":\"heatmap\",\"colorbar\":{\"outlinewidth\":0,\"ticks\":\"\"},\"colorscale\":[[0.0,\"#0d0887\"],[0.1111111111111111,\"#46039f\"],[0.2222222222222222,\"#7201a8\"],[0.3333333333333333,\"#9c179e\"],[0.4444444444444444,\"#bd3786\"],[0.5555555555555556,\"#d8576b\"],[0.6666666666666666,\"#ed7953\"],[0.7777777777777778,\"#fb9f3a\"],[0.8888888888888888,\"#fdca26\"],[1.0,\"#f0f921\"]]}],\"heatmapgl\":[{\"type\":\"heatmapgl\",\"colorbar\":{\"outlinewidth\":0,\"ticks\":\"\"},\"colorscale\":[[0.0,\"#0d0887\"],[0.1111111111111111,\"#46039f\"],[0.2222222222222222,\"#7201a8\"],[0.3333333333333333,\"#9c179e\"],[0.4444444444444444,\"#bd3786\"],[0.5555555555555556,\"#d8576b\"],[0.6666666666666666,\"#ed7953\"],[0.7777777777777778,\"#fb9f3a\"],[0.8888888888888888,\"#fdca26\"],[1.0,\"#f0f921\"]]}],\"contourcarpet\":[{\"type\":\"contourcarpet\",\"colorbar\":{\"outlinewidth\":0,\"ticks\":\"\"}}],\"contour\":[{\"type\":\"contour\",\"colorbar\":{\"outlinewidth\":0,\"ticks\":\"\"},\"colorscale\":[[0.0,\"#0d0887\"],[0.1111111111111111,\"#46039f\"],[0.2222222222222222,\"#7201a8\"],[0.3333333333333333,\"#9c179e\"],[0.4444444444444444,\"#bd3786\"],[0.5555555555555556,\"#d8576b\"],[0.6666666666666666,\"#ed7953\"],[0.7777777777777778,\"#fb9f3a\"],[0.8888888888888888,\"#fdca26\"],[1.0,\"#f0f921\"]]}],\"surface\":[{\"type\":\"surface\",\"colorbar\":{\"outlinewidth\":0,\"ticks\":\"\"},\"colorscale\":[[0.0,\"#0d0887\"],[0.1111111111111111,\"#46039f\"],[0.2222222222222222,\"#7201a8\"],[0.3333333333333333,\"#9c179e\"],[0.4444444444444444,\"#bd3786\"],[0.5555555555555556,\"#d8576b\"],[0.6666666666666666,\"#ed7953\"],[0.7777777777777778,\"#fb9f3a\"],[0.8888888888888888,\"#fdca26\"],[1.0,\"#f0f921\"]]}],\"mesh3d\":[{\"type\":\"mesh3d\",\"colorbar\":{\"outlinewidth\":0,\"ticks\":\"\"}}],\"scatter\":[{\"fillpattern\":{\"fillmode\":\"overlay\",\"size\":10,\"solidity\":0.2},\"type\":\"scatter\"}],\"parcoords\":[{\"type\":\"parcoords\",\"line\":{\"colorbar\":{\"outlinewidth\":0,\"ticks\":\"\"}}}],\"scatterpolargl\":[{\"type\":\"scatterpolargl\",\"marker\":{\"colorbar\":{\"outlinewidth\":0,\"ticks\":\"\"}}}],\"bar\":[{\"error_x\":{\"color\":\"#2a3f5f\"},\"error_y\":{\"color\":\"#2a3f5f\"},\"marker\":{\"line\":{\"color\":\"#E5ECF6\",\"width\":0.5},\"pattern\":{\"fillmode\":\"overlay\",\"size\":10,\"solidity\":0.2}},\"type\":\"bar\"}],\"scattergeo\":[{\"type\":\"scattergeo\",\"marker\":{\"colorbar\":{\"outlinewidth\":0,\"ticks\":\"\"}}}],\"scatterpolar\":[{\"type\":\"scatterpolar\",\"marker\":{\"colorbar\":{\"outlinewidth\":0,\"ticks\":\"\"}}}],\"histogram\":[{\"marker\":{\"pattern\":{\"fillmode\":\"overlay\",\"size\":10,\"solidity\":0.2}},\"type\":\"histogram\"}],\"scattergl\":[{\"type\":\"scattergl\",\"marker\":{\"colorbar\":{\"outlinewidth\":0,\"ticks\":\"\"}}}],\"scatter3d\":[{\"type\":\"scatter3d\",\"line\":{\"colorbar\":{\"outlinewidth\":0,\"ticks\":\"\"}},\"marker\":{\"colorbar\":{\"outlinewidth\":0,\"ticks\":\"\"}}}],\"scattermapbox\":[{\"type\":\"scattermapbox\",\"marker\":{\"colorbar\":{\"outlinewidth\":0,\"ticks\":\"\"}}}],\"scatterternary\":[{\"type\":\"scatterternary\",\"marker\":{\"colorbar\":{\"outlinewidth\":0,\"ticks\":\"\"}}}],\"scattercarpet\":[{\"type\":\"scattercarpet\",\"marker\":{\"colorbar\":{\"outlinewidth\":0,\"ticks\":\"\"}}}],\"carpet\":[{\"aaxis\":{\"endlinecolor\":\"#2a3f5f\",\"gridcolor\":\"white\",\"linecolor\":\"white\",\"minorgridcolor\":\"white\",\"startlinecolor\":\"#2a3f5f\"},\"baxis\":{\"endlinecolor\":\"#2a3f5f\",\"gridcolor\":\"white\",\"linecolor\":\"white\",\"minorgridcolor\":\"white\",\"startlinecolor\":\"#2a3f5f\"},\"type\":\"carpet\"}],\"table\":[{\"cells\":{\"fill\":{\"color\":\"#EBF0F8\"},\"line\":{\"color\":\"white\"}},\"header\":{\"fill\":{\"color\":\"#C8D4E3\"},\"line\":{\"color\":\"white\"}},\"type\":\"table\"}],\"barpolar\":[{\"marker\":{\"line\":{\"color\":\"#E5ECF6\",\"width\":0.5},\"pattern\":{\"fillmode\":\"overlay\",\"size\":10,\"solidity\":0.2}},\"type\":\"barpolar\"}],\"pie\":[{\"automargin\":true,\"type\":\"pie\"}]},\"layout\":{\"autotypenumbers\":\"strict\",\"colorway\":[\"#636efa\",\"#EF553B\",\"#00cc96\",\"#ab63fa\",\"#FFA15A\",\"#19d3f3\",\"#FF6692\",\"#B6E880\",\"#FF97FF\",\"#FECB52\"],\"font\":{\"color\":\"#2a3f5f\"},\"hovermode\":\"closest\",\"hoverlabel\":{\"align\":\"left\"},\"paper_bgcolor\":\"white\",\"plot_bgcolor\":\"#E5ECF6\",\"polar\":{\"bgcolor\":\"#E5ECF6\",\"angularaxis\":{\"gridcolor\":\"white\",\"linecolor\":\"white\",\"ticks\":\"\"},\"radialaxis\":{\"gridcolor\":\"white\",\"linecolor\":\"white\",\"ticks\":\"\"}},\"ternary\":{\"bgcolor\":\"#E5ECF6\",\"aaxis\":{\"gridcolor\":\"white\",\"linecolor\":\"white\",\"ticks\":\"\"},\"baxis\":{\"gridcolor\":\"white\",\"linecolor\":\"white\",\"ticks\":\"\"},\"caxis\":{\"gridcolor\":\"white\",\"linecolor\":\"white\",\"ticks\":\"\"}},\"coloraxis\":{\"colorbar\":{\"outlinewidth\":0,\"ticks\":\"\"}},\"colorscale\":{\"sequential\":[[0.0,\"#0d0887\"],[0.1111111111111111,\"#46039f\"],[0.2222222222222222,\"#7201a8\"],[0.3333333333333333,\"#9c179e\"],[0.4444444444444444,\"#bd3786\"],[0.5555555555555556,\"#d8576b\"],[0.6666666666666666,\"#ed7953\"],[0.7777777777777778,\"#fb9f3a\"],[0.8888888888888888,\"#fdca26\"],[1.0,\"#f0f921\"]],\"sequentialminus\":[[0.0,\"#0d0887\"],[0.1111111111111111,\"#46039f\"],[0.2222222222222222,\"#7201a8\"],[0.3333333333333333,\"#9c179e\"],[0.4444444444444444,\"#bd3786\"],[0.5555555555555556,\"#d8576b\"],[0.6666666666666666,\"#ed7953\"],[0.7777777777777778,\"#fb9f3a\"],[0.8888888888888888,\"#fdca26\"],[1.0,\"#f0f921\"]],\"diverging\":[[0,\"#8e0152\"],[0.1,\"#c51b7d\"],[0.2,\"#de77ae\"],[0.3,\"#f1b6da\"],[0.4,\"#fde0ef\"],[0.5,\"#f7f7f7\"],[0.6,\"#e6f5d0\"],[0.7,\"#b8e186\"],[0.8,\"#7fbc41\"],[0.9,\"#4d9221\"],[1,\"#276419\"]]},\"xaxis\":{\"gridcolor\":\"white\",\"linecolor\":\"white\",\"ticks\":\"\",\"title\":{\"standoff\":15},\"zerolinecolor\":\"white\",\"automargin\":true,\"zerolinewidth\":2},\"yaxis\":{\"gridcolor\":\"white\",\"linecolor\":\"white\",\"ticks\":\"\",\"title\":{\"standoff\":15},\"zerolinecolor\":\"white\",\"automargin\":true,\"zerolinewidth\":2},\"scene\":{\"xaxis\":{\"backgroundcolor\":\"#E5ECF6\",\"gridcolor\":\"white\",\"linecolor\":\"white\",\"showbackground\":true,\"ticks\":\"\",\"zerolinecolor\":\"white\",\"gridwidth\":2},\"yaxis\":{\"backgroundcolor\":\"#E5ECF6\",\"gridcolor\":\"white\",\"linecolor\":\"white\",\"showbackground\":true,\"ticks\":\"\",\"zerolinecolor\":\"white\",\"gridwidth\":2},\"zaxis\":{\"backgroundcolor\":\"#E5ECF6\",\"gridcolor\":\"white\",\"linecolor\":\"white\",\"showbackground\":true,\"ticks\":\"\",\"zerolinecolor\":\"white\",\"gridwidth\":2}},\"shapedefaults\":{\"line\":{\"color\":\"#2a3f5f\"}},\"annotationdefaults\":{\"arrowcolor\":\"#2a3f5f\",\"arrowhead\":0,\"arrowwidth\":1},\"geo\":{\"bgcolor\":\"white\",\"landcolor\":\"#E5ECF6\",\"subunitcolor\":\"white\",\"showland\":true,\"showlakes\":true,\"lakecolor\":\"white\"},\"title\":{\"x\":0.05},\"mapbox\":{\"style\":\"light\"}}},\"title\":{\"text\":\"Stock Prices: actual \\u002f predicted\"},\"xaxis\":{\"title\":{\"text\":\"Date\"}},\"yaxis\":{\"title\":{\"text\":\"Stock price\"}}},                        {\"responsive\": true}                    ).then(function(){\n",
              "                            \n",
              "var gd = document.getElementById('3a5b1037-f5de-4f1c-a5c6-8434e8914d22');\n",
              "var x = new MutationObserver(function (mutations, observer) {{\n",
              "        var display = window.getComputedStyle(gd).display;\n",
              "        if (!display || display === 'none') {{\n",
              "            console.log([gd, 'removed!']);\n",
              "            Plotly.purge(gd);\n",
              "            observer.disconnect();\n",
              "        }}\n",
              "}});\n",
              "\n",
              "// Listen for the removal of the full notebook cells\n",
              "var notebookContainer = gd.closest('#notebook-container');\n",
              "if (notebookContainer) {{\n",
              "    x.observe(notebookContainer, {childList: true});\n",
              "}}\n",
              "\n",
              "// Listen for the clearing of the current output cell\n",
              "var outputEl = gd.closest('.output');\n",
              "if (outputEl) {{\n",
              "    x.observe(outputEl, {childList: true});\n",
              "}}\n",
              "\n",
              "                        })                };                            </script>        </div>\n",
              "</body>\n",
              "</html>"
            ]
          },
          "metadata": {}
        }
      ]
    },
    {
      "cell_type": "markdown",
      "source": [
        "# 1D-CNN-LSTM-DNN Модель"
      ],
      "metadata": {
        "id": "5ge_rkXQoQmN"
      }
    },
    {
      "cell_type": "markdown",
      "source": [
        "## Підбір найкращих гіперпараметрів"
      ],
      "metadata": {
        "id": "vqpv_vLIoSdY"
      }
    },
    {
      "cell_type": "code",
      "source": [
        "def build_model(hp):\n",
        "    model_1d_cnn_lstm = tf.keras.models.Sequential([\n",
        "        # згортковий 1D шар\n",
        "        tf.keras.layers.Conv1D(filters=hp.Int('filters', min_value=16, max_value=256, step=16), kernel_size=3, activation='relu', input_shape=(X_train.shape[1], X_train.shape[2])),\n",
        "        tf.keras.layers.MaxPooling1D(2),\n",
        "        # шар RNN\n",
        "        tf.keras.layers.RNN(tf.keras.layers.LSTMCell(hp.Int('units', min_value=16, max_value=1024, step=64), implementation=2), return_sequences=True),\n",
        "        # Dropout для регулятизації\n",
        "        tf.keras.layers.Dropout(hp.Float('dropout', min_value=0.2, max_value=0.5, step=0.1)),\n",
        "        tf.keras.layers.Flatten(),\n",
        "        # повнозв'язний шар\n",
        "        tf.keras.layers.Dense(units=hp.Int('dense_units', min_value=32, max_value=256, step=16), activation='relu'),\n",
        "        # другий Dropout\n",
        "        tf.keras.layers.Dropout(hp.Float('dropout2', min_value=0.2, max_value=0.5, step=0.1)),\n",
        "        # вихідний шар\n",
        "        tf.keras.layers.Dense(units=1)\n",
        "    ])\n",
        "\n",
        "    model_1d_cnn_lstm.compile(optimizer='adam', loss='mse')\n",
        "    return model_1d_cnn_lstm\n",
        "\n",
        "\n",
        "tuner = BayesianOptimization(\n",
        "    build_model,\n",
        "    objective='val_loss',\n",
        "    max_trials=30,\n",
        "    directory='tuner_directory',\n",
        "    project_name='1d_cnn_lstm_hyperparameter_tuning'\n",
        ")\n",
        "\n",
        "\n",
        "tuner.search(X_train, y_train, epochs=20, validation_data=(X_test, y_test))\n",
        "\n",
        "best_hyperparam = tuner.get_best_hyperparameters(1)[0]"
      ],
      "metadata": {
        "colab": {
          "base_uri": "https://localhost:8080/"
        },
        "id": "P3UU2OxEqNJR",
        "outputId": "0e13fbe9-7c3d-4b26-ccd7-1d56b26b32ca"
      },
      "execution_count": null,
      "outputs": [
        {
          "output_type": "stream",
          "name": "stdout",
          "text": [
            "Trial 30 Complete [00h 01m 25s]\n",
            "val_loss: 0.765660285949707\n",
            "\n",
            "Best val_loss So Far: 0.6755934953689575\n",
            "Total elapsed time: 00h 39m 45s\n"
          ]
        }
      ]
    },
    {
      "cell_type": "code",
      "source": [
        "print(best_hyperparam['filters'], best_hyperparam['units'], best_hyperparam['dropout'], best_hyperparam['dense_units'],best_hyperparam['dropout2'])"
      ],
      "metadata": {
        "colab": {
          "base_uri": "https://localhost:8080/"
        },
        "id": "eszrTUlDqeIA",
        "outputId": "1f976ff9-2dde-4cdb-a909-044f26f911f3"
      },
      "execution_count": null,
      "outputs": [
        {
          "output_type": "stream",
          "name": "stdout",
          "text": [
            "32 592 0.30000000000000004 112 0.2\n"
          ]
        }
      ]
    },
    {
      "cell_type": "code",
      "source": [
        "best_hyperparam"
      ],
      "metadata": {
        "id": "2CwySCxVqaY-"
      },
      "execution_count": null,
      "outputs": []
    },
    {
      "cell_type": "markdown",
      "source": [
        "## 1D-CNN-LSTM-DNN модель з підібраними гіперпараметрами"
      ],
      "metadata": {
        "collapsed": false,
        "id": "EyBp6QRVwK4d"
      }
    },
    {
      "cell_type": "code",
      "execution_count": null,
      "outputs": [],
      "source": [
        "model_1d_cnn_lstm_dnn = tf.keras.models.Sequential([\n",
        "        # згортковий 1D шар\n",
        "        tf.keras.layers.Conv1D(filters=best_hyperparam['filters'], kernel_size=3, activation='relu', input_shape=(X_train.shape[1], X_train.shape[2])),\n",
        "        tf.keras.layers.MaxPooling1D(2),\n",
        "        # шар RNN\n",
        "        tf.keras.layers.RNN(tf.keras.layers.LSTMCell(best_hyperparam['units'], implementation=2), return_sequences=True),\n",
        "        # Dropout для регулятизації\n",
        "        tf.keras.layers.Dropout(best_hyperparam['dropout']),\n",
        "        tf.keras.layers.Flatten(),\n",
        "        # повнозв'язний шар\n",
        "        tf.keras.layers.Dense(units=best_hyperparam['dense_units'], activation='relu'),\n",
        "        # другий Dropout\n",
        "        tf.keras.layers.Dropout(best_hyperparam['dropout2']),\n",
        "        # вихідний шар\n",
        "        tf.keras.layers.Dense(units=1)\n",
        "    ])"
      ],
      "metadata": {
        "id": "zP3Qf2N6wK4e"
      }
    },
    {
      "cell_type": "code",
      "source": [
        "model_1d_cnn_lstm_dnn.compile(optimizer='adam', loss='mse')"
      ],
      "metadata": {
        "id": "lbJ0lXc3zaSM"
      },
      "execution_count": null,
      "outputs": []
    },
    {
      "cell_type": "markdown",
      "source": [
        "Тренуємо:"
      ],
      "metadata": {
        "id": "FA3bkoymv9eV"
      }
    },
    {
      "cell_type": "code",
      "source": [
        "train_model(model_1d_cnn_lstm_dnn, epochs=100)"
      ],
      "metadata": {
        "colab": {
          "base_uri": "https://localhost:8080/"
        },
        "outputId": "378d5d07-a209-469d-ffd7-d83a22d4324f",
        "id": "WyWSpNOdv9eV"
      },
      "execution_count": null,
      "outputs": [
        {
          "output_type": "stream",
          "name": "stdout",
          "text": [
            "Epoch 1/100\n",
            "124/124 [==============================] - 8s 39ms/step - loss: 66.2026 - val_loss: 3.0207\n",
            "Epoch 2/100\n",
            "124/124 [==============================] - 4s 32ms/step - loss: 6.8671 - val_loss: 1.4134\n",
            "Epoch 3/100\n",
            "124/124 [==============================] - 4s 31ms/step - loss: 6.4391 - val_loss: 1.6617\n",
            "Epoch 4/100\n",
            "124/124 [==============================] - 4s 32ms/step - loss: 5.6577 - val_loss: 1.2660\n",
            "Epoch 5/100\n",
            "124/124 [==============================] - 4s 35ms/step - loss: 5.4208 - val_loss: 0.8135\n",
            "Epoch 6/100\n",
            "124/124 [==============================] - 4s 32ms/step - loss: 5.6800 - val_loss: 0.8367\n",
            "Epoch 7/100\n",
            "124/124 [==============================] - 4s 31ms/step - loss: 5.0333 - val_loss: 0.8664\n",
            "Epoch 8/100\n",
            "124/124 [==============================] - 4s 31ms/step - loss: 5.1041 - val_loss: 0.7718\n",
            "Epoch 9/100\n",
            "124/124 [==============================] - 4s 35ms/step - loss: 5.2336 - val_loss: 1.0398\n",
            "Epoch 10/100\n",
            "124/124 [==============================] - 4s 33ms/step - loss: 5.5733 - val_loss: 0.8267\n",
            "Epoch 11/100\n",
            "124/124 [==============================] - 4s 32ms/step - loss: 5.3518 - val_loss: 2.5903\n",
            "Epoch 12/100\n",
            "124/124 [==============================] - 4s 31ms/step - loss: 5.1051 - val_loss: 1.0915\n",
            "Epoch 13/100\n",
            "124/124 [==============================] - 4s 31ms/step - loss: 5.0249 - val_loss: 1.9359\n",
            "Epoch 14/100\n",
            "124/124 [==============================] - 4s 35ms/step - loss: 5.2462 - val_loss: 0.6844\n",
            "Epoch 15/100\n",
            "124/124 [==============================] - 4s 35ms/step - loss: 5.0703 - val_loss: 0.7181\n",
            "Epoch 16/100\n",
            "124/124 [==============================] - 4s 31ms/step - loss: 5.4617 - val_loss: 1.2185\n",
            "Epoch 17/100\n",
            "124/124 [==============================] - 4s 31ms/step - loss: 4.9500 - val_loss: 1.8247\n",
            "Epoch 18/100\n",
            "124/124 [==============================] - 4s 31ms/step - loss: 5.2538 - val_loss: 1.0328\n",
            "Epoch 19/100\n",
            "124/124 [==============================] - 4s 32ms/step - loss: 4.9717 - val_loss: 0.7903\n",
            "Epoch 20/100\n",
            "124/124 [==============================] - 4s 34ms/step - loss: 4.9510 - val_loss: 0.8069\n",
            "Epoch 21/100\n",
            "124/124 [==============================] - 4s 32ms/step - loss: 5.0896 - val_loss: 0.7292\n",
            "Epoch 22/100\n",
            "124/124 [==============================] - 4s 31ms/step - loss: 5.0438 - val_loss: 0.7036\n",
            "Epoch 23/100\n",
            "124/124 [==============================] - 4s 35ms/step - loss: 4.8506 - val_loss: 0.7534\n",
            "Epoch 24/100\n",
            "124/124 [==============================] - 4s 35ms/step - loss: 4.8607 - val_loss: 0.6026\n",
            "Epoch 25/100\n",
            "124/124 [==============================] - 6s 49ms/step - loss: 4.9216 - val_loss: 0.6182\n",
            "Epoch 26/100\n",
            "124/124 [==============================] - 4s 30ms/step - loss: 4.8799 - val_loss: 0.7777\n",
            "Epoch 27/100\n",
            "124/124 [==============================] - 4s 31ms/step - loss: 4.8097 - val_loss: 0.6275\n",
            "Epoch 28/100\n",
            "124/124 [==============================] - 4s 32ms/step - loss: 4.8977 - val_loss: 0.6515\n",
            "Epoch 29/100\n",
            "124/124 [==============================] - 4s 34ms/step - loss: 4.9828 - val_loss: 0.8085\n",
            "Epoch 30/100\n",
            "124/124 [==============================] - 4s 32ms/step - loss: 4.6828 - val_loss: 0.7841\n",
            "Epoch 31/100\n",
            "124/124 [==============================] - 4s 31ms/step - loss: 4.9385 - val_loss: 0.6067\n",
            "Epoch 32/100\n",
            "124/124 [==============================] - 4s 31ms/step - loss: 4.6286 - val_loss: 0.6292\n",
            "Epoch 33/100\n",
            "124/124 [==============================] - 4s 34ms/step - loss: 4.8899 - val_loss: 0.6376\n",
            "Epoch 34/100\n",
            "124/124 [==============================] - 4s 34ms/step - loss: 4.7661 - val_loss: 0.9752\n",
            "Epoch 35/100\n",
            "124/124 [==============================] - 4s 32ms/step - loss: 4.6689 - val_loss: 0.7825\n",
            "Epoch 36/100\n",
            "124/124 [==============================] - 4s 31ms/step - loss: 4.4996 - val_loss: 1.4518\n",
            "Epoch 37/100\n",
            "124/124 [==============================] - 4s 31ms/step - loss: 4.7168 - val_loss: 1.0324\n",
            "Epoch 38/100\n",
            "124/124 [==============================] - 4s 34ms/step - loss: 4.7507 - val_loss: 1.1697\n",
            "Epoch 39/100\n",
            "124/124 [==============================] - 4s 34ms/step - loss: 4.9566 - val_loss: 0.6314\n",
            "Epoch 40/100\n",
            "124/124 [==============================] - 4s 31ms/step - loss: 4.8949 - val_loss: 2.8867\n",
            "Epoch 41/100\n",
            "124/124 [==============================] - 4s 31ms/step - loss: 5.1743 - val_loss: 1.5870\n",
            "Epoch 42/100\n",
            "124/124 [==============================] - 4s 32ms/step - loss: 4.4155 - val_loss: 0.7204\n",
            "Epoch 43/100\n",
            "124/124 [==============================] - 4s 34ms/step - loss: 4.9510 - val_loss: 2.4793\n",
            "Epoch 44/100\n",
            "124/124 [==============================] - 4s 33ms/step - loss: 4.8998 - val_loss: 0.9119\n",
            "Epoch 45/100\n",
            "124/124 [==============================] - 4s 31ms/step - loss: 4.6123 - val_loss: 1.2448\n",
            "Epoch 46/100\n",
            "124/124 [==============================] - 4s 30ms/step - loss: 4.7245 - val_loss: 0.8843\n",
            "Epoch 47/100\n",
            "124/124 [==============================] - 4s 31ms/step - loss: 4.5778 - val_loss: 0.5838\n",
            "Epoch 48/100\n",
            "124/124 [==============================] - 4s 34ms/step - loss: 4.7852 - val_loss: 0.8095\n",
            "Epoch 49/100\n",
            "124/124 [==============================] - 4s 33ms/step - loss: 4.4046 - val_loss: 1.1058\n",
            "Epoch 50/100\n",
            "124/124 [==============================] - 4s 31ms/step - loss: 4.5159 - val_loss: 1.4654\n",
            "Epoch 51/100\n",
            "124/124 [==============================] - 4s 33ms/step - loss: 4.7682 - val_loss: 0.8294\n",
            "Epoch 52/100\n",
            "124/124 [==============================] - 7s 59ms/step - loss: 4.5161 - val_loss: 0.9973\n",
            "Epoch 53/100\n",
            "124/124 [==============================] - 4s 33ms/step - loss: 4.7683 - val_loss: 1.5763\n",
            "Epoch 54/100\n",
            "124/124 [==============================] - 4s 32ms/step - loss: 4.3639 - val_loss: 0.8875\n",
            "Epoch 55/100\n",
            "124/124 [==============================] - 4s 30ms/step - loss: 4.4237 - val_loss: 0.8556\n",
            "Epoch 56/100\n",
            "124/124 [==============================] - 4s 31ms/step - loss: 4.5489 - val_loss: 0.7096\n",
            "Epoch 57/100\n",
            "124/124 [==============================] - 4s 34ms/step - loss: 4.5760 - val_loss: 1.1434\n",
            "Epoch 58/100\n",
            "124/124 [==============================] - 4s 34ms/step - loss: 4.4726 - val_loss: 1.1643\n",
            "Epoch 59/100\n",
            "124/124 [==============================] - 4s 30ms/step - loss: 4.5405 - val_loss: 1.7239\n",
            "Epoch 60/100\n",
            "124/124 [==============================] - 4s 30ms/step - loss: 4.7020 - val_loss: 0.6419\n",
            "Epoch 61/100\n",
            "124/124 [==============================] - 4s 32ms/step - loss: 4.6184 - val_loss: 0.6525\n",
            "Epoch 62/100\n",
            "124/124 [==============================] - 4s 33ms/step - loss: 4.4931 - val_loss: 1.0775\n",
            "Epoch 63/100\n",
            "124/124 [==============================] - 4s 34ms/step - loss: 4.5987 - val_loss: 0.6125\n",
            "Epoch 64/100\n",
            "124/124 [==============================] - 4s 31ms/step - loss: 4.4522 - val_loss: 0.8122\n",
            "Epoch 65/100\n",
            "124/124 [==============================] - 4s 31ms/step - loss: 4.8054 - val_loss: 1.4224\n",
            "Epoch 66/100\n",
            "124/124 [==============================] - 4s 33ms/step - loss: 4.5520 - val_loss: 1.2536\n",
            "Epoch 67/100\n",
            "124/124 [==============================] - 4s 33ms/step - loss: 4.3740 - val_loss: 0.6219\n",
            "Epoch 68/100\n",
            "124/124 [==============================] - 4s 32ms/step - loss: 4.2447 - val_loss: 1.1001\n",
            "Epoch 69/100\n",
            "124/124 [==============================] - 4s 32ms/step - loss: 4.3533 - val_loss: 0.7745\n",
            "Epoch 70/100\n",
            "124/124 [==============================] - 4s 32ms/step - loss: 4.6545 - val_loss: 0.6793\n",
            "Epoch 71/100\n",
            "124/124 [==============================] - 4s 34ms/step - loss: 4.2374 - val_loss: 0.9476\n",
            "Epoch 72/100\n",
            "124/124 [==============================] - 4s 34ms/step - loss: 4.9164 - val_loss: 0.6347\n",
            "Epoch 73/100\n",
            "124/124 [==============================] - 4s 32ms/step - loss: 4.2864 - val_loss: 1.1061\n",
            "Epoch 74/100\n",
            "124/124 [==============================] - 4s 31ms/step - loss: 4.3392 - val_loss: 0.8410\n",
            "Epoch 75/100\n",
            "124/124 [==============================] - 4s 31ms/step - loss: 4.5086 - val_loss: 0.8583\n",
            "Epoch 76/100\n",
            "124/124 [==============================] - 4s 34ms/step - loss: 4.8951 - val_loss: 1.4589\n",
            "Epoch 77/100\n",
            "124/124 [==============================] - 4s 34ms/step - loss: 4.1839 - val_loss: 0.6630\n",
            "Epoch 78/100\n",
            "124/124 [==============================] - 4s 32ms/step - loss: 4.2278 - val_loss: 0.5944\n",
            "Epoch 79/100\n",
            "124/124 [==============================] - 4s 31ms/step - loss: 4.5566 - val_loss: 2.2903\n",
            "Epoch 80/100\n",
            "124/124 [==============================] - 4s 31ms/step - loss: 4.6113 - val_loss: 0.9814\n",
            "Epoch 81/100\n",
            "124/124 [==============================] - 4s 34ms/step - loss: 4.7379 - val_loss: 0.6426\n",
            "Epoch 82/100\n",
            "124/124 [==============================] - 4s 34ms/step - loss: 4.3429 - val_loss: 0.5981\n",
            "Epoch 83/100\n",
            "124/124 [==============================] - 4s 31ms/step - loss: 4.1409 - val_loss: 0.9191\n",
            "Epoch 84/100\n",
            "124/124 [==============================] - 4s 31ms/step - loss: 4.0653 - val_loss: 0.8476\n",
            "Epoch 85/100\n",
            "124/124 [==============================] - 4s 32ms/step - loss: 4.3688 - val_loss: 0.7679\n",
            "Epoch 86/100\n",
            "124/124 [==============================] - 4s 34ms/step - loss: 4.6093 - val_loss: 2.3590\n",
            "Epoch 87/100\n",
            "124/124 [==============================] - 4s 33ms/step - loss: 4.3211 - val_loss: 0.9172\n",
            "Epoch 88/100\n",
            "124/124 [==============================] - 4s 31ms/step - loss: 4.1609 - val_loss: 0.6445\n",
            "Epoch 89/100\n",
            "124/124 [==============================] - 4s 30ms/step - loss: 4.1465 - val_loss: 0.6854\n",
            "Epoch 90/100\n",
            "124/124 [==============================] - 4s 31ms/step - loss: 4.1023 - val_loss: 0.5861\n",
            "Epoch 91/100\n",
            "124/124 [==============================] - 4s 33ms/step - loss: 4.0344 - val_loss: 1.0616\n",
            "Epoch 92/100\n",
            "124/124 [==============================] - 4s 34ms/step - loss: 4.3055 - val_loss: 0.6493\n",
            "Epoch 93/100\n",
            "124/124 [==============================] - 4s 31ms/step - loss: 4.2968 - val_loss: 0.5924\n",
            "Epoch 94/100\n",
            "124/124 [==============================] - 4s 31ms/step - loss: 4.3785 - val_loss: 0.7291\n",
            "Epoch 95/100\n",
            "124/124 [==============================] - 4s 32ms/step - loss: 4.2793 - val_loss: 1.4953\n",
            "Epoch 96/100\n",
            "124/124 [==============================] - 4s 34ms/step - loss: 4.0853 - val_loss: 0.7127\n",
            "Epoch 97/100\n",
            "124/124 [==============================] - 4s 33ms/step - loss: 4.2023 - val_loss: 4.7998\n",
            "Epoch 98/100\n",
            "124/124 [==============================] - 4s 30ms/step - loss: 4.0662 - val_loss: 0.6141\n",
            "Epoch 99/100\n",
            "124/124 [==============================] - 4s 31ms/step - loss: 4.3285 - val_loss: 0.5929\n",
            "Epoch 100/100\n",
            "124/124 [==============================] - 4s 33ms/step - loss: 4.0611 - val_loss: 0.6768\n"
          ]
        }
      ]
    },
    {
      "cell_type": "markdown",
      "source": [
        "Валідація:"
      ],
      "metadata": {
        "id": "PJibqx0Bv9eW"
      }
    },
    {
      "cell_type": "code",
      "source": [
        "validate_model(model_1d_cnn_lstm_dnn)"
      ],
      "metadata": {
        "colab": {
          "base_uri": "https://localhost:8080/"
        },
        "id": "bpRQwnWUx7t1",
        "outputId": "55ffd7c6-8cd2-4c55-e6ee-df89222478b2"
      },
      "execution_count": null,
      "outputs": [
        {
          "output_type": "stream",
          "name": "stdout",
          "text": [
            "31/31 [==============================] - 0s 7ms/step - loss: 0.6768\n",
            "Test loss: 0.6768060922622681\n"
          ]
        }
      ]
    },
    {
      "cell_type": "markdown",
      "source": [
        "Графік:"
      ],
      "metadata": {
        "id": "NPpvhMIwv9eW"
      }
    },
    {
      "cell_type": "code",
      "source": [
        "plot_predictions(model_1d_cnn_lstm_dnn)"
      ],
      "metadata": {
        "colab": {
          "base_uri": "https://localhost:8080/",
          "height": 802
        },
        "id": "OfJn-5TyyBQI",
        "outputId": "1409b989-00ac-49cf-920a-08180422bfd2"
      },
      "execution_count": null,
      "outputs": [
        {
          "output_type": "stream",
          "name": "stdout",
          "text": [
            "31/31 [==============================] - 0s 7ms/step\n",
            "        Actual  Predicted        Date\n",
            "972   3.859375   3.815485  2000-08-14\n",
            "224   3.945312   3.991898  2000-08-22\n",
            "722   4.078125   4.066468  2000-09-05\n",
            "260   4.187500   4.096891  2000-09-06\n",
            "877   4.218750   4.215067  2000-09-11\n",
            "..         ...        ...         ...\n",
            "748  24.250000  24.188604  2020-03-04\n",
            "298  15.730000  23.017973  2020-03-06\n",
            "631  15.080000  13.365528  2020-03-10\n",
            "849  14.380000  13.393053  2020-03-12\n",
            "46   10.410000   9.718760  2020-03-25\n",
            "\n",
            "[989 rows x 3 columns]\n"
          ]
        },
        {
          "output_type": "display_data",
          "data": {
            "text/html": [
              "<html>\n",
              "<head><meta charset=\"utf-8\" /></head>\n",
              "<body>\n",
              "    <div>            <script src=\"https://cdnjs.cloudflare.com/ajax/libs/mathjax/2.7.5/MathJax.js?config=TeX-AMS-MML_SVG\"></script><script type=\"text/javascript\">if (window.MathJax && window.MathJax.Hub && window.MathJax.Hub.Config) {window.MathJax.Hub.Config({SVG: {font: \"STIX-Web\"}});}</script>                <script type=\"text/javascript\">window.PlotlyConfig = {MathJaxConfig: 'local'};</script>\n",
              "        <script charset=\"utf-8\" src=\"https://cdn.plot.ly/plotly-2.24.1.min.js\"></script>                <div id=\"c8d078ae-0924-44a6-b1f0-d6c8fe8bf795\" class=\"plotly-graph-div\" style=\"height:525px; width:100%;\"></div>            <script type=\"text/javascript\">                                    window.PLOTLYENV=window.PLOTLYENV || {};                                    if (document.getElementById(\"c8d078ae-0924-44a6-b1f0-d6c8fe8bf795\")) {                    Plotly.newPlot(                        \"c8d078ae-0924-44a6-b1f0-d6c8fe8bf795\",                        [{\"mode\":\"lines\",\"name\":\"Actual\",\"x\":[\"2000-08-14\",\"2000-08-22\",\"2000-09-05\",\"2000-09-06\",\"2000-09-11\",\"2000-09-13\",\"2000-09-26\",\"2000-09-28\",\"2000-10-04\",\"2000-10-05\",\"2000-10-11\",\"2000-10-12\",\"2000-10-26\",\"2000-11-08\",\"2000-11-10\",\"2000-11-14\",\"2000-11-15\",\"2000-11-17\",\"2000-11-28\",\"2000-11-29\",\"2000-12-08\",\"2001-01-04\",\"2001-01-18\",\"2001-01-29\",\"2001-01-30\",\"2001-01-31\",\"2001-02-02\",\"2001-02-05\",\"2001-02-12\",\"2001-02-28\",\"2001-03-15\",\"2001-03-26\",\"2001-03-28\",\"2001-04-03\",\"2001-04-09\",\"2001-04-11\",\"2001-04-24\",\"2001-05-03\",\"2001-05-14\",\"2001-05-23\",\"2001-05-30\",\"2001-06-05\",\"2001-06-11\",\"2001-06-13\",\"2001-06-21\",\"2001-07-02\",\"2001-07-20\",\"2001-07-23\",\"2001-07-27\",\"2001-08-03\",\"2001-08-06\",\"2001-08-16\",\"2001-08-22\",\"2001-09-10\",\"2001-09-19\",\"2001-10-01\",\"2001-10-10\",\"2001-10-12\",\"2001-10-16\",\"2001-10-17\",\"2001-10-25\",\"2001-10-31\",\"2001-11-09\",\"2001-11-12\",\"2001-11-16\",\"2001-11-29\",\"2001-12-21\",\"2001-12-26\",\"2001-12-27\",\"2001-12-31\",\"2002-01-04\",\"2002-01-15\",\"2002-01-18\",\"2002-01-22\",\"2002-01-28\",\"2002-02-01\",\"2002-02-19\",\"2002-02-26\",\"2002-02-27\",\"2002-03-11\",\"2002-03-19\",\"2002-03-26\",\"2002-04-02\",\"2002-04-03\",\"2002-04-04\",\"2002-04-15\",\"2002-04-16\",\"2002-04-18\",\"2002-04-25\",\"2002-04-29\",\"2002-04-30\",\"2002-05-02\",\"2002-05-13\",\"2002-05-14\",\"2002-05-23\",\"2002-05-24\",\"2002-05-28\",\"2002-06-17\",\"2002-07-19\",\"2002-07-22\",\"2002-07-23\",\"2002-08-02\",\"2002-08-05\",\"2002-08-06\",\"2002-08-13\",\"2002-08-26\",\"2002-09-04\",\"2002-09-06\",\"2002-09-18\",\"2002-10-07\",\"2002-10-08\",\"2002-10-15\",\"2002-10-29\",\"2002-11-07\",\"2002-11-11\",\"2002-11-13\",\"2002-11-19\",\"2002-11-20\",\"2002-11-25\",\"2002-12-04\",\"2002-12-12\",\"2002-12-17\",\"2002-12-26\",\"2002-12-27\",\"2003-01-02\",\"2003-01-14\",\"2003-01-22\",\"2003-01-29\",\"2003-02-06\",\"2003-02-11\",\"2003-02-13\",\"2003-02-27\",\"2003-03-07\",\"2003-03-13\",\"2003-03-20\",\"2003-03-25\",\"2003-04-28\",\"2003-05-06\",\"2003-05-08\",\"2003-05-12\",\"2003-05-19\",\"2003-06-02\",\"2003-06-10\",\"2003-06-27\",\"2003-07-10\",\"2003-07-15\",\"2003-07-21\",\"2003-07-29\",\"2003-08-04\",\"2003-08-08\",\"2003-08-11\",\"2003-08-15\",\"2003-08-18\",\"2003-08-19\",\"2003-08-22\",\"2003-08-25\",\"2003-08-26\",\"2003-09-12\",\"2003-09-25\",\"2003-09-26\",\"2003-10-01\",\"2003-10-09\",\"2003-10-13\",\"2003-10-17\",\"2003-10-24\",\"2003-11-04\",\"2003-11-12\",\"2003-11-17\",\"2003-11-20\",\"2003-12-05\",\"2003-12-15\",\"2003-12-16\",\"2004-01-05\",\"2004-01-07\",\"2004-01-20\",\"2004-02-10\",\"2004-02-13\",\"2004-02-18\",\"2004-02-25\",\"2004-03-05\",\"2004-03-10\",\"2004-03-23\",\"2004-03-24\",\"2004-03-31\",\"2004-04-05\",\"2004-04-08\",\"2004-04-13\",\"2004-04-14\",\"2004-05-03\",\"2004-05-07\",\"2004-05-26\",\"2004-06-03\",\"2004-06-18\",\"2004-06-21\",\"2004-06-24\",\"2004-06-28\",\"2004-07-13\",\"2004-07-14\",\"2004-07-23\",\"2004-07-28\",\"2004-08-11\",\"2004-08-23\",\"2004-08-31\",\"2004-09-13\",\"2004-09-16\",\"2004-09-23\",\"2004-10-19\",\"2004-10-27\",\"2004-10-28\",\"2004-11-01\",\"2004-11-10\",\"2004-11-18\",\"2004-11-30\",\"2004-12-06\",\"2004-12-10\",\"2004-12-28\",\"2005-01-06\",\"2005-01-10\",\"2005-01-11\",\"2005-01-13\",\"2005-01-14\",\"2005-01-20\",\"2005-01-21\",\"2005-02-11\",\"2005-02-15\",\"2005-02-24\",\"2005-03-02\",\"2005-03-03\",\"2005-03-15\",\"2005-03-21\",\"2005-03-31\",\"2005-04-01\",\"2005-04-05\",\"2005-04-13\",\"2005-04-19\",\"2005-04-22\",\"2005-04-26\",\"2005-05-05\",\"2005-05-06\",\"2005-06-02\",\"2005-06-07\",\"2005-06-17\",\"2005-06-22\",\"2005-06-24\",\"2005-06-29\",\"2005-07-19\",\"2005-07-21\",\"2005-07-26\",\"2005-07-28\",\"2005-08-02\",\"2005-08-03\",\"2005-08-09\",\"2005-08-22\",\"2005-09-09\",\"2005-09-23\",\"2005-09-27\",\"2005-10-04\",\"2005-10-12\",\"2005-10-17\",\"2005-10-18\",\"2005-10-24\",\"2005-10-25\",\"2005-10-26\",\"2005-11-04\",\"2005-11-08\",\"2005-11-09\",\"2005-11-11\",\"2005-11-15\",\"2005-11-17\",\"2005-12-02\",\"2005-12-05\",\"2005-12-07\",\"2005-12-08\",\"2005-12-09\",\"2005-12-12\",\"2005-12-20\",\"2005-12-22\",\"2005-12-23\",\"2006-01-10\",\"2006-01-20\",\"2006-01-23\",\"2006-02-07\",\"2006-02-13\",\"2006-02-22\",\"2006-02-23\",\"2006-03-01\",\"2006-03-16\",\"2006-03-17\",\"2006-03-30\",\"2006-04-11\",\"2006-04-20\",\"2006-05-02\",\"2006-05-05\",\"2006-05-31\",\"2006-06-01\",\"2006-06-02\",\"2006-06-05\",\"2006-06-07\",\"2006-06-13\",\"2006-06-22\",\"2006-07-05\",\"2006-07-14\",\"2006-07-17\",\"2006-08-02\",\"2006-08-03\",\"2006-08-04\",\"2006-08-18\",\"2006-08-24\",\"2006-09-28\",\"2006-10-03\",\"2006-10-06\",\"2006-10-12\",\"2006-10-25\",\"2006-11-08\",\"2006-11-15\",\"2006-11-17\",\"2006-11-27\",\"2006-12-01\",\"2006-12-15\",\"2006-12-19\",\"2006-12-20\",\"2006-12-28\",\"2007-01-03\",\"2007-01-12\",\"2007-01-25\",\"2007-01-30\",\"2007-02-01\",\"2007-03-08\",\"2007-03-09\",\"2007-03-15\",\"2007-03-22\",\"2007-04-12\",\"2007-04-17\",\"2007-04-19\",\"2007-04-27\",\"2007-05-02\",\"2007-05-08\",\"2007-05-14\",\"2007-05-25\",\"2007-05-31\",\"2007-06-18\",\"2007-06-20\",\"2007-07-03\",\"2007-07-10\",\"2007-07-20\",\"2007-07-23\",\"2007-08-03\",\"2007-08-06\",\"2007-08-31\",\"2007-09-07\",\"2007-09-12\",\"2007-09-13\",\"2007-09-14\",\"2007-09-19\",\"2007-09-27\",\"2007-10-03\",\"2007-10-18\",\"2007-11-08\",\"2007-12-07\",\"2007-12-20\",\"2007-12-26\",\"2007-12-31\",\"2008-01-02\",\"2008-01-03\",\"2008-01-14\",\"2008-01-22\",\"2008-01-23\",\"2008-01-28\",\"2008-02-08\",\"2008-02-11\",\"2008-02-14\",\"2008-02-26\",\"2008-02-28\",\"2008-02-29\",\"2008-03-03\",\"2008-03-11\",\"2008-03-24\",\"2008-03-27\",\"2008-04-01\",\"2008-04-02\",\"2008-04-08\",\"2008-04-10\",\"2008-04-18\",\"2008-04-21\",\"2008-05-01\",\"2008-05-19\",\"2008-06-02\",\"2008-06-09\",\"2008-06-10\",\"2008-06-11\",\"2008-06-18\",\"2008-06-26\",\"2008-07-15\",\"2008-07-28\",\"2008-08-01\",\"2008-08-05\",\"2008-08-14\",\"2008-08-18\",\"2008-08-20\",\"2008-08-25\",\"2008-08-26\",\"2008-09-09\",\"2008-09-18\",\"2008-09-24\",\"2008-09-25\",\"2008-10-13\",\"2008-10-17\",\"2008-11-04\",\"2008-11-06\",\"2008-11-11\",\"2008-12-02\",\"2008-12-05\",\"2008-12-11\",\"2008-12-15\",\"2008-12-18\",\"2008-12-19\",\"2008-12-23\",\"2009-01-13\",\"2009-01-23\",\"2009-01-26\",\"2009-02-10\",\"2009-02-13\",\"2009-03-11\",\"2009-03-16\",\"2009-03-18\",\"2009-03-19\",\"2009-03-23\",\"2009-03-24\",\"2009-04-06\",\"2009-04-08\",\"2009-04-09\",\"2009-04-15\",\"2009-04-24\",\"2009-05-06\",\"2009-05-18\",\"2009-06-09\",\"2009-06-11\",\"2009-06-12\",\"2009-06-15\",\"2009-06-22\",\"2009-06-24\",\"2009-06-30\",\"2009-07-13\",\"2009-07-16\",\"2009-07-17\",\"2009-07-22\",\"2009-08-25\",\"2009-09-01\",\"2009-09-10\",\"2009-09-28\",\"2009-10-13\",\"2009-10-26\",\"2009-11-03\",\"2009-11-13\",\"2009-12-11\",\"2009-12-31\",\"2010-01-06\",\"2010-01-11\",\"2010-01-20\",\"2010-01-22\",\"2010-01-25\",\"2010-01-26\",\"2010-01-29\",\"2010-02-03\",\"2010-02-26\",\"2010-03-12\",\"2010-03-26\",\"2010-04-05\",\"2010-04-12\",\"2010-04-15\",\"2010-04-26\",\"2010-04-28\",\"2010-05-03\",\"2010-05-06\",\"2010-05-25\",\"2010-06-08\",\"2010-06-22\",\"2010-07-01\",\"2010-07-12\",\"2010-07-20\",\"2010-07-23\",\"2010-07-27\",\"2010-08-03\",\"2010-08-04\",\"2010-08-12\",\"2010-08-19\",\"2010-09-01\",\"2010-09-22\",\"2010-09-24\",\"2010-09-27\",\"2010-10-01\",\"2010-10-05\",\"2010-10-06\",\"2010-11-02\",\"2010-11-03\",\"2010-11-09\",\"2010-11-16\",\"2010-11-30\",\"2010-12-21\",\"2010-12-27\",\"2011-01-07\",\"2011-01-14\",\"2011-01-19\",\"2011-01-21\",\"2011-01-24\",\"2011-01-28\",\"2011-01-31\",\"2011-02-01\",\"2011-02-14\",\"2011-02-17\",\"2011-02-28\",\"2011-03-01\",\"2011-03-18\",\"2011-03-23\",\"2011-03-25\",\"2011-04-04\",\"2011-04-05\",\"2011-04-06\",\"2011-04-14\",\"2011-04-15\",\"2011-04-20\",\"2011-04-25\",\"2011-04-26\",\"2011-04-29\",\"2011-05-05\",\"2011-05-12\",\"2011-05-24\",\"2011-06-09\",\"2011-06-23\",\"2011-06-24\",\"2011-06-28\",\"2011-07-05\",\"2011-07-15\",\"2011-07-18\",\"2011-07-25\",\"2011-07-26\",\"2011-07-28\",\"2011-08-04\",\"2011-08-11\",\"2011-08-15\",\"2011-08-17\",\"2011-08-19\",\"2011-09-02\",\"2011-09-06\",\"2011-09-07\",\"2011-09-09\",\"2011-09-12\",\"2011-09-20\",\"2011-09-21\",\"2011-09-28\",\"2011-09-30\",\"2011-10-03\",\"2011-10-04\",\"2011-10-05\",\"2011-10-06\",\"2011-10-14\",\"2011-10-18\",\"2011-10-25\",\"2011-10-27\",\"2011-10-31\",\"2011-11-02\",\"2011-11-16\",\"2011-11-18\",\"2011-11-23\",\"2011-11-29\",\"2011-12-02\",\"2011-12-12\",\"2011-12-28\",\"2011-12-30\",\"2012-01-05\",\"2012-01-11\",\"2012-01-19\",\"2012-01-26\",\"2012-01-27\",\"2012-02-01\",\"2012-02-02\",\"2012-02-06\",\"2012-02-07\",\"2012-02-15\",\"2012-02-24\",\"2012-02-28\",\"2012-03-12\",\"2012-03-19\",\"2012-03-30\",\"2012-04-09\",\"2012-04-23\",\"2012-04-25\",\"2012-05-02\",\"2012-05-11\",\"2012-05-22\",\"2012-05-23\",\"2012-05-24\",\"2012-05-25\",\"2012-05-31\",\"2012-06-07\",\"2012-06-08\",\"2012-06-18\",\"2012-06-28\",\"2012-06-29\",\"2012-07-09\",\"2012-07-23\",\"2012-07-27\",\"2012-07-31\",\"2012-08-02\",\"2012-08-17\",\"2012-08-24\",\"2012-08-28\",\"2012-10-02\",\"2012-10-19\",\"2012-10-23\",\"2012-10-24\",\"2012-11-01\",\"2012-11-05\",\"2012-11-12\",\"2012-11-14\",\"2012-11-16\",\"2012-11-20\",\"2012-11-27\",\"2012-11-29\",\"2012-12-17\",\"2012-12-24\",\"2013-01-03\",\"2013-01-09\",\"2013-01-14\",\"2013-02-04\",\"2013-02-11\",\"2013-02-12\",\"2013-02-13\",\"2013-02-27\",\"2013-03-04\",\"2013-03-06\",\"2013-03-15\",\"2013-03-18\",\"2013-04-01\",\"2013-04-04\",\"2013-04-05\",\"2013-04-29\",\"2013-05-02\",\"2013-05-15\",\"2013-06-05\",\"2013-06-07\",\"2013-06-24\",\"2013-07-08\",\"2013-07-18\",\"2013-07-24\",\"2013-08-01\",\"2013-08-02\",\"2013-08-05\",\"2013-08-08\",\"2013-08-21\",\"2013-08-27\",\"2013-09-09\",\"2013-09-16\",\"2013-09-19\",\"2013-09-20\",\"2013-09-30\",\"2013-10-02\",\"2013-10-07\",\"2013-10-10\",\"2013-11-04\",\"2013-11-06\",\"2013-11-11\",\"2013-11-14\",\"2013-11-15\",\"2013-11-26\",\"2013-12-04\",\"2013-12-17\",\"2014-01-02\",\"2014-01-14\",\"2014-01-15\",\"2014-01-23\",\"2014-02-04\",\"2014-02-06\",\"2014-02-13\",\"2014-02-18\",\"2014-02-19\",\"2014-02-25\",\"2014-03-12\",\"2014-03-13\",\"2014-03-31\",\"2014-04-03\",\"2014-04-08\",\"2014-04-10\",\"2014-04-21\",\"2014-05-05\",\"2014-05-07\",\"2014-05-19\",\"2014-05-21\",\"2014-06-05\",\"2014-06-20\",\"2014-06-23\",\"2014-06-26\",\"2014-06-30\",\"2014-07-17\",\"2014-07-21\",\"2014-07-23\",\"2014-07-31\",\"2014-08-07\",\"2014-08-12\",\"2014-08-13\",\"2014-08-15\",\"2014-08-25\",\"2014-09-03\",\"2014-09-17\",\"2014-09-26\",\"2014-09-30\",\"2014-10-03\",\"2014-10-08\",\"2014-10-14\",\"2014-10-21\",\"2014-10-28\",\"2014-10-31\",\"2014-11-05\",\"2014-11-06\",\"2014-11-14\",\"2014-12-02\",\"2014-12-12\",\"2014-12-15\",\"2014-12-18\",\"2015-01-08\",\"2015-01-09\",\"2015-01-13\",\"2015-01-16\",\"2015-01-22\",\"2015-01-23\",\"2015-01-27\",\"2015-02-05\",\"2015-02-25\",\"2015-03-05\",\"2015-03-10\",\"2015-03-11\",\"2015-03-16\",\"2015-03-20\",\"2015-03-24\",\"2015-03-27\",\"2015-03-30\",\"2015-04-02\",\"2015-04-23\",\"2015-05-05\",\"2015-05-07\",\"2015-05-13\",\"2015-05-15\",\"2015-05-22\",\"2015-05-27\",\"2015-05-28\",\"2015-05-29\",\"2015-07-01\",\"2015-07-07\",\"2015-07-08\",\"2015-07-10\",\"2015-07-14\",\"2015-07-15\",\"2015-07-28\",\"2015-07-30\",\"2015-08-12\",\"2015-08-24\",\"2015-08-26\",\"2015-08-27\",\"2015-09-08\",\"2015-09-09\",\"2015-09-10\",\"2015-09-15\",\"2015-09-16\",\"2015-09-21\",\"2015-09-29\",\"2015-10-06\",\"2015-10-13\",\"2015-10-16\",\"2015-10-20\",\"2015-10-30\",\"2015-11-06\",\"2015-11-30\",\"2015-12-21\",\"2015-12-29\",\"2015-12-30\",\"2016-01-06\",\"2016-01-14\",\"2016-01-25\",\"2016-01-29\",\"2016-02-05\",\"2016-02-19\",\"2016-02-22\",\"2016-02-23\",\"2016-03-08\",\"2016-03-15\",\"2016-03-18\",\"2016-03-21\",\"2016-03-23\",\"2016-03-31\",\"2016-04-14\",\"2016-04-15\",\"2016-04-18\",\"2016-04-28\",\"2016-05-05\",\"2016-05-13\",\"2016-05-16\",\"2016-05-18\",\"2016-05-19\",\"2016-05-24\",\"2016-05-27\",\"2016-05-31\",\"2016-06-03\",\"2016-06-13\",\"2016-06-15\",\"2016-06-20\",\"2016-06-27\",\"2016-07-01\",\"2016-07-22\",\"2016-08-01\",\"2016-08-02\",\"2016-08-12\",\"2016-08-16\",\"2016-09-01\",\"2016-09-15\",\"2016-09-23\",\"2016-10-07\",\"2016-10-24\",\"2016-10-27\",\"2016-10-28\",\"2016-11-01\",\"2016-11-18\",\"2016-11-22\",\"2016-11-30\",\"2016-12-08\",\"2016-12-22\",\"2016-12-27\",\"2017-01-03\",\"2017-01-05\",\"2017-01-06\",\"2017-01-31\",\"2017-02-15\",\"2017-03-10\",\"2017-03-14\",\"2017-03-17\",\"2017-03-20\",\"2017-03-21\",\"2017-03-31\",\"2017-04-05\",\"2017-04-19\",\"2017-04-24\",\"2017-05-02\",\"2017-05-15\",\"2017-05-17\",\"2017-06-01\",\"2017-06-08\",\"2017-06-09\",\"2017-06-13\",\"2017-06-22\",\"2017-06-26\",\"2017-06-29\",\"2017-07-24\",\"2017-07-31\",\"2017-08-09\",\"2017-08-11\",\"2017-08-22\",\"2017-08-23\",\"2017-08-25\",\"2017-09-12\",\"2017-09-13\",\"2017-09-18\",\"2017-09-20\",\"2017-10-04\",\"2017-10-06\",\"2017-11-24\",\"2017-12-04\",\"2017-12-06\",\"2017-12-12\",\"2017-12-18\",\"2017-12-19\",\"2017-12-20\",\"2017-12-29\",\"2018-01-10\",\"2018-01-11\",\"2018-01-19\",\"2018-01-24\",\"2018-01-25\",\"2018-01-30\",\"2018-02-01\",\"2018-02-05\",\"2018-02-07\",\"2018-02-22\",\"2018-02-28\",\"2018-03-01\",\"2018-03-02\",\"2018-03-12\",\"2018-03-13\",\"2018-03-16\",\"2018-03-20\",\"2018-04-04\",\"2018-04-05\",\"2018-04-12\",\"2018-04-20\",\"2018-05-04\",\"2018-05-14\",\"2018-05-15\",\"2018-05-25\",\"2018-05-30\",\"2018-06-13\",\"2018-06-19\",\"2018-06-25\",\"2018-07-03\",\"2018-07-19\",\"2018-07-20\",\"2018-07-30\",\"2018-08-27\",\"2018-08-29\",\"2018-09-04\",\"2018-09-06\",\"2018-09-11\",\"2018-09-26\",\"2018-09-27\",\"2018-10-12\",\"2018-10-16\",\"2018-10-25\",\"2018-10-31\",\"2018-11-08\",\"2018-11-09\",\"2018-11-12\",\"2018-11-15\",\"2018-11-16\",\"2018-11-19\",\"2018-11-21\",\"2018-11-28\",\"2018-12-13\",\"2018-12-20\",\"2019-01-25\",\"2019-02-14\",\"2019-03-01\",\"2019-03-05\",\"2019-03-06\",\"2019-03-15\",\"2019-03-18\",\"2019-03-20\",\"2019-03-25\",\"2019-03-27\",\"2019-03-29\",\"2019-04-01\",\"2019-04-02\",\"2019-04-04\",\"2019-04-08\",\"2019-04-12\",\"2019-04-18\",\"2019-04-24\",\"2019-04-29\",\"2019-05-06\",\"2019-05-17\",\"2019-05-22\",\"2019-06-03\",\"2019-06-10\",\"2019-06-14\",\"2019-06-18\",\"2019-06-25\",\"2019-07-02\",\"2019-07-10\",\"2019-07-25\",\"2019-08-07\",\"2019-08-08\",\"2019-08-13\",\"2019-09-06\",\"2019-09-09\",\"2019-09-10\",\"2019-09-11\",\"2019-09-23\",\"2019-09-25\",\"2019-10-10\",\"2019-10-24\",\"2019-10-31\",\"2019-11-01\",\"2019-11-04\",\"2019-11-22\",\"2019-12-03\",\"2019-12-11\",\"2019-12-19\",\"2019-12-24\",\"2019-12-27\",\"2020-01-06\",\"2020-01-09\",\"2020-01-16\",\"2020-01-17\",\"2020-01-31\",\"2020-02-05\",\"2020-02-13\",\"2020-02-19\",\"2020-02-21\",\"2020-03-04\",\"2020-03-06\",\"2020-03-10\",\"2020-03-12\",\"2020-03-25\"],\"y\":[3.859375,3.9453125,4.078125,4.1875,4.21875,4.46875,4.1953125,4.1640625,4.2734375,4.109375,4.125,4.1953125,3.8046875,3.609375,3.578125,3.51953125,3.5234375,3.515625,3.53125,3.4765625,3.6171875,3.3359375,3.46875,3.666249990463257,3.65625,3.652499914169312,3.766249895095825,3.706249952316284,3.791249990463257,3.518749952316284,3.75,3.677500009536743,3.640000104904175,3.502500057220459,3.662499904632568,3.674999952316284,3.765000104904175,3.5762500762939453,3.865000009536743,4.144999980926514,4.198750019073486,4.193749904632568,4.051249980926514,4.068749904632568,3.7587499618530273,3.668750047683716,3.5737500190734863,3.640000104904175,3.631249904632568,3.846250057220459,3.825000047683716,3.75,3.7074999809265137,3.6762499809265137,3.315000057220459,3.190000057220459,3.5,3.4487500190734863,3.4124999046325684,3.275000095367432,3.430000066757202,3.3125,3.333750009536743,3.4049999713897705,2.90625,3.103749990463257,3.008749961853028,3.049999952316284,3.0799999237060547,2.977499961853028,3.0537500381469727,3.0299999713897705,3.0062499046325684,3.032500028610229,3.1912500858306885,3.3125,3.493750095367432,3.706249952316284,3.671250104904175,3.816250085830689,3.952500104904175,4.074999809265137,4.067500114440918,3.944999933242798,3.96875,3.9487500190734863,4.006249904632568,4.067500114440918,4.148749828338623,4.119999885559082,4.143750190734863,4.227499961853027,4.065000057220459,4.017499923706055,4.0625,4.106249809265137,4.102499961853027,4.00124979019165,3.682499885559082,3.5625,3.8424999713897705,3.982500076293945,4.152500152587891,4.065000057220459,4.224999904632568,4.197500228881836,4.051249980926514,4.028749942779541,3.839999914169312,3.666249990463257,3.588749885559082,3.793750047683716,3.352499961853028,3.212500095367432,3.223750114440918,3.1287500858306885,3.25,3.240000009536743,3.1987500190734863,3.383749961853028,3.6887500286102295,3.6262500286102295,3.694999933242798,3.732500076293945,3.809999942779541,3.776249885559082,3.9362499713897705,3.868750095367432,3.9149999618530273,3.911250114440918,3.887500047683716,4.306250095367432,4.446249961853027,4.125,4.096250057220459,4.137499809265137,4.152500152587891,4.480000019073486,4.397500038146973,4.463749885559082,4.683750152587891,4.929999828338623,5.256249904632568,4.988749980926514,4.75,4.818749904632568,4.762499809265137,4.65500020980835,4.832499980926514,5.150000095367432,5.144999980926514,5.079999923706055,5.03125,5.008749961853027,5.016250133514404,4.925000190734863,4.847499847412109,4.976250171661377,4.992499828338623,5.043749809265137,5.257500171661377,5.502500057220459,5.537499904632568,5.431250095367432,5.505000114440918,5.09375,5.309999942779541,5.351250171661377,5.494999885559082,5.892499923706055,5.671249866485596,5.826250076293945,6.612500190734863,6.426249980926514,6.776249885559082,6.431250095367432,6.458749771118164,6.300000190734863,6.62624979019165,7.131249904632568,6.87624979019165,6.731249809265137,6.670000076293945,7.018750190734863,7.309999942779541,7.414999961853027,7.139999866485596,7.539999961853027,7.366250038146973,6.652500152587891,6.482500076293945,6.602499961853027,7.34499979019165,7.380000114440918,7.577499866485596,7.277500152587891,7.902500152587891,7.857500076293945,7.730000019073486,8.119999885559082,7.784999847412109,7.872499942779541,8.362500190734863,8.479999542236328,8.867500305175781,9.38249969482422,10.36750030517578,10.369999885559082,10.489999771118164,10.1850004196167,9.9375,10.302499771118164,10.522500038146973,9.520000457763672,9.625,10.4975004196167,10.022500038146973,10.154999732971191,10.807499885559082,10.852499961853027,10.954999923706056,10.755000114440918,10.717499732971191,13.137499809265137,13.63249969482422,14.607500076293944,14.677499771118164,15.074999809265137,14.5,14.307499885559082,14.350000381469728,14.392499923706056,14.399999618530272,13.005000114440918,13.037500381469728,13.395000457763672,12.899999618530272,14.087499618530272,14.177499771118164,15.199999809265137,15.1850004196167,18.600000381469727,18.280000686645508,18.709999084472656,18.190000534057617,19.834999084472656,20.155000686645508,20.209999084472656,20.790000915527344,22.01000022888184,22.729999542236328,24.049999237060547,22.424999237060547,23.21999931335449,22.809999465942383,23.059999465942383,20.70499992370605,19.084999084472656,18.940000534057617,19.65999984741211,20.81999969482422,20.71500015258789,20.21999931335449,23.07999992370605,23.90999984741211,22.44499969482422,22.69499969482422,23.739999771118164,22.6200008392334,24.32999992370605,24.434999465942383,25.03499984741211,24.825000762939453,25.424999237060547,26.165000915527344,25.46999931335449,24.95499992370605,24.049999237060547,25.94499969482422,30.114999771118164,29.8799991607666,28.934999465942383,26.979999542236328,27.34000015258789,28.059999465942383,30.1299991607666,28.125,27.424999237060547,27.69499969482422,29.8799991607666,31.61000061035156,30.600000381469727,28.229999542236328,27.270000457763672,27.399999618530277,26.084999084472656,26.530000686645508,25.34499931335449,23.70499992370605,24.75,26.834999084472656,25.405000686645508,25.149999618530277,26.71999931335449,26.06999969482422,26.645000457763672,26.940000534057617,27.03499984741211,22.790000915527344,21.309999465942383,22.489999771118164,23.36000061035156,26.725000381469727,26.09000015258789,25.174999237060547,25.38500022888184,26.21500015258789,27.5049991607666,25.7450008392334,25.71500015258789,25.809999465942383,26.614999771118164,23.104999542236328,23.2450008392334,24.270000457763672,25.01000022888184,24.825000762939453,26.01499938964844,26.03499984741211,25.315000534057617,26.899999618530277,30.040000915527344,29.61000061035156,29.5049991607666,29.80500030517578,31.625,31.59000015258789,31.434999465942383,32.28499984741211,33.915000915527344,34.6150016784668,33.51499938964844,33.67499923706055,34.275001525878906,36.2599983215332,34.68000030517578,33.04999923706055,33.20500183105469,35.1150016784668,34.400001525878906,37.45000076293945,37.79499816894531,37.45500183105469,37.61000061035156,37.875,36.77000045776367,38.75,40.75,34.16999816894531,35.44499969482422,36.14500045776367,37.43999862670898,38.07500076293945,37.119998931884766,34.67499923706055,29.78499984741211,31.51000022888184,31.34000015258789,31.30500030517578,31.434999465942383,32.36000061035156,36.69499969482422,37.41999816894531,37.68999862670898,37.64500045776367,36.43999862670898,33.94499969482422,34.51499938964844,34.70000076293945,35.04999923706055,38.30500030517578,38.32500076293945,43.709999084472656,43.33000183105469,42.790000915527344,53.119998931884766,48.2599983215332,50.27999877929688,51.52000045776367,50.89500045776367,50.75,49.790000915527344,44.84000015258789,37.73500061035156,36.52000045776367,37.82500076293945,37.540000915527344,38.72499847412109,42.68999862670898,41.720001220703125,43.11000061035156,36.875,41.20000076293945,40.709999084472656,39.06499862670898,23.674999237060547,24.459999084472656,25.825000762939453,22.86000061035156,19.420000076293945,18.924999237060547,16.78499984741211,18.399999618530277,20.315000534057617,18.25,17.549999237060547,17.860000610351562,18.725000381469727,18.44499969482422,18.010000228881836,17.434999465942383,15.800000190734863,18.94499969482422,19.7549991607666,20.46500015258789,19.84499931335449,20.665000915527344,21.21500015258789,20.69499969482422,22.290000915527344,22.670000076293945,22.95499992370605,23.905000686645508,25.700000762939453,26.709999084472656,29.155000686645508,28.934999465942383,27.524999618530277,26.959999084472656,24.34000015258789,26.049999237060547,26.09000015258789,25.5049991607666,28.155000686645508,29.415000915527344,29.2549991607666,29.545000076293945,27.690000534057617,32.45500183105469,33.345001220703125,37.69499969482422,34.45500183105469,32.224998474121094,34.57500076293945,33.150001525878906,36.880001068115234,35.96500015258789,35.44499969482422,33.974998474121094,33.18000030517578,32.8849983215332,32.8849983215332,32.529998779296875,32.720001220703125,34.540000915527344,35.91999816894531,36.0,39.52999877929688,39.04499816894531,37.994998931884766,37.525001525878906,38.63999938964844,37.560001373291016,34.540000915527344,32.630001068115234,34.290000915527344,35.599998474121094,32.79999923706055,35.61000061035156,34.25,35.59000015258789,34.66999816894531,35.75,36.02000045776367,32.150001525878906,32.20000076293945,33.779998779296875,32.0,33.22999954223633,33.59000015258789,35.560001373291016,37.52000045776367,36.880001068115234,37.369998931884766,39.2400016784668,39.970001220703125,37.86000061035156,40.56999969482422,43.790000915527344,43.720001220703125,41.900001525878906,42.630001068115234,42.16999816894531,42.31999969482422,41.47999954223633,44.52000045776367,45.34999847412109,44.77999877929688,45.150001525878906,47.900001525878906,50.18999862670898,51.209999084472656,49.7599983215332,48.970001220703125,47.88999938964844,49.7599983215332,49.209999084472656,48.43999862670898,45.40999984741211,45.11000061035156,46.619998931884766,46.09999847412109,45.97999954223633,46.31999969482422,43.619998931884766,40.709999084472656,42.27000045776367,40.25,38.7599983215332,38.810001373291016,41.220001220703125,42.59000015258789,41.16999816894531,42.470001220703125,43.02000045776367,41.63999938964844,40.290000915527344,36.02000045776367,36.66999816894531,36.619998931884766,34.2599983215332,33.189998626708984,34.849998474121094,36.18000030517578,36.13999938964844,33.880001068115234,34.310001373291016,31.739999771118164,30.040000915527344,30.34000015258789,27.59000015258789,27.43000030517578,29.540000915527344,30.270000457763672,29.1299991607666,31.270000457763672,31.920000076293945,34.2599983215332,36.81999969482422,33.40999984741211,37.84000015258789,36.209999084472656,35.150001525878906,32.63999938964844,37.34000015258789,37.68000030517578,35.560001373291016,36.61000061035156,39.38999938964844,38.08000183105469,37.68999862670898,38.5099983215332,40.20000076293945,39.77000045776367,40.43000030517578,41.060001373291016,38.7400016784668,38.09000015258789,37.209999084472656,37.650001525878906,37.11000061035156,35.13999938964844,35.150001525878906,34.02000045776367,31.15999984741211,31.68000030517578,33.099998474121094,33.310001373291016,30.190000534057617,30.729999542236328,30.65999984741211,30.75,31.34000015258789,27.420000076293945,27.38999938964844,26.790000915527344,28.280000686645508,26.850000381469727,26.809999465942383,25.280000686645508,27.07999992370605,28.049999237060547,27.479999542236328,27.88999938964844,32.15999984741211,30.950000762939453,30.709999084472656,30.6299991607666,31.0,29.71999931335449,30.1299991607666,29.989999771118164,30.43000030517578,27.700000762939453,27.309999465942383,27.63999938964844,27.51000022888184,28.450000762939453,28.489999771118164,28.729999542236328,28.5,30.549999237060547,30.13999938964844,29.57999992370605,30.32999992370605,31.46999931335449,31.739999771118164,31.15999984741211,30.489999771118164,29.790000915527344,31.190000534057617,32.540000915527344,32.41999816894531,32.119998931884766,30.540000915527344,30.63999938964844,29.34000015258789,29.32999992370605,29.170000076293945,29.18000030517578,29.280000686645508,28.299999237060547,30.34000015258789,33.11000061035156,32.84000015258789,31.46999931335449,31.3700008392334,30.82999992370605,30.479999542236328,29.700000762939453,31.43000030517578,31.31999969482422,31.65999984741211,31.530000686645508,31.38999938964844,31.799999237060547,30.790000915527344,30.989999771118164,32.16999816894531,30.920000076293945,31.15999984741211,30.61000061035156,32.560001373291016,32.220001220703125,32.38999938964844,32.150001525878906,32.25,32.93000030517578,32.79999923706055,32.84000015258789,32.0,33.939998626708984,34.27000045776367,35.040000915527344,36.68999862670898,36.84000015258789,36.630001068115234,35.68000030517578,35.79999923706055,38.47999954223633,39.72999954223633,40.540000915527344,39.400001525878906,40.43999862670898,40.68000030517578,39.79999923706055,39.75,40.7599983215332,42.09000015258789,45.63999938964844,44.65999984741211,45.720001220703125,46.150001525878906,45.0,45.650001525878906,45.77000045776367,42.040000915527344,42.02000045776367,41.290000915527344,41.0099983215332,41.31999969482422,43.06999969482422,41.7400016784668,41.18999862670898,39.470001220703125,37.77000045776367,37.150001525878906,34.93000030517578,32.02000045776367,34.2599983215332,34.58000183105469,33.70000076293945,34.689998626708984,36.02999877929688,35.56999969482422,34.2599983215332,27.309999465942383,27.920000076293945,31.649999618530277,27.940000534057617,26.559999465942383,27.38999938964844,28.270000457763672,29.26000022888184,29.1200008392334,28.21999931335449,31.25,29.489999771118164,29.709999084472656,28.81999969482422,28.65999984741211,29.440000534057617,29.8700008392334,30.82999992370605,30.82999992370605,30.709999084472656,32.2599983215332,33.619998931884766,31.959999084472656,31.6200008392334,31.530000686645508,31.34000015258789,30.520000457763672,30.739999771118164,30.84000015258789,30.3799991607666,26.979999542236328,25.899999618530277,25.809999465942383,26.07999992370605,25.549999237060547,25.40999984741211,23.71999931335449,24.3799991607666,23.700000762939453,19.34000015258789,21.350000381469727,21.799999237060547,20.520000457763672,20.84000015258789,20.030000686645508,21.209999084472656,21.21999931335449,20.07999992370605,19.450000762939453,23.8799991607666,24.01000022888184,23.280000686645508,23.209999084472656,23.799999237060547,24.82999992370605,24.200000762939453,20.790000915527344,21.81999969482422,21.82999992370605,19.549999237060547,16.81999969482422,18.76000022888184,20.899999618530277,20.979999542236328,21.040000915527344,20.0,19.950000762939453,26.299999237060547,27.57999992370605,27.21999931335449,27.65999984741211,26.57999992370605,25.799999237060547,28.559999465942383,29.3700008392334,30.020000457763672,30.020000457763672,27.71999931335449,29.280000686645508,29.690000534057617,28.540000915527344,28.88999938964844,29.899999618530277,29.739999771118164,29.030000686645508,29.940000534057617,28.899999618530277,28.700000762939453,30.34000015258789,29.3700008392334,30.8799991607666,30.06999969482422,29.600000381469727,30.13999938964844,32.45000076293945,32.400001525878906,31.850000381469727,29.200000762939453,29.549999237060547,32.33000183105469,32.709999084472656,32.38999938964844,31.709999084472656,31.46999931335449,32.880001068115234,32.70000076293945,34.06999969482422,33.380001068115234,32.15999984741211,32.209999084472656,32.84000015258789,32.58000183105469,31.600000381469727,30.1299991607666,30.34000015258789,31.790000915527344,32.86000061035156,32.22999954223633,31.790000915527344,32.02000045776367,32.66999816894531,33.400001525878906,32.529998779296875,33.40999984741211,31.530000686645508,31.190000534057617,30.440000534057617,28.850000381469727,29.25,29.38999938964844,28.21999931335449,28.5,28.540000915527344,28.84000015258789,30.40999984741211,30.520000457763672,31.309999465942383,30.86000061035156,30.8700008392334,30.90999984741211,30.8700008392334,33.029998779296875,32.97999954223633,33.0,34.20000076293945,33.40999984741211,32.9900016784668,33.529998779296875,35.150001525878906,34.56999969482422,33.83000183105469,33.79999923706055,34.22999954223633,34.83000183105469,36.540000915527344,36.72999954223633,37.13999938964844,36.06999969482422,35.95000076293945,36.02999877929688,34.150001525878906,33.689998626708984,31.93000030517578,29.76000022888184,32.150001525878906,31.049999237060547,30.88999938964844,31.030000686645508,29.959999084472656,29.920000076293945,29.799999237060547,31.450000762939453,33.79999923706055,33.02000045776367,35.130001068115234,35.779998779296875,35.11000061035156,36.40999984741211,36.70000076293945,34.27000045776367,34.560001373291016,32.06999969482422,32.02000045776367,33.95000076293945,35.470001220703125,35.22999954223633,35.0099983215332,36.63999938964844,35.31999969482422,34.970001220703125,33.290000915527344,32.43000030517578,31.940000534057617,33.029998779296875,32.65999984741211,28.770000457763672,28.63999938964844,28.190000534057617,28.90999984741211,28.15999984741211,28.1200008392334,27.26000022888184,27.1200008392334,27.200000762939453,26.26000022888184,25.21999931335449,25.200000762939453,25.6299991607666,23.26000022888184,26.209999084472656,27.850000381469727,27.280000686645508,26.690000534057617,27.31999969482422,28.020000457763672,27.799999237060547,28.450000762939453,27.770000457763672,27.459999084472656,27.940000534057617,27.809999465942383,27.71999931335449,28.670000076293945,29.34000015258789,29.6200008392334,31.07999992370605,30.15999984741211,29.979999542236328,27.690000534057617,27.100000381469727,25.84000015258789,26.84000015258789,27.209999084472656,26.93000030517578,27.0,27.850000381469727,26.600000381469727,27.6200008392334,24.940000534057617,24.450000762939453,24.38999938964844,23.239999771118164,24.729999542236328,25.68000030517578,25.420000076293945,25.350000381469727,27.13999938964844,26.709999084472656,25.450000762939453,26.040000915527344,25.93000030517578,26.520000457763672,26.46999931335449,28.280000686645508,28.36000061035156,30.46999931335449,31.600000381469727,32.18000030517578,32.189998626708984,32.220001220703125,31.76000022888184,31.709999084472656,31.149999618530277,28.07999992370605,29.149999618530277,29.290000915527344,30.43000030517578,28.57999992370605,24.25,15.729999542236328,15.079999923706056,14.380000114440918,10.40999984741211],\"type\":\"scatter\"},{\"mode\":\"lines\",\"name\":\"Predicted\",\"x\":[\"2000-08-14\",\"2000-08-22\",\"2000-09-05\",\"2000-09-06\",\"2000-09-11\",\"2000-09-13\",\"2000-09-26\",\"2000-09-28\",\"2000-10-04\",\"2000-10-05\",\"2000-10-11\",\"2000-10-12\",\"2000-10-26\",\"2000-11-08\",\"2000-11-10\",\"2000-11-14\",\"2000-11-15\",\"2000-11-17\",\"2000-11-28\",\"2000-11-29\",\"2000-12-08\",\"2001-01-04\",\"2001-01-18\",\"2001-01-29\",\"2001-01-30\",\"2001-01-31\",\"2001-02-02\",\"2001-02-05\",\"2001-02-12\",\"2001-02-28\",\"2001-03-15\",\"2001-03-26\",\"2001-03-28\",\"2001-04-03\",\"2001-04-09\",\"2001-04-11\",\"2001-04-24\",\"2001-05-03\",\"2001-05-14\",\"2001-05-23\",\"2001-05-30\",\"2001-06-05\",\"2001-06-11\",\"2001-06-13\",\"2001-06-21\",\"2001-07-02\",\"2001-07-20\",\"2001-07-23\",\"2001-07-27\",\"2001-08-03\",\"2001-08-06\",\"2001-08-16\",\"2001-08-22\",\"2001-09-10\",\"2001-09-19\",\"2001-10-01\",\"2001-10-10\",\"2001-10-12\",\"2001-10-16\",\"2001-10-17\",\"2001-10-25\",\"2001-10-31\",\"2001-11-09\",\"2001-11-12\",\"2001-11-16\",\"2001-11-29\",\"2001-12-21\",\"2001-12-26\",\"2001-12-27\",\"2001-12-31\",\"2002-01-04\",\"2002-01-15\",\"2002-01-18\",\"2002-01-22\",\"2002-01-28\",\"2002-02-01\",\"2002-02-19\",\"2002-02-26\",\"2002-02-27\",\"2002-03-11\",\"2002-03-19\",\"2002-03-26\",\"2002-04-02\",\"2002-04-03\",\"2002-04-04\",\"2002-04-15\",\"2002-04-16\",\"2002-04-18\",\"2002-04-25\",\"2002-04-29\",\"2002-04-30\",\"2002-05-02\",\"2002-05-13\",\"2002-05-14\",\"2002-05-23\",\"2002-05-24\",\"2002-05-28\",\"2002-06-17\",\"2002-07-19\",\"2002-07-22\",\"2002-07-23\",\"2002-08-02\",\"2002-08-05\",\"2002-08-06\",\"2002-08-13\",\"2002-08-26\",\"2002-09-04\",\"2002-09-06\",\"2002-09-18\",\"2002-10-07\",\"2002-10-08\",\"2002-10-15\",\"2002-10-29\",\"2002-11-07\",\"2002-11-11\",\"2002-11-13\",\"2002-11-19\",\"2002-11-20\",\"2002-11-25\",\"2002-12-04\",\"2002-12-12\",\"2002-12-17\",\"2002-12-26\",\"2002-12-27\",\"2003-01-02\",\"2003-01-14\",\"2003-01-22\",\"2003-01-29\",\"2003-02-06\",\"2003-02-11\",\"2003-02-13\",\"2003-02-27\",\"2003-03-07\",\"2003-03-13\",\"2003-03-20\",\"2003-03-25\",\"2003-04-28\",\"2003-05-06\",\"2003-05-08\",\"2003-05-12\",\"2003-05-19\",\"2003-06-02\",\"2003-06-10\",\"2003-06-27\",\"2003-07-10\",\"2003-07-15\",\"2003-07-21\",\"2003-07-29\",\"2003-08-04\",\"2003-08-08\",\"2003-08-11\",\"2003-08-15\",\"2003-08-18\",\"2003-08-19\",\"2003-08-22\",\"2003-08-25\",\"2003-08-26\",\"2003-09-12\",\"2003-09-25\",\"2003-09-26\",\"2003-10-01\",\"2003-10-09\",\"2003-10-13\",\"2003-10-17\",\"2003-10-24\",\"2003-11-04\",\"2003-11-12\",\"2003-11-17\",\"2003-11-20\",\"2003-12-05\",\"2003-12-15\",\"2003-12-16\",\"2004-01-05\",\"2004-01-07\",\"2004-01-20\",\"2004-02-10\",\"2004-02-13\",\"2004-02-18\",\"2004-02-25\",\"2004-03-05\",\"2004-03-10\",\"2004-03-23\",\"2004-03-24\",\"2004-03-31\",\"2004-04-05\",\"2004-04-08\",\"2004-04-13\",\"2004-04-14\",\"2004-05-03\",\"2004-05-07\",\"2004-05-26\",\"2004-06-03\",\"2004-06-18\",\"2004-06-21\",\"2004-06-24\",\"2004-06-28\",\"2004-07-13\",\"2004-07-14\",\"2004-07-23\",\"2004-07-28\",\"2004-08-11\",\"2004-08-23\",\"2004-08-31\",\"2004-09-13\",\"2004-09-16\",\"2004-09-23\",\"2004-10-19\",\"2004-10-27\",\"2004-10-28\",\"2004-11-01\",\"2004-11-10\",\"2004-11-18\",\"2004-11-30\",\"2004-12-06\",\"2004-12-10\",\"2004-12-28\",\"2005-01-06\",\"2005-01-10\",\"2005-01-11\",\"2005-01-13\",\"2005-01-14\",\"2005-01-20\",\"2005-01-21\",\"2005-02-11\",\"2005-02-15\",\"2005-02-24\",\"2005-03-02\",\"2005-03-03\",\"2005-03-15\",\"2005-03-21\",\"2005-03-31\",\"2005-04-01\",\"2005-04-05\",\"2005-04-13\",\"2005-04-19\",\"2005-04-22\",\"2005-04-26\",\"2005-05-05\",\"2005-05-06\",\"2005-06-02\",\"2005-06-07\",\"2005-06-17\",\"2005-06-22\",\"2005-06-24\",\"2005-06-29\",\"2005-07-19\",\"2005-07-21\",\"2005-07-26\",\"2005-07-28\",\"2005-08-02\",\"2005-08-03\",\"2005-08-09\",\"2005-08-22\",\"2005-09-09\",\"2005-09-23\",\"2005-09-27\",\"2005-10-04\",\"2005-10-12\",\"2005-10-17\",\"2005-10-18\",\"2005-10-24\",\"2005-10-25\",\"2005-10-26\",\"2005-11-04\",\"2005-11-08\",\"2005-11-09\",\"2005-11-11\",\"2005-11-15\",\"2005-11-17\",\"2005-12-02\",\"2005-12-05\",\"2005-12-07\",\"2005-12-08\",\"2005-12-09\",\"2005-12-12\",\"2005-12-20\",\"2005-12-22\",\"2005-12-23\",\"2006-01-10\",\"2006-01-20\",\"2006-01-23\",\"2006-02-07\",\"2006-02-13\",\"2006-02-22\",\"2006-02-23\",\"2006-03-01\",\"2006-03-16\",\"2006-03-17\",\"2006-03-30\",\"2006-04-11\",\"2006-04-20\",\"2006-05-02\",\"2006-05-05\",\"2006-05-31\",\"2006-06-01\",\"2006-06-02\",\"2006-06-05\",\"2006-06-07\",\"2006-06-13\",\"2006-06-22\",\"2006-07-05\",\"2006-07-14\",\"2006-07-17\",\"2006-08-02\",\"2006-08-03\",\"2006-08-04\",\"2006-08-18\",\"2006-08-24\",\"2006-09-28\",\"2006-10-03\",\"2006-10-06\",\"2006-10-12\",\"2006-10-25\",\"2006-11-08\",\"2006-11-15\",\"2006-11-17\",\"2006-11-27\",\"2006-12-01\",\"2006-12-15\",\"2006-12-19\",\"2006-12-20\",\"2006-12-28\",\"2007-01-03\",\"2007-01-12\",\"2007-01-25\",\"2007-01-30\",\"2007-02-01\",\"2007-03-08\",\"2007-03-09\",\"2007-03-15\",\"2007-03-22\",\"2007-04-12\",\"2007-04-17\",\"2007-04-19\",\"2007-04-27\",\"2007-05-02\",\"2007-05-08\",\"2007-05-14\",\"2007-05-25\",\"2007-05-31\",\"2007-06-18\",\"2007-06-20\",\"2007-07-03\",\"2007-07-10\",\"2007-07-20\",\"2007-07-23\",\"2007-08-03\",\"2007-08-06\",\"2007-08-31\",\"2007-09-07\",\"2007-09-12\",\"2007-09-13\",\"2007-09-14\",\"2007-09-19\",\"2007-09-27\",\"2007-10-03\",\"2007-10-18\",\"2007-11-08\",\"2007-12-07\",\"2007-12-20\",\"2007-12-26\",\"2007-12-31\",\"2008-01-02\",\"2008-01-03\",\"2008-01-14\",\"2008-01-22\",\"2008-01-23\",\"2008-01-28\",\"2008-02-08\",\"2008-02-11\",\"2008-02-14\",\"2008-02-26\",\"2008-02-28\",\"2008-02-29\",\"2008-03-03\",\"2008-03-11\",\"2008-03-24\",\"2008-03-27\",\"2008-04-01\",\"2008-04-02\",\"2008-04-08\",\"2008-04-10\",\"2008-04-18\",\"2008-04-21\",\"2008-05-01\",\"2008-05-19\",\"2008-06-02\",\"2008-06-09\",\"2008-06-10\",\"2008-06-11\",\"2008-06-18\",\"2008-06-26\",\"2008-07-15\",\"2008-07-28\",\"2008-08-01\",\"2008-08-05\",\"2008-08-14\",\"2008-08-18\",\"2008-08-20\",\"2008-08-25\",\"2008-08-26\",\"2008-09-09\",\"2008-09-18\",\"2008-09-24\",\"2008-09-25\",\"2008-10-13\",\"2008-10-17\",\"2008-11-04\",\"2008-11-06\",\"2008-11-11\",\"2008-12-02\",\"2008-12-05\",\"2008-12-11\",\"2008-12-15\",\"2008-12-18\",\"2008-12-19\",\"2008-12-23\",\"2009-01-13\",\"2009-01-23\",\"2009-01-26\",\"2009-02-10\",\"2009-02-13\",\"2009-03-11\",\"2009-03-16\",\"2009-03-18\",\"2009-03-19\",\"2009-03-23\",\"2009-03-24\",\"2009-04-06\",\"2009-04-08\",\"2009-04-09\",\"2009-04-15\",\"2009-04-24\",\"2009-05-06\",\"2009-05-18\",\"2009-06-09\",\"2009-06-11\",\"2009-06-12\",\"2009-06-15\",\"2009-06-22\",\"2009-06-24\",\"2009-06-30\",\"2009-07-13\",\"2009-07-16\",\"2009-07-17\",\"2009-07-22\",\"2009-08-25\",\"2009-09-01\",\"2009-09-10\",\"2009-09-28\",\"2009-10-13\",\"2009-10-26\",\"2009-11-03\",\"2009-11-13\",\"2009-12-11\",\"2009-12-31\",\"2010-01-06\",\"2010-01-11\",\"2010-01-20\",\"2010-01-22\",\"2010-01-25\",\"2010-01-26\",\"2010-01-29\",\"2010-02-03\",\"2010-02-26\",\"2010-03-12\",\"2010-03-26\",\"2010-04-05\",\"2010-04-12\",\"2010-04-15\",\"2010-04-26\",\"2010-04-28\",\"2010-05-03\",\"2010-05-06\",\"2010-05-25\",\"2010-06-08\",\"2010-06-22\",\"2010-07-01\",\"2010-07-12\",\"2010-07-20\",\"2010-07-23\",\"2010-07-27\",\"2010-08-03\",\"2010-08-04\",\"2010-08-12\",\"2010-08-19\",\"2010-09-01\",\"2010-09-22\",\"2010-09-24\",\"2010-09-27\",\"2010-10-01\",\"2010-10-05\",\"2010-10-06\",\"2010-11-02\",\"2010-11-03\",\"2010-11-09\",\"2010-11-16\",\"2010-11-30\",\"2010-12-21\",\"2010-12-27\",\"2011-01-07\",\"2011-01-14\",\"2011-01-19\",\"2011-01-21\",\"2011-01-24\",\"2011-01-28\",\"2011-01-31\",\"2011-02-01\",\"2011-02-14\",\"2011-02-17\",\"2011-02-28\",\"2011-03-01\",\"2011-03-18\",\"2011-03-23\",\"2011-03-25\",\"2011-04-04\",\"2011-04-05\",\"2011-04-06\",\"2011-04-14\",\"2011-04-15\",\"2011-04-20\",\"2011-04-25\",\"2011-04-26\",\"2011-04-29\",\"2011-05-05\",\"2011-05-12\",\"2011-05-24\",\"2011-06-09\",\"2011-06-23\",\"2011-06-24\",\"2011-06-28\",\"2011-07-05\",\"2011-07-15\",\"2011-07-18\",\"2011-07-25\",\"2011-07-26\",\"2011-07-28\",\"2011-08-04\",\"2011-08-11\",\"2011-08-15\",\"2011-08-17\",\"2011-08-19\",\"2011-09-02\",\"2011-09-06\",\"2011-09-07\",\"2011-09-09\",\"2011-09-12\",\"2011-09-20\",\"2011-09-21\",\"2011-09-28\",\"2011-09-30\",\"2011-10-03\",\"2011-10-04\",\"2011-10-05\",\"2011-10-06\",\"2011-10-14\",\"2011-10-18\",\"2011-10-25\",\"2011-10-27\",\"2011-10-31\",\"2011-11-02\",\"2011-11-16\",\"2011-11-18\",\"2011-11-23\",\"2011-11-29\",\"2011-12-02\",\"2011-12-12\",\"2011-12-28\",\"2011-12-30\",\"2012-01-05\",\"2012-01-11\",\"2012-01-19\",\"2012-01-26\",\"2012-01-27\",\"2012-02-01\",\"2012-02-02\",\"2012-02-06\",\"2012-02-07\",\"2012-02-15\",\"2012-02-24\",\"2012-02-28\",\"2012-03-12\",\"2012-03-19\",\"2012-03-30\",\"2012-04-09\",\"2012-04-23\",\"2012-04-25\",\"2012-05-02\",\"2012-05-11\",\"2012-05-22\",\"2012-05-23\",\"2012-05-24\",\"2012-05-25\",\"2012-05-31\",\"2012-06-07\",\"2012-06-08\",\"2012-06-18\",\"2012-06-28\",\"2012-06-29\",\"2012-07-09\",\"2012-07-23\",\"2012-07-27\",\"2012-07-31\",\"2012-08-02\",\"2012-08-17\",\"2012-08-24\",\"2012-08-28\",\"2012-10-02\",\"2012-10-19\",\"2012-10-23\",\"2012-10-24\",\"2012-11-01\",\"2012-11-05\",\"2012-11-12\",\"2012-11-14\",\"2012-11-16\",\"2012-11-20\",\"2012-11-27\",\"2012-11-29\",\"2012-12-17\",\"2012-12-24\",\"2013-01-03\",\"2013-01-09\",\"2013-01-14\",\"2013-02-04\",\"2013-02-11\",\"2013-02-12\",\"2013-02-13\",\"2013-02-27\",\"2013-03-04\",\"2013-03-06\",\"2013-03-15\",\"2013-03-18\",\"2013-04-01\",\"2013-04-04\",\"2013-04-05\",\"2013-04-29\",\"2013-05-02\",\"2013-05-15\",\"2013-06-05\",\"2013-06-07\",\"2013-06-24\",\"2013-07-08\",\"2013-07-18\",\"2013-07-24\",\"2013-08-01\",\"2013-08-02\",\"2013-08-05\",\"2013-08-08\",\"2013-08-21\",\"2013-08-27\",\"2013-09-09\",\"2013-09-16\",\"2013-09-19\",\"2013-09-20\",\"2013-09-30\",\"2013-10-02\",\"2013-10-07\",\"2013-10-10\",\"2013-11-04\",\"2013-11-06\",\"2013-11-11\",\"2013-11-14\",\"2013-11-15\",\"2013-11-26\",\"2013-12-04\",\"2013-12-17\",\"2014-01-02\",\"2014-01-14\",\"2014-01-15\",\"2014-01-23\",\"2014-02-04\",\"2014-02-06\",\"2014-02-13\",\"2014-02-18\",\"2014-02-19\",\"2014-02-25\",\"2014-03-12\",\"2014-03-13\",\"2014-03-31\",\"2014-04-03\",\"2014-04-08\",\"2014-04-10\",\"2014-04-21\",\"2014-05-05\",\"2014-05-07\",\"2014-05-19\",\"2014-05-21\",\"2014-06-05\",\"2014-06-20\",\"2014-06-23\",\"2014-06-26\",\"2014-06-30\",\"2014-07-17\",\"2014-07-21\",\"2014-07-23\",\"2014-07-31\",\"2014-08-07\",\"2014-08-12\",\"2014-08-13\",\"2014-08-15\",\"2014-08-25\",\"2014-09-03\",\"2014-09-17\",\"2014-09-26\",\"2014-09-30\",\"2014-10-03\",\"2014-10-08\",\"2014-10-14\",\"2014-10-21\",\"2014-10-28\",\"2014-10-31\",\"2014-11-05\",\"2014-11-06\",\"2014-11-14\",\"2014-12-02\",\"2014-12-12\",\"2014-12-15\",\"2014-12-18\",\"2015-01-08\",\"2015-01-09\",\"2015-01-13\",\"2015-01-16\",\"2015-01-22\",\"2015-01-23\",\"2015-01-27\",\"2015-02-05\",\"2015-02-25\",\"2015-03-05\",\"2015-03-10\",\"2015-03-11\",\"2015-03-16\",\"2015-03-20\",\"2015-03-24\",\"2015-03-27\",\"2015-03-30\",\"2015-04-02\",\"2015-04-23\",\"2015-05-05\",\"2015-05-07\",\"2015-05-13\",\"2015-05-15\",\"2015-05-22\",\"2015-05-27\",\"2015-05-28\",\"2015-05-29\",\"2015-07-01\",\"2015-07-07\",\"2015-07-08\",\"2015-07-10\",\"2015-07-14\",\"2015-07-15\",\"2015-07-28\",\"2015-07-30\",\"2015-08-12\",\"2015-08-24\",\"2015-08-26\",\"2015-08-27\",\"2015-09-08\",\"2015-09-09\",\"2015-09-10\",\"2015-09-15\",\"2015-09-16\",\"2015-09-21\",\"2015-09-29\",\"2015-10-06\",\"2015-10-13\",\"2015-10-16\",\"2015-10-20\",\"2015-10-30\",\"2015-11-06\",\"2015-11-30\",\"2015-12-21\",\"2015-12-29\",\"2015-12-30\",\"2016-01-06\",\"2016-01-14\",\"2016-01-25\",\"2016-01-29\",\"2016-02-05\",\"2016-02-19\",\"2016-02-22\",\"2016-02-23\",\"2016-03-08\",\"2016-03-15\",\"2016-03-18\",\"2016-03-21\",\"2016-03-23\",\"2016-03-31\",\"2016-04-14\",\"2016-04-15\",\"2016-04-18\",\"2016-04-28\",\"2016-05-05\",\"2016-05-13\",\"2016-05-16\",\"2016-05-18\",\"2016-05-19\",\"2016-05-24\",\"2016-05-27\",\"2016-05-31\",\"2016-06-03\",\"2016-06-13\",\"2016-06-15\",\"2016-06-20\",\"2016-06-27\",\"2016-07-01\",\"2016-07-22\",\"2016-08-01\",\"2016-08-02\",\"2016-08-12\",\"2016-08-16\",\"2016-09-01\",\"2016-09-15\",\"2016-09-23\",\"2016-10-07\",\"2016-10-24\",\"2016-10-27\",\"2016-10-28\",\"2016-11-01\",\"2016-11-18\",\"2016-11-22\",\"2016-11-30\",\"2016-12-08\",\"2016-12-22\",\"2016-12-27\",\"2017-01-03\",\"2017-01-05\",\"2017-01-06\",\"2017-01-31\",\"2017-02-15\",\"2017-03-10\",\"2017-03-14\",\"2017-03-17\",\"2017-03-20\",\"2017-03-21\",\"2017-03-31\",\"2017-04-05\",\"2017-04-19\",\"2017-04-24\",\"2017-05-02\",\"2017-05-15\",\"2017-05-17\",\"2017-06-01\",\"2017-06-08\",\"2017-06-09\",\"2017-06-13\",\"2017-06-22\",\"2017-06-26\",\"2017-06-29\",\"2017-07-24\",\"2017-07-31\",\"2017-08-09\",\"2017-08-11\",\"2017-08-22\",\"2017-08-23\",\"2017-08-25\",\"2017-09-12\",\"2017-09-13\",\"2017-09-18\",\"2017-09-20\",\"2017-10-04\",\"2017-10-06\",\"2017-11-24\",\"2017-12-04\",\"2017-12-06\",\"2017-12-12\",\"2017-12-18\",\"2017-12-19\",\"2017-12-20\",\"2017-12-29\",\"2018-01-10\",\"2018-01-11\",\"2018-01-19\",\"2018-01-24\",\"2018-01-25\",\"2018-01-30\",\"2018-02-01\",\"2018-02-05\",\"2018-02-07\",\"2018-02-22\",\"2018-02-28\",\"2018-03-01\",\"2018-03-02\",\"2018-03-12\",\"2018-03-13\",\"2018-03-16\",\"2018-03-20\",\"2018-04-04\",\"2018-04-05\",\"2018-04-12\",\"2018-04-20\",\"2018-05-04\",\"2018-05-14\",\"2018-05-15\",\"2018-05-25\",\"2018-05-30\",\"2018-06-13\",\"2018-06-19\",\"2018-06-25\",\"2018-07-03\",\"2018-07-19\",\"2018-07-20\",\"2018-07-30\",\"2018-08-27\",\"2018-08-29\",\"2018-09-04\",\"2018-09-06\",\"2018-09-11\",\"2018-09-26\",\"2018-09-27\",\"2018-10-12\",\"2018-10-16\",\"2018-10-25\",\"2018-10-31\",\"2018-11-08\",\"2018-11-09\",\"2018-11-12\",\"2018-11-15\",\"2018-11-16\",\"2018-11-19\",\"2018-11-21\",\"2018-11-28\",\"2018-12-13\",\"2018-12-20\",\"2019-01-25\",\"2019-02-14\",\"2019-03-01\",\"2019-03-05\",\"2019-03-06\",\"2019-03-15\",\"2019-03-18\",\"2019-03-20\",\"2019-03-25\",\"2019-03-27\",\"2019-03-29\",\"2019-04-01\",\"2019-04-02\",\"2019-04-04\",\"2019-04-08\",\"2019-04-12\",\"2019-04-18\",\"2019-04-24\",\"2019-04-29\",\"2019-05-06\",\"2019-05-17\",\"2019-05-22\",\"2019-06-03\",\"2019-06-10\",\"2019-06-14\",\"2019-06-18\",\"2019-06-25\",\"2019-07-02\",\"2019-07-10\",\"2019-07-25\",\"2019-08-07\",\"2019-08-08\",\"2019-08-13\",\"2019-09-06\",\"2019-09-09\",\"2019-09-10\",\"2019-09-11\",\"2019-09-23\",\"2019-09-25\",\"2019-10-10\",\"2019-10-24\",\"2019-10-31\",\"2019-11-01\",\"2019-11-04\",\"2019-11-22\",\"2019-12-03\",\"2019-12-11\",\"2019-12-19\",\"2019-12-24\",\"2019-12-27\",\"2020-01-06\",\"2020-01-09\",\"2020-01-16\",\"2020-01-17\",\"2020-01-31\",\"2020-02-05\",\"2020-02-13\",\"2020-02-19\",\"2020-02-21\",\"2020-03-04\",\"2020-03-06\",\"2020-03-10\",\"2020-03-12\",\"2020-03-25\"],\"y\":[3.8154845237731934,3.9918980598449707,4.066467761993408,4.096891403198242,4.215066909790039,4.4344024658203125,4.2654128074646,4.243589878082275,4.260399341583252,4.293203830718994,4.126068592071533,4.134585857391357,3.834214210510254,3.6619696617126465,3.6534481048583984,3.598907947540283,3.5743184089660645,3.579780101776123,3.4989752769470215,3.560622215270996,3.7443814277648926,3.492396831512451,3.5829660892486572,3.6765594482421875,3.689009189605713,3.6862831115722656,3.7569141387939453,3.7766995429992676,3.7607078552246094,3.7059950828552246,3.9342041015625,3.7176551818847656,3.7173590660095215,3.651195526123047,3.5921735763549805,3.7799153327941895,3.7760958671569824,3.7991929054260254,3.8115477561950684,4.217854976654053,4.205357074737549,4.18358850479126,4.121102809906006,4.103137969970703,3.967172622680664,3.716240882873535,3.5188093185424805,3.5712523460388184,3.712374210357666,3.7863211631774902,3.855073928833008,3.854135274887085,3.729792594909668,3.6782584190368652,3.5926361083984375,3.135490894317627,3.4973254203796387,3.5115957260131836,3.5162525177001953,3.496943712234497,3.3399405479431152,3.423595428466797,3.34334135055542,3.358736276626587,3.1428823471069336,3.169684886932373,3.0889742374420166,3.1386685371398926,3.1331839561462402,3.1522316932678223,3.084090232849121,3.166077136993408,3.130061626434326,3.092374086380005,3.2532947063446045,3.3607468605041504,3.5321524143218994,3.682802200317383,3.704455852508545,3.8808093070983887,4.015521049499512,3.9989495277404785,4.159077167510986,4.132666110992432,4.058443546295166,3.8541016578674316,3.9492831230163574,4.026806354522705,4.149864673614502,4.136589527130127,4.134646892547607,4.143161773681641,4.167251110076904,4.130577087402344,4.103291988372803,4.090701103210449,4.1125922203063965,3.948291778564453,4.050518989562988,3.9412107467651367,3.779205322265625,4.074649333953857,4.066368579864502,4.169613838195801,4.25298547744751,4.222421169281006,4.099158763885498,4.090651035308838,3.928158760070801,3.8209848403930664,3.7769079208374023,3.7379589080810547,3.410959482192993,3.3719167709350586,3.33488130569458,3.261155843734741,3.2362937927246094,3.297170639038086,3.3008456230163574,3.458259344100952,3.622612953186035,3.719200611114502,3.7676315307617188,3.748302936553955,3.783123731613159,3.7674031257629395,3.9123873710632324,3.905533790588379,3.958853244781494,3.9359655380249023,3.940786838531494,4.264163494110107,4.459754467010498,4.342176914215088,4.148652076721191,4.106420993804932,4.2036895751953125,4.549421787261963,4.467695236206055,4.465048313140869,4.683504104614258,4.958087921142578,5.213315963745117,4.938248157501221,4.871413230895996,4.845615386962891,4.773661136627197,4.800763130187988,4.810431003570557,5.002030849456787,5.183403491973877,5.1481709480285645,5.177744388580322,5.087288856506348,5.095348358154297,5.068347454071045,5.013200759887695,5.054175853729248,5.096299648284912,5.03996467590332,5.189138412475586,5.368781566619873,5.5425238609313965,5.63115119934082,5.491899013519287,5.160369873046875,5.223369121551514,5.350106716156006,5.585813999176025,5.807132720947266,5.768080711364746,5.700462341308594,6.993113994598389,6.54813814163208,6.82098913192749,6.481683254241943,6.441585063934326,6.522757053375244,6.509994029998779,7.129882335662842,7.021570682525635,7.018105983734131,6.900106906890869,6.986083984375,7.3087687492370605,7.335634708404541,7.462300777435303,7.308134078979492,7.086710453033447,7.238211154937744,6.938142776489258,6.59214448928833,7.259105682373047,7.432142734527588,7.451563358306885,7.319131374359131,7.813483238220215,7.944849967956543,8.012105941772461,8.076292991638184,7.821528911590576,8.157936096191406,8.176776885986328,8.38072681427002,8.898147583007812,9.299063682556152,9.98924732208252,10.748281478881836,10.382556915283203,10.41472053527832,10.01434326171875,9.875977516174316,10.86424732208252,10.198756217956543,9.439166069030762,10.405295372009277,10.058645248413086,10.120288848876953,10.15796947479248,10.89306926727295,10.918208122253418,10.596931457519531,10.714483261108398,12.891433715820312,13.121386528015137,13.874582290649414,14.034313201904297,14.629344940185547,14.29107666015625,14.608558654785156,14.184791564941406,14.308183670043945,14.105297088623047,13.494331359863281,13.133031845092773,13.464286804199219,13.356256484985352,13.58871841430664,14.081859588623047,14.845208168029785,15.232559204101562,18.361682891845703,17.513532638549805,18.30417823791504,18.206754684448242,19.97675323486328,19.479459762573242,19.749921798706055,20.279447555541992,22.331239700317383,22.130752563476562,23.81086540222168,22.218673706054688,23.91596031188965,21.82417869567871,22.630151748657227,21.738460540771484,20.180883407592773,19.795719146728516,18.81901741027832,19.301021575927734,20.655092239379883,20.684370040893555,23.41136360168457,23.172006607055664,23.732229232788086,22.571271896362305,22.393789291381836,23.322200775146484,23.68271827697754,24.080604553222656,24.62976837158203,24.784677505493164,24.670419692993164,25.15717887878418,25.45982551574707,25.071237564086914,24.697378158569336,26.006996154785156,28.304697036743164,29.852136611938477,30.707918167114258,26.6841983795166,27.458311080932617,26.855974197387695,28.416603088378906,28.4265079498291,28.160263061523438,28.339401245117188,29.911149978637695,30.930227279663086,30.663442611694336,29.18958854675293,26.440885543823242,26.893762588500977,27.102392196655273,26.245615005493164,25.819427490234375,23.08280372619629,23.710954666137695,27.808305740356445,26.17841911315918,25.693862915039062,26.8688907623291,26.605432510375977,26.04384422302246,26.391555786132812,26.710222244262695,23.442697525024414,21.405750274658203,21.8623046875,22.27474021911621,26.41598129272461,25.194477081298828,25.7564640045166,24.639278411865234,25.4958438873291,27.051786422729492,26.118288040161133,25.552595138549805,25.634706497192383,26.306791305541992,24.962995529174805,22.86672592163086,24.03474235534668,24.670177459716797,24.98836326599121,25.361230850219727,25.67271614074707,25.57566261291504,26.326265335083008,29.203184127807617,29.457895278930664,28.98160743713379,29.798128128051758,30.06705665588379,31.900218963623047,31.469324111938477,32.15538787841797,32.935096740722656,34.37957763671875,33.57541275024414,33.26448440551758,33.876041412353516,36.33572006225586,35.742156982421875,33.6741943359375,32.321136474609375,33.722206115722656,34.21721267700195,35.71731185913086,36.82443618774414,37.150211334228516,37.2983283996582,37.00050735473633,36.77598571777344,39.0234260559082,41.070743560791016,33.181060791015625,34.672542572021484,35.46371078491211,36.40678405761719,36.9571647644043,37.45101547241211,35.6944694519043,31.169952392578125,29.493152618408203,30.727378845214844,30.59006690979004,31.08094024658203,32.175724029541016,35.9809684753418,38.03274917602539,37.29172897338867,36.72402572631836,36.307674407958984,33.58656311035156,34.67538833618164,33.78310012817383,34.256343841552734,36.32475662231445,38.17033767700195,41.43691635131836,42.8286247253418,41.720645904541016,50.21512985229492,48.27512741088867,50.45023727416992,48.98967361450195,49.65620803833008,51.704105377197266,47.38278579711914,45.007972717285156,37.65302658081055,38.116424560546875,34.36592483520508,38.45244216918945,36.46010208129883,40.57011413574219,39.64278030395508,40.98021697998047,34.48944854736328,36.24498748779297,38.97355270385742,39.51468276977539,22.890430450439453,21.830646514892578,26.64439582824707,22.336633682250977,21.866741180419922,18.307342529296875,15.058389663696289,17.673315048217773,18.17629623413086,18.30104637145996,17.908382415771484,17.569013595581055,19.143098831176758,17.354066848754883,18.238306045532227,18.231069564819336,16.96697235107422,16.99883270263672,18.326122283935547,19.370485305786133,19.926176071166992,20.948118209838867,20.847055435180664,21.292619705200195,20.641904830932617,22.053157806396484,22.3804874420166,24.126995086669922,26.00166893005371,25.682809829711914,28.386123657226562,29.550729751586914,28.906919479370117,27.36079978942871,24.211885452270508,24.9987850189209,25.99654197692871,24.461519241333008,26.966569900512695,27.810619354248047,27.07390594482422,29.594297409057617,27.76527976989746,31.06709861755371,33.56229782104492,35.87675476074219,34.10536575317383,31.908857345581055,32.60607147216797,32.031097412109375,35.60842514038086,36.5378532409668,36.01087188720703,34.25868606567383,33.277042388916016,32.585060119628906,32.7977294921875,31.5627384185791,33.21882247924805,33.55582046508789,36.200225830078125,34.73748016357422,38.76073455810547,38.74116134643555,39.03892135620117,38.679466247558594,36.83353042602539,38.426902770996094,34.720489501953125,31.187742233276367,34.2296257019043,35.73799133300781,33.61528396606445,35.05103302001953,34.7042350769043,34.97697067260742,35.121795654296875,34.9333610534668,35.273799896240234,32.217716217041016,32.4810905456543,32.888126373291016,32.49497985839844,32.65520477294922,32.929725646972656,35.71436309814453,36.022708892822266,36.80617141723633,36.89284896850586,36.98574447631836,38.80774688720703,38.14729309082031,38.378963470458984,42.37923049926758,43.083900451660156,40.77272033691406,41.08518600463867,41.7994499206543,41.97782516479492,41.97782516479492,42.229732513427734,43.557552337646484,44.10544967651367,44.08369064331055,46.5631103515625,48.56220245361328,48.937278747558594,47.81278991699219,48.28047180175781,47.73743438720703,47.97368240356445,48.30936813354492,48.2989501953125,44.19206619262695,44.25580596923828,45.29286193847656,45.261844635009766,45.1559944152832,46.009700775146484,42.67430877685547,40.81865692138672,40.840187072753906,40.6879768371582,39.31449508666992,38.57417678833008,39.50972366333008,42.121238708496094,40.96327590942383,40.9047966003418,43.01785659790039,42.6514778137207,40.64163589477539,37.18289566040039,35.75632095336914,36.959041595458984,36.03359603881836,32.544315338134766,35.536102294921875,34.294307708740234,35.817283630371094,34.19904708862305,33.20577621459961,32.82927322387695,32.26556396484375,29.641874313354492,29.650388717651367,27.68521499633789,26.984560012817383,29.22325325012207,29.65513801574707,32.100830078125,31.673948287963867,33.142581939697266,35.78677749633789,34.979434967041016,33.76148986816406,37.392330169677734,34.99042510986328,33.760833740234375,34.54308319091797,36.84919738769531,36.62490463256836,35.93461608886719,36.848018646240234,38.33442306518555,37.559207916259766,38.06256866455078,39.592071533203125,39.56747055053711,39.53432846069336,39.67080307006836,40.14913558959961,38.41903305053711,35.37799835205078,37.75558853149414,37.31190872192383,34.438262939453125,35.2250862121582,32.73497009277344,31.506711959838867,31.647275924682617,32.530914306640625,34.146419525146484,30.689599990844727,30.059736251831055,30.49253273010254,30.45842170715332,30.34808349609375,27.667985916137695,27.857072830200195,27.119274139404297,27.329153060913086,25.538230895996094,26.585458755493164,25.63658332824707,27.750368118286133,27.691919326782227,27.118568420410156,26.932785034179688,31.6508731842041,30.897188186645508,30.474777221679688,31.43244743347168,31.010805130004883,30.112777709960938,29.269651412963867,30.109643936157227,29.665287017822266,28.178430557250977,27.465282440185547,26.85849952697754,27.25294303894043,27.9653377532959,28.435070037841797,27.562583923339844,28.8507022857666,29.496225357055664,29.328582763671875,29.425397872924805,30.097017288208008,30.0180721282959,31.170377731323242,31.384780883789062,29.858734130859375,30.446195602416992,29.668560028076172,32.561222076416016,32.25471878051758,31.761777877807617,30.143152236938477,30.478092193603516,29.21122169494629,28.778390884399414,29.19830894470215,28.80853843688965,29.0736083984375,28.001840591430664,29.292333602905273,32.320579528808594,32.56559753417969,31.130353927612305,31.215999603271484,31.142601013183594,30.518285751342773,29.51369285583496,29.97117805480957,30.82039451599121,31.488725662231445,31.689783096313477,31.211528778076172,31.175334930419922,31.28175163269043,31.11219024658203,31.91792106628418,30.897605895996094,30.724639892578125,30.97395896911621,31.409055709838867,32.12152862548828,32.32964324951172,32.267921447753906,31.6352481842041,33.13026809692383,32.60679626464844,32.49612808227539,32.223365783691406,32.77216720581055,33.716331481933594,34.75341796875,35.332244873046875,36.10432052612305,36.438358306884766,35.939361572265625,35.56867980957031,37.71415328979492,38.7585334777832,39.49940872192383,39.67923355102539,39.93588638305664,40.15140151977539,40.28484344482422,39.34984588623047,40.00767517089844,40.95547866821289,44.26359558105469,44.589385986328125,44.517887115478516,44.8844108581543,44.03304672241211,44.41087341308594,44.72378921508789,43.46706771850586,40.91664505004883,41.26555633544922,40.89020919799805,41.16636657714844,41.74629211425781,41.30318832397461,40.88695526123047,38.77035140991211,38.396305084228516,36.97666549682617,35.01982498168945,32.33267593383789,33.9506950378418,34.10026168823242,34.11487579345703,32.84581756591797,34.04792785644531,34.958988189697266,35.3061637878418,29.152353286743164,27.28335189819336,29.698991775512695,27.44866943359375,27.66725730895996,25.9375057220459,29.261966705322266,29.264049530029297,28.91900062561035,29.07744026184082,30.125234603881836,29.880949020385742,30.680936813354492,28.799753189086914,28.455720901489258,28.826757431030273,28.866697311401367,29.945470809936523,30.56105613708496,30.302080154418945,30.913999557495117,33.225276947021484,32.531288146972656,31.1535701751709,31.533140182495117,31.116884231567383,31.258634567260742,30.173856735229492,30.68720054626465,30.537738800048828,26.917661666870117,26.032445907592773,26.100622177124023,25.81085205078125,26.033571243286133,25.6639461517334,23.041290283203125,24.006608963012695,24.316314697265625,19.63202667236328,19.222755432128906,21.018714904785156,20.464258193969727,20.59804344177246,20.367813110351562,19.779783248901367,21.100282669067383,20.11785316467285,19.177061080932617,22.073911666870117,23.29681968688965,23.711763381958008,23.534574508666992,22.940311431884766,25.231054306030273,23.94676399230957,20.642847061157227,22.30040168762207,22.248655319213867,21.35310935974121,17.506404876708984,17.279155731201172,20.921133041381836,21.568418502807617,20.314237594604492,20.56144905090332,20.40278434753418,24.306123733520508,26.05668830871582,27.1197566986084,26.632627487182617,26.505298614501953,26.73871421813965,29.023014068603516,28.370256423950195,28.923805236816406,29.87333106994629,27.86918067932129,28.49773597717285,28.787267684936523,28.99522590637207,28.33788299560547,28.6843318939209,29.6223201751709,29.456134796142578,29.432945251464844,28.2413387298584,28.55849266052246,29.494356155395508,28.6945858001709,30.66204261779785,31.21904754638672,29.263227462768555,29.035337448120117,31.644594192504883,32.11296844482422,30.80879783630371,29.325597763061523,29.650440216064453,31.66748046875,32.80345916748047,32.27698516845703,32.175785064697266,31.267183303833008,31.515621185302734,32.58758544921875,33.4500732421875,32.7668571472168,32.16202163696289,31.788793563842773,32.19127655029297,32.525611877441406,32.29395294189453,29.672086715698242,30.134273529052734,32.34193420410156,30.716712951660156,32.52553176879883,31.93421173095703,31.551237106323242,32.25304412841797,32.85938262939453,32.1458740234375,32.35688781738281,31.401979446411133,31.08695411682129,30.16615867614746,28.975534439086914,28.086702346801758,29.046436309814453,29.317663192749023,28.232988357543945,28.074853897094727,29.118093490600586,29.396501541137695,30.451250076293945,31.70578956604004,30.787363052368164,29.971908569335938,30.553133010864258,30.680641174316406,32.010921478271484,32.73788070678711,32.45979690551758,33.19611358642578,33.40823745727539,32.83488845825195,34.18759536743164,34.671844482421875,34.508670806884766,34.17110824584961,33.17945861816406,33.503360748291016,33.797096252441406,35.49488067626953,36.342960357666016,36.18985366821289,35.60167694091797,35.69877243041992,35.67135238647461,34.437225341796875,34.35031509399414,32.19049835205078,31.2064208984375,31.246667861938477,31.462133407592773,30.67510986328125,30.8841495513916,30.036836624145508,29.666833877563477,30.1306209564209,29.595273971557617,32.27981185913086,33.410892486572266,34.07868576049805,35.03133773803711,35.044612884521484,35.95607376098633,36.013427734375,34.45216751098633,34.888492584228516,32.75014114379883,31.585800170898438,32.824668884277344,35.206424713134766,35.06741714477539,34.85655975341797,36.013641357421875,35.2546272277832,35.19447326660156,33.56092071533203,32.827701568603516,31.92244529724121,32.46284103393555,32.61445999145508,28.60369300842285,28.913753509521484,27.47477149963379,27.425100326538086,28.576263427734375,28.30082130432129,27.715734481811523,27.171424865722656,26.719812393188477,27.00459861755371,26.300735473632812,23.973203659057617,26.360910415649414,23.75861930847168,26.095735549926758,26.40083122253418,28.28606414794922,26.723127365112305,26.99495506286621,27.53319549560547,27.63913345336914,28.086666107177734,26.733232498168945,27.372045516967773,27.42672348022461,27.72700309753418,27.669546127319336,27.427034378051758,28.793554306030273,29.448461532592773,31.16459846496582,30.726369857788086,30.065217971801758,28.14861297607422,27.2919864654541,26.844680786132812,26.4364070892334,26.561979293823242,26.504331588745117,26.942506790161133,27.418399810791016,26.43518829345703,27.224130630493164,25.048498153686523,23.79861068725586,24.270784378051758,23.680883407592773,23.714590072631836,24.328149795532227,25.317110061645508,25.338857650756836,27.300962448120117,26.639768600463867,24.85017204284668,25.577978134155273,24.977094650268555,25.682235717773438,26.247522354125977,27.760099411010742,27.22414207458496,29.200023651123047,31.32193946838379,31.442733764648438,31.827136993408203,32.04783630371094,31.539644241333008,31.368120193481445,31.50078773498535,28.38396644592285,28.828044891357422,29.259166717529297,30.20704460144043,29.917015075683594,24.1886043548584,23.017972946166992,13.365528106689453,13.39305305480957,9.71876049041748],\"type\":\"scatter\"}],                        {\"template\":{\"data\":{\"histogram2dcontour\":[{\"type\":\"histogram2dcontour\",\"colorbar\":{\"outlinewidth\":0,\"ticks\":\"\"},\"colorscale\":[[0.0,\"#0d0887\"],[0.1111111111111111,\"#46039f\"],[0.2222222222222222,\"#7201a8\"],[0.3333333333333333,\"#9c179e\"],[0.4444444444444444,\"#bd3786\"],[0.5555555555555556,\"#d8576b\"],[0.6666666666666666,\"#ed7953\"],[0.7777777777777778,\"#fb9f3a\"],[0.8888888888888888,\"#fdca26\"],[1.0,\"#f0f921\"]]}],\"choropleth\":[{\"type\":\"choropleth\",\"colorbar\":{\"outlinewidth\":0,\"ticks\":\"\"}}],\"histogram2d\":[{\"type\":\"histogram2d\",\"colorbar\":{\"outlinewidth\":0,\"ticks\":\"\"},\"colorscale\":[[0.0,\"#0d0887\"],[0.1111111111111111,\"#46039f\"],[0.2222222222222222,\"#7201a8\"],[0.3333333333333333,\"#9c179e\"],[0.4444444444444444,\"#bd3786\"],[0.5555555555555556,\"#d8576b\"],[0.6666666666666666,\"#ed7953\"],[0.7777777777777778,\"#fb9f3a\"],[0.8888888888888888,\"#fdca26\"],[1.0,\"#f0f921\"]]}],\"heatmap\":[{\"type\":\"heatmap\",\"colorbar\":{\"outlinewidth\":0,\"ticks\":\"\"},\"colorscale\":[[0.0,\"#0d0887\"],[0.1111111111111111,\"#46039f\"],[0.2222222222222222,\"#7201a8\"],[0.3333333333333333,\"#9c179e\"],[0.4444444444444444,\"#bd3786\"],[0.5555555555555556,\"#d8576b\"],[0.6666666666666666,\"#ed7953\"],[0.7777777777777778,\"#fb9f3a\"],[0.8888888888888888,\"#fdca26\"],[1.0,\"#f0f921\"]]}],\"heatmapgl\":[{\"type\":\"heatmapgl\",\"colorbar\":{\"outlinewidth\":0,\"ticks\":\"\"},\"colorscale\":[[0.0,\"#0d0887\"],[0.1111111111111111,\"#46039f\"],[0.2222222222222222,\"#7201a8\"],[0.3333333333333333,\"#9c179e\"],[0.4444444444444444,\"#bd3786\"],[0.5555555555555556,\"#d8576b\"],[0.6666666666666666,\"#ed7953\"],[0.7777777777777778,\"#fb9f3a\"],[0.8888888888888888,\"#fdca26\"],[1.0,\"#f0f921\"]]}],\"contourcarpet\":[{\"type\":\"contourcarpet\",\"colorbar\":{\"outlinewidth\":0,\"ticks\":\"\"}}],\"contour\":[{\"type\":\"contour\",\"colorbar\":{\"outlinewidth\":0,\"ticks\":\"\"},\"colorscale\":[[0.0,\"#0d0887\"],[0.1111111111111111,\"#46039f\"],[0.2222222222222222,\"#7201a8\"],[0.3333333333333333,\"#9c179e\"],[0.4444444444444444,\"#bd3786\"],[0.5555555555555556,\"#d8576b\"],[0.6666666666666666,\"#ed7953\"],[0.7777777777777778,\"#fb9f3a\"],[0.8888888888888888,\"#fdca26\"],[1.0,\"#f0f921\"]]}],\"surface\":[{\"type\":\"surface\",\"colorbar\":{\"outlinewidth\":0,\"ticks\":\"\"},\"colorscale\":[[0.0,\"#0d0887\"],[0.1111111111111111,\"#46039f\"],[0.2222222222222222,\"#7201a8\"],[0.3333333333333333,\"#9c179e\"],[0.4444444444444444,\"#bd3786\"],[0.5555555555555556,\"#d8576b\"],[0.6666666666666666,\"#ed7953\"],[0.7777777777777778,\"#fb9f3a\"],[0.8888888888888888,\"#fdca26\"],[1.0,\"#f0f921\"]]}],\"mesh3d\":[{\"type\":\"mesh3d\",\"colorbar\":{\"outlinewidth\":0,\"ticks\":\"\"}}],\"scatter\":[{\"fillpattern\":{\"fillmode\":\"overlay\",\"size\":10,\"solidity\":0.2},\"type\":\"scatter\"}],\"parcoords\":[{\"type\":\"parcoords\",\"line\":{\"colorbar\":{\"outlinewidth\":0,\"ticks\":\"\"}}}],\"scatterpolargl\":[{\"type\":\"scatterpolargl\",\"marker\":{\"colorbar\":{\"outlinewidth\":0,\"ticks\":\"\"}}}],\"bar\":[{\"error_x\":{\"color\":\"#2a3f5f\"},\"error_y\":{\"color\":\"#2a3f5f\"},\"marker\":{\"line\":{\"color\":\"#E5ECF6\",\"width\":0.5},\"pattern\":{\"fillmode\":\"overlay\",\"size\":10,\"solidity\":0.2}},\"type\":\"bar\"}],\"scattergeo\":[{\"type\":\"scattergeo\",\"marker\":{\"colorbar\":{\"outlinewidth\":0,\"ticks\":\"\"}}}],\"scatterpolar\":[{\"type\":\"scatterpolar\",\"marker\":{\"colorbar\":{\"outlinewidth\":0,\"ticks\":\"\"}}}],\"histogram\":[{\"marker\":{\"pattern\":{\"fillmode\":\"overlay\",\"size\":10,\"solidity\":0.2}},\"type\":\"histogram\"}],\"scattergl\":[{\"type\":\"scattergl\",\"marker\":{\"colorbar\":{\"outlinewidth\":0,\"ticks\":\"\"}}}],\"scatter3d\":[{\"type\":\"scatter3d\",\"line\":{\"colorbar\":{\"outlinewidth\":0,\"ticks\":\"\"}},\"marker\":{\"colorbar\":{\"outlinewidth\":0,\"ticks\":\"\"}}}],\"scattermapbox\":[{\"type\":\"scattermapbox\",\"marker\":{\"colorbar\":{\"outlinewidth\":0,\"ticks\":\"\"}}}],\"scatterternary\":[{\"type\":\"scatterternary\",\"marker\":{\"colorbar\":{\"outlinewidth\":0,\"ticks\":\"\"}}}],\"scattercarpet\":[{\"type\":\"scattercarpet\",\"marker\":{\"colorbar\":{\"outlinewidth\":0,\"ticks\":\"\"}}}],\"carpet\":[{\"aaxis\":{\"endlinecolor\":\"#2a3f5f\",\"gridcolor\":\"white\",\"linecolor\":\"white\",\"minorgridcolor\":\"white\",\"startlinecolor\":\"#2a3f5f\"},\"baxis\":{\"endlinecolor\":\"#2a3f5f\",\"gridcolor\":\"white\",\"linecolor\":\"white\",\"minorgridcolor\":\"white\",\"startlinecolor\":\"#2a3f5f\"},\"type\":\"carpet\"}],\"table\":[{\"cells\":{\"fill\":{\"color\":\"#EBF0F8\"},\"line\":{\"color\":\"white\"}},\"header\":{\"fill\":{\"color\":\"#C8D4E3\"},\"line\":{\"color\":\"white\"}},\"type\":\"table\"}],\"barpolar\":[{\"marker\":{\"line\":{\"color\":\"#E5ECF6\",\"width\":0.5},\"pattern\":{\"fillmode\":\"overlay\",\"size\":10,\"solidity\":0.2}},\"type\":\"barpolar\"}],\"pie\":[{\"automargin\":true,\"type\":\"pie\"}]},\"layout\":{\"autotypenumbers\":\"strict\",\"colorway\":[\"#636efa\",\"#EF553B\",\"#00cc96\",\"#ab63fa\",\"#FFA15A\",\"#19d3f3\",\"#FF6692\",\"#B6E880\",\"#FF97FF\",\"#FECB52\"],\"font\":{\"color\":\"#2a3f5f\"},\"hovermode\":\"closest\",\"hoverlabel\":{\"align\":\"left\"},\"paper_bgcolor\":\"white\",\"plot_bgcolor\":\"#E5ECF6\",\"polar\":{\"bgcolor\":\"#E5ECF6\",\"angularaxis\":{\"gridcolor\":\"white\",\"linecolor\":\"white\",\"ticks\":\"\"},\"radialaxis\":{\"gridcolor\":\"white\",\"linecolor\":\"white\",\"ticks\":\"\"}},\"ternary\":{\"bgcolor\":\"#E5ECF6\",\"aaxis\":{\"gridcolor\":\"white\",\"linecolor\":\"white\",\"ticks\":\"\"},\"baxis\":{\"gridcolor\":\"white\",\"linecolor\":\"white\",\"ticks\":\"\"},\"caxis\":{\"gridcolor\":\"white\",\"linecolor\":\"white\",\"ticks\":\"\"}},\"coloraxis\":{\"colorbar\":{\"outlinewidth\":0,\"ticks\":\"\"}},\"colorscale\":{\"sequential\":[[0.0,\"#0d0887\"],[0.1111111111111111,\"#46039f\"],[0.2222222222222222,\"#7201a8\"],[0.3333333333333333,\"#9c179e\"],[0.4444444444444444,\"#bd3786\"],[0.5555555555555556,\"#d8576b\"],[0.6666666666666666,\"#ed7953\"],[0.7777777777777778,\"#fb9f3a\"],[0.8888888888888888,\"#fdca26\"],[1.0,\"#f0f921\"]],\"sequentialminus\":[[0.0,\"#0d0887\"],[0.1111111111111111,\"#46039f\"],[0.2222222222222222,\"#7201a8\"],[0.3333333333333333,\"#9c179e\"],[0.4444444444444444,\"#bd3786\"],[0.5555555555555556,\"#d8576b\"],[0.6666666666666666,\"#ed7953\"],[0.7777777777777778,\"#fb9f3a\"],[0.8888888888888888,\"#fdca26\"],[1.0,\"#f0f921\"]],\"diverging\":[[0,\"#8e0152\"],[0.1,\"#c51b7d\"],[0.2,\"#de77ae\"],[0.3,\"#f1b6da\"],[0.4,\"#fde0ef\"],[0.5,\"#f7f7f7\"],[0.6,\"#e6f5d0\"],[0.7,\"#b8e186\"],[0.8,\"#7fbc41\"],[0.9,\"#4d9221\"],[1,\"#276419\"]]},\"xaxis\":{\"gridcolor\":\"white\",\"linecolor\":\"white\",\"ticks\":\"\",\"title\":{\"standoff\":15},\"zerolinecolor\":\"white\",\"automargin\":true,\"zerolinewidth\":2},\"yaxis\":{\"gridcolor\":\"white\",\"linecolor\":\"white\",\"ticks\":\"\",\"title\":{\"standoff\":15},\"zerolinecolor\":\"white\",\"automargin\":true,\"zerolinewidth\":2},\"scene\":{\"xaxis\":{\"backgroundcolor\":\"#E5ECF6\",\"gridcolor\":\"white\",\"linecolor\":\"white\",\"showbackground\":true,\"ticks\":\"\",\"zerolinecolor\":\"white\",\"gridwidth\":2},\"yaxis\":{\"backgroundcolor\":\"#E5ECF6\",\"gridcolor\":\"white\",\"linecolor\":\"white\",\"showbackground\":true,\"ticks\":\"\",\"zerolinecolor\":\"white\",\"gridwidth\":2},\"zaxis\":{\"backgroundcolor\":\"#E5ECF6\",\"gridcolor\":\"white\",\"linecolor\":\"white\",\"showbackground\":true,\"ticks\":\"\",\"zerolinecolor\":\"white\",\"gridwidth\":2}},\"shapedefaults\":{\"line\":{\"color\":\"#2a3f5f\"}},\"annotationdefaults\":{\"arrowcolor\":\"#2a3f5f\",\"arrowhead\":0,\"arrowwidth\":1},\"geo\":{\"bgcolor\":\"white\",\"landcolor\":\"#E5ECF6\",\"subunitcolor\":\"white\",\"showland\":true,\"showlakes\":true,\"lakecolor\":\"white\"},\"title\":{\"x\":0.05},\"mapbox\":{\"style\":\"light\"}}},\"title\":{\"text\":\"Stock Prices: actual \\u002f predicted\"},\"xaxis\":{\"title\":{\"text\":\"Date\"}},\"yaxis\":{\"title\":{\"text\":\"Stock price\"}}},                        {\"responsive\": true}                    ).then(function(){\n",
              "                            \n",
              "var gd = document.getElementById('c8d078ae-0924-44a6-b1f0-d6c8fe8bf795');\n",
              "var x = new MutationObserver(function (mutations, observer) {{\n",
              "        var display = window.getComputedStyle(gd).display;\n",
              "        if (!display || display === 'none') {{\n",
              "            console.log([gd, 'removed!']);\n",
              "            Plotly.purge(gd);\n",
              "            observer.disconnect();\n",
              "        }}\n",
              "}});\n",
              "\n",
              "// Listen for the removal of the full notebook cells\n",
              "var notebookContainer = gd.closest('#notebook-container');\n",
              "if (notebookContainer) {{\n",
              "    x.observe(notebookContainer, {childList: true});\n",
              "}}\n",
              "\n",
              "// Listen for the clearing of the current output cell\n",
              "var outputEl = gd.closest('.output');\n",
              "if (outputEl) {{\n",
              "    x.observe(outputEl, {childList: true});\n",
              "}}\n",
              "\n",
              "                        })                };                            </script>        </div>\n",
              "</body>\n",
              "</html>"
            ]
          },
          "metadata": {}
        }
      ]
    }
  ],
  "metadata": {
    "kernelspec": {
      "display_name": "Python 3",
      "name": "python3"
    },
    "language_info": {
      "codemirror_mode": {
        "name": "ipython",
        "version": 2
      },
      "file_extension": ".py",
      "mimetype": "text/x-python",
      "name": "python",
      "nbconvert_exporter": "python",
      "pygments_lexer": "ipython2",
      "version": "2.7.6"
    },
    "colab": {
      "provenance": [],
      "toc_visible": true,
      "gpuType": "T4"
    },
    "accelerator": "GPU"
  },
  "nbformat": 4,
  "nbformat_minor": 0
}